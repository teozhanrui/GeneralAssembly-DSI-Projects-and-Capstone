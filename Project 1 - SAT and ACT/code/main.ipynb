{
 "cells": [
  {
   "cell_type": "markdown",
   "metadata": {},
   "source": [
    "# Project 1: SAT & ACT Analysis\n",
    "\n",
    "#### Author: Teo Zhan Rui"
   ]
  },
  {
   "cell_type": "markdown",
   "metadata": {},
   "source": [
    "## Problem Statement\n",
    "\n",
    "SAT was redesigned and the new format was rolled out in 2015. Over the years, SAT has gained some grounds in participation rate from some states but did not fare well in other states. This study aims to find out unlying statistical trends to answer the following questions. Thereafter, some recommendations will be proposed based on known good practices to target states with lower SAT participation rates. "
   ]
  },
  {
   "cell_type": "markdown",
   "metadata": {},
   "source": [
    "1. How does participation rates affect the total or composite score for SAT and ACT in each state? <br>\n",
    "2. Does average personal income per capita affect the participation rates in each test? <br>\n",
    "3. Has performance across the national changed from 2017 to 2018? <br>\n",
    "4. Which states show significant change in participation between 2017 and 2018 and what was the possible causes? <br>\n"
   ]
  },
  {
   "cell_type": "markdown",
   "metadata": {},
   "source": [
    "## Executive Summary\n",
    "\n",
    "\n",
    "### Keying Findings\n",
    "\n",
    "1. The total or composite score has strong negative correlation to the participation rates. This suggests some form of selection bias in which states with lower participation results in higher performance. \n",
    "\n",
    "2. Majority of wealthier states, with some exceptions, favour SAT over ACT. Most states that mandate compulsory testing using ACT fall in the 'medium' and 'low' income group by states.\n",
    "\n",
    "3. Using bootstrap sampling and subsequently z-test for hypothesis testing, there is more change in performance in SAT from 2017 to 2018 across the nation.\n",
    "\n",
    "4. Colorado and Illinois were revealed to have implemented switch from ACT to SAT and state intervention was the key. "
   ]
  },
  {
   "cell_type": "markdown",
   "metadata": {},
   "source": [
    "\n",
    "\n",
    "### Contents:\n",
    "1. [2017 Data Import & Cleaning](#Data-Import-and-Cleaning)<br>\n",
    "    1.1. [Read in SAT & ACT](#1.1.-Read-In-SAT-&-ACT-Data)<br>\n",
    "    1.2. [Display Data](#1.2.-Display-Data)<br>\n",
    "    1.3. [Verbally Describe Data](#1.3.-Verbally-Describe-Data)<br>\n",
    "    1.4. [Errors in Data](#1.4.-Errors-in-data)<br>\n",
    "    1.5. [Examine Data Types](#1.5.-What-are-your-data-types?)<br>\n",
    "    1.6. [Fix Incorrect Data Types](#1.6.-Fix-Incorrect-Data-Types)<br>\n",
    "    1.7. [Rename Columns](#1.7.-Rename-Columns)<br>\n",
    "    1.8. [Data Dictionary](#1.8.-Create-a-data-dictionary)<br>\n",
    "    1.9. [Drop Unnecessary Rows](#1.9.-Drop-unnecessary-rows)<br>\n",
    "    1.10. [Merge Dataframes](#1.10.-Merge-Dataframes)<br>\n",
    "    1.11. [Export Merged Dataframe](#1.11.-Save-your-cleaned,-merged-dataframe)<br>\n",
    "  \n",
    "  \n",
    "2. [2018 Data Import and Cleaning](#2.-2018-Data-Import-and-Cleaning)<br>\n",
    "    2.1. [Preparation for 2018 Data](#2.1.-Preparation-for-2018-Data)<br>\n",
    "    2.2. [Combining 2017 and 2018](#2.2.-Combine-your-2017-and-2018-data-into-a-single-dataframe)<br>  \n",
    "    \n",
    "    \n",
    "3. [Exploratory Data Analysis](#3.-Exploratory-Data-Analysis)<br>\n",
    "    3.1. [Summary Statistics](#3.1.-Summary-Statistics) <br>\n",
    "    3.2. [States with Highest and Lowest Participation](#3.2.-States-with-highest-and-lowest-participation)<br>\n",
    "    3.3. [States with Highest and Lowest Mean Total/Composite](#3.3.-States-with-highest-and-lowest-mean-total/composite-scores)<br>\n",
    "    3.4. [States with 100% Participation and Rate Change Year-to-year](#3.4.-States-with-100%-participation-and-rate-change-year-to-year)<br>\n",
    "    3.5. [States with More Than 50% Participation on Both Tests Either Year](#3.5.-States-with-More-Than-50%-Participation-on-Both-Tests-Either-Year)<br>\n",
    "    3.6. [Additional Observations on Participation Rates](#3.6.-Additional-Observations-on-Participation-Rates)\n",
    "      \n",
    "      \n",
    "4. [Data Visualization](#4.-Visualize-the-data)<br>\n",
    "    4.1. [Heatmap](#4.1.-Heatmap-of-Correlations)<br>\n",
    "    4.2. [Histograms](#4.2.-Histograms)<br>\n",
    "    4.3. [Scatter Plots](#4.3.-Scatter-Plots)<br>\n",
    "    4.4. [Box Plots](#4.4.-Box-Plots)<br>\n",
    "    4.5. [Additional: Strip Plots](#4.5.-Additional:-Strip-Plots)<br>\n",
    "    \n",
    "    \n",
    "5. [Descriptive and Inferential Statistics](#5.-Descriptive-and-Inferential-Statistics)<br>\n",
    "    5.1. [Summarizing Distributions](#5.1.-Summarizing-Distributions)<br>\n",
    "    5.2. [Statistical Evaluation of Distributions](#5.2.-Statistical-Evaluation-of-Distributions)<br>\n",
    "\n",
    "\n",
    "6. [Outside Research](#6.-Outside-Research)<br>\n",
    "    6.1. [Exploring with Relations with Average Personal Income per Capita by State.](#6.1.-Exploring-Relations-with-Average-Personal-Income-per-Capita-by-State)<br>\n",
    "    6.2. [Additional: Choropleth Maps with Tableau](#6.2.-Additional:-Choropleth-Maps-with-Tableau)<br>\n",
    "    6.3. [Case Studies for 3 States](#6.3.-Case-Studies-for-3-States)\n",
    "\n",
    "\n",
    "7. [Conclusions and Recommendations](#7.-Conclusions-and-Recommendations)"
   ]
  },
  {
   "cell_type": "markdown",
   "metadata": {},
   "source": [
    "**If you combine your problem statement, executive summary, data dictionary, and conclusions/recommendations, you have an amazing README.md file that quickly aligns your audience to the contents of your project.** Don't forget to cite your data sources!"
   ]
  },
  {
   "cell_type": "markdown",
   "metadata": {},
   "source": [
    "*All libraries used should be added here*"
   ]
  },
  {
   "cell_type": "code",
   "execution_count": 1,
   "metadata": {},
   "outputs": [],
   "source": [
    "#Imports:\n",
    "import pandas as pd\n",
    "import matplotlib.pyplot as plt\n",
    "import numpy as np"
   ]
  },
  {
   "cell_type": "markdown",
   "metadata": {},
   "source": [
    "## 1. 2017 Data Import and Cleaning"
   ]
  },
  {
   "cell_type": "markdown",
   "metadata": {},
   "source": [
    "### 1.1 Read In SAT & ACT  Data\n",
    "\n",
    "Read in the `sat_2017.csv` and `act_2017.csv` files and assign them to appropriately named pandas dataframes."
   ]
  },
  {
   "cell_type": "code",
   "execution_count": 2,
   "metadata": {},
   "outputs": [],
   "source": [
    "#Code:\n",
    "sat_2017 = pd.read_csv('../data/sat_2017.csv')\n",
    "act_2017 = pd.read_csv('../data/act_2017.csv')"
   ]
  },
  {
   "cell_type": "markdown",
   "metadata": {},
   "source": [
    "### 1.2. Display Data\n",
    "\n",
    "Print the first 10 rows of each dataframe to your jupyter notebook"
   ]
  },
  {
   "cell_type": "code",
   "execution_count": 3,
   "metadata": {},
   "outputs": [
    {
     "data": {
      "text/html": [
       "<div>\n",
       "<style scoped>\n",
       "    .dataframe tbody tr th:only-of-type {\n",
       "        vertical-align: middle;\n",
       "    }\n",
       "\n",
       "    .dataframe tbody tr th {\n",
       "        vertical-align: top;\n",
       "    }\n",
       "\n",
       "    .dataframe thead th {\n",
       "        text-align: right;\n",
       "    }\n",
       "</style>\n",
       "<table border=\"1\" class=\"dataframe\">\n",
       "  <thead>\n",
       "    <tr style=\"text-align: right;\">\n",
       "      <th></th>\n",
       "      <th>State</th>\n",
       "      <th>Participation</th>\n",
       "      <th>Evidence-Based Reading and Writing</th>\n",
       "      <th>Math</th>\n",
       "      <th>Total</th>\n",
       "    </tr>\n",
       "  </thead>\n",
       "  <tbody>\n",
       "    <tr>\n",
       "      <th>0</th>\n",
       "      <td>Alabama</td>\n",
       "      <td>5%</td>\n",
       "      <td>593</td>\n",
       "      <td>572</td>\n",
       "      <td>1165</td>\n",
       "    </tr>\n",
       "    <tr>\n",
       "      <th>1</th>\n",
       "      <td>Alaska</td>\n",
       "      <td>38%</td>\n",
       "      <td>547</td>\n",
       "      <td>533</td>\n",
       "      <td>1080</td>\n",
       "    </tr>\n",
       "    <tr>\n",
       "      <th>2</th>\n",
       "      <td>Arizona</td>\n",
       "      <td>30%</td>\n",
       "      <td>563</td>\n",
       "      <td>553</td>\n",
       "      <td>1116</td>\n",
       "    </tr>\n",
       "    <tr>\n",
       "      <th>3</th>\n",
       "      <td>Arkansas</td>\n",
       "      <td>3%</td>\n",
       "      <td>614</td>\n",
       "      <td>594</td>\n",
       "      <td>1208</td>\n",
       "    </tr>\n",
       "    <tr>\n",
       "      <th>4</th>\n",
       "      <td>California</td>\n",
       "      <td>53%</td>\n",
       "      <td>531</td>\n",
       "      <td>524</td>\n",
       "      <td>1055</td>\n",
       "    </tr>\n",
       "    <tr>\n",
       "      <th>5</th>\n",
       "      <td>Colorado</td>\n",
       "      <td>11%</td>\n",
       "      <td>606</td>\n",
       "      <td>595</td>\n",
       "      <td>1201</td>\n",
       "    </tr>\n",
       "    <tr>\n",
       "      <th>6</th>\n",
       "      <td>Connecticut</td>\n",
       "      <td>100%</td>\n",
       "      <td>530</td>\n",
       "      <td>512</td>\n",
       "      <td>1041</td>\n",
       "    </tr>\n",
       "    <tr>\n",
       "      <th>7</th>\n",
       "      <td>Delaware</td>\n",
       "      <td>100%</td>\n",
       "      <td>503</td>\n",
       "      <td>492</td>\n",
       "      <td>996</td>\n",
       "    </tr>\n",
       "    <tr>\n",
       "      <th>8</th>\n",
       "      <td>District of Columbia</td>\n",
       "      <td>100%</td>\n",
       "      <td>482</td>\n",
       "      <td>468</td>\n",
       "      <td>950</td>\n",
       "    </tr>\n",
       "    <tr>\n",
       "      <th>9</th>\n",
       "      <td>Florida</td>\n",
       "      <td>83%</td>\n",
       "      <td>520</td>\n",
       "      <td>497</td>\n",
       "      <td>1017</td>\n",
       "    </tr>\n",
       "  </tbody>\n",
       "</table>\n",
       "</div>"
      ],
      "text/plain": [
       "                  State Participation  Evidence-Based Reading and Writing  \\\n",
       "0               Alabama            5%                                 593   \n",
       "1                Alaska           38%                                 547   \n",
       "2               Arizona           30%                                 563   \n",
       "3              Arkansas            3%                                 614   \n",
       "4            California           53%                                 531   \n",
       "5              Colorado           11%                                 606   \n",
       "6           Connecticut          100%                                 530   \n",
       "7              Delaware          100%                                 503   \n",
       "8  District of Columbia          100%                                 482   \n",
       "9               Florida           83%                                 520   \n",
       "\n",
       "   Math  Total  \n",
       "0   572   1165  \n",
       "1   533   1080  \n",
       "2   553   1116  \n",
       "3   594   1208  \n",
       "4   524   1055  \n",
       "5   595   1201  \n",
       "6   512   1041  \n",
       "7   492    996  \n",
       "8   468    950  \n",
       "9   497   1017  "
      ]
     },
     "execution_count": 3,
     "metadata": {},
     "output_type": "execute_result"
    }
   ],
   "source": [
    "#Code:\n",
    "sat_2017.head(10)"
   ]
  },
  {
   "cell_type": "code",
   "execution_count": 4,
   "metadata": {},
   "outputs": [
    {
     "data": {
      "text/html": [
       "<div>\n",
       "<style scoped>\n",
       "    .dataframe tbody tr th:only-of-type {\n",
       "        vertical-align: middle;\n",
       "    }\n",
       "\n",
       "    .dataframe tbody tr th {\n",
       "        vertical-align: top;\n",
       "    }\n",
       "\n",
       "    .dataframe thead th {\n",
       "        text-align: right;\n",
       "    }\n",
       "</style>\n",
       "<table border=\"1\" class=\"dataframe\">\n",
       "  <thead>\n",
       "    <tr style=\"text-align: right;\">\n",
       "      <th></th>\n",
       "      <th>State</th>\n",
       "      <th>Participation</th>\n",
       "      <th>English</th>\n",
       "      <th>Math</th>\n",
       "      <th>Reading</th>\n",
       "      <th>Science</th>\n",
       "      <th>Composite</th>\n",
       "    </tr>\n",
       "  </thead>\n",
       "  <tbody>\n",
       "    <tr>\n",
       "      <th>0</th>\n",
       "      <td>National</td>\n",
       "      <td>60%</td>\n",
       "      <td>20.3</td>\n",
       "      <td>20.7</td>\n",
       "      <td>21.4</td>\n",
       "      <td>21.0</td>\n",
       "      <td>21.0</td>\n",
       "    </tr>\n",
       "    <tr>\n",
       "      <th>1</th>\n",
       "      <td>Alabama</td>\n",
       "      <td>100%</td>\n",
       "      <td>18.9</td>\n",
       "      <td>18.4</td>\n",
       "      <td>19.7</td>\n",
       "      <td>19.4</td>\n",
       "      <td>19.2</td>\n",
       "    </tr>\n",
       "    <tr>\n",
       "      <th>2</th>\n",
       "      <td>Alaska</td>\n",
       "      <td>65%</td>\n",
       "      <td>18.7</td>\n",
       "      <td>19.8</td>\n",
       "      <td>20.4</td>\n",
       "      <td>19.9</td>\n",
       "      <td>19.8</td>\n",
       "    </tr>\n",
       "    <tr>\n",
       "      <th>3</th>\n",
       "      <td>Arizona</td>\n",
       "      <td>62%</td>\n",
       "      <td>18.6</td>\n",
       "      <td>19.8</td>\n",
       "      <td>20.1</td>\n",
       "      <td>19.8</td>\n",
       "      <td>19.7</td>\n",
       "    </tr>\n",
       "    <tr>\n",
       "      <th>4</th>\n",
       "      <td>Arkansas</td>\n",
       "      <td>100%</td>\n",
       "      <td>18.9</td>\n",
       "      <td>19.0</td>\n",
       "      <td>19.7</td>\n",
       "      <td>19.5</td>\n",
       "      <td>19.4</td>\n",
       "    </tr>\n",
       "    <tr>\n",
       "      <th>5</th>\n",
       "      <td>California</td>\n",
       "      <td>31%</td>\n",
       "      <td>22.5</td>\n",
       "      <td>22.7</td>\n",
       "      <td>23.1</td>\n",
       "      <td>22.2</td>\n",
       "      <td>22.8</td>\n",
       "    </tr>\n",
       "    <tr>\n",
       "      <th>6</th>\n",
       "      <td>Colorado</td>\n",
       "      <td>100%</td>\n",
       "      <td>20.1</td>\n",
       "      <td>20.3</td>\n",
       "      <td>21.2</td>\n",
       "      <td>20.9</td>\n",
       "      <td>20.8</td>\n",
       "    </tr>\n",
       "    <tr>\n",
       "      <th>7</th>\n",
       "      <td>Connecticut</td>\n",
       "      <td>31%</td>\n",
       "      <td>25.5</td>\n",
       "      <td>24.6</td>\n",
       "      <td>25.6</td>\n",
       "      <td>24.6</td>\n",
       "      <td>25.2</td>\n",
       "    </tr>\n",
       "    <tr>\n",
       "      <th>8</th>\n",
       "      <td>Delaware</td>\n",
       "      <td>18%</td>\n",
       "      <td>24.1</td>\n",
       "      <td>23.4</td>\n",
       "      <td>24.8</td>\n",
       "      <td>23.6</td>\n",
       "      <td>24.1</td>\n",
       "    </tr>\n",
       "    <tr>\n",
       "      <th>9</th>\n",
       "      <td>District of Columbia</td>\n",
       "      <td>32%</td>\n",
       "      <td>24.4</td>\n",
       "      <td>23.5</td>\n",
       "      <td>24.9</td>\n",
       "      <td>23.5</td>\n",
       "      <td>24.2</td>\n",
       "    </tr>\n",
       "  </tbody>\n",
       "</table>\n",
       "</div>"
      ],
      "text/plain": [
       "                  State Participation  English  Math  Reading  Science  \\\n",
       "0              National           60%     20.3  20.7     21.4     21.0   \n",
       "1               Alabama          100%     18.9  18.4     19.7     19.4   \n",
       "2                Alaska           65%     18.7  19.8     20.4     19.9   \n",
       "3               Arizona           62%     18.6  19.8     20.1     19.8   \n",
       "4              Arkansas          100%     18.9  19.0     19.7     19.5   \n",
       "5            California           31%     22.5  22.7     23.1     22.2   \n",
       "6              Colorado          100%     20.1  20.3     21.2     20.9   \n",
       "7           Connecticut           31%     25.5  24.6     25.6     24.6   \n",
       "8              Delaware           18%     24.1  23.4     24.8     23.6   \n",
       "9  District of Columbia           32%     24.4  23.5     24.9     23.5   \n",
       "\n",
       "  Composite  \n",
       "0      21.0  \n",
       "1      19.2  \n",
       "2      19.8  \n",
       "3      19.7  \n",
       "4      19.4  \n",
       "5      22.8  \n",
       "6      20.8  \n",
       "7      25.2  \n",
       "8      24.1  \n",
       "9      24.2  "
      ]
     },
     "execution_count": 4,
     "metadata": {},
     "output_type": "execute_result"
    }
   ],
   "source": [
    "act_2017.head(10)"
   ]
  },
  {
   "cell_type": "markdown",
   "metadata": {},
   "source": [
    "### 1.3. Verbally Describe Data\n",
    "\n",
    "Take your time looking through the data and thoroughly describe the data in the markdown cell below. "
   ]
  },
  {
   "cell_type": "markdown",
   "metadata": {},
   "source": [
    "Answer: Both datasets show the entry for all 50 states of USA and the respective participation rate of high school students in each examination. In addition, the first entry of act_2017 shows the aggregated data at the national level.\n",
    "\n",
    "sat_2017 lists the scores for 'Reading and Writing', 'Math' and the sum of both components as 'Total'.\n",
    "act_2017 lists the scores for 'English', 'Math', 'Reading', 'Science' and the average score of the 4 components as 'Coomposite'."
   ]
  },
  {
   "cell_type": "markdown",
   "metadata": {},
   "source": [
    "### 1.4. Errors in data\n",
    "#### a. Does the data look complete? "
   ]
  },
  {
   "cell_type": "code",
   "execution_count": 5,
   "metadata": {},
   "outputs": [
    {
     "name": "stdout",
     "output_type": "stream",
     "text": [
      "<class 'pandas.core.frame.DataFrame'>\n",
      "RangeIndex: 51 entries, 0 to 50\n",
      "Data columns (total 5 columns):\n",
      " #   Column                              Non-Null Count  Dtype \n",
      "---  ------                              --------------  ----- \n",
      " 0   State                               51 non-null     object\n",
      " 1   Participation                       51 non-null     object\n",
      " 2   Evidence-Based Reading and Writing  51 non-null     int64 \n",
      " 3   Math                                51 non-null     int64 \n",
      " 4   Total                               51 non-null     int64 \n",
      "dtypes: int64(3), object(2)\n",
      "memory usage: 2.1+ KB\n"
     ]
    }
   ],
   "source": [
    "sat_2017.info()"
   ]
  },
  {
   "cell_type": "code",
   "execution_count": 6,
   "metadata": {},
   "outputs": [
    {
     "name": "stdout",
     "output_type": "stream",
     "text": [
      "<class 'pandas.core.frame.DataFrame'>\n",
      "RangeIndex: 52 entries, 0 to 51\n",
      "Data columns (total 7 columns):\n",
      " #   Column         Non-Null Count  Dtype  \n",
      "---  ------         --------------  -----  \n",
      " 0   State          52 non-null     object \n",
      " 1   Participation  52 non-null     object \n",
      " 2   English        52 non-null     float64\n",
      " 3   Math           52 non-null     float64\n",
      " 4   Reading        52 non-null     float64\n",
      " 5   Science        52 non-null     float64\n",
      " 6   Composite      52 non-null     object \n",
      "dtypes: float64(4), object(3)\n",
      "memory usage: 3.0+ KB\n"
     ]
    }
   ],
   "source": [
    "act_2017.info()"
   ]
  },
  {
   "cell_type": "markdown",
   "metadata": {},
   "source": [
    "Answer: There is no missing value but there are some outliers which clearly indicates erroneous entries. These outliers are much smaller than the rest of the data and do not tally with the respective total and composite scores. "
   ]
  },
  {
   "cell_type": "markdown",
   "metadata": {},
   "source": [
    "#### b. Are there any obvious issues with the observations?\n",
    "\n",
    "**What is the minimum *possible* value for each test/subtest? What is the maximum *possible* value?**\n",
    "\n",
    "Consider comparing any questionable values to the sources of your data:\n",
    "- [SAT](https://blog.collegevine.com/here-are-the-average-sat-scores-by-state/)\n",
    "- [ACT](https://blog.prepscholar.com/act-scores-by-state-averages-highs-and-lows)"
   ]
  },
  {
   "cell_type": "code",
   "execution_count": 7,
   "metadata": {},
   "outputs": [
    {
     "data": {
      "text/html": [
       "<div>\n",
       "<style scoped>\n",
       "    .dataframe tbody tr th:only-of-type {\n",
       "        vertical-align: middle;\n",
       "    }\n",
       "\n",
       "    .dataframe tbody tr th {\n",
       "        vertical-align: top;\n",
       "    }\n",
       "\n",
       "    .dataframe thead th {\n",
       "        text-align: right;\n",
       "    }\n",
       "</style>\n",
       "<table border=\"1\" class=\"dataframe\">\n",
       "  <thead>\n",
       "    <tr style=\"text-align: right;\">\n",
       "      <th></th>\n",
       "      <th>Evidence-Based Reading and Writing</th>\n",
       "      <th>Math</th>\n",
       "      <th>Total</th>\n",
       "    </tr>\n",
       "  </thead>\n",
       "  <tbody>\n",
       "    <tr>\n",
       "      <th>count</th>\n",
       "      <td>51.000000</td>\n",
       "      <td>51.000000</td>\n",
       "      <td>51.000000</td>\n",
       "    </tr>\n",
       "    <tr>\n",
       "      <th>mean</th>\n",
       "      <td>569.117647</td>\n",
       "      <td>547.627451</td>\n",
       "      <td>1126.098039</td>\n",
       "    </tr>\n",
       "    <tr>\n",
       "      <th>std</th>\n",
       "      <td>45.666901</td>\n",
       "      <td>84.909119</td>\n",
       "      <td>92.494812</td>\n",
       "    </tr>\n",
       "    <tr>\n",
       "      <th>min</th>\n",
       "      <td>482.000000</td>\n",
       "      <td>52.000000</td>\n",
       "      <td>950.000000</td>\n",
       "    </tr>\n",
       "    <tr>\n",
       "      <th>25%</th>\n",
       "      <td>533.500000</td>\n",
       "      <td>522.000000</td>\n",
       "      <td>1055.500000</td>\n",
       "    </tr>\n",
       "    <tr>\n",
       "      <th>50%</th>\n",
       "      <td>559.000000</td>\n",
       "      <td>548.000000</td>\n",
       "      <td>1107.000000</td>\n",
       "    </tr>\n",
       "    <tr>\n",
       "      <th>75%</th>\n",
       "      <td>613.000000</td>\n",
       "      <td>599.000000</td>\n",
       "      <td>1212.000000</td>\n",
       "    </tr>\n",
       "    <tr>\n",
       "      <th>max</th>\n",
       "      <td>644.000000</td>\n",
       "      <td>651.000000</td>\n",
       "      <td>1295.000000</td>\n",
       "    </tr>\n",
       "  </tbody>\n",
       "</table>\n",
       "</div>"
      ],
      "text/plain": [
       "       Evidence-Based Reading and Writing        Math        Total\n",
       "count                           51.000000   51.000000    51.000000\n",
       "mean                           569.117647  547.627451  1126.098039\n",
       "std                             45.666901   84.909119    92.494812\n",
       "min                            482.000000   52.000000   950.000000\n",
       "25%                            533.500000  522.000000  1055.500000\n",
       "50%                            559.000000  548.000000  1107.000000\n",
       "75%                            613.000000  599.000000  1212.000000\n",
       "max                            644.000000  651.000000  1295.000000"
      ]
     },
     "execution_count": 7,
     "metadata": {},
     "output_type": "execute_result"
    }
   ],
   "source": [
    "sat_2017.describe()"
   ]
  },
  {
   "cell_type": "code",
   "execution_count": 8,
   "metadata": {},
   "outputs": [
    {
     "data": {
      "text/html": [
       "<div>\n",
       "<style scoped>\n",
       "    .dataframe tbody tr th:only-of-type {\n",
       "        vertical-align: middle;\n",
       "    }\n",
       "\n",
       "    .dataframe tbody tr th {\n",
       "        vertical-align: top;\n",
       "    }\n",
       "\n",
       "    .dataframe thead th {\n",
       "        text-align: right;\n",
       "    }\n",
       "</style>\n",
       "<table border=\"1\" class=\"dataframe\">\n",
       "  <thead>\n",
       "    <tr style=\"text-align: right;\">\n",
       "      <th></th>\n",
       "      <th>State</th>\n",
       "      <th>Participation</th>\n",
       "      <th>Evidence-Based Reading and Writing</th>\n",
       "      <th>Math</th>\n",
       "      <th>Total</th>\n",
       "    </tr>\n",
       "  </thead>\n",
       "  <tbody>\n",
       "    <tr>\n",
       "      <th>20</th>\n",
       "      <td>Maryland</td>\n",
       "      <td>69%</td>\n",
       "      <td>536</td>\n",
       "      <td>52</td>\n",
       "      <td>1060</td>\n",
       "    </tr>\n",
       "  </tbody>\n",
       "</table>\n",
       "</div>"
      ],
      "text/plain": [
       "       State Participation  Evidence-Based Reading and Writing  Math  Total\n",
       "20  Maryland           69%                                 536    52   1060"
      ]
     },
     "execution_count": 8,
     "metadata": {},
     "output_type": "execute_result"
    }
   ],
   "source": [
    "# filter row with 'Math' = 52.0\n",
    "sat_2017[sat_2017['Math']==52.0]"
   ]
  },
  {
   "cell_type": "markdown",
   "metadata": {},
   "source": [
    "Answer: SAT - The score ranges from 200 to 800 for each of the 2 sections.\n",
    "        The summary statistics show that the lowest score for Math is 52.0. \n",
    "        Upon filtering, it is clear that the scores for both components do not add up to\n",
    "        the 'Total'."
   ]
  },
  {
   "cell_type": "code",
   "execution_count": 9,
   "metadata": {
    "scrolled": true
   },
   "outputs": [
    {
     "data": {
      "text/html": [
       "<div>\n",
       "<style scoped>\n",
       "    .dataframe tbody tr th:only-of-type {\n",
       "        vertical-align: middle;\n",
       "    }\n",
       "\n",
       "    .dataframe tbody tr th {\n",
       "        vertical-align: top;\n",
       "    }\n",
       "\n",
       "    .dataframe thead th {\n",
       "        text-align: right;\n",
       "    }\n",
       "</style>\n",
       "<table border=\"1\" class=\"dataframe\">\n",
       "  <thead>\n",
       "    <tr style=\"text-align: right;\">\n",
       "      <th></th>\n",
       "      <th>English</th>\n",
       "      <th>Math</th>\n",
       "      <th>Reading</th>\n",
       "      <th>Science</th>\n",
       "    </tr>\n",
       "  </thead>\n",
       "  <tbody>\n",
       "    <tr>\n",
       "      <th>count</th>\n",
       "      <td>52.000000</td>\n",
       "      <td>52.000000</td>\n",
       "      <td>52.000000</td>\n",
       "      <td>52.000000</td>\n",
       "    </tr>\n",
       "    <tr>\n",
       "      <th>mean</th>\n",
       "      <td>20.919231</td>\n",
       "      <td>21.173077</td>\n",
       "      <td>22.001923</td>\n",
       "      <td>21.040385</td>\n",
       "    </tr>\n",
       "    <tr>\n",
       "      <th>std</th>\n",
       "      <td>2.332132</td>\n",
       "      <td>1.963602</td>\n",
       "      <td>2.048672</td>\n",
       "      <td>3.151113</td>\n",
       "    </tr>\n",
       "    <tr>\n",
       "      <th>min</th>\n",
       "      <td>16.300000</td>\n",
       "      <td>18.000000</td>\n",
       "      <td>18.100000</td>\n",
       "      <td>2.300000</td>\n",
       "    </tr>\n",
       "    <tr>\n",
       "      <th>25%</th>\n",
       "      <td>19.000000</td>\n",
       "      <td>19.400000</td>\n",
       "      <td>20.475000</td>\n",
       "      <td>19.900000</td>\n",
       "    </tr>\n",
       "    <tr>\n",
       "      <th>50%</th>\n",
       "      <td>20.550000</td>\n",
       "      <td>20.900000</td>\n",
       "      <td>21.700000</td>\n",
       "      <td>21.150000</td>\n",
       "    </tr>\n",
       "    <tr>\n",
       "      <th>75%</th>\n",
       "      <td>23.300000</td>\n",
       "      <td>23.100000</td>\n",
       "      <td>24.125000</td>\n",
       "      <td>22.525000</td>\n",
       "    </tr>\n",
       "    <tr>\n",
       "      <th>max</th>\n",
       "      <td>25.500000</td>\n",
       "      <td>25.300000</td>\n",
       "      <td>26.000000</td>\n",
       "      <td>24.900000</td>\n",
       "    </tr>\n",
       "  </tbody>\n",
       "</table>\n",
       "</div>"
      ],
      "text/plain": [
       "         English       Math    Reading    Science\n",
       "count  52.000000  52.000000  52.000000  52.000000\n",
       "mean   20.919231  21.173077  22.001923  21.040385\n",
       "std     2.332132   1.963602   2.048672   3.151113\n",
       "min    16.300000  18.000000  18.100000   2.300000\n",
       "25%    19.000000  19.400000  20.475000  19.900000\n",
       "50%    20.550000  20.900000  21.700000  21.150000\n",
       "75%    23.300000  23.100000  24.125000  22.525000\n",
       "max    25.500000  25.300000  26.000000  24.900000"
      ]
     },
     "execution_count": 9,
     "metadata": {},
     "output_type": "execute_result"
    }
   ],
   "source": [
    "act_2017.describe()"
   ]
  },
  {
   "cell_type": "code",
   "execution_count": 10,
   "metadata": {},
   "outputs": [
    {
     "data": {
      "text/html": [
       "<div>\n",
       "<style scoped>\n",
       "    .dataframe tbody tr th:only-of-type {\n",
       "        vertical-align: middle;\n",
       "    }\n",
       "\n",
       "    .dataframe tbody tr th {\n",
       "        vertical-align: top;\n",
       "    }\n",
       "\n",
       "    .dataframe thead th {\n",
       "        text-align: right;\n",
       "    }\n",
       "</style>\n",
       "<table border=\"1\" class=\"dataframe\">\n",
       "  <thead>\n",
       "    <tr style=\"text-align: right;\">\n",
       "      <th></th>\n",
       "      <th>State</th>\n",
       "      <th>Participation</th>\n",
       "      <th>English</th>\n",
       "      <th>Math</th>\n",
       "      <th>Reading</th>\n",
       "      <th>Science</th>\n",
       "      <th>Composite</th>\n",
       "    </tr>\n",
       "  </thead>\n",
       "  <tbody>\n",
       "    <tr>\n",
       "      <th>21</th>\n",
       "      <td>Maryland</td>\n",
       "      <td>28%</td>\n",
       "      <td>23.3</td>\n",
       "      <td>23.1</td>\n",
       "      <td>24.2</td>\n",
       "      <td>2.3</td>\n",
       "      <td>23.6</td>\n",
       "    </tr>\n",
       "  </tbody>\n",
       "</table>\n",
       "</div>"
      ],
      "text/plain": [
       "       State Participation  English  Math  Reading  Science Composite\n",
       "21  Maryland           28%     23.3  23.1     24.2      2.3      23.6"
      ]
     },
     "execution_count": 10,
     "metadata": {},
     "output_type": "execute_result"
    }
   ],
   "source": [
    "# filter row with 'Science' = 2.3\n",
    "act_2017[act_2017['Science'] == 2.3]"
   ]
  },
  {
   "cell_type": "markdown",
   "metadata": {},
   "source": [
    "Answer: ACT - The score ranges from 1 to 36 for each of the 2 section. \n",
    "        The summary statistics show that the lowest score for Science is 2.3.\n",
    "        While the 'Science' score is within the possible range, it does not give the correct 'Composite' which is \n",
    "        a simple average of 4 subjects."
   ]
  },
  {
   "cell_type": "markdown",
   "metadata": {},
   "source": [
    "#### c. Fix any errors you identified\n",
    "\n",
    "**The data is available** so there's no need to guess or calculate anything. If you didn't find any errors, continue to the next step."
   ]
  },
  {
   "cell_type": "code",
   "execution_count": 11,
   "metadata": {},
   "outputs": [],
   "source": [
    "# fix error for 'Math' of Maryland. \n",
    "sat_2017['Math'] = sat_2017['Total'] - sat_2017['Evidence-Based Reading and Writing']"
   ]
  },
  {
   "cell_type": "code",
   "execution_count": 12,
   "metadata": {},
   "outputs": [
    {
     "data": {
      "text/html": [
       "<div>\n",
       "<style scoped>\n",
       "    .dataframe tbody tr th:only-of-type {\n",
       "        vertical-align: middle;\n",
       "    }\n",
       "\n",
       "    .dataframe tbody tr th {\n",
       "        vertical-align: top;\n",
       "    }\n",
       "\n",
       "    .dataframe thead th {\n",
       "        text-align: right;\n",
       "    }\n",
       "</style>\n",
       "<table border=\"1\" class=\"dataframe\">\n",
       "  <thead>\n",
       "    <tr style=\"text-align: right;\">\n",
       "      <th></th>\n",
       "      <th>State</th>\n",
       "      <th>Participation</th>\n",
       "      <th>Evidence-Based Reading and Writing</th>\n",
       "      <th>Math</th>\n",
       "      <th>Total</th>\n",
       "    </tr>\n",
       "  </thead>\n",
       "  <tbody>\n",
       "    <tr>\n",
       "      <th>20</th>\n",
       "      <td>Maryland</td>\n",
       "      <td>69%</td>\n",
       "      <td>536</td>\n",
       "      <td>524</td>\n",
       "      <td>1060</td>\n",
       "    </tr>\n",
       "  </tbody>\n",
       "</table>\n",
       "</div>"
      ],
      "text/plain": [
       "       State Participation  Evidence-Based Reading and Writing  Math  Total\n",
       "20  Maryland           69%                                 536   524   1060"
      ]
     },
     "execution_count": 12,
     "metadata": {},
     "output_type": "execute_result"
    }
   ],
   "source": [
    "# check that 'Math' for Maryland is corrected.\n",
    "sat_2017[sat_2017['State'] == 'Maryland']"
   ]
  },
  {
   "cell_type": "code",
   "execution_count": 13,
   "metadata": {},
   "outputs": [
    {
     "data": {
      "text/plain": [
       "True"
      ]
     },
     "execution_count": 13,
     "metadata": {},
     "output_type": "execute_result"
    }
   ],
   "source": [
    "# perform cross field validation to check that all 'Total's are correct.\n",
    "validation = sat_2017['Math']+sat_2017['Evidence-Based Reading and Writing']\n",
    "list(validation) == list(sat_2017['Total'])\n"
   ]
  },
  {
   "cell_type": "code",
   "execution_count": 14,
   "metadata": {},
   "outputs": [
    {
     "data": {
      "text/plain": [
       "True"
      ]
     },
     "execution_count": 14,
     "metadata": {},
     "output_type": "execute_result"
    }
   ],
   "source": [
    "list(sat_2017['Total']) == list(sat_2017['Math']+sat_2017['Evidence-Based Reading and Writing'])"
   ]
  },
  {
   "cell_type": "code",
   "execution_count": 15,
   "metadata": {},
   "outputs": [
    {
     "ename": "ValueError",
     "evalue": "could not convert string to float: '20.2x'",
     "output_type": "error",
     "traceback": [
      "\u001b[0;31m---------------------------------------------------------------------------\u001b[0m",
      "\u001b[0;31mValueError\u001b[0m                                Traceback (most recent call last)",
      "\u001b[0;32m<ipython-input-15-89bd7328be4a>\u001b[0m in \u001b[0;36m<module>\u001b[0;34m\u001b[0m\n\u001b[0;32m----> 1\u001b[0;31m \u001b[0mact_2017\u001b[0m\u001b[0;34m[\u001b[0m\u001b[0;34m'Composite'\u001b[0m\u001b[0;34m]\u001b[0m\u001b[0;34m.\u001b[0m\u001b[0mastype\u001b[0m\u001b[0;34m(\u001b[0m\u001b[0mfloat\u001b[0m\u001b[0;34m)\u001b[0m\u001b[0;34m\u001b[0m\u001b[0;34m\u001b[0m\u001b[0m\n\u001b[0m",
      "\u001b[0;32m/opt/anaconda3/envs/dsi/lib/python3.8/site-packages/pandas/core/generic.py\u001b[0m in \u001b[0;36mastype\u001b[0;34m(self, dtype, copy, errors)\u001b[0m\n\u001b[1;32m   5544\u001b[0m         \u001b[0;32melse\u001b[0m\u001b[0;34m:\u001b[0m\u001b[0;34m\u001b[0m\u001b[0;34m\u001b[0m\u001b[0m\n\u001b[1;32m   5545\u001b[0m             \u001b[0;31m# else, only a single dtype is given\u001b[0m\u001b[0;34m\u001b[0m\u001b[0;34m\u001b[0m\u001b[0;34m\u001b[0m\u001b[0m\n\u001b[0;32m-> 5546\u001b[0;31m             \u001b[0mnew_data\u001b[0m \u001b[0;34m=\u001b[0m \u001b[0mself\u001b[0m\u001b[0;34m.\u001b[0m\u001b[0m_mgr\u001b[0m\u001b[0;34m.\u001b[0m\u001b[0mastype\u001b[0m\u001b[0;34m(\u001b[0m\u001b[0mdtype\u001b[0m\u001b[0;34m=\u001b[0m\u001b[0mdtype\u001b[0m\u001b[0;34m,\u001b[0m \u001b[0mcopy\u001b[0m\u001b[0;34m=\u001b[0m\u001b[0mcopy\u001b[0m\u001b[0;34m,\u001b[0m \u001b[0merrors\u001b[0m\u001b[0;34m=\u001b[0m\u001b[0merrors\u001b[0m\u001b[0;34m,\u001b[0m\u001b[0;34m)\u001b[0m\u001b[0;34m\u001b[0m\u001b[0;34m\u001b[0m\u001b[0m\n\u001b[0m\u001b[1;32m   5547\u001b[0m             \u001b[0;32mreturn\u001b[0m \u001b[0mself\u001b[0m\u001b[0;34m.\u001b[0m\u001b[0m_constructor\u001b[0m\u001b[0;34m(\u001b[0m\u001b[0mnew_data\u001b[0m\u001b[0;34m)\u001b[0m\u001b[0;34m.\u001b[0m\u001b[0m__finalize__\u001b[0m\u001b[0;34m(\u001b[0m\u001b[0mself\u001b[0m\u001b[0;34m,\u001b[0m \u001b[0mmethod\u001b[0m\u001b[0;34m=\u001b[0m\u001b[0;34m\"astype\"\u001b[0m\u001b[0;34m)\u001b[0m\u001b[0;34m\u001b[0m\u001b[0;34m\u001b[0m\u001b[0m\n\u001b[1;32m   5548\u001b[0m \u001b[0;34m\u001b[0m\u001b[0m\n",
      "\u001b[0;32m/opt/anaconda3/envs/dsi/lib/python3.8/site-packages/pandas/core/internals/managers.py\u001b[0m in \u001b[0;36mastype\u001b[0;34m(self, dtype, copy, errors)\u001b[0m\n\u001b[1;32m    593\u001b[0m         \u001b[0mself\u001b[0m\u001b[0;34m,\u001b[0m \u001b[0mdtype\u001b[0m\u001b[0;34m,\u001b[0m \u001b[0mcopy\u001b[0m\u001b[0;34m:\u001b[0m \u001b[0mbool\u001b[0m \u001b[0;34m=\u001b[0m \u001b[0;32mFalse\u001b[0m\u001b[0;34m,\u001b[0m \u001b[0merrors\u001b[0m\u001b[0;34m:\u001b[0m \u001b[0mstr\u001b[0m \u001b[0;34m=\u001b[0m \u001b[0;34m\"raise\"\u001b[0m\u001b[0;34m\u001b[0m\u001b[0;34m\u001b[0m\u001b[0m\n\u001b[1;32m    594\u001b[0m     ) -> \"BlockManager\":\n\u001b[0;32m--> 595\u001b[0;31m         \u001b[0;32mreturn\u001b[0m \u001b[0mself\u001b[0m\u001b[0;34m.\u001b[0m\u001b[0mapply\u001b[0m\u001b[0;34m(\u001b[0m\u001b[0;34m\"astype\"\u001b[0m\u001b[0;34m,\u001b[0m \u001b[0mdtype\u001b[0m\u001b[0;34m=\u001b[0m\u001b[0mdtype\u001b[0m\u001b[0;34m,\u001b[0m \u001b[0mcopy\u001b[0m\u001b[0;34m=\u001b[0m\u001b[0mcopy\u001b[0m\u001b[0;34m,\u001b[0m \u001b[0merrors\u001b[0m\u001b[0;34m=\u001b[0m\u001b[0merrors\u001b[0m\u001b[0;34m)\u001b[0m\u001b[0;34m\u001b[0m\u001b[0;34m\u001b[0m\u001b[0m\n\u001b[0m\u001b[1;32m    596\u001b[0m \u001b[0;34m\u001b[0m\u001b[0m\n\u001b[1;32m    597\u001b[0m     def convert(\n",
      "\u001b[0;32m/opt/anaconda3/envs/dsi/lib/python3.8/site-packages/pandas/core/internals/managers.py\u001b[0m in \u001b[0;36mapply\u001b[0;34m(self, f, align_keys, **kwargs)\u001b[0m\n\u001b[1;32m    404\u001b[0m                 \u001b[0mapplied\u001b[0m \u001b[0;34m=\u001b[0m \u001b[0mb\u001b[0m\u001b[0;34m.\u001b[0m\u001b[0mapply\u001b[0m\u001b[0;34m(\u001b[0m\u001b[0mf\u001b[0m\u001b[0;34m,\u001b[0m \u001b[0;34m**\u001b[0m\u001b[0mkwargs\u001b[0m\u001b[0;34m)\u001b[0m\u001b[0;34m\u001b[0m\u001b[0;34m\u001b[0m\u001b[0m\n\u001b[1;32m    405\u001b[0m             \u001b[0;32melse\u001b[0m\u001b[0;34m:\u001b[0m\u001b[0;34m\u001b[0m\u001b[0;34m\u001b[0m\u001b[0m\n\u001b[0;32m--> 406\u001b[0;31m                 \u001b[0mapplied\u001b[0m \u001b[0;34m=\u001b[0m \u001b[0mgetattr\u001b[0m\u001b[0;34m(\u001b[0m\u001b[0mb\u001b[0m\u001b[0;34m,\u001b[0m \u001b[0mf\u001b[0m\u001b[0;34m)\u001b[0m\u001b[0;34m(\u001b[0m\u001b[0;34m**\u001b[0m\u001b[0mkwargs\u001b[0m\u001b[0;34m)\u001b[0m\u001b[0;34m\u001b[0m\u001b[0;34m\u001b[0m\u001b[0m\n\u001b[0m\u001b[1;32m    407\u001b[0m             \u001b[0mresult_blocks\u001b[0m \u001b[0;34m=\u001b[0m \u001b[0m_extend_blocks\u001b[0m\u001b[0;34m(\u001b[0m\u001b[0mapplied\u001b[0m\u001b[0;34m,\u001b[0m \u001b[0mresult_blocks\u001b[0m\u001b[0;34m)\u001b[0m\u001b[0;34m\u001b[0m\u001b[0;34m\u001b[0m\u001b[0m\n\u001b[1;32m    408\u001b[0m \u001b[0;34m\u001b[0m\u001b[0m\n",
      "\u001b[0;32m/opt/anaconda3/envs/dsi/lib/python3.8/site-packages/pandas/core/internals/blocks.py\u001b[0m in \u001b[0;36mastype\u001b[0;34m(self, dtype, copy, errors)\u001b[0m\n\u001b[1;32m    593\u001b[0m             \u001b[0mvals1d\u001b[0m \u001b[0;34m=\u001b[0m \u001b[0mvalues\u001b[0m\u001b[0;34m.\u001b[0m\u001b[0mravel\u001b[0m\u001b[0;34m(\u001b[0m\u001b[0;34m)\u001b[0m\u001b[0;34m\u001b[0m\u001b[0;34m\u001b[0m\u001b[0m\n\u001b[1;32m    594\u001b[0m             \u001b[0;32mtry\u001b[0m\u001b[0;34m:\u001b[0m\u001b[0;34m\u001b[0m\u001b[0;34m\u001b[0m\u001b[0m\n\u001b[0;32m--> 595\u001b[0;31m                 \u001b[0mvalues\u001b[0m \u001b[0;34m=\u001b[0m \u001b[0mastype_nansafe\u001b[0m\u001b[0;34m(\u001b[0m\u001b[0mvals1d\u001b[0m\u001b[0;34m,\u001b[0m \u001b[0mdtype\u001b[0m\u001b[0;34m,\u001b[0m \u001b[0mcopy\u001b[0m\u001b[0;34m=\u001b[0m\u001b[0;32mTrue\u001b[0m\u001b[0;34m)\u001b[0m\u001b[0;34m\u001b[0m\u001b[0;34m\u001b[0m\u001b[0m\n\u001b[0m\u001b[1;32m    596\u001b[0m             \u001b[0;32mexcept\u001b[0m \u001b[0;34m(\u001b[0m\u001b[0mValueError\u001b[0m\u001b[0;34m,\u001b[0m \u001b[0mTypeError\u001b[0m\u001b[0;34m)\u001b[0m\u001b[0;34m:\u001b[0m\u001b[0;34m\u001b[0m\u001b[0;34m\u001b[0m\u001b[0m\n\u001b[1;32m    597\u001b[0m                 \u001b[0;31m# e.g. astype_nansafe can fail on object-dtype of strings\u001b[0m\u001b[0;34m\u001b[0m\u001b[0;34m\u001b[0m\u001b[0;34m\u001b[0m\u001b[0m\n",
      "\u001b[0;32m/opt/anaconda3/envs/dsi/lib/python3.8/site-packages/pandas/core/dtypes/cast.py\u001b[0m in \u001b[0;36mastype_nansafe\u001b[0;34m(arr, dtype, copy, skipna)\u001b[0m\n\u001b[1;32m    993\u001b[0m     \u001b[0;32mif\u001b[0m \u001b[0mcopy\u001b[0m \u001b[0;32mor\u001b[0m \u001b[0mis_object_dtype\u001b[0m\u001b[0;34m(\u001b[0m\u001b[0marr\u001b[0m\u001b[0;34m)\u001b[0m \u001b[0;32mor\u001b[0m \u001b[0mis_object_dtype\u001b[0m\u001b[0;34m(\u001b[0m\u001b[0mdtype\u001b[0m\u001b[0;34m)\u001b[0m\u001b[0;34m:\u001b[0m\u001b[0;34m\u001b[0m\u001b[0;34m\u001b[0m\u001b[0m\n\u001b[1;32m    994\u001b[0m         \u001b[0;31m# Explicit copy, or required since NumPy can't view from / to object.\u001b[0m\u001b[0;34m\u001b[0m\u001b[0;34m\u001b[0m\u001b[0;34m\u001b[0m\u001b[0m\n\u001b[0;32m--> 995\u001b[0;31m         \u001b[0;32mreturn\u001b[0m \u001b[0marr\u001b[0m\u001b[0;34m.\u001b[0m\u001b[0mastype\u001b[0m\u001b[0;34m(\u001b[0m\u001b[0mdtype\u001b[0m\u001b[0;34m,\u001b[0m \u001b[0mcopy\u001b[0m\u001b[0;34m=\u001b[0m\u001b[0;32mTrue\u001b[0m\u001b[0;34m)\u001b[0m\u001b[0;34m\u001b[0m\u001b[0;34m\u001b[0m\u001b[0m\n\u001b[0m\u001b[1;32m    996\u001b[0m \u001b[0;34m\u001b[0m\u001b[0m\n\u001b[1;32m    997\u001b[0m     \u001b[0;32mreturn\u001b[0m \u001b[0marr\u001b[0m\u001b[0;34m.\u001b[0m\u001b[0mview\u001b[0m\u001b[0;34m(\u001b[0m\u001b[0mdtype\u001b[0m\u001b[0;34m)\u001b[0m\u001b[0;34m\u001b[0m\u001b[0;34m\u001b[0m\u001b[0m\n",
      "\u001b[0;31mValueError\u001b[0m: could not convert string to float: '20.2x'"
     ]
    }
   ],
   "source": [
    "act_2017['Composite'].astype(float)"
   ]
  },
  {
   "cell_type": "markdown",
   "metadata": {},
   "source": [
    "Extra 'x' in 'Composite' of Wyoming caused ValueError to be raised when attempting to convert 'Composite' to float."
   ]
  },
  {
   "cell_type": "code",
   "execution_count": 16,
   "metadata": {},
   "outputs": [],
   "source": [
    "act_2017['Composite'] = act_2017['Composite'].str.strip('x')"
   ]
  },
  {
   "cell_type": "code",
   "execution_count": 17,
   "metadata": {},
   "outputs": [
    {
     "data": {
      "text/html": [
       "<div>\n",
       "<style scoped>\n",
       "    .dataframe tbody tr th:only-of-type {\n",
       "        vertical-align: middle;\n",
       "    }\n",
       "\n",
       "    .dataframe tbody tr th {\n",
       "        vertical-align: top;\n",
       "    }\n",
       "\n",
       "    .dataframe thead th {\n",
       "        text-align: right;\n",
       "    }\n",
       "</style>\n",
       "<table border=\"1\" class=\"dataframe\">\n",
       "  <thead>\n",
       "    <tr style=\"text-align: right;\">\n",
       "      <th></th>\n",
       "      <th>State</th>\n",
       "      <th>Participation</th>\n",
       "      <th>English</th>\n",
       "      <th>Math</th>\n",
       "      <th>Reading</th>\n",
       "      <th>Science</th>\n",
       "      <th>Composite</th>\n",
       "    </tr>\n",
       "  </thead>\n",
       "  <tbody>\n",
       "    <tr>\n",
       "      <th>51</th>\n",
       "      <td>Wyoming</td>\n",
       "      <td>100%</td>\n",
       "      <td>19.4</td>\n",
       "      <td>19.8</td>\n",
       "      <td>20.8</td>\n",
       "      <td>20.6</td>\n",
       "      <td>20.2</td>\n",
       "    </tr>\n",
       "  </tbody>\n",
       "</table>\n",
       "</div>"
      ],
      "text/plain": [
       "      State Participation  English  Math  Reading  Science Composite\n",
       "51  Wyoming          100%     19.4  19.8     20.8     20.6      20.2"
      ]
     },
     "execution_count": 17,
     "metadata": {},
     "output_type": "execute_result"
    }
   ],
   "source": [
    "# check that 'x' is removed\n",
    "act_2017[act_2017['Composite'] == '20.2']"
   ]
  },
  {
   "cell_type": "code",
   "execution_count": 18,
   "metadata": {},
   "outputs": [],
   "source": [
    "# recast 'Composite' as float\n",
    "act_2017['Composite'] = act_2017['Composite'].astype('float')\n",
    "#no error raised, so column is successfully converted"
   ]
  },
  {
   "cell_type": "code",
   "execution_count": 19,
   "metadata": {},
   "outputs": [],
   "source": [
    "# Set index as 'State' in order to access using .loc\n",
    "act_2017 = act_2017.set_index('State')"
   ]
  },
  {
   "cell_type": "code",
   "execution_count": 20,
   "metadata": {},
   "outputs": [],
   "source": [
    "# fix numerical error for 'Science' of Maryland.\n",
    "act_2017.loc['Maryland', 'Science'] = round(act_2017.loc['Maryland', 'Composite'] * 4 - \\\n",
    "                                            act_2017.loc['Maryland', 'English'] - \\\n",
    "                                            act_2017.loc['Maryland', 'Math'] - \\\n",
    "                                            act_2017.loc['Maryland', 'Reading'] , 1)"
   ]
  },
  {
   "cell_type": "code",
   "execution_count": 21,
   "metadata": {},
   "outputs": [],
   "source": [
    "# reset index\n",
    "act_2017 = act_2017.reset_index('State')"
   ]
  },
  {
   "cell_type": "code",
   "execution_count": 22,
   "metadata": {},
   "outputs": [
    {
     "data": {
      "text/html": [
       "<div>\n",
       "<style scoped>\n",
       "    .dataframe tbody tr th:only-of-type {\n",
       "        vertical-align: middle;\n",
       "    }\n",
       "\n",
       "    .dataframe tbody tr th {\n",
       "        vertical-align: top;\n",
       "    }\n",
       "\n",
       "    .dataframe thead th {\n",
       "        text-align: right;\n",
       "    }\n",
       "</style>\n",
       "<table border=\"1\" class=\"dataframe\">\n",
       "  <thead>\n",
       "    <tr style=\"text-align: right;\">\n",
       "      <th></th>\n",
       "      <th>State</th>\n",
       "      <th>Participation</th>\n",
       "      <th>English</th>\n",
       "      <th>Math</th>\n",
       "      <th>Reading</th>\n",
       "      <th>Science</th>\n",
       "      <th>Composite</th>\n",
       "    </tr>\n",
       "  </thead>\n",
       "  <tbody>\n",
       "    <tr>\n",
       "      <th>21</th>\n",
       "      <td>Maryland</td>\n",
       "      <td>28%</td>\n",
       "      <td>23.3</td>\n",
       "      <td>23.1</td>\n",
       "      <td>24.2</td>\n",
       "      <td>23.8</td>\n",
       "      <td>23.6</td>\n",
       "    </tr>\n",
       "  </tbody>\n",
       "</table>\n",
       "</div>"
      ],
      "text/plain": [
       "       State Participation  English  Math  Reading  Science  Composite\n",
       "21  Maryland           28%     23.3  23.1     24.2     23.8       23.6"
      ]
     },
     "execution_count": 22,
     "metadata": {},
     "output_type": "execute_result"
    }
   ],
   "source": [
    "# check that the scores for Maryland are now correct.\n",
    "act_2017[act_2017['State'] == 'Maryland']"
   ]
  },
  {
   "cell_type": "code",
   "execution_count": 23,
   "metadata": {},
   "outputs": [
    {
     "data": {
      "text/plain": [
       "False"
      ]
     },
     "execution_count": 23,
     "metadata": {},
     "output_type": "execute_result"
    }
   ],
   "source": [
    "# perform cross field validation to check that all 'Composite's are correct.\n",
    "validation = round((act_2017['English']+act_2017['Math']+act_2017['Reading']+act_2017['Science'])/4,1)\n",
    "list(validation) == list(act_2017['Composite'])\n"
   ]
  },
  {
   "cell_type": "code",
   "execution_count": 24,
   "metadata": {},
   "outputs": [
    {
     "data": {
      "text/plain": [
       "-0.1    20\n",
       "-0.1    16\n",
       "-0.2    14\n",
       " 0.0     2\n",
       "dtype: int64"
      ]
     },
     "execution_count": 24,
     "metadata": {},
     "output_type": "execute_result"
    }
   ],
   "source": [
    "# check difference between calculated composite and raw composite from data set\n",
    "(validation - act_2017['Composite']).value_counts()"
   ]
  },
  {
   "cell_type": "markdown",
   "metadata": {},
   "source": [
    "Discrepancies are present in all but 2 entries and magnitudes are fairly small. To preserve integrity of the raw data, the discrepancies will be ignored. "
   ]
  },
  {
   "cell_type": "markdown",
   "metadata": {},
   "source": [
    "### 1.5. What are your data types? \n",
    "Display the data types of each feature. "
   ]
  },
  {
   "cell_type": "code",
   "execution_count": 25,
   "metadata": {},
   "outputs": [
    {
     "data": {
      "text/plain": [
       "State                                 object\n",
       "Participation                         object\n",
       "Evidence-Based Reading and Writing     int64\n",
       "Math                                   int64\n",
       "Total                                  int64\n",
       "dtype: object"
      ]
     },
     "execution_count": 25,
     "metadata": {},
     "output_type": "execute_result"
    }
   ],
   "source": [
    "#code\n",
    "sat_2017.dtypes"
   ]
  },
  {
   "cell_type": "code",
   "execution_count": 26,
   "metadata": {},
   "outputs": [
    {
     "data": {
      "text/plain": [
       "State             object\n",
       "Participation     object\n",
       "English          float64\n",
       "Math             float64\n",
       "Reading          float64\n",
       "Science          float64\n",
       "Composite        float64\n",
       "dtype: object"
      ]
     },
     "execution_count": 26,
     "metadata": {},
     "output_type": "execute_result"
    }
   ],
   "source": [
    "act_2017.dtypes"
   ]
  },
  {
   "cell_type": "markdown",
   "metadata": {},
   "source": [
    "What did you learn?\n",
    "- Do any of them seem odd?  \n",
    "- Which ones are not as they should be?  "
   ]
  },
  {
   "cell_type": "markdown",
   "metadata": {},
   "source": [
    "Answer: Similar to 'Composite' of act_2017, participation rates are objects instead of numerical types due to '%' sign. Also this increases the memory requirement for each dataframe."
   ]
  },
  {
   "cell_type": "markdown",
   "metadata": {},
   "source": [
    "### 1.6. Fix Incorrect Data Types\n",
    "Based on what you discovered above, use appropriate methods to re-type incorrectly typed data.\n",
    "- Define a function that will allow you to convert participation rates to an appropriate numeric type. Use `map` or `apply` to change these columns in each dataframe."
   ]
  },
  {
   "cell_type": "code",
   "execution_count": 27,
   "metadata": {},
   "outputs": [],
   "source": [
    "#code\n",
    "# custom function to strip '%' then cast as float\n",
    "def par_to_numeric(string):\n",
    "    converted_percent = float(string.strip('%'))\n",
    "    return converted_percent"
   ]
  },
  {
   "cell_type": "markdown",
   "metadata": {},
   "source": [
    "- Fix any individual values preventing other columns from being the appropriate type."
   ]
  },
  {
   "cell_type": "code",
   "execution_count": 28,
   "metadata": {},
   "outputs": [],
   "source": [
    "# already fixed in part 1.4."
   ]
  },
  {
   "cell_type": "markdown",
   "metadata": {},
   "source": [
    "- Finish your data modifications by making sure the columns are now typed appropriately."
   ]
  },
  {
   "cell_type": "code",
   "execution_count": 29,
   "metadata": {},
   "outputs": [],
   "source": [
    "#code\n",
    "sat_2017['Participation'] = sat_2017['Participation'].map(par_to_numeric)\n",
    "act_2017['Participation'] = act_2017['Participation'].map(par_to_numeric)"
   ]
  },
  {
   "cell_type": "markdown",
   "metadata": {},
   "source": [
    "- Display the data types again to confirm they are correct."
   ]
  },
  {
   "cell_type": "code",
   "execution_count": 30,
   "metadata": {},
   "outputs": [
    {
     "data": {
      "text/plain": [
       "State                                  object\n",
       "Participation                         float64\n",
       "Evidence-Based Reading and Writing      int64\n",
       "Math                                    int64\n",
       "Total                                   int64\n",
       "dtype: object"
      ]
     },
     "execution_count": 30,
     "metadata": {},
     "output_type": "execute_result"
    }
   ],
   "source": [
    "#Code:\n",
    "sat_2017.dtypes\n",
    "# 'Participation' is now of float type."
   ]
  },
  {
   "cell_type": "code",
   "execution_count": 31,
   "metadata": {},
   "outputs": [
    {
     "data": {
      "text/html": [
       "<div>\n",
       "<style scoped>\n",
       "    .dataframe tbody tr th:only-of-type {\n",
       "        vertical-align: middle;\n",
       "    }\n",
       "\n",
       "    .dataframe tbody tr th {\n",
       "        vertical-align: top;\n",
       "    }\n",
       "\n",
       "    .dataframe thead th {\n",
       "        text-align: right;\n",
       "    }\n",
       "</style>\n",
       "<table border=\"1\" class=\"dataframe\">\n",
       "  <thead>\n",
       "    <tr style=\"text-align: right;\">\n",
       "      <th></th>\n",
       "      <th>Participation</th>\n",
       "      <th>Evidence-Based Reading and Writing</th>\n",
       "      <th>Math</th>\n",
       "      <th>Total</th>\n",
       "    </tr>\n",
       "  </thead>\n",
       "  <tbody>\n",
       "    <tr>\n",
       "      <th>count</th>\n",
       "      <td>51.000000</td>\n",
       "      <td>51.000000</td>\n",
       "      <td>51.000000</td>\n",
       "      <td>51.000000</td>\n",
       "    </tr>\n",
       "    <tr>\n",
       "      <th>mean</th>\n",
       "      <td>39.803922</td>\n",
       "      <td>569.117647</td>\n",
       "      <td>556.980392</td>\n",
       "      <td>1126.098039</td>\n",
       "    </tr>\n",
       "    <tr>\n",
       "      <th>std</th>\n",
       "      <td>35.276632</td>\n",
       "      <td>45.666901</td>\n",
       "      <td>47.128119</td>\n",
       "      <td>92.494812</td>\n",
       "    </tr>\n",
       "    <tr>\n",
       "      <th>min</th>\n",
       "      <td>2.000000</td>\n",
       "      <td>482.000000</td>\n",
       "      <td>468.000000</td>\n",
       "      <td>950.000000</td>\n",
       "    </tr>\n",
       "    <tr>\n",
       "      <th>25%</th>\n",
       "      <td>4.000000</td>\n",
       "      <td>533.500000</td>\n",
       "      <td>523.500000</td>\n",
       "      <td>1055.500000</td>\n",
       "    </tr>\n",
       "    <tr>\n",
       "      <th>50%</th>\n",
       "      <td>38.000000</td>\n",
       "      <td>559.000000</td>\n",
       "      <td>548.000000</td>\n",
       "      <td>1107.000000</td>\n",
       "    </tr>\n",
       "    <tr>\n",
       "      <th>75%</th>\n",
       "      <td>66.000000</td>\n",
       "      <td>613.000000</td>\n",
       "      <td>599.500000</td>\n",
       "      <td>1212.000000</td>\n",
       "    </tr>\n",
       "    <tr>\n",
       "      <th>max</th>\n",
       "      <td>100.000000</td>\n",
       "      <td>644.000000</td>\n",
       "      <td>651.000000</td>\n",
       "      <td>1295.000000</td>\n",
       "    </tr>\n",
       "  </tbody>\n",
       "</table>\n",
       "</div>"
      ],
      "text/plain": [
       "       Participation  Evidence-Based Reading and Writing        Math  \\\n",
       "count      51.000000                           51.000000   51.000000   \n",
       "mean       39.803922                          569.117647  556.980392   \n",
       "std        35.276632                           45.666901   47.128119   \n",
       "min         2.000000                          482.000000  468.000000   \n",
       "25%         4.000000                          533.500000  523.500000   \n",
       "50%        38.000000                          559.000000  548.000000   \n",
       "75%        66.000000                          613.000000  599.500000   \n",
       "max       100.000000                          644.000000  651.000000   \n",
       "\n",
       "             Total  \n",
       "count    51.000000  \n",
       "mean   1126.098039  \n",
       "std      92.494812  \n",
       "min     950.000000  \n",
       "25%    1055.500000  \n",
       "50%    1107.000000  \n",
       "75%    1212.000000  \n",
       "max    1295.000000  "
      ]
     },
     "execution_count": 31,
     "metadata": {},
     "output_type": "execute_result"
    }
   ],
   "source": [
    "sat_2017.describe()\n",
    "# wide range in participation rate among states is within expectation"
   ]
  },
  {
   "cell_type": "code",
   "execution_count": 32,
   "metadata": {},
   "outputs": [
    {
     "data": {
      "text/plain": [
       "State             object\n",
       "Participation    float64\n",
       "English          float64\n",
       "Math             float64\n",
       "Reading          float64\n",
       "Science          float64\n",
       "Composite        float64\n",
       "dtype: object"
      ]
     },
     "execution_count": 32,
     "metadata": {},
     "output_type": "execute_result"
    }
   ],
   "source": [
    "act_2017.dtypes\n",
    "# 'Participation' is now of float type."
   ]
  },
  {
   "cell_type": "code",
   "execution_count": 33,
   "metadata": {},
   "outputs": [
    {
     "data": {
      "text/html": [
       "<div>\n",
       "<style scoped>\n",
       "    .dataframe tbody tr th:only-of-type {\n",
       "        vertical-align: middle;\n",
       "    }\n",
       "\n",
       "    .dataframe tbody tr th {\n",
       "        vertical-align: top;\n",
       "    }\n",
       "\n",
       "    .dataframe thead th {\n",
       "        text-align: right;\n",
       "    }\n",
       "</style>\n",
       "<table border=\"1\" class=\"dataframe\">\n",
       "  <thead>\n",
       "    <tr style=\"text-align: right;\">\n",
       "      <th></th>\n",
       "      <th>Participation</th>\n",
       "      <th>English</th>\n",
       "      <th>Math</th>\n",
       "      <th>Reading</th>\n",
       "      <th>Science</th>\n",
       "      <th>Composite</th>\n",
       "    </tr>\n",
       "  </thead>\n",
       "  <tbody>\n",
       "    <tr>\n",
       "      <th>count</th>\n",
       "      <td>52.000000</td>\n",
       "      <td>52.000000</td>\n",
       "      <td>52.000000</td>\n",
       "      <td>52.000000</td>\n",
       "      <td>52.000000</td>\n",
       "      <td>52.000000</td>\n",
       "    </tr>\n",
       "    <tr>\n",
       "      <th>mean</th>\n",
       "      <td>65.153846</td>\n",
       "      <td>20.919231</td>\n",
       "      <td>21.173077</td>\n",
       "      <td>22.001923</td>\n",
       "      <td>21.453846</td>\n",
       "      <td>21.509615</td>\n",
       "    </tr>\n",
       "    <tr>\n",
       "      <th>std</th>\n",
       "      <td>31.832518</td>\n",
       "      <td>2.332132</td>\n",
       "      <td>1.963602</td>\n",
       "      <td>2.048672</td>\n",
       "      <td>1.737303</td>\n",
       "      <td>2.002083</td>\n",
       "    </tr>\n",
       "    <tr>\n",
       "      <th>min</th>\n",
       "      <td>8.000000</td>\n",
       "      <td>16.300000</td>\n",
       "      <td>18.000000</td>\n",
       "      <td>18.100000</td>\n",
       "      <td>18.200000</td>\n",
       "      <td>17.800000</td>\n",
       "    </tr>\n",
       "    <tr>\n",
       "      <th>25%</th>\n",
       "      <td>31.000000</td>\n",
       "      <td>19.000000</td>\n",
       "      <td>19.400000</td>\n",
       "      <td>20.475000</td>\n",
       "      <td>19.975000</td>\n",
       "      <td>19.800000</td>\n",
       "    </tr>\n",
       "    <tr>\n",
       "      <th>50%</th>\n",
       "      <td>68.000000</td>\n",
       "      <td>20.550000</td>\n",
       "      <td>20.900000</td>\n",
       "      <td>21.700000</td>\n",
       "      <td>21.300000</td>\n",
       "      <td>21.400000</td>\n",
       "    </tr>\n",
       "    <tr>\n",
       "      <th>75%</th>\n",
       "      <td>100.000000</td>\n",
       "      <td>23.300000</td>\n",
       "      <td>23.100000</td>\n",
       "      <td>24.125000</td>\n",
       "      <td>23.200000</td>\n",
       "      <td>23.600000</td>\n",
       "    </tr>\n",
       "    <tr>\n",
       "      <th>max</th>\n",
       "      <td>100.000000</td>\n",
       "      <td>25.500000</td>\n",
       "      <td>25.300000</td>\n",
       "      <td>26.000000</td>\n",
       "      <td>24.900000</td>\n",
       "      <td>25.500000</td>\n",
       "    </tr>\n",
       "  </tbody>\n",
       "</table>\n",
       "</div>"
      ],
      "text/plain": [
       "       Participation    English       Math    Reading    Science  Composite\n",
       "count      52.000000  52.000000  52.000000  52.000000  52.000000  52.000000\n",
       "mean       65.153846  20.919231  21.173077  22.001923  21.453846  21.509615\n",
       "std        31.832518   2.332132   1.963602   2.048672   1.737303   2.002083\n",
       "min         8.000000  16.300000  18.000000  18.100000  18.200000  17.800000\n",
       "25%        31.000000  19.000000  19.400000  20.475000  19.975000  19.800000\n",
       "50%        68.000000  20.550000  20.900000  21.700000  21.300000  21.400000\n",
       "75%       100.000000  23.300000  23.100000  24.125000  23.200000  23.600000\n",
       "max       100.000000  25.500000  25.300000  26.000000  24.900000  25.500000"
      ]
     },
     "execution_count": 33,
     "metadata": {},
     "output_type": "execute_result"
    }
   ],
   "source": [
    "act_2017.describe()\n",
    "# wide range in participation rate among states is within expectation"
   ]
  },
  {
   "cell_type": "markdown",
   "metadata": {},
   "source": [
    "### 1.7. Rename Columns\n",
    "Change the names of the columns to more expressive names so that you can tell the difference the SAT columns and the ACT columns. Your solution should map all column names being changed at once (no repeated singular name-changes). **We will be combining these data with some of the data from 2018, and so you should name columns in an appropriate way**.\n",
    "\n",
    "**Guidelines**:\n",
    "- Column names should be all lowercase (you will thank yourself when you start pushing data to SQL later in the course)\n",
    "- Column names should not contain spaces (underscores will suffice--this allows for using the `df.column_name` method to access columns in addition to `df['column_name']`.\n",
    "- Column names should be unique and informative (the only feature that we actually share between dataframes is the state)."
   ]
  },
  {
   "cell_type": "code",
   "execution_count": 34,
   "metadata": {
    "scrolled": false
   },
   "outputs": [
    {
     "data": {
      "text/html": [
       "<div>\n",
       "<style scoped>\n",
       "    .dataframe tbody tr th:only-of-type {\n",
       "        vertical-align: middle;\n",
       "    }\n",
       "\n",
       "    .dataframe tbody tr th {\n",
       "        vertical-align: top;\n",
       "    }\n",
       "\n",
       "    .dataframe thead th {\n",
       "        text-align: right;\n",
       "    }\n",
       "</style>\n",
       "<table border=\"1\" class=\"dataframe\">\n",
       "  <thead>\n",
       "    <tr style=\"text-align: right;\">\n",
       "      <th></th>\n",
       "      <th>state</th>\n",
       "      <th>sat_17_par</th>\n",
       "      <th>sat_17_readwrite</th>\n",
       "      <th>sat_17_math</th>\n",
       "      <th>sat_17_total</th>\n",
       "    </tr>\n",
       "  </thead>\n",
       "  <tbody>\n",
       "    <tr>\n",
       "      <th>0</th>\n",
       "      <td>Alabama</td>\n",
       "      <td>5.0</td>\n",
       "      <td>593</td>\n",
       "      <td>572</td>\n",
       "      <td>1165</td>\n",
       "    </tr>\n",
       "    <tr>\n",
       "      <th>1</th>\n",
       "      <td>Alaska</td>\n",
       "      <td>38.0</td>\n",
       "      <td>547</td>\n",
       "      <td>533</td>\n",
       "      <td>1080</td>\n",
       "    </tr>\n",
       "    <tr>\n",
       "      <th>2</th>\n",
       "      <td>Arizona</td>\n",
       "      <td>30.0</td>\n",
       "      <td>563</td>\n",
       "      <td>553</td>\n",
       "      <td>1116</td>\n",
       "    </tr>\n",
       "    <tr>\n",
       "      <th>3</th>\n",
       "      <td>Arkansas</td>\n",
       "      <td>3.0</td>\n",
       "      <td>614</td>\n",
       "      <td>594</td>\n",
       "      <td>1208</td>\n",
       "    </tr>\n",
       "    <tr>\n",
       "      <th>4</th>\n",
       "      <td>California</td>\n",
       "      <td>53.0</td>\n",
       "      <td>531</td>\n",
       "      <td>524</td>\n",
       "      <td>1055</td>\n",
       "    </tr>\n",
       "  </tbody>\n",
       "</table>\n",
       "</div>"
      ],
      "text/plain": [
       "        state  sat_17_par  sat_17_readwrite  sat_17_math  sat_17_total\n",
       "0     Alabama         5.0               593          572          1165\n",
       "1      Alaska        38.0               547          533          1080\n",
       "2     Arizona        30.0               563          553          1116\n",
       "3    Arkansas         3.0               614          594          1208\n",
       "4  California        53.0               531          524          1055"
      ]
     },
     "execution_count": 34,
     "metadata": {},
     "output_type": "execute_result"
    }
   ],
   "source": [
    "#code\n",
    "sat_2017 = sat_2017.rename(columns = {'State': 'state', \n",
    "                           'Participation': 'sat_17_par', \n",
    "                           'Evidence-Based Reading and Writing':'sat_17_readwrite', \n",
    "                           'Math':'sat_17_math',\n",
    "                           'Total':'sat_17_total'\n",
    "                                     })\n",
    "sat_2017.head()"
   ]
  },
  {
   "cell_type": "code",
   "execution_count": 35,
   "metadata": {},
   "outputs": [
    {
     "data": {
      "text/html": [
       "<div>\n",
       "<style scoped>\n",
       "    .dataframe tbody tr th:only-of-type {\n",
       "        vertical-align: middle;\n",
       "    }\n",
       "\n",
       "    .dataframe tbody tr th {\n",
       "        vertical-align: top;\n",
       "    }\n",
       "\n",
       "    .dataframe thead th {\n",
       "        text-align: right;\n",
       "    }\n",
       "</style>\n",
       "<table border=\"1\" class=\"dataframe\">\n",
       "  <thead>\n",
       "    <tr style=\"text-align: right;\">\n",
       "      <th></th>\n",
       "      <th>State</th>\n",
       "      <th>Participation</th>\n",
       "      <th>English</th>\n",
       "      <th>Math</th>\n",
       "      <th>Reading</th>\n",
       "      <th>Science</th>\n",
       "      <th>Composite</th>\n",
       "    </tr>\n",
       "  </thead>\n",
       "  <tbody>\n",
       "    <tr>\n",
       "      <th>0</th>\n",
       "      <td>National</td>\n",
       "      <td>60.0</td>\n",
       "      <td>20.3</td>\n",
       "      <td>20.7</td>\n",
       "      <td>21.4</td>\n",
       "      <td>21.0</td>\n",
       "      <td>21.0</td>\n",
       "    </tr>\n",
       "    <tr>\n",
       "      <th>1</th>\n",
       "      <td>Alabama</td>\n",
       "      <td>100.0</td>\n",
       "      <td>18.9</td>\n",
       "      <td>18.4</td>\n",
       "      <td>19.7</td>\n",
       "      <td>19.4</td>\n",
       "      <td>19.2</td>\n",
       "    </tr>\n",
       "    <tr>\n",
       "      <th>2</th>\n",
       "      <td>Alaska</td>\n",
       "      <td>65.0</td>\n",
       "      <td>18.7</td>\n",
       "      <td>19.8</td>\n",
       "      <td>20.4</td>\n",
       "      <td>19.9</td>\n",
       "      <td>19.8</td>\n",
       "    </tr>\n",
       "    <tr>\n",
       "      <th>3</th>\n",
       "      <td>Arizona</td>\n",
       "      <td>62.0</td>\n",
       "      <td>18.6</td>\n",
       "      <td>19.8</td>\n",
       "      <td>20.1</td>\n",
       "      <td>19.8</td>\n",
       "      <td>19.7</td>\n",
       "    </tr>\n",
       "    <tr>\n",
       "      <th>4</th>\n",
       "      <td>Arkansas</td>\n",
       "      <td>100.0</td>\n",
       "      <td>18.9</td>\n",
       "      <td>19.0</td>\n",
       "      <td>19.7</td>\n",
       "      <td>19.5</td>\n",
       "      <td>19.4</td>\n",
       "    </tr>\n",
       "  </tbody>\n",
       "</table>\n",
       "</div>"
      ],
      "text/plain": [
       "      State  Participation  English  Math  Reading  Science  Composite\n",
       "0  National           60.0     20.3  20.7     21.4     21.0       21.0\n",
       "1   Alabama          100.0     18.9  18.4     19.7     19.4       19.2\n",
       "2    Alaska           65.0     18.7  19.8     20.4     19.9       19.8\n",
       "3   Arizona           62.0     18.6  19.8     20.1     19.8       19.7\n",
       "4  Arkansas          100.0     18.9  19.0     19.7     19.5       19.4"
      ]
     },
     "execution_count": 35,
     "metadata": {},
     "output_type": "execute_result"
    }
   ],
   "source": [
    "act_2017.head()"
   ]
  },
  {
   "cell_type": "code",
   "execution_count": 36,
   "metadata": {},
   "outputs": [
    {
     "data": {
      "text/html": [
       "<div>\n",
       "<style scoped>\n",
       "    .dataframe tbody tr th:only-of-type {\n",
       "        vertical-align: middle;\n",
       "    }\n",
       "\n",
       "    .dataframe tbody tr th {\n",
       "        vertical-align: top;\n",
       "    }\n",
       "\n",
       "    .dataframe thead th {\n",
       "        text-align: right;\n",
       "    }\n",
       "</style>\n",
       "<table border=\"1\" class=\"dataframe\">\n",
       "  <thead>\n",
       "    <tr style=\"text-align: right;\">\n",
       "      <th></th>\n",
       "      <th>state</th>\n",
       "      <th>act_17_par</th>\n",
       "      <th>act_17_eng</th>\n",
       "      <th>act_17_math</th>\n",
       "      <th>act_17_read</th>\n",
       "      <th>act_17_sci</th>\n",
       "      <th>act_17_compo</th>\n",
       "    </tr>\n",
       "  </thead>\n",
       "  <tbody>\n",
       "    <tr>\n",
       "      <th>0</th>\n",
       "      <td>National</td>\n",
       "      <td>60.0</td>\n",
       "      <td>20.3</td>\n",
       "      <td>20.7</td>\n",
       "      <td>21.4</td>\n",
       "      <td>21.0</td>\n",
       "      <td>21.0</td>\n",
       "    </tr>\n",
       "    <tr>\n",
       "      <th>1</th>\n",
       "      <td>Alabama</td>\n",
       "      <td>100.0</td>\n",
       "      <td>18.9</td>\n",
       "      <td>18.4</td>\n",
       "      <td>19.7</td>\n",
       "      <td>19.4</td>\n",
       "      <td>19.2</td>\n",
       "    </tr>\n",
       "    <tr>\n",
       "      <th>2</th>\n",
       "      <td>Alaska</td>\n",
       "      <td>65.0</td>\n",
       "      <td>18.7</td>\n",
       "      <td>19.8</td>\n",
       "      <td>20.4</td>\n",
       "      <td>19.9</td>\n",
       "      <td>19.8</td>\n",
       "    </tr>\n",
       "    <tr>\n",
       "      <th>3</th>\n",
       "      <td>Arizona</td>\n",
       "      <td>62.0</td>\n",
       "      <td>18.6</td>\n",
       "      <td>19.8</td>\n",
       "      <td>20.1</td>\n",
       "      <td>19.8</td>\n",
       "      <td>19.7</td>\n",
       "    </tr>\n",
       "    <tr>\n",
       "      <th>4</th>\n",
       "      <td>Arkansas</td>\n",
       "      <td>100.0</td>\n",
       "      <td>18.9</td>\n",
       "      <td>19.0</td>\n",
       "      <td>19.7</td>\n",
       "      <td>19.5</td>\n",
       "      <td>19.4</td>\n",
       "    </tr>\n",
       "  </tbody>\n",
       "</table>\n",
       "</div>"
      ],
      "text/plain": [
       "      state  act_17_par  act_17_eng  act_17_math  act_17_read  act_17_sci  \\\n",
       "0  National        60.0        20.3         20.7         21.4        21.0   \n",
       "1   Alabama       100.0        18.9         18.4         19.7        19.4   \n",
       "2    Alaska        65.0        18.7         19.8         20.4        19.9   \n",
       "3   Arizona        62.0        18.6         19.8         20.1        19.8   \n",
       "4  Arkansas       100.0        18.9         19.0         19.7        19.5   \n",
       "\n",
       "   act_17_compo  \n",
       "0          21.0  \n",
       "1          19.2  \n",
       "2          19.8  \n",
       "3          19.7  \n",
       "4          19.4  "
      ]
     },
     "execution_count": 36,
     "metadata": {},
     "output_type": "execute_result"
    }
   ],
   "source": [
    "act_2017 = act_2017.rename(columns = {'State': 'state', \n",
    "                                      'Participation': 'act_17_par', \n",
    "                                      'English':'act_17_eng', \n",
    "                                      'Math':'act_17_math',\n",
    "                                      'Reading':'act_17_read',\n",
    "                                      'Science':'act_17_sci',\n",
    "                                      'Composite':'act_17_compo'\n",
    "                                     })\n",
    "act_2017.head()"
   ]
  },
  {
   "cell_type": "markdown",
   "metadata": {},
   "source": [
    "### 1.8. Create a data dictionary\n",
    "\n",
    "Now that we've fixed our data, and given it appropriate names, let's create a [data dictionary](http://library.ucmerced.edu/node/10249). \n",
    "\n",
    "A data dictionary provides a quick overview of features/variables/columns, alongside data types and descriptions. The more descriptive you can be, the more useful this document is.\n",
    "\n",
    "Example of a Fictional Data Dictionary Entry: \n",
    "\n",
    "|Feature|Type|Dataset|Description|\n",
    "|---|---|---|---|\n",
    "|**county_pop**|*integer*|2010 census|The population of the county (units in thousands, where 2.5 represents 2500 people).| \n",
    "|**per_poverty**|*float*|2010 census|The percent of the county over the age of 18 living below the 200% of official US poverty rate (units percent to two decimal places 98.10 means 98.1%)|\n",
    "\n",
    "[Here's a quick link to a short guide for formatting markdown in Jupyter notebooks](https://jupyter-notebook.readthedocs.io/en/stable/examples/Notebook/Working%20With%20Markdown%20Cells.html).\n",
    "\n",
    "Provided is the skeleton for formatting a markdown table, with columns headers that will help you create a data dictionary to quickly summarize your data, as well as some examples. **This would be a great thing to copy and paste into your custom README for this project.**"
   ]
  },
  {
   "cell_type": "markdown",
   "metadata": {},
   "source": [
    "|Feature|Type|Dataset|Description|\n",
    "|---|---|---|---|\n",
    "|column name|int/float/object|ACT/SAT|This is an example| \n"
   ]
  },
  {
   "cell_type": "markdown",
   "metadata": {},
   "source": [
    "#### my data dictionary\n",
    "\n",
    "|Feature|Type|Dataset|Description|\n",
    "|---|---|---|---|\n",
    "|state|object|sat_2017/ act_2017|State of USA|\n",
    "|sat_17_par|float|sat_2017|participation rate for SAT 2017|\n",
    "|sat_17_readwrite|int|sat_2017|state average score for SAT 2017 Reading and Writing|\n",
    "|sat_17_math|int|sat_2017|state average score for SAT 2017 Mathematics|\n",
    "|sat_17_total|int|sat_2017|state average of total score for SAT 2017|\n",
    "|act_17_par|float|sat_2017|participation rate for SAT 2017|\n",
    "|act_17_eng|float|act_2017|state average score for ACT 2017 English|\n",
    "|act_17_math|float|act_2017|state average score for ACT 2017 Math|\n",
    "|act_17_read|float|act_2017|state average score for ACT 2017 Reading|\n",
    "|act_17_sci|float|act_2017|state average score for ACT 2017 Science|\n",
    "|act_17_compo|float|act_2017|state average of composite score for ACT 2017|\n",
    "|sat_change_par|float|final|change in SAT participation rate from 2017 to 2018|\n",
    "|act_change_par|float|final|change in ACT participation rate from 2017 to 2018|\n",
    "|avg_income_17|int|income_schools|average personal income per capita by state 2017|\n",
    "|avg_income_18|int|income_schools|average personal income per capita by state 2018|\n",
    "|income_group_17|category|income_schools|income groups \"low\", \"medium and \"high\"|\n",
    "|income_group_18|category|income_schools|income groups \"low\", \"medium and \"high\"|\n",
    "|num_sch|float|income_schools|number of 4 year universities by state|"
   ]
  },
  {
   "cell_type": "markdown",
   "metadata": {},
   "source": [
    "### 1.9. Drop unnecessary rows\n",
    "\n",
    "One of our dataframes contains an extra row. Identify and remove this from the dataframe."
   ]
  },
  {
   "cell_type": "code",
   "execution_count": 37,
   "metadata": {},
   "outputs": [],
   "source": [
    "# remove row for National mean scores\n",
    "act_2017 = act_2017.drop([0])"
   ]
  },
  {
   "cell_type": "markdown",
   "metadata": {},
   "source": [
    "### 1.10. Merge Dataframes\n",
    "\n",
    "Join the 2017 ACT and SAT dataframes using the state in each dataframe as the key. Assign this to a new variable."
   ]
  },
  {
   "cell_type": "code",
   "execution_count": 38,
   "metadata": {},
   "outputs": [],
   "source": [
    "#Code:\n",
    "combined_2017 = sat_2017.merge(act_2017, on = 'state')"
   ]
  },
  {
   "cell_type": "code",
   "execution_count": 39,
   "metadata": {},
   "outputs": [
    {
     "data": {
      "text/html": [
       "<div>\n",
       "<style scoped>\n",
       "    .dataframe tbody tr th:only-of-type {\n",
       "        vertical-align: middle;\n",
       "    }\n",
       "\n",
       "    .dataframe tbody tr th {\n",
       "        vertical-align: top;\n",
       "    }\n",
       "\n",
       "    .dataframe thead th {\n",
       "        text-align: right;\n",
       "    }\n",
       "</style>\n",
       "<table border=\"1\" class=\"dataframe\">\n",
       "  <thead>\n",
       "    <tr style=\"text-align: right;\">\n",
       "      <th></th>\n",
       "      <th>state</th>\n",
       "      <th>sat_17_par</th>\n",
       "      <th>sat_17_readwrite</th>\n",
       "      <th>sat_17_math</th>\n",
       "      <th>sat_17_total</th>\n",
       "      <th>act_17_par</th>\n",
       "      <th>act_17_eng</th>\n",
       "      <th>act_17_math</th>\n",
       "      <th>act_17_read</th>\n",
       "      <th>act_17_sci</th>\n",
       "      <th>act_17_compo</th>\n",
       "    </tr>\n",
       "  </thead>\n",
       "  <tbody>\n",
       "    <tr>\n",
       "      <th>0</th>\n",
       "      <td>Alabama</td>\n",
       "      <td>5.0</td>\n",
       "      <td>593</td>\n",
       "      <td>572</td>\n",
       "      <td>1165</td>\n",
       "      <td>100.0</td>\n",
       "      <td>18.9</td>\n",
       "      <td>18.4</td>\n",
       "      <td>19.7</td>\n",
       "      <td>19.4</td>\n",
       "      <td>19.2</td>\n",
       "    </tr>\n",
       "    <tr>\n",
       "      <th>1</th>\n",
       "      <td>Alaska</td>\n",
       "      <td>38.0</td>\n",
       "      <td>547</td>\n",
       "      <td>533</td>\n",
       "      <td>1080</td>\n",
       "      <td>65.0</td>\n",
       "      <td>18.7</td>\n",
       "      <td>19.8</td>\n",
       "      <td>20.4</td>\n",
       "      <td>19.9</td>\n",
       "      <td>19.8</td>\n",
       "    </tr>\n",
       "    <tr>\n",
       "      <th>2</th>\n",
       "      <td>Arizona</td>\n",
       "      <td>30.0</td>\n",
       "      <td>563</td>\n",
       "      <td>553</td>\n",
       "      <td>1116</td>\n",
       "      <td>62.0</td>\n",
       "      <td>18.6</td>\n",
       "      <td>19.8</td>\n",
       "      <td>20.1</td>\n",
       "      <td>19.8</td>\n",
       "      <td>19.7</td>\n",
       "    </tr>\n",
       "    <tr>\n",
       "      <th>3</th>\n",
       "      <td>Arkansas</td>\n",
       "      <td>3.0</td>\n",
       "      <td>614</td>\n",
       "      <td>594</td>\n",
       "      <td>1208</td>\n",
       "      <td>100.0</td>\n",
       "      <td>18.9</td>\n",
       "      <td>19.0</td>\n",
       "      <td>19.7</td>\n",
       "      <td>19.5</td>\n",
       "      <td>19.4</td>\n",
       "    </tr>\n",
       "    <tr>\n",
       "      <th>4</th>\n",
       "      <td>California</td>\n",
       "      <td>53.0</td>\n",
       "      <td>531</td>\n",
       "      <td>524</td>\n",
       "      <td>1055</td>\n",
       "      <td>31.0</td>\n",
       "      <td>22.5</td>\n",
       "      <td>22.7</td>\n",
       "      <td>23.1</td>\n",
       "      <td>22.2</td>\n",
       "      <td>22.8</td>\n",
       "    </tr>\n",
       "  </tbody>\n",
       "</table>\n",
       "</div>"
      ],
      "text/plain": [
       "        state  sat_17_par  sat_17_readwrite  sat_17_math  sat_17_total  \\\n",
       "0     Alabama         5.0               593          572          1165   \n",
       "1      Alaska        38.0               547          533          1080   \n",
       "2     Arizona        30.0               563          553          1116   \n",
       "3    Arkansas         3.0               614          594          1208   \n",
       "4  California        53.0               531          524          1055   \n",
       "\n",
       "   act_17_par  act_17_eng  act_17_math  act_17_read  act_17_sci  act_17_compo  \n",
       "0       100.0        18.9         18.4         19.7        19.4          19.2  \n",
       "1        65.0        18.7         19.8         20.4        19.9          19.8  \n",
       "2        62.0        18.6         19.8         20.1        19.8          19.7  \n",
       "3       100.0        18.9         19.0         19.7        19.5          19.4  \n",
       "4        31.0        22.5         22.7         23.1        22.2          22.8  "
      ]
     },
     "execution_count": 39,
     "metadata": {},
     "output_type": "execute_result"
    }
   ],
   "source": [
    "combined_2017.head()"
   ]
  },
  {
   "cell_type": "markdown",
   "metadata": {},
   "source": [
    "### 1.11. Save your cleaned, merged dataframe\n",
    "\n",
    "Use a relative path to save out your data as `combined_2017.csv`."
   ]
  },
  {
   "cell_type": "code",
   "execution_count": 40,
   "metadata": {},
   "outputs": [],
   "source": [
    "# writing new csv\n",
    "combined_2017.to_csv('../data/combined_2017.csv')"
   ]
  },
  {
   "cell_type": "markdown",
   "metadata": {},
   "source": [
    "## 2. 2018 Data Import and Cleaning"
   ]
  },
  {
   "cell_type": "markdown",
   "metadata": {},
   "source": [
    "Links to the 2018 ACT and SAT data are provided in the README. These data live in PDFs, and so you'll get to enjoy practicing some *manual* data collection. Save these data as a CSV in your `data` directory, and import, explore, and clean these data in the same way you did above. **Make sure you comment on your steps so it is clear *why* you are doing each process**."
   ]
  },
  {
   "cell_type": "markdown",
   "metadata": {},
   "source": [
    "### 2.1. Preparation for 2018 Data "
   ]
  },
  {
   "cell_type": "code",
   "execution_count": 41,
   "metadata": {},
   "outputs": [],
   "source": [
    "sat_2018 = pd.read_csv('../data/sat_2018.csv')\n",
    "act_2018 = pd.read_csv('../data/act_2018.csv')"
   ]
  },
  {
   "cell_type": "code",
   "execution_count": 42,
   "metadata": {
    "scrolled": true
   },
   "outputs": [
    {
     "data": {
      "text/plain": [
       "State                                 object\n",
       "Participation                         object\n",
       "Evidence-Based Reading and Writing     int64\n",
       "Math                                   int64\n",
       "Total                                  int64\n",
       "dtype: object"
      ]
     },
     "execution_count": 42,
     "metadata": {},
     "output_type": "execute_result"
    }
   ],
   "source": [
    "# check data types\n",
    "sat_2018.dtypes\n",
    "# 'Participation' needs to be converted as before"
   ]
  },
  {
   "cell_type": "code",
   "execution_count": 43,
   "metadata": {},
   "outputs": [
    {
     "data": {
      "text/html": [
       "<div>\n",
       "<style scoped>\n",
       "    .dataframe tbody tr th:only-of-type {\n",
       "        vertical-align: middle;\n",
       "    }\n",
       "\n",
       "    .dataframe tbody tr th {\n",
       "        vertical-align: top;\n",
       "    }\n",
       "\n",
       "    .dataframe thead th {\n",
       "        text-align: right;\n",
       "    }\n",
       "</style>\n",
       "<table border=\"1\" class=\"dataframe\">\n",
       "  <thead>\n",
       "    <tr style=\"text-align: right;\">\n",
       "      <th></th>\n",
       "      <th>Evidence-Based Reading and Writing</th>\n",
       "      <th>Math</th>\n",
       "      <th>Total</th>\n",
       "    </tr>\n",
       "  </thead>\n",
       "  <tbody>\n",
       "    <tr>\n",
       "      <th>count</th>\n",
       "      <td>51.000000</td>\n",
       "      <td>51.000000</td>\n",
       "      <td>51.000000</td>\n",
       "    </tr>\n",
       "    <tr>\n",
       "      <th>mean</th>\n",
       "      <td>563.686275</td>\n",
       "      <td>556.235294</td>\n",
       "      <td>1120.019608</td>\n",
       "    </tr>\n",
       "    <tr>\n",
       "      <th>std</th>\n",
       "      <td>47.502627</td>\n",
       "      <td>47.772623</td>\n",
       "      <td>94.155083</td>\n",
       "    </tr>\n",
       "    <tr>\n",
       "      <th>min</th>\n",
       "      <td>480.000000</td>\n",
       "      <td>480.000000</td>\n",
       "      <td>977.000000</td>\n",
       "    </tr>\n",
       "    <tr>\n",
       "      <th>25%</th>\n",
       "      <td>534.500000</td>\n",
       "      <td>522.500000</td>\n",
       "      <td>1057.500000</td>\n",
       "    </tr>\n",
       "    <tr>\n",
       "      <th>50%</th>\n",
       "      <td>552.000000</td>\n",
       "      <td>544.000000</td>\n",
       "      <td>1098.000000</td>\n",
       "    </tr>\n",
       "    <tr>\n",
       "      <th>75%</th>\n",
       "      <td>610.500000</td>\n",
       "      <td>593.500000</td>\n",
       "      <td>1204.000000</td>\n",
       "    </tr>\n",
       "    <tr>\n",
       "      <th>max</th>\n",
       "      <td>643.000000</td>\n",
       "      <td>655.000000</td>\n",
       "      <td>1298.000000</td>\n",
       "    </tr>\n",
       "  </tbody>\n",
       "</table>\n",
       "</div>"
      ],
      "text/plain": [
       "       Evidence-Based Reading and Writing        Math        Total\n",
       "count                           51.000000   51.000000    51.000000\n",
       "mean                           563.686275  556.235294  1120.019608\n",
       "std                             47.502627   47.772623    94.155083\n",
       "min                            480.000000  480.000000   977.000000\n",
       "25%                            534.500000  522.500000  1057.500000\n",
       "50%                            552.000000  544.000000  1098.000000\n",
       "75%                            610.500000  593.500000  1204.000000\n",
       "max                            643.000000  655.000000  1298.000000"
      ]
     },
     "execution_count": 43,
     "metadata": {},
     "output_type": "execute_result"
    }
   ],
   "source": [
    "sat_2018.describe()\n",
    "# no apparent outliers in sat_2018"
   ]
  },
  {
   "cell_type": "code",
   "execution_count": 44,
   "metadata": {},
   "outputs": [
    {
     "data": {
      "text/plain": [
       "State                             object\n",
       "Percentage of Students Tested      int64\n",
       "Average Composite Score          float64\n",
       "Average English Score            float64\n",
       "Average Math Score               float64\n",
       "Average Reading Score            float64\n",
       "Average Science Score            float64\n",
       "dtype: object"
      ]
     },
     "execution_count": 44,
     "metadata": {},
     "output_type": "execute_result"
    }
   ],
   "source": [
    "act_2018.dtypes"
   ]
  },
  {
   "cell_type": "code",
   "execution_count": 45,
   "metadata": {},
   "outputs": [
    {
     "data": {
      "text/html": [
       "<div>\n",
       "<style scoped>\n",
       "    .dataframe tbody tr th:only-of-type {\n",
       "        vertical-align: middle;\n",
       "    }\n",
       "\n",
       "    .dataframe tbody tr th {\n",
       "        vertical-align: top;\n",
       "    }\n",
       "\n",
       "    .dataframe thead th {\n",
       "        text-align: right;\n",
       "    }\n",
       "</style>\n",
       "<table border=\"1\" class=\"dataframe\">\n",
       "  <thead>\n",
       "    <tr style=\"text-align: right;\">\n",
       "      <th></th>\n",
       "      <th>Percentage of Students Tested</th>\n",
       "      <th>Average Composite Score</th>\n",
       "      <th>Average English Score</th>\n",
       "      <th>Average Math Score</th>\n",
       "      <th>Average Reading Score</th>\n",
       "      <th>Average Science Score</th>\n",
       "    </tr>\n",
       "  </thead>\n",
       "  <tbody>\n",
       "    <tr>\n",
       "      <th>count</th>\n",
       "      <td>51.000000</td>\n",
       "      <td>51.000000</td>\n",
       "      <td>51.000000</td>\n",
       "      <td>51.000000</td>\n",
       "      <td>51.000000</td>\n",
       "      <td>51.000000</td>\n",
       "    </tr>\n",
       "    <tr>\n",
       "      <th>mean</th>\n",
       "      <td>61.647059</td>\n",
       "      <td>21.486275</td>\n",
       "      <td>20.988235</td>\n",
       "      <td>21.125490</td>\n",
       "      <td>22.015686</td>\n",
       "      <td>21.345098</td>\n",
       "    </tr>\n",
       "    <tr>\n",
       "      <th>std</th>\n",
       "      <td>34.080976</td>\n",
       "      <td>2.106278</td>\n",
       "      <td>2.446356</td>\n",
       "      <td>2.035765</td>\n",
       "      <td>2.167245</td>\n",
       "      <td>1.870114</td>\n",
       "    </tr>\n",
       "    <tr>\n",
       "      <th>min</th>\n",
       "      <td>7.000000</td>\n",
       "      <td>17.700000</td>\n",
       "      <td>16.600000</td>\n",
       "      <td>17.800000</td>\n",
       "      <td>18.000000</td>\n",
       "      <td>17.900000</td>\n",
       "    </tr>\n",
       "    <tr>\n",
       "      <th>25%</th>\n",
       "      <td>28.500000</td>\n",
       "      <td>19.950000</td>\n",
       "      <td>19.100000</td>\n",
       "      <td>19.400000</td>\n",
       "      <td>20.450000</td>\n",
       "      <td>19.850000</td>\n",
       "    </tr>\n",
       "    <tr>\n",
       "      <th>50%</th>\n",
       "      <td>66.000000</td>\n",
       "      <td>21.300000</td>\n",
       "      <td>20.200000</td>\n",
       "      <td>20.700000</td>\n",
       "      <td>21.600000</td>\n",
       "      <td>21.100000</td>\n",
       "    </tr>\n",
       "    <tr>\n",
       "      <th>75%</th>\n",
       "      <td>100.000000</td>\n",
       "      <td>23.550000</td>\n",
       "      <td>23.700000</td>\n",
       "      <td>23.150000</td>\n",
       "      <td>24.100000</td>\n",
       "      <td>23.050000</td>\n",
       "    </tr>\n",
       "    <tr>\n",
       "      <th>max</th>\n",
       "      <td>100.000000</td>\n",
       "      <td>25.600000</td>\n",
       "      <td>26.000000</td>\n",
       "      <td>25.200000</td>\n",
       "      <td>26.100000</td>\n",
       "      <td>24.900000</td>\n",
       "    </tr>\n",
       "  </tbody>\n",
       "</table>\n",
       "</div>"
      ],
      "text/plain": [
       "       Percentage of Students Tested  Average Composite Score  \\\n",
       "count                      51.000000                51.000000   \n",
       "mean                       61.647059                21.486275   \n",
       "std                        34.080976                 2.106278   \n",
       "min                         7.000000                17.700000   \n",
       "25%                        28.500000                19.950000   \n",
       "50%                        66.000000                21.300000   \n",
       "75%                       100.000000                23.550000   \n",
       "max                       100.000000                25.600000   \n",
       "\n",
       "       Average English Score  Average Math Score  Average Reading Score  \\\n",
       "count              51.000000           51.000000              51.000000   \n",
       "mean               20.988235           21.125490              22.015686   \n",
       "std                 2.446356            2.035765               2.167245   \n",
       "min                16.600000           17.800000              18.000000   \n",
       "25%                19.100000           19.400000              20.450000   \n",
       "50%                20.200000           20.700000              21.600000   \n",
       "75%                23.700000           23.150000              24.100000   \n",
       "max                26.000000           25.200000              26.100000   \n",
       "\n",
       "       Average Science Score  \n",
       "count              51.000000  \n",
       "mean               21.345098  \n",
       "std                 1.870114  \n",
       "min                17.900000  \n",
       "25%                19.850000  \n",
       "50%                21.100000  \n",
       "75%                23.050000  \n",
       "max                24.900000  "
      ]
     },
     "execution_count": 45,
     "metadata": {},
     "output_type": "execute_result"
    }
   ],
   "source": [
    "act_2018.describe()\n",
    "# no apparent outliers in act_2018"
   ]
  },
  {
   "cell_type": "code",
   "execution_count": 46,
   "metadata": {},
   "outputs": [],
   "source": [
    "# same as before, but participation rate for act_2018 is already of numeric type\n",
    "sat_2018['Participation'] = sat_2018['Participation'].map(par_to_numeric)"
   ]
  },
  {
   "cell_type": "code",
   "execution_count": 47,
   "metadata": {},
   "outputs": [
    {
     "data": {
      "text/html": [
       "<div>\n",
       "<style scoped>\n",
       "    .dataframe tbody tr th:only-of-type {\n",
       "        vertical-align: middle;\n",
       "    }\n",
       "\n",
       "    .dataframe tbody tr th {\n",
       "        vertical-align: top;\n",
       "    }\n",
       "\n",
       "    .dataframe thead th {\n",
       "        text-align: right;\n",
       "    }\n",
       "</style>\n",
       "<table border=\"1\" class=\"dataframe\">\n",
       "  <thead>\n",
       "    <tr style=\"text-align: right;\">\n",
       "      <th></th>\n",
       "      <th>State</th>\n",
       "      <th>Participation</th>\n",
       "      <th>Evidence-Based Reading and Writing</th>\n",
       "      <th>Math</th>\n",
       "      <th>Total</th>\n",
       "    </tr>\n",
       "  </thead>\n",
       "  <tbody>\n",
       "    <tr>\n",
       "      <th>0</th>\n",
       "      <td>Alabama</td>\n",
       "      <td>6.0</td>\n",
       "      <td>595</td>\n",
       "      <td>571</td>\n",
       "      <td>1166</td>\n",
       "    </tr>\n",
       "    <tr>\n",
       "      <th>1</th>\n",
       "      <td>Alaska</td>\n",
       "      <td>43.0</td>\n",
       "      <td>562</td>\n",
       "      <td>544</td>\n",
       "      <td>1106</td>\n",
       "    </tr>\n",
       "    <tr>\n",
       "      <th>2</th>\n",
       "      <td>Arizona</td>\n",
       "      <td>29.0</td>\n",
       "      <td>577</td>\n",
       "      <td>572</td>\n",
       "      <td>1149</td>\n",
       "    </tr>\n",
       "    <tr>\n",
       "      <th>3</th>\n",
       "      <td>Arkansas</td>\n",
       "      <td>5.0</td>\n",
       "      <td>592</td>\n",
       "      <td>576</td>\n",
       "      <td>1169</td>\n",
       "    </tr>\n",
       "    <tr>\n",
       "      <th>4</th>\n",
       "      <td>California</td>\n",
       "      <td>60.0</td>\n",
       "      <td>540</td>\n",
       "      <td>536</td>\n",
       "      <td>1076</td>\n",
       "    </tr>\n",
       "  </tbody>\n",
       "</table>\n",
       "</div>"
      ],
      "text/plain": [
       "        State  Participation  Evidence-Based Reading and Writing  Math  Total\n",
       "0     Alabama            6.0                                 595   571   1166\n",
       "1      Alaska           43.0                                 562   544   1106\n",
       "2     Arizona           29.0                                 577   572   1149\n",
       "3    Arkansas            5.0                                 592   576   1169\n",
       "4  California           60.0                                 540   536   1076"
      ]
     },
     "execution_count": 47,
     "metadata": {},
     "output_type": "execute_result"
    }
   ],
   "source": [
    "sat_2018.head()"
   ]
  },
  {
   "cell_type": "code",
   "execution_count": 48,
   "metadata": {
    "scrolled": true
   },
   "outputs": [
    {
     "data": {
      "text/html": [
       "<div>\n",
       "<style scoped>\n",
       "    .dataframe tbody tr th:only-of-type {\n",
       "        vertical-align: middle;\n",
       "    }\n",
       "\n",
       "    .dataframe tbody tr th {\n",
       "        vertical-align: top;\n",
       "    }\n",
       "\n",
       "    .dataframe thead th {\n",
       "        text-align: right;\n",
       "    }\n",
       "</style>\n",
       "<table border=\"1\" class=\"dataframe\">\n",
       "  <thead>\n",
       "    <tr style=\"text-align: right;\">\n",
       "      <th></th>\n",
       "      <th>state</th>\n",
       "      <th>sat_18_par</th>\n",
       "      <th>sat_18_readwrite</th>\n",
       "      <th>sat_18_math</th>\n",
       "      <th>sat_18_total</th>\n",
       "    </tr>\n",
       "  </thead>\n",
       "  <tbody>\n",
       "    <tr>\n",
       "      <th>0</th>\n",
       "      <td>Alabama</td>\n",
       "      <td>6.0</td>\n",
       "      <td>595</td>\n",
       "      <td>571</td>\n",
       "      <td>1166</td>\n",
       "    </tr>\n",
       "    <tr>\n",
       "      <th>1</th>\n",
       "      <td>Alaska</td>\n",
       "      <td>43.0</td>\n",
       "      <td>562</td>\n",
       "      <td>544</td>\n",
       "      <td>1106</td>\n",
       "    </tr>\n",
       "    <tr>\n",
       "      <th>2</th>\n",
       "      <td>Arizona</td>\n",
       "      <td>29.0</td>\n",
       "      <td>577</td>\n",
       "      <td>572</td>\n",
       "      <td>1149</td>\n",
       "    </tr>\n",
       "    <tr>\n",
       "      <th>3</th>\n",
       "      <td>Arkansas</td>\n",
       "      <td>5.0</td>\n",
       "      <td>592</td>\n",
       "      <td>576</td>\n",
       "      <td>1169</td>\n",
       "    </tr>\n",
       "    <tr>\n",
       "      <th>4</th>\n",
       "      <td>California</td>\n",
       "      <td>60.0</td>\n",
       "      <td>540</td>\n",
       "      <td>536</td>\n",
       "      <td>1076</td>\n",
       "    </tr>\n",
       "  </tbody>\n",
       "</table>\n",
       "</div>"
      ],
      "text/plain": [
       "        state  sat_18_par  sat_18_readwrite  sat_18_math  sat_18_total\n",
       "0     Alabama         6.0               595          571          1166\n",
       "1      Alaska        43.0               562          544          1106\n",
       "2     Arizona        29.0               577          572          1149\n",
       "3    Arkansas         5.0               592          576          1169\n",
       "4  California        60.0               540          536          1076"
      ]
     },
     "execution_count": 48,
     "metadata": {},
     "output_type": "execute_result"
    }
   ],
   "source": [
    "# renaming all columns in same fashion as 2017 datasets\n",
    "sat_2018 = sat_2018.rename(columns = {'State': 'state', \n",
    "                                      'Participation': 'sat_18_par', \n",
    "                                      'Evidence-Based Reading and Writing':'sat_18_readwrite', \n",
    "                                      'Math':'sat_18_math',\n",
    "                                      'Total':'sat_18_total'\n",
    "                                     })\n",
    "sat_2018.head()"
   ]
  },
  {
   "cell_type": "code",
   "execution_count": 49,
   "metadata": {
    "scrolled": true
   },
   "outputs": [
    {
     "data": {
      "text/html": [
       "<div>\n",
       "<style scoped>\n",
       "    .dataframe tbody tr th:only-of-type {\n",
       "        vertical-align: middle;\n",
       "    }\n",
       "\n",
       "    .dataframe tbody tr th {\n",
       "        vertical-align: top;\n",
       "    }\n",
       "\n",
       "    .dataframe thead th {\n",
       "        text-align: right;\n",
       "    }\n",
       "</style>\n",
       "<table border=\"1\" class=\"dataframe\">\n",
       "  <thead>\n",
       "    <tr style=\"text-align: right;\">\n",
       "      <th></th>\n",
       "      <th>state</th>\n",
       "      <th>act_18_par</th>\n",
       "      <th>act_18_compo</th>\n",
       "      <th>act_18_eng</th>\n",
       "      <th>act_18_math</th>\n",
       "      <th>act_18_read</th>\n",
       "      <th>act_18_sci</th>\n",
       "    </tr>\n",
       "  </thead>\n",
       "  <tbody>\n",
       "    <tr>\n",
       "      <th>0</th>\n",
       "      <td>Alabama</td>\n",
       "      <td>100</td>\n",
       "      <td>19.1</td>\n",
       "      <td>18.9</td>\n",
       "      <td>18.3</td>\n",
       "      <td>19.6</td>\n",
       "      <td>19.0</td>\n",
       "    </tr>\n",
       "    <tr>\n",
       "      <th>1</th>\n",
       "      <td>Alaska</td>\n",
       "      <td>33</td>\n",
       "      <td>20.8</td>\n",
       "      <td>19.8</td>\n",
       "      <td>20.6</td>\n",
       "      <td>21.6</td>\n",
       "      <td>20.7</td>\n",
       "    </tr>\n",
       "    <tr>\n",
       "      <th>2</th>\n",
       "      <td>Arizona</td>\n",
       "      <td>66</td>\n",
       "      <td>19.2</td>\n",
       "      <td>18.2</td>\n",
       "      <td>19.4</td>\n",
       "      <td>19.5</td>\n",
       "      <td>19.2</td>\n",
       "    </tr>\n",
       "    <tr>\n",
       "      <th>3</th>\n",
       "      <td>Arkansas</td>\n",
       "      <td>100</td>\n",
       "      <td>19.4</td>\n",
       "      <td>19.1</td>\n",
       "      <td>18.9</td>\n",
       "      <td>19.7</td>\n",
       "      <td>19.4</td>\n",
       "    </tr>\n",
       "    <tr>\n",
       "      <th>4</th>\n",
       "      <td>California</td>\n",
       "      <td>27</td>\n",
       "      <td>22.7</td>\n",
       "      <td>22.5</td>\n",
       "      <td>22.5</td>\n",
       "      <td>23.0</td>\n",
       "      <td>22.1</td>\n",
       "    </tr>\n",
       "  </tbody>\n",
       "</table>\n",
       "</div>"
      ],
      "text/plain": [
       "        state  act_18_par  act_18_compo  act_18_eng  act_18_math  act_18_read  \\\n",
       "0     Alabama         100          19.1        18.9         18.3         19.6   \n",
       "1      Alaska          33          20.8        19.8         20.6         21.6   \n",
       "2     Arizona          66          19.2        18.2         19.4         19.5   \n",
       "3    Arkansas         100          19.4        19.1         18.9         19.7   \n",
       "4  California          27          22.7        22.5         22.5         23.0   \n",
       "\n",
       "   act_18_sci  \n",
       "0        19.0  \n",
       "1        20.7  \n",
       "2        19.2  \n",
       "3        19.4  \n",
       "4        22.1  "
      ]
     },
     "execution_count": 49,
     "metadata": {},
     "output_type": "execute_result"
    }
   ],
   "source": [
    "# renaming all columns in same fashion as 2017 datasets\n",
    "act_2018 = act_2018.rename(columns = {'State': 'state', \n",
    "                                      'Percentage of Students Tested': 'act_18_par', \n",
    "                                      'Average English Score':'act_18_eng', \n",
    "                                      'Average Math Score':'act_18_math',\n",
    "                                      'Average Reading Score':'act_18_read',\n",
    "                                      'Average Science Score':'act_18_sci',\n",
    "                                      'Average Composite Score':'act_18_compo'})\n",
    "\n",
    "act_2018.head()"
   ]
  },
  {
   "cell_type": "code",
   "execution_count": 50,
   "metadata": {},
   "outputs": [
    {
     "data": {
      "text/html": [
       "<div>\n",
       "<style scoped>\n",
       "    .dataframe tbody tr th:only-of-type {\n",
       "        vertical-align: middle;\n",
       "    }\n",
       "\n",
       "    .dataframe tbody tr th {\n",
       "        vertical-align: top;\n",
       "    }\n",
       "\n",
       "    .dataframe thead th {\n",
       "        text-align: right;\n",
       "    }\n",
       "</style>\n",
       "<table border=\"1\" class=\"dataframe\">\n",
       "  <thead>\n",
       "    <tr style=\"text-align: right;\">\n",
       "      <th></th>\n",
       "      <th>state</th>\n",
       "      <th>act_18_par</th>\n",
       "      <th>act_18_eng</th>\n",
       "      <th>act_18_math</th>\n",
       "      <th>act_18_read</th>\n",
       "      <th>act_18_sci</th>\n",
       "      <th>act_18_compo</th>\n",
       "    </tr>\n",
       "  </thead>\n",
       "  <tbody>\n",
       "    <tr>\n",
       "      <th>0</th>\n",
       "      <td>Alabama</td>\n",
       "      <td>100.0</td>\n",
       "      <td>18.9</td>\n",
       "      <td>18.3</td>\n",
       "      <td>19.6</td>\n",
       "      <td>19.0</td>\n",
       "      <td>19.1</td>\n",
       "    </tr>\n",
       "    <tr>\n",
       "      <th>1</th>\n",
       "      <td>Alaska</td>\n",
       "      <td>33.0</td>\n",
       "      <td>19.8</td>\n",
       "      <td>20.6</td>\n",
       "      <td>21.6</td>\n",
       "      <td>20.7</td>\n",
       "      <td>20.8</td>\n",
       "    </tr>\n",
       "    <tr>\n",
       "      <th>2</th>\n",
       "      <td>Arizona</td>\n",
       "      <td>66.0</td>\n",
       "      <td>18.2</td>\n",
       "      <td>19.4</td>\n",
       "      <td>19.5</td>\n",
       "      <td>19.2</td>\n",
       "      <td>19.2</td>\n",
       "    </tr>\n",
       "    <tr>\n",
       "      <th>3</th>\n",
       "      <td>Arkansas</td>\n",
       "      <td>100.0</td>\n",
       "      <td>19.1</td>\n",
       "      <td>18.9</td>\n",
       "      <td>19.7</td>\n",
       "      <td>19.4</td>\n",
       "      <td>19.4</td>\n",
       "    </tr>\n",
       "    <tr>\n",
       "      <th>4</th>\n",
       "      <td>California</td>\n",
       "      <td>27.0</td>\n",
       "      <td>22.5</td>\n",
       "      <td>22.5</td>\n",
       "      <td>23.0</td>\n",
       "      <td>22.1</td>\n",
       "      <td>22.7</td>\n",
       "    </tr>\n",
       "  </tbody>\n",
       "</table>\n",
       "</div>"
      ],
      "text/plain": [
       "        state  act_18_par  act_18_eng  act_18_math  act_18_read  act_18_sci  \\\n",
       "0     Alabama       100.0        18.9         18.3         19.6        19.0   \n",
       "1      Alaska        33.0        19.8         20.6         21.6        20.7   \n",
       "2     Arizona        66.0        18.2         19.4         19.5        19.2   \n",
       "3    Arkansas       100.0        19.1         18.9         19.7        19.4   \n",
       "4  California        27.0        22.5         22.5         23.0        22.1   \n",
       "\n",
       "   act_18_compo  \n",
       "0          19.1  \n",
       "1          20.8  \n",
       "2          19.2  \n",
       "3          19.4  \n",
       "4          22.7  "
      ]
     },
     "execution_count": 50,
     "metadata": {},
     "output_type": "execute_result"
    }
   ],
   "source": [
    "# reordering columns to match act_2017\n",
    "act_2018 = act_2018[['state','act_18_par','act_18_eng','act_18_math','act_18_read','act_18_sci', 'act_18_compo']]\n",
    "# changing 'act_2018_par' to float type\n",
    "act_2018['act_18_par'] = act_2018['act_18_par'].astype('float') \n",
    "act_2018.head()"
   ]
  },
  {
   "cell_type": "markdown",
   "metadata": {},
   "source": [
    "### 2.2. Combine your 2017 and 2018 data into a single dataframe\n",
    "Joining on state names should work, assuming you formatted all your state names identically. Make sure none of your columns (other than state) have identical names. Do yourself a favor and decide if you're encoding participation rates as floats or integers and standardize this across your datasets.\n",
    "\n",
    "Save the contents of this merged dataframe as `final.csv`.\n",
    "\n",
    "**Use this combined dataframe for the remainder of the project**."
   ]
  },
  {
   "cell_type": "code",
   "execution_count": 51,
   "metadata": {},
   "outputs": [
    {
     "data": {
      "text/html": [
       "<div>\n",
       "<style scoped>\n",
       "    .dataframe tbody tr th:only-of-type {\n",
       "        vertical-align: middle;\n",
       "    }\n",
       "\n",
       "    .dataframe tbody tr th {\n",
       "        vertical-align: top;\n",
       "    }\n",
       "\n",
       "    .dataframe thead th {\n",
       "        text-align: right;\n",
       "    }\n",
       "</style>\n",
       "<table border=\"1\" class=\"dataframe\">\n",
       "  <thead>\n",
       "    <tr style=\"text-align: right;\">\n",
       "      <th></th>\n",
       "      <th>state</th>\n",
       "      <th>sat_17_par</th>\n",
       "      <th>sat_17_readwrite</th>\n",
       "      <th>sat_17_math</th>\n",
       "      <th>sat_17_total</th>\n",
       "      <th>act_17_par</th>\n",
       "      <th>act_17_eng</th>\n",
       "      <th>act_17_math</th>\n",
       "      <th>act_17_read</th>\n",
       "      <th>act_17_sci</th>\n",
       "      <th>...</th>\n",
       "      <th>sat_18_par</th>\n",
       "      <th>sat_18_readwrite</th>\n",
       "      <th>sat_18_math</th>\n",
       "      <th>sat_18_total</th>\n",
       "      <th>act_18_par</th>\n",
       "      <th>act_18_eng</th>\n",
       "      <th>act_18_math</th>\n",
       "      <th>act_18_read</th>\n",
       "      <th>act_18_sci</th>\n",
       "      <th>act_18_compo</th>\n",
       "    </tr>\n",
       "  </thead>\n",
       "  <tbody>\n",
       "    <tr>\n",
       "      <th>0</th>\n",
       "      <td>Alabama</td>\n",
       "      <td>5.0</td>\n",
       "      <td>593</td>\n",
       "      <td>572</td>\n",
       "      <td>1165</td>\n",
       "      <td>100.0</td>\n",
       "      <td>18.9</td>\n",
       "      <td>18.4</td>\n",
       "      <td>19.7</td>\n",
       "      <td>19.4</td>\n",
       "      <td>...</td>\n",
       "      <td>6.0</td>\n",
       "      <td>595</td>\n",
       "      <td>571</td>\n",
       "      <td>1166</td>\n",
       "      <td>100.0</td>\n",
       "      <td>18.9</td>\n",
       "      <td>18.3</td>\n",
       "      <td>19.6</td>\n",
       "      <td>19.0</td>\n",
       "      <td>19.1</td>\n",
       "    </tr>\n",
       "    <tr>\n",
       "      <th>1</th>\n",
       "      <td>Alaska</td>\n",
       "      <td>38.0</td>\n",
       "      <td>547</td>\n",
       "      <td>533</td>\n",
       "      <td>1080</td>\n",
       "      <td>65.0</td>\n",
       "      <td>18.7</td>\n",
       "      <td>19.8</td>\n",
       "      <td>20.4</td>\n",
       "      <td>19.9</td>\n",
       "      <td>...</td>\n",
       "      <td>43.0</td>\n",
       "      <td>562</td>\n",
       "      <td>544</td>\n",
       "      <td>1106</td>\n",
       "      <td>33.0</td>\n",
       "      <td>19.8</td>\n",
       "      <td>20.6</td>\n",
       "      <td>21.6</td>\n",
       "      <td>20.7</td>\n",
       "      <td>20.8</td>\n",
       "    </tr>\n",
       "    <tr>\n",
       "      <th>2</th>\n",
       "      <td>Arizona</td>\n",
       "      <td>30.0</td>\n",
       "      <td>563</td>\n",
       "      <td>553</td>\n",
       "      <td>1116</td>\n",
       "      <td>62.0</td>\n",
       "      <td>18.6</td>\n",
       "      <td>19.8</td>\n",
       "      <td>20.1</td>\n",
       "      <td>19.8</td>\n",
       "      <td>...</td>\n",
       "      <td>29.0</td>\n",
       "      <td>577</td>\n",
       "      <td>572</td>\n",
       "      <td>1149</td>\n",
       "      <td>66.0</td>\n",
       "      <td>18.2</td>\n",
       "      <td>19.4</td>\n",
       "      <td>19.5</td>\n",
       "      <td>19.2</td>\n",
       "      <td>19.2</td>\n",
       "    </tr>\n",
       "    <tr>\n",
       "      <th>3</th>\n",
       "      <td>Arkansas</td>\n",
       "      <td>3.0</td>\n",
       "      <td>614</td>\n",
       "      <td>594</td>\n",
       "      <td>1208</td>\n",
       "      <td>100.0</td>\n",
       "      <td>18.9</td>\n",
       "      <td>19.0</td>\n",
       "      <td>19.7</td>\n",
       "      <td>19.5</td>\n",
       "      <td>...</td>\n",
       "      <td>5.0</td>\n",
       "      <td>592</td>\n",
       "      <td>576</td>\n",
       "      <td>1169</td>\n",
       "      <td>100.0</td>\n",
       "      <td>19.1</td>\n",
       "      <td>18.9</td>\n",
       "      <td>19.7</td>\n",
       "      <td>19.4</td>\n",
       "      <td>19.4</td>\n",
       "    </tr>\n",
       "    <tr>\n",
       "      <th>4</th>\n",
       "      <td>California</td>\n",
       "      <td>53.0</td>\n",
       "      <td>531</td>\n",
       "      <td>524</td>\n",
       "      <td>1055</td>\n",
       "      <td>31.0</td>\n",
       "      <td>22.5</td>\n",
       "      <td>22.7</td>\n",
       "      <td>23.1</td>\n",
       "      <td>22.2</td>\n",
       "      <td>...</td>\n",
       "      <td>60.0</td>\n",
       "      <td>540</td>\n",
       "      <td>536</td>\n",
       "      <td>1076</td>\n",
       "      <td>27.0</td>\n",
       "      <td>22.5</td>\n",
       "      <td>22.5</td>\n",
       "      <td>23.0</td>\n",
       "      <td>22.1</td>\n",
       "      <td>22.7</td>\n",
       "    </tr>\n",
       "  </tbody>\n",
       "</table>\n",
       "<p>5 rows × 21 columns</p>\n",
       "</div>"
      ],
      "text/plain": [
       "        state  sat_17_par  sat_17_readwrite  sat_17_math  sat_17_total  \\\n",
       "0     Alabama         5.0               593          572          1165   \n",
       "1      Alaska        38.0               547          533          1080   \n",
       "2     Arizona        30.0               563          553          1116   \n",
       "3    Arkansas         3.0               614          594          1208   \n",
       "4  California        53.0               531          524          1055   \n",
       "\n",
       "   act_17_par  act_17_eng  act_17_math  act_17_read  act_17_sci  ...  \\\n",
       "0       100.0        18.9         18.4         19.7        19.4  ...   \n",
       "1        65.0        18.7         19.8         20.4        19.9  ...   \n",
       "2        62.0        18.6         19.8         20.1        19.8  ...   \n",
       "3       100.0        18.9         19.0         19.7        19.5  ...   \n",
       "4        31.0        22.5         22.7         23.1        22.2  ...   \n",
       "\n",
       "   sat_18_par  sat_18_readwrite  sat_18_math  sat_18_total  act_18_par  \\\n",
       "0         6.0               595          571          1166       100.0   \n",
       "1        43.0               562          544          1106        33.0   \n",
       "2        29.0               577          572          1149        66.0   \n",
       "3         5.0               592          576          1169       100.0   \n",
       "4        60.0               540          536          1076        27.0   \n",
       "\n",
       "   act_18_eng  act_18_math  act_18_read  act_18_sci  act_18_compo  \n",
       "0        18.9         18.3         19.6        19.0          19.1  \n",
       "1        19.8         20.6         21.6        20.7          20.8  \n",
       "2        18.2         19.4         19.5        19.2          19.2  \n",
       "3        19.1         18.9         19.7        19.4          19.4  \n",
       "4        22.5         22.5         23.0        22.1          22.7  \n",
       "\n",
       "[5 rows x 21 columns]"
      ]
     },
     "execution_count": 51,
     "metadata": {},
     "output_type": "execute_result"
    }
   ],
   "source": [
    "combined_2018 = sat_2018.merge(act_2018, on='state')\n",
    "final = combined_2017.merge(combined_2018, on='state')\n",
    "final.to_csv('../data/final.csv')\n",
    "final.head()"
   ]
  },
  {
   "cell_type": "markdown",
   "metadata": {},
   "source": [
    "## 3. Exploratory Data Analysis\n",
    "\n",
    "\n",
    "### 3.1. Summary Statistics\n",
    "Transpose the output of pandas `describe` method to create a quick overview of each numeric feature."
   ]
  },
  {
   "cell_type": "code",
   "execution_count": 52,
   "metadata": {},
   "outputs": [
    {
     "data": {
      "text/html": [
       "<div>\n",
       "<style scoped>\n",
       "    .dataframe tbody tr th:only-of-type {\n",
       "        vertical-align: middle;\n",
       "    }\n",
       "\n",
       "    .dataframe tbody tr th {\n",
       "        vertical-align: top;\n",
       "    }\n",
       "\n",
       "    .dataframe thead th {\n",
       "        text-align: right;\n",
       "    }\n",
       "</style>\n",
       "<table border=\"1\" class=\"dataframe\">\n",
       "  <thead>\n",
       "    <tr style=\"text-align: right;\">\n",
       "      <th></th>\n",
       "      <th>count</th>\n",
       "      <th>mean</th>\n",
       "      <th>std</th>\n",
       "      <th>min</th>\n",
       "      <th>25%</th>\n",
       "      <th>50%</th>\n",
       "      <th>75%</th>\n",
       "      <th>max</th>\n",
       "    </tr>\n",
       "  </thead>\n",
       "  <tbody>\n",
       "    <tr>\n",
       "      <th>sat_17_par</th>\n",
       "      <td>51.0</td>\n",
       "      <td>39.803922</td>\n",
       "      <td>35.276632</td>\n",
       "      <td>2.0</td>\n",
       "      <td>4.00</td>\n",
       "      <td>38.0</td>\n",
       "      <td>66.00</td>\n",
       "      <td>100.0</td>\n",
       "    </tr>\n",
       "    <tr>\n",
       "      <th>sat_17_readwrite</th>\n",
       "      <td>51.0</td>\n",
       "      <td>569.117647</td>\n",
       "      <td>45.666901</td>\n",
       "      <td>482.0</td>\n",
       "      <td>533.50</td>\n",
       "      <td>559.0</td>\n",
       "      <td>613.00</td>\n",
       "      <td>644.0</td>\n",
       "    </tr>\n",
       "    <tr>\n",
       "      <th>sat_17_math</th>\n",
       "      <td>51.0</td>\n",
       "      <td>556.980392</td>\n",
       "      <td>47.128119</td>\n",
       "      <td>468.0</td>\n",
       "      <td>523.50</td>\n",
       "      <td>548.0</td>\n",
       "      <td>599.50</td>\n",
       "      <td>651.0</td>\n",
       "    </tr>\n",
       "    <tr>\n",
       "      <th>sat_17_total</th>\n",
       "      <td>51.0</td>\n",
       "      <td>1126.098039</td>\n",
       "      <td>92.494812</td>\n",
       "      <td>950.0</td>\n",
       "      <td>1055.50</td>\n",
       "      <td>1107.0</td>\n",
       "      <td>1212.00</td>\n",
       "      <td>1295.0</td>\n",
       "    </tr>\n",
       "    <tr>\n",
       "      <th>act_17_par</th>\n",
       "      <td>51.0</td>\n",
       "      <td>65.254902</td>\n",
       "      <td>32.140842</td>\n",
       "      <td>8.0</td>\n",
       "      <td>31.00</td>\n",
       "      <td>69.0</td>\n",
       "      <td>100.00</td>\n",
       "      <td>100.0</td>\n",
       "    </tr>\n",
       "    <tr>\n",
       "      <th>act_17_eng</th>\n",
       "      <td>51.0</td>\n",
       "      <td>20.931373</td>\n",
       "      <td>2.353677</td>\n",
       "      <td>16.3</td>\n",
       "      <td>19.00</td>\n",
       "      <td>20.7</td>\n",
       "      <td>23.30</td>\n",
       "      <td>25.5</td>\n",
       "    </tr>\n",
       "    <tr>\n",
       "      <th>act_17_math</th>\n",
       "      <td>51.0</td>\n",
       "      <td>21.182353</td>\n",
       "      <td>1.981989</td>\n",
       "      <td>18.0</td>\n",
       "      <td>19.40</td>\n",
       "      <td>20.9</td>\n",
       "      <td>23.10</td>\n",
       "      <td>25.3</td>\n",
       "    </tr>\n",
       "    <tr>\n",
       "      <th>act_17_read</th>\n",
       "      <td>51.0</td>\n",
       "      <td>22.013725</td>\n",
       "      <td>2.067271</td>\n",
       "      <td>18.1</td>\n",
       "      <td>20.45</td>\n",
       "      <td>21.8</td>\n",
       "      <td>24.15</td>\n",
       "      <td>26.0</td>\n",
       "    </tr>\n",
       "    <tr>\n",
       "      <th>act_17_sci</th>\n",
       "      <td>51.0</td>\n",
       "      <td>21.462745</td>\n",
       "      <td>1.753392</td>\n",
       "      <td>18.2</td>\n",
       "      <td>19.95</td>\n",
       "      <td>21.3</td>\n",
       "      <td>23.20</td>\n",
       "      <td>24.9</td>\n",
       "    </tr>\n",
       "    <tr>\n",
       "      <th>act_17_compo</th>\n",
       "      <td>51.0</td>\n",
       "      <td>21.519608</td>\n",
       "      <td>2.020695</td>\n",
       "      <td>17.8</td>\n",
       "      <td>19.80</td>\n",
       "      <td>21.4</td>\n",
       "      <td>23.60</td>\n",
       "      <td>25.5</td>\n",
       "    </tr>\n",
       "    <tr>\n",
       "      <th>sat_18_par</th>\n",
       "      <td>51.0</td>\n",
       "      <td>45.745098</td>\n",
       "      <td>37.314256</td>\n",
       "      <td>2.0</td>\n",
       "      <td>4.50</td>\n",
       "      <td>52.0</td>\n",
       "      <td>77.50</td>\n",
       "      <td>100.0</td>\n",
       "    </tr>\n",
       "    <tr>\n",
       "      <th>sat_18_readwrite</th>\n",
       "      <td>51.0</td>\n",
       "      <td>563.686275</td>\n",
       "      <td>47.502627</td>\n",
       "      <td>480.0</td>\n",
       "      <td>534.50</td>\n",
       "      <td>552.0</td>\n",
       "      <td>610.50</td>\n",
       "      <td>643.0</td>\n",
       "    </tr>\n",
       "    <tr>\n",
       "      <th>sat_18_math</th>\n",
       "      <td>51.0</td>\n",
       "      <td>556.235294</td>\n",
       "      <td>47.772623</td>\n",
       "      <td>480.0</td>\n",
       "      <td>522.50</td>\n",
       "      <td>544.0</td>\n",
       "      <td>593.50</td>\n",
       "      <td>655.0</td>\n",
       "    </tr>\n",
       "    <tr>\n",
       "      <th>sat_18_total</th>\n",
       "      <td>51.0</td>\n",
       "      <td>1120.019608</td>\n",
       "      <td>94.155083</td>\n",
       "      <td>977.0</td>\n",
       "      <td>1057.50</td>\n",
       "      <td>1098.0</td>\n",
       "      <td>1204.00</td>\n",
       "      <td>1298.0</td>\n",
       "    </tr>\n",
       "    <tr>\n",
       "      <th>act_18_par</th>\n",
       "      <td>51.0</td>\n",
       "      <td>61.647059</td>\n",
       "      <td>34.080976</td>\n",
       "      <td>7.0</td>\n",
       "      <td>28.50</td>\n",
       "      <td>66.0</td>\n",
       "      <td>100.00</td>\n",
       "      <td>100.0</td>\n",
       "    </tr>\n",
       "    <tr>\n",
       "      <th>act_18_eng</th>\n",
       "      <td>51.0</td>\n",
       "      <td>20.988235</td>\n",
       "      <td>2.446356</td>\n",
       "      <td>16.6</td>\n",
       "      <td>19.10</td>\n",
       "      <td>20.2</td>\n",
       "      <td>23.70</td>\n",
       "      <td>26.0</td>\n",
       "    </tr>\n",
       "    <tr>\n",
       "      <th>act_18_math</th>\n",
       "      <td>51.0</td>\n",
       "      <td>21.125490</td>\n",
       "      <td>2.035765</td>\n",
       "      <td>17.8</td>\n",
       "      <td>19.40</td>\n",
       "      <td>20.7</td>\n",
       "      <td>23.15</td>\n",
       "      <td>25.2</td>\n",
       "    </tr>\n",
       "    <tr>\n",
       "      <th>act_18_read</th>\n",
       "      <td>51.0</td>\n",
       "      <td>22.015686</td>\n",
       "      <td>2.167245</td>\n",
       "      <td>18.0</td>\n",
       "      <td>20.45</td>\n",
       "      <td>21.6</td>\n",
       "      <td>24.10</td>\n",
       "      <td>26.1</td>\n",
       "    </tr>\n",
       "    <tr>\n",
       "      <th>act_18_sci</th>\n",
       "      <td>51.0</td>\n",
       "      <td>21.345098</td>\n",
       "      <td>1.870114</td>\n",
       "      <td>17.9</td>\n",
       "      <td>19.85</td>\n",
       "      <td>21.1</td>\n",
       "      <td>23.05</td>\n",
       "      <td>24.9</td>\n",
       "    </tr>\n",
       "    <tr>\n",
       "      <th>act_18_compo</th>\n",
       "      <td>51.0</td>\n",
       "      <td>21.486275</td>\n",
       "      <td>2.106278</td>\n",
       "      <td>17.7</td>\n",
       "      <td>19.95</td>\n",
       "      <td>21.3</td>\n",
       "      <td>23.55</td>\n",
       "      <td>25.6</td>\n",
       "    </tr>\n",
       "  </tbody>\n",
       "</table>\n",
       "</div>"
      ],
      "text/plain": [
       "                  count         mean        std    min      25%     50%  \\\n",
       "sat_17_par         51.0    39.803922  35.276632    2.0     4.00    38.0   \n",
       "sat_17_readwrite   51.0   569.117647  45.666901  482.0   533.50   559.0   \n",
       "sat_17_math        51.0   556.980392  47.128119  468.0   523.50   548.0   \n",
       "sat_17_total       51.0  1126.098039  92.494812  950.0  1055.50  1107.0   \n",
       "act_17_par         51.0    65.254902  32.140842    8.0    31.00    69.0   \n",
       "act_17_eng         51.0    20.931373   2.353677   16.3    19.00    20.7   \n",
       "act_17_math        51.0    21.182353   1.981989   18.0    19.40    20.9   \n",
       "act_17_read        51.0    22.013725   2.067271   18.1    20.45    21.8   \n",
       "act_17_sci         51.0    21.462745   1.753392   18.2    19.95    21.3   \n",
       "act_17_compo       51.0    21.519608   2.020695   17.8    19.80    21.4   \n",
       "sat_18_par         51.0    45.745098  37.314256    2.0     4.50    52.0   \n",
       "sat_18_readwrite   51.0   563.686275  47.502627  480.0   534.50   552.0   \n",
       "sat_18_math        51.0   556.235294  47.772623  480.0   522.50   544.0   \n",
       "sat_18_total       51.0  1120.019608  94.155083  977.0  1057.50  1098.0   \n",
       "act_18_par         51.0    61.647059  34.080976    7.0    28.50    66.0   \n",
       "act_18_eng         51.0    20.988235   2.446356   16.6    19.10    20.2   \n",
       "act_18_math        51.0    21.125490   2.035765   17.8    19.40    20.7   \n",
       "act_18_read        51.0    22.015686   2.167245   18.0    20.45    21.6   \n",
       "act_18_sci         51.0    21.345098   1.870114   17.9    19.85    21.1   \n",
       "act_18_compo       51.0    21.486275   2.106278   17.7    19.95    21.3   \n",
       "\n",
       "                      75%     max  \n",
       "sat_17_par          66.00   100.0  \n",
       "sat_17_readwrite   613.00   644.0  \n",
       "sat_17_math        599.50   651.0  \n",
       "sat_17_total      1212.00  1295.0  \n",
       "act_17_par         100.00   100.0  \n",
       "act_17_eng          23.30    25.5  \n",
       "act_17_math         23.10    25.3  \n",
       "act_17_read         24.15    26.0  \n",
       "act_17_sci          23.20    24.9  \n",
       "act_17_compo        23.60    25.5  \n",
       "sat_18_par          77.50   100.0  \n",
       "sat_18_readwrite   610.50   643.0  \n",
       "sat_18_math        593.50   655.0  \n",
       "sat_18_total      1204.00  1298.0  \n",
       "act_18_par         100.00   100.0  \n",
       "act_18_eng          23.70    26.0  \n",
       "act_18_math         23.15    25.2  \n",
       "act_18_read         24.10    26.1  \n",
       "act_18_sci          23.05    24.9  \n",
       "act_18_compo        23.55    25.6  "
      ]
     },
     "execution_count": 52,
     "metadata": {},
     "output_type": "execute_result"
    }
   ],
   "source": [
    "#Code:\n",
    "final.describe().T"
   ]
  },
  {
   "cell_type": "markdown",
   "metadata": {},
   "source": [
    "#### Manually calculate standard deviation\n",
    "\n",
    "$$\\sigma = \\sqrt{\\frac{1}{n}\\sum_{i=1}^n(x_i - \\mu)^2}$$\n",
    "\n",
    "- Write a function to calculate standard deviation using the formula above"
   ]
  },
  {
   "cell_type": "code",
   "execution_count": 53,
   "metadata": {},
   "outputs": [],
   "source": [
    "#code\n",
    "def calc_std(series):\n",
    "    n = len(series)\n",
    "    mu = sum(series)/n\n",
    "    std = (sum([(num-mu)**2 for num in series])/(n-1))**0.5\n",
    "    return round(std,2)"
   ]
  },
  {
   "cell_type": "code",
   "execution_count": 54,
   "metadata": {},
   "outputs": [
    {
     "data": {
      "text/plain": [
       "2.11"
      ]
     },
     "execution_count": 54,
     "metadata": {},
     "output_type": "execute_result"
    }
   ],
   "source": [
    "calc_std(final['act_18_compo'])"
   ]
  },
  {
   "cell_type": "code",
   "execution_count": 55,
   "metadata": {},
   "outputs": [
    {
     "data": {
      "text/plain": [
       "2.0855261815801147"
      ]
     },
     "execution_count": 55,
     "metadata": {},
     "output_type": "execute_result"
    }
   ],
   "source": [
    "# compare with built-in function\n",
    "np.std(final['act_18_compo'])"
   ]
  },
  {
   "cell_type": "markdown",
   "metadata": {},
   "source": [
    "- Use a **dictionary comprehension** to apply your standard deviation function to each numeric column in the dataframe.  **No loops**  \n",
    "- Assign the output to variable `sd` as a dictionary where: \n",
    "    - Each column name is now a key \n",
    "    - That standard deviation of the column is the value \n",
    "     \n",
    "*Example Output :* `{'ACT_Math': 120, 'ACT_Reading': 120, ...}`"
   ]
  },
  {
   "cell_type": "code",
   "execution_count": 56,
   "metadata": {},
   "outputs": [],
   "source": [
    "#Code:\n",
    "sd = {col_name : calc_std(final[col_name]) for col_name in final.columns \\\n",
    "      if (final[col_name].dtype == 'float') or (final[col_name].dtype == 'int')}"
   ]
  },
  {
   "cell_type": "code",
   "execution_count": 57,
   "metadata": {
    "scrolled": true
   },
   "outputs": [
    {
     "data": {
      "text/plain": [
       "{'sat_17_par': 35.28,\n",
       " 'sat_17_readwrite': 45.67,\n",
       " 'sat_17_math': 47.13,\n",
       " 'sat_17_total': 92.49,\n",
       " 'act_17_par': 32.14,\n",
       " 'act_17_eng': 2.35,\n",
       " 'act_17_math': 1.98,\n",
       " 'act_17_read': 2.07,\n",
       " 'act_17_sci': 1.75,\n",
       " 'act_17_compo': 2.02,\n",
       " 'sat_18_par': 37.31,\n",
       " 'sat_18_readwrite': 47.5,\n",
       " 'sat_18_math': 47.77,\n",
       " 'sat_18_total': 94.16,\n",
       " 'act_18_par': 34.08,\n",
       " 'act_18_eng': 2.45,\n",
       " 'act_18_math': 2.04,\n",
       " 'act_18_read': 2.17,\n",
       " 'act_18_sci': 1.87,\n",
       " 'act_18_compo': 2.11}"
      ]
     },
     "execution_count": 57,
     "metadata": {},
     "output_type": "execute_result"
    }
   ],
   "source": [
    "sd"
   ]
  },
  {
   "cell_type": "markdown",
   "metadata": {},
   "source": [
    "Do your manually calculated standard deviations match up with the output from pandas `describe`? What about numpy's `std` method?"
   ]
  },
  {
   "cell_type": "markdown",
   "metadata": {},
   "source": [
    "Answer: I divided the sum of squared deviations by (n-1) to account for Bessel's correction to arrive at sample             variance.\n",
    "        np.std divides by n which follows formula for population variance."
   ]
  },
  {
   "cell_type": "markdown",
   "metadata": {},
   "source": [
    "#### Investigate trends in the data\n",
    "Using sorting and/or masking (along with the `.head` method to not print our entire dataframe), consider the following questions:\n",
    "\n",
    "- Which states have the highest and lowest participation rates for the:\n",
    "    - 2017 SAT?\n",
    "    - 2018 SAT?\n",
    "    - 2017 ACT?\n",
    "    - 2018 ACT?\n",
    "- Which states have the highest and lowest mean total/composite scores for the:\n",
    "    - 2017 SAT?\n",
    "    - 2018 SAT?\n",
    "    - 2017 ACT?\n",
    "    - 2018 ACT?\n",
    "- Do any states with 100% participation on a given test have a rate change year-to-year?\n",
    "- Do any states show have >50% participation on *both* tests either year?\n",
    "\n",
    "Based on what you've just observed, have you identified any states that you're especially interested in? **Make a note of these and state *why* you think they're interesting**.\n",
    "\n",
    "**You should comment on your findings at each step in a markdown cell below your code block**. Make sure you include at least one example of sorting your dataframe by a column, and one example of using boolean filtering (i.e., masking) to select a subset of the dataframe."
   ]
  },
  {
   "cell_type": "markdown",
   "metadata": {},
   "source": [
    "### 3.2. States with highest and lowest participation"
   ]
  },
  {
   "cell_type": "code",
   "execution_count": 58,
   "metadata": {},
   "outputs": [
    {
     "data": {
      "text/html": [
       "<div>\n",
       "<style scoped>\n",
       "    .dataframe tbody tr th:only-of-type {\n",
       "        vertical-align: middle;\n",
       "    }\n",
       "\n",
       "    .dataframe tbody tr th {\n",
       "        vertical-align: top;\n",
       "    }\n",
       "\n",
       "    .dataframe thead th {\n",
       "        text-align: right;\n",
       "    }\n",
       "</style>\n",
       "<table border=\"1\" class=\"dataframe\">\n",
       "  <thead>\n",
       "    <tr style=\"text-align: right;\">\n",
       "      <th></th>\n",
       "      <th>state</th>\n",
       "      <th>sat_17_par</th>\n",
       "    </tr>\n",
       "  </thead>\n",
       "  <tbody>\n",
       "    <tr>\n",
       "      <th>34</th>\n",
       "      <td>North Dakota</td>\n",
       "      <td>2.0</td>\n",
       "    </tr>\n",
       "    <tr>\n",
       "      <th>24</th>\n",
       "      <td>Mississippi</td>\n",
       "      <td>2.0</td>\n",
       "    </tr>\n",
       "    <tr>\n",
       "      <th>15</th>\n",
       "      <td>Iowa</td>\n",
       "      <td>2.0</td>\n",
       "    </tr>\n",
       "    <tr>\n",
       "      <th>25</th>\n",
       "      <td>Missouri</td>\n",
       "      <td>3.0</td>\n",
       "    </tr>\n",
       "    <tr>\n",
       "      <th>44</th>\n",
       "      <td>Utah</td>\n",
       "      <td>3.0</td>\n",
       "    </tr>\n",
       "  </tbody>\n",
       "</table>\n",
       "</div>"
      ],
      "text/plain": [
       "           state  sat_17_par\n",
       "34  North Dakota         2.0\n",
       "24   Mississippi         2.0\n",
       "15          Iowa         2.0\n",
       "25      Missouri         3.0\n",
       "44          Utah         3.0"
      ]
     },
     "execution_count": 58,
     "metadata": {},
     "output_type": "execute_result"
    }
   ],
   "source": [
    "# lowest participation rate for SAT 2017\n",
    "final[['state','sat_17_par']].sort_values(by='sat_17_par', ascending = True).head()"
   ]
  },
  {
   "cell_type": "markdown",
   "metadata": {},
   "source": [
    "#### states with lowest participation rate for SAT 2017: \n",
    " 1. North Dakota, \n",
    " 2. Mississippi, \n",
    " 3. Iowa"
   ]
  },
  {
   "cell_type": "code",
   "execution_count": 59,
   "metadata": {
    "scrolled": false
   },
   "outputs": [
    {
     "data": {
      "text/html": [
       "<div>\n",
       "<style scoped>\n",
       "    .dataframe tbody tr th:only-of-type {\n",
       "        vertical-align: middle;\n",
       "    }\n",
       "\n",
       "    .dataframe tbody tr th {\n",
       "        vertical-align: top;\n",
       "    }\n",
       "\n",
       "    .dataframe thead th {\n",
       "        text-align: right;\n",
       "    }\n",
       "</style>\n",
       "<table border=\"1\" class=\"dataframe\">\n",
       "  <thead>\n",
       "    <tr style=\"text-align: right;\">\n",
       "      <th></th>\n",
       "      <th>state</th>\n",
       "      <th>sat_17_par</th>\n",
       "    </tr>\n",
       "  </thead>\n",
       "  <tbody>\n",
       "    <tr>\n",
       "      <th>8</th>\n",
       "      <td>District of Columbia</td>\n",
       "      <td>100.0</td>\n",
       "    </tr>\n",
       "    <tr>\n",
       "      <th>22</th>\n",
       "      <td>Michigan</td>\n",
       "      <td>100.0</td>\n",
       "    </tr>\n",
       "    <tr>\n",
       "      <th>6</th>\n",
       "      <td>Connecticut</td>\n",
       "      <td>100.0</td>\n",
       "    </tr>\n",
       "    <tr>\n",
       "      <th>7</th>\n",
       "      <td>Delaware</td>\n",
       "      <td>100.0</td>\n",
       "    </tr>\n",
       "    <tr>\n",
       "      <th>29</th>\n",
       "      <td>New Hampshire</td>\n",
       "      <td>96.0</td>\n",
       "    </tr>\n",
       "    <tr>\n",
       "      <th>19</th>\n",
       "      <td>Maine</td>\n",
       "      <td>95.0</td>\n",
       "    </tr>\n",
       "  </tbody>\n",
       "</table>\n",
       "</div>"
      ],
      "text/plain": [
       "                   state  sat_17_par\n",
       "8   District of Columbia       100.0\n",
       "22              Michigan       100.0\n",
       "6            Connecticut       100.0\n",
       "7               Delaware       100.0\n",
       "29         New Hampshire        96.0\n",
       "19                 Maine        95.0"
      ]
     },
     "execution_count": 59,
     "metadata": {},
     "output_type": "execute_result"
    }
   ],
   "source": [
    "# highest participation rate for SAT 2017\n",
    "final[['state','sat_17_par']].sort_values(by='sat_17_par', ascending = False).head(6)"
   ]
  },
  {
   "cell_type": "markdown",
   "metadata": {},
   "source": [
    "#### states with highest participation rate for SAT 2017: \n",
    "   1. District of Columbia, \n",
    "   2. Michigan, \n",
    "   3. Connecticut,\n",
    "   4. Delaware,\n",
    "   5. New Hampshire"
   ]
  },
  {
   "cell_type": "code",
   "execution_count": 60,
   "metadata": {},
   "outputs": [
    {
     "data": {
      "text/html": [
       "<div>\n",
       "<style scoped>\n",
       "    .dataframe tbody tr th:only-of-type {\n",
       "        vertical-align: middle;\n",
       "    }\n",
       "\n",
       "    .dataframe tbody tr th {\n",
       "        vertical-align: top;\n",
       "    }\n",
       "\n",
       "    .dataframe thead th {\n",
       "        text-align: right;\n",
       "    }\n",
       "</style>\n",
       "<table border=\"1\" class=\"dataframe\">\n",
       "  <thead>\n",
       "    <tr style=\"text-align: right;\">\n",
       "      <th></th>\n",
       "      <th>state</th>\n",
       "      <th>sat_18_par</th>\n",
       "    </tr>\n",
       "  </thead>\n",
       "  <tbody>\n",
       "    <tr>\n",
       "      <th>34</th>\n",
       "      <td>North Dakota</td>\n",
       "      <td>2.0</td>\n",
       "    </tr>\n",
       "    <tr>\n",
       "      <th>50</th>\n",
       "      <td>Wyoming</td>\n",
       "      <td>3.0</td>\n",
       "    </tr>\n",
       "    <tr>\n",
       "      <th>41</th>\n",
       "      <td>South Dakota</td>\n",
       "      <td>3.0</td>\n",
       "    </tr>\n",
       "    <tr>\n",
       "      <th>27</th>\n",
       "      <td>Nebraska</td>\n",
       "      <td>3.0</td>\n",
       "    </tr>\n",
       "    <tr>\n",
       "      <th>49</th>\n",
       "      <td>Wisconsin</td>\n",
       "      <td>3.0</td>\n",
       "    </tr>\n",
       "    <tr>\n",
       "      <th>24</th>\n",
       "      <td>Mississippi</td>\n",
       "      <td>3.0</td>\n",
       "    </tr>\n",
       "    <tr>\n",
       "      <th>15</th>\n",
       "      <td>Iowa</td>\n",
       "      <td>3.0</td>\n",
       "    </tr>\n",
       "    <tr>\n",
       "      <th>44</th>\n",
       "      <td>Utah</td>\n",
       "      <td>4.0</td>\n",
       "    </tr>\n",
       "  </tbody>\n",
       "</table>\n",
       "</div>"
      ],
      "text/plain": [
       "           state  sat_18_par\n",
       "34  North Dakota         2.0\n",
       "50       Wyoming         3.0\n",
       "41  South Dakota         3.0\n",
       "27      Nebraska         3.0\n",
       "49     Wisconsin         3.0\n",
       "24   Mississippi         3.0\n",
       "15          Iowa         3.0\n",
       "44          Utah         4.0"
      ]
     },
     "execution_count": 60,
     "metadata": {},
     "output_type": "execute_result"
    }
   ],
   "source": [
    "# lowest participation rate for SAT 2018\n",
    "final[['state','sat_18_par']].sort_values(by='sat_18_par', ascending = True).head(8)"
   ]
  },
  {
   "cell_type": "markdown",
   "metadata": {},
   "source": [
    "#### states with lowest participation rate for SAT 2018: \n",
    "1. North Dakota,\n",
    "2. Wyoming,\n",
    "3. South Dakota,\n",
    "4. Nebraska,\n",
    "5. Wisconsin,\n",
    "6. Mississippi,\n",
    "7. Iowa"
   ]
  },
  {
   "cell_type": "code",
   "execution_count": 61,
   "metadata": {},
   "outputs": [
    {
     "data": {
      "text/html": [
       "<div>\n",
       "<style scoped>\n",
       "    .dataframe tbody tr th:only-of-type {\n",
       "        vertical-align: middle;\n",
       "    }\n",
       "\n",
       "    .dataframe tbody tr th {\n",
       "        vertical-align: top;\n",
       "    }\n",
       "\n",
       "    .dataframe thead th {\n",
       "        text-align: right;\n",
       "    }\n",
       "</style>\n",
       "<table border=\"1\" class=\"dataframe\">\n",
       "  <thead>\n",
       "    <tr style=\"text-align: right;\">\n",
       "      <th></th>\n",
       "      <th>state</th>\n",
       "      <th>sat_18_par</th>\n",
       "    </tr>\n",
       "  </thead>\n",
       "  <tbody>\n",
       "    <tr>\n",
       "      <th>5</th>\n",
       "      <td>Colorado</td>\n",
       "      <td>100.0</td>\n",
       "    </tr>\n",
       "    <tr>\n",
       "      <th>6</th>\n",
       "      <td>Connecticut</td>\n",
       "      <td>100.0</td>\n",
       "    </tr>\n",
       "    <tr>\n",
       "      <th>7</th>\n",
       "      <td>Delaware</td>\n",
       "      <td>100.0</td>\n",
       "    </tr>\n",
       "    <tr>\n",
       "      <th>22</th>\n",
       "      <td>Michigan</td>\n",
       "      <td>100.0</td>\n",
       "    </tr>\n",
       "    <tr>\n",
       "      <th>12</th>\n",
       "      <td>Idaho</td>\n",
       "      <td>100.0</td>\n",
       "    </tr>\n",
       "    <tr>\n",
       "      <th>19</th>\n",
       "      <td>Maine</td>\n",
       "      <td>99.0</td>\n",
       "    </tr>\n",
       "  </tbody>\n",
       "</table>\n",
       "</div>"
      ],
      "text/plain": [
       "          state  sat_18_par\n",
       "5      Colorado       100.0\n",
       "6   Connecticut       100.0\n",
       "7      Delaware       100.0\n",
       "22     Michigan       100.0\n",
       "12        Idaho       100.0\n",
       "19        Maine        99.0"
      ]
     },
     "execution_count": 61,
     "metadata": {},
     "output_type": "execute_result"
    }
   ],
   "source": [
    "# highest participation rate for SAT 2018\n",
    "final[['state','sat_18_par']].sort_values(by='sat_18_par', ascending = False).head(6)"
   ]
  },
  {
   "cell_type": "markdown",
   "metadata": {},
   "source": [
    "#### states with highest participation rate for SAT 2018: \n",
    "1. Colorado, \n",
    "2. Connecticut, \n",
    "3. Delaware,\n",
    "4. Michigan,\n",
    "5. Idaho"
   ]
  },
  {
   "cell_type": "code",
   "execution_count": 62,
   "metadata": {},
   "outputs": [
    {
     "data": {
      "text/html": [
       "<div>\n",
       "<style scoped>\n",
       "    .dataframe tbody tr th:only-of-type {\n",
       "        vertical-align: middle;\n",
       "    }\n",
       "\n",
       "    .dataframe tbody tr th {\n",
       "        vertical-align: top;\n",
       "    }\n",
       "\n",
       "    .dataframe thead th {\n",
       "        text-align: right;\n",
       "    }\n",
       "</style>\n",
       "<table border=\"1\" class=\"dataframe\">\n",
       "  <thead>\n",
       "    <tr style=\"text-align: right;\">\n",
       "      <th></th>\n",
       "      <th>state</th>\n",
       "      <th>act_17_par</th>\n",
       "    </tr>\n",
       "  </thead>\n",
       "  <tbody>\n",
       "    <tr>\n",
       "      <th>19</th>\n",
       "      <td>Maine</td>\n",
       "      <td>8.0</td>\n",
       "    </tr>\n",
       "    <tr>\n",
       "      <th>29</th>\n",
       "      <td>New Hampshire</td>\n",
       "      <td>18.0</td>\n",
       "    </tr>\n",
       "    <tr>\n",
       "      <th>7</th>\n",
       "      <td>Delaware</td>\n",
       "      <td>18.0</td>\n",
       "    </tr>\n",
       "    <tr>\n",
       "      <th>39</th>\n",
       "      <td>Rhode Island</td>\n",
       "      <td>21.0</td>\n",
       "    </tr>\n",
       "    <tr>\n",
       "      <th>38</th>\n",
       "      <td>Pennsylvania</td>\n",
       "      <td>23.0</td>\n",
       "    </tr>\n",
       "  </tbody>\n",
       "</table>\n",
       "</div>"
      ],
      "text/plain": [
       "            state  act_17_par\n",
       "19          Maine         8.0\n",
       "29  New Hampshire        18.0\n",
       "7        Delaware        18.0\n",
       "39   Rhode Island        21.0\n",
       "38   Pennsylvania        23.0"
      ]
     },
     "execution_count": 62,
     "metadata": {},
     "output_type": "execute_result"
    }
   ],
   "source": [
    "# lowest participation rate for ACT 2017\n",
    "final[['state','act_17_par']].sort_values(by='act_17_par', ascending = True).head()"
   ]
  },
  {
   "cell_type": "markdown",
   "metadata": {},
   "source": [
    "#### states with lowest participation rate for ACT 2017: \n",
    "1. Maine,\n",
    "2. New Hampshire,\n",
    "3. Delaware,\n",
    "4. Rhode Island,\n",
    "5. Pennsylvania"
   ]
  },
  {
   "cell_type": "code",
   "execution_count": 63,
   "metadata": {},
   "outputs": [
    {
     "data": {
      "text/html": [
       "<div>\n",
       "<style scoped>\n",
       "    .dataframe tbody tr th:only-of-type {\n",
       "        vertical-align: middle;\n",
       "    }\n",
       "\n",
       "    .dataframe tbody tr th {\n",
       "        vertical-align: top;\n",
       "    }\n",
       "\n",
       "    .dataframe thead th {\n",
       "        text-align: right;\n",
       "    }\n",
       "</style>\n",
       "<table border=\"1\" class=\"dataframe\">\n",
       "  <thead>\n",
       "    <tr style=\"text-align: right;\">\n",
       "      <th></th>\n",
       "      <th>state</th>\n",
       "      <th>act_17_par</th>\n",
       "    </tr>\n",
       "  </thead>\n",
       "  <tbody>\n",
       "    <tr>\n",
       "      <th>0</th>\n",
       "      <td>Alabama</td>\n",
       "      <td>100.0</td>\n",
       "    </tr>\n",
       "    <tr>\n",
       "      <th>17</th>\n",
       "      <td>Kentucky</td>\n",
       "      <td>100.0</td>\n",
       "    </tr>\n",
       "    <tr>\n",
       "      <th>49</th>\n",
       "      <td>Wisconsin</td>\n",
       "      <td>100.0</td>\n",
       "    </tr>\n",
       "    <tr>\n",
       "      <th>44</th>\n",
       "      <td>Utah</td>\n",
       "      <td>100.0</td>\n",
       "    </tr>\n",
       "    <tr>\n",
       "      <th>42</th>\n",
       "      <td>Tennessee</td>\n",
       "      <td>100.0</td>\n",
       "    </tr>\n",
       "    <tr>\n",
       "      <th>40</th>\n",
       "      <td>South Carolina</td>\n",
       "      <td>100.0</td>\n",
       "    </tr>\n",
       "    <tr>\n",
       "      <th>36</th>\n",
       "      <td>Oklahoma</td>\n",
       "      <td>100.0</td>\n",
       "    </tr>\n",
       "    <tr>\n",
       "      <th>33</th>\n",
       "      <td>North Carolina</td>\n",
       "      <td>100.0</td>\n",
       "    </tr>\n",
       "    <tr>\n",
       "      <th>28</th>\n",
       "      <td>Nevada</td>\n",
       "      <td>100.0</td>\n",
       "    </tr>\n",
       "    <tr>\n",
       "      <th>26</th>\n",
       "      <td>Montana</td>\n",
       "      <td>100.0</td>\n",
       "    </tr>\n",
       "    <tr>\n",
       "      <th>24</th>\n",
       "      <td>Mississippi</td>\n",
       "      <td>100.0</td>\n",
       "    </tr>\n",
       "    <tr>\n",
       "      <th>23</th>\n",
       "      <td>Minnesota</td>\n",
       "      <td>100.0</td>\n",
       "    </tr>\n",
       "    <tr>\n",
       "      <th>18</th>\n",
       "      <td>Louisiana</td>\n",
       "      <td>100.0</td>\n",
       "    </tr>\n",
       "    <tr>\n",
       "      <th>25</th>\n",
       "      <td>Missouri</td>\n",
       "      <td>100.0</td>\n",
       "    </tr>\n",
       "    <tr>\n",
       "      <th>50</th>\n",
       "      <td>Wyoming</td>\n",
       "      <td>100.0</td>\n",
       "    </tr>\n",
       "    <tr>\n",
       "      <th>5</th>\n",
       "      <td>Colorado</td>\n",
       "      <td>100.0</td>\n",
       "    </tr>\n",
       "    <tr>\n",
       "      <th>3</th>\n",
       "      <td>Arkansas</td>\n",
       "      <td>100.0</td>\n",
       "    </tr>\n",
       "    <tr>\n",
       "      <th>34</th>\n",
       "      <td>North Dakota</td>\n",
       "      <td>98.0</td>\n",
       "    </tr>\n",
       "  </tbody>\n",
       "</table>\n",
       "</div>"
      ],
      "text/plain": [
       "             state  act_17_par\n",
       "0          Alabama       100.0\n",
       "17        Kentucky       100.0\n",
       "49       Wisconsin       100.0\n",
       "44            Utah       100.0\n",
       "42       Tennessee       100.0\n",
       "40  South Carolina       100.0\n",
       "36        Oklahoma       100.0\n",
       "33  North Carolina       100.0\n",
       "28          Nevada       100.0\n",
       "26         Montana       100.0\n",
       "24     Mississippi       100.0\n",
       "23       Minnesota       100.0\n",
       "18       Louisiana       100.0\n",
       "25        Missouri       100.0\n",
       "50         Wyoming       100.0\n",
       "5         Colorado       100.0\n",
       "3         Arkansas       100.0\n",
       "34    North Dakota        98.0"
      ]
     },
     "execution_count": 63,
     "metadata": {},
     "output_type": "execute_result"
    }
   ],
   "source": [
    "# highest participation rate for ACT 2017\n",
    "final[['state','act_17_par']].sort_values(by='act_17_par', ascending = False).head(18)"
   ]
  },
  {
   "cell_type": "markdown",
   "metadata": {},
   "source": [
    "#### states with highest participation rate for ACT 2017: \n",
    "too many to list, please see above with 100% participation"
   ]
  },
  {
   "cell_type": "code",
   "execution_count": 64,
   "metadata": {},
   "outputs": [
    {
     "data": {
      "text/html": [
       "<div>\n",
       "<style scoped>\n",
       "    .dataframe tbody tr th:only-of-type {\n",
       "        vertical-align: middle;\n",
       "    }\n",
       "\n",
       "    .dataframe tbody tr th {\n",
       "        vertical-align: top;\n",
       "    }\n",
       "\n",
       "    .dataframe thead th {\n",
       "        text-align: right;\n",
       "    }\n",
       "</style>\n",
       "<table border=\"1\" class=\"dataframe\">\n",
       "  <thead>\n",
       "    <tr style=\"text-align: right;\">\n",
       "      <th></th>\n",
       "      <th>state</th>\n",
       "      <th>act_18_par</th>\n",
       "    </tr>\n",
       "  </thead>\n",
       "  <tbody>\n",
       "    <tr>\n",
       "      <th>19</th>\n",
       "      <td>Maine</td>\n",
       "      <td>7.0</td>\n",
       "    </tr>\n",
       "    <tr>\n",
       "      <th>39</th>\n",
       "      <td>Rhode Island</td>\n",
       "      <td>15.0</td>\n",
       "    </tr>\n",
       "    <tr>\n",
       "      <th>29</th>\n",
       "      <td>New Hampshire</td>\n",
       "      <td>16.0</td>\n",
       "    </tr>\n",
       "    <tr>\n",
       "      <th>7</th>\n",
       "      <td>Delaware</td>\n",
       "      <td>17.0</td>\n",
       "    </tr>\n",
       "    <tr>\n",
       "      <th>38</th>\n",
       "      <td>Pennsylvania</td>\n",
       "      <td>20.0</td>\n",
       "    </tr>\n",
       "  </tbody>\n",
       "</table>\n",
       "</div>"
      ],
      "text/plain": [
       "            state  act_18_par\n",
       "19          Maine         7.0\n",
       "39   Rhode Island        15.0\n",
       "29  New Hampshire        16.0\n",
       "7        Delaware        17.0\n",
       "38   Pennsylvania        20.0"
      ]
     },
     "execution_count": 64,
     "metadata": {},
     "output_type": "execute_result"
    }
   ],
   "source": [
    "# lowest participation rate for ACT 2018\n",
    "final[['state','act_18_par']].sort_values(by='act_18_par', ascending = True).head()"
   ]
  },
  {
   "cell_type": "markdown",
   "metadata": {},
   "source": [
    "#### states with lowest participation rate for ACT 2018: \n",
    "1. Maine,\n",
    "2. Rhode Island,\n",
    "3. New Hampshire,\n",
    "4. Delaware,\n",
    "5. Pennsylvania"
   ]
  },
  {
   "cell_type": "code",
   "execution_count": 65,
   "metadata": {},
   "outputs": [
    {
     "data": {
      "text/html": [
       "<div>\n",
       "<style scoped>\n",
       "    .dataframe tbody tr th:only-of-type {\n",
       "        vertical-align: middle;\n",
       "    }\n",
       "\n",
       "    .dataframe tbody tr th {\n",
       "        vertical-align: top;\n",
       "    }\n",
       "\n",
       "    .dataframe thead th {\n",
       "        text-align: right;\n",
       "    }\n",
       "</style>\n",
       "<table border=\"1\" class=\"dataframe\">\n",
       "  <thead>\n",
       "    <tr style=\"text-align: right;\">\n",
       "      <th></th>\n",
       "      <th>state</th>\n",
       "      <th>act_18_par</th>\n",
       "    </tr>\n",
       "  </thead>\n",
       "  <tbody>\n",
       "    <tr>\n",
       "      <th>0</th>\n",
       "      <td>Alabama</td>\n",
       "      <td>100.0</td>\n",
       "    </tr>\n",
       "    <tr>\n",
       "      <th>17</th>\n",
       "      <td>Kentucky</td>\n",
       "      <td>100.0</td>\n",
       "    </tr>\n",
       "    <tr>\n",
       "      <th>49</th>\n",
       "      <td>Wisconsin</td>\n",
       "      <td>100.0</td>\n",
       "    </tr>\n",
       "    <tr>\n",
       "      <th>44</th>\n",
       "      <td>Utah</td>\n",
       "      <td>100.0</td>\n",
       "    </tr>\n",
       "    <tr>\n",
       "      <th>42</th>\n",
       "      <td>Tennessee</td>\n",
       "      <td>100.0</td>\n",
       "    </tr>\n",
       "    <tr>\n",
       "      <th>40</th>\n",
       "      <td>South Carolina</td>\n",
       "      <td>100.0</td>\n",
       "    </tr>\n",
       "    <tr>\n",
       "      <th>36</th>\n",
       "      <td>Oklahoma</td>\n",
       "      <td>100.0</td>\n",
       "    </tr>\n",
       "    <tr>\n",
       "      <th>35</th>\n",
       "      <td>Ohio</td>\n",
       "      <td>100.0</td>\n",
       "    </tr>\n",
       "    <tr>\n",
       "      <th>33</th>\n",
       "      <td>North Carolina</td>\n",
       "      <td>100.0</td>\n",
       "    </tr>\n",
       "    <tr>\n",
       "      <th>28</th>\n",
       "      <td>Nevada</td>\n",
       "      <td>100.0</td>\n",
       "    </tr>\n",
       "    <tr>\n",
       "      <th>27</th>\n",
       "      <td>Nebraska</td>\n",
       "      <td>100.0</td>\n",
       "    </tr>\n",
       "    <tr>\n",
       "      <th>26</th>\n",
       "      <td>Montana</td>\n",
       "      <td>100.0</td>\n",
       "    </tr>\n",
       "    <tr>\n",
       "      <th>24</th>\n",
       "      <td>Mississippi</td>\n",
       "      <td>100.0</td>\n",
       "    </tr>\n",
       "    <tr>\n",
       "      <th>18</th>\n",
       "      <td>Louisiana</td>\n",
       "      <td>100.0</td>\n",
       "    </tr>\n",
       "    <tr>\n",
       "      <th>25</th>\n",
       "      <td>Missouri</td>\n",
       "      <td>100.0</td>\n",
       "    </tr>\n",
       "    <tr>\n",
       "      <th>50</th>\n",
       "      <td>Wyoming</td>\n",
       "      <td>100.0</td>\n",
       "    </tr>\n",
       "    <tr>\n",
       "      <th>3</th>\n",
       "      <td>Arkansas</td>\n",
       "      <td>100.0</td>\n",
       "    </tr>\n",
       "    <tr>\n",
       "      <th>23</th>\n",
       "      <td>Minnesota</td>\n",
       "      <td>99.0</td>\n",
       "    </tr>\n",
       "  </tbody>\n",
       "</table>\n",
       "</div>"
      ],
      "text/plain": [
       "             state  act_18_par\n",
       "0          Alabama       100.0\n",
       "17        Kentucky       100.0\n",
       "49       Wisconsin       100.0\n",
       "44            Utah       100.0\n",
       "42       Tennessee       100.0\n",
       "40  South Carolina       100.0\n",
       "36        Oklahoma       100.0\n",
       "35            Ohio       100.0\n",
       "33  North Carolina       100.0\n",
       "28          Nevada       100.0\n",
       "27        Nebraska       100.0\n",
       "26         Montana       100.0\n",
       "24     Mississippi       100.0\n",
       "18       Louisiana       100.0\n",
       "25        Missouri       100.0\n",
       "50         Wyoming       100.0\n",
       "3         Arkansas       100.0\n",
       "23       Minnesota        99.0"
      ]
     },
     "execution_count": 65,
     "metadata": {},
     "output_type": "execute_result"
    }
   ],
   "source": [
    "# highest participation rate for ACT 2018\n",
    "final[['state','act_18_par']].sort_values(by='act_18_par', ascending = False).head(18)"
   ]
  },
  {
   "cell_type": "markdown",
   "metadata": {},
   "source": [
    "#### states with highest participation rate for ACT 2018: \n",
    "too many to list, please see above states with 100% participation"
   ]
  },
  {
   "cell_type": "code",
   "execution_count": 66,
   "metadata": {},
   "outputs": [
    {
     "data": {
      "text/html": [
       "<div>\n",
       "<style scoped>\n",
       "    .dataframe tbody tr th:only-of-type {\n",
       "        vertical-align: middle;\n",
       "    }\n",
       "\n",
       "    .dataframe tbody tr th {\n",
       "        vertical-align: top;\n",
       "    }\n",
       "\n",
       "    .dataframe thead th {\n",
       "        text-align: right;\n",
       "    }\n",
       "</style>\n",
       "<table border=\"1\" class=\"dataframe\">\n",
       "  <thead>\n",
       "    <tr style=\"text-align: right;\">\n",
       "      <th></th>\n",
       "      <th>state</th>\n",
       "      <th>sat_17_total</th>\n",
       "    </tr>\n",
       "  </thead>\n",
       "  <tbody>\n",
       "    <tr>\n",
       "      <th>8</th>\n",
       "      <td>District of Columbia</td>\n",
       "      <td>950</td>\n",
       "    </tr>\n",
       "    <tr>\n",
       "      <th>7</th>\n",
       "      <td>Delaware</td>\n",
       "      <td>996</td>\n",
       "    </tr>\n",
       "    <tr>\n",
       "      <th>12</th>\n",
       "      <td>Idaho</td>\n",
       "      <td>1005</td>\n",
       "    </tr>\n",
       "    <tr>\n",
       "      <th>22</th>\n",
       "      <td>Michigan</td>\n",
       "      <td>1005</td>\n",
       "    </tr>\n",
       "    <tr>\n",
       "      <th>19</th>\n",
       "      <td>Maine</td>\n",
       "      <td>1012</td>\n",
       "    </tr>\n",
       "  </tbody>\n",
       "</table>\n",
       "</div>"
      ],
      "text/plain": [
       "                   state  sat_17_total\n",
       "8   District of Columbia           950\n",
       "7               Delaware           996\n",
       "12                 Idaho          1005\n",
       "22              Michigan          1005\n",
       "19                 Maine          1012"
      ]
     },
     "execution_count": 66,
     "metadata": {},
     "output_type": "execute_result"
    }
   ],
   "source": [
    "# lowest mean total score for SAT 2017\n",
    "final[['state','sat_17_total']].sort_values(by='sat_17_total', ascending = True).head()"
   ]
  },
  {
   "cell_type": "markdown",
   "metadata": {},
   "source": [
    "### 3.3. States with highest and lowest mean total/composite scores"
   ]
  },
  {
   "cell_type": "markdown",
   "metadata": {},
   "source": [
    "#### states with lowest mean total score for SAT 2017: \n",
    "1. District of Columbia, \n",
    "2. Delaware, \n",
    "3. Idaho,\n",
    "4. Michigan,\n",
    "5. Maine"
   ]
  },
  {
   "cell_type": "code",
   "execution_count": 67,
   "metadata": {},
   "outputs": [
    {
     "data": {
      "text/html": [
       "<div>\n",
       "<style scoped>\n",
       "    .dataframe tbody tr th:only-of-type {\n",
       "        vertical-align: middle;\n",
       "    }\n",
       "\n",
       "    .dataframe tbody tr th {\n",
       "        vertical-align: top;\n",
       "    }\n",
       "\n",
       "    .dataframe thead th {\n",
       "        text-align: right;\n",
       "    }\n",
       "</style>\n",
       "<table border=\"1\" class=\"dataframe\">\n",
       "  <thead>\n",
       "    <tr style=\"text-align: right;\">\n",
       "      <th></th>\n",
       "      <th>state</th>\n",
       "      <th>sat_17_total</th>\n",
       "    </tr>\n",
       "  </thead>\n",
       "  <tbody>\n",
       "    <tr>\n",
       "      <th>23</th>\n",
       "      <td>Minnesota</td>\n",
       "      <td>1295</td>\n",
       "    </tr>\n",
       "    <tr>\n",
       "      <th>49</th>\n",
       "      <td>Wisconsin</td>\n",
       "      <td>1291</td>\n",
       "    </tr>\n",
       "    <tr>\n",
       "      <th>15</th>\n",
       "      <td>Iowa</td>\n",
       "      <td>1275</td>\n",
       "    </tr>\n",
       "    <tr>\n",
       "      <th>25</th>\n",
       "      <td>Missouri</td>\n",
       "      <td>1271</td>\n",
       "    </tr>\n",
       "    <tr>\n",
       "      <th>16</th>\n",
       "      <td>Kansas</td>\n",
       "      <td>1260</td>\n",
       "    </tr>\n",
       "  </tbody>\n",
       "</table>\n",
       "</div>"
      ],
      "text/plain": [
       "        state  sat_17_total\n",
       "23  Minnesota          1295\n",
       "49  Wisconsin          1291\n",
       "15       Iowa          1275\n",
       "25   Missouri          1271\n",
       "16     Kansas          1260"
      ]
     },
     "execution_count": 67,
     "metadata": {},
     "output_type": "execute_result"
    }
   ],
   "source": [
    "# highest mean total score for SAT 2017\n",
    "final[['state','sat_17_total']].sort_values(by='sat_17_total', ascending = False).head()"
   ]
  },
  {
   "cell_type": "markdown",
   "metadata": {},
   "source": [
    "#### states with highest mean total score for SAT 2017: \n",
    "1. Minnesota, \n",
    "2. Wisconsin,\n",
    "3. Iowa, \n",
    "4. Missouri,\n",
    "5. Kansas"
   ]
  },
  {
   "cell_type": "code",
   "execution_count": 68,
   "metadata": {},
   "outputs": [
    {
     "data": {
      "text/html": [
       "<div>\n",
       "<style scoped>\n",
       "    .dataframe tbody tr th:only-of-type {\n",
       "        vertical-align: middle;\n",
       "    }\n",
       "\n",
       "    .dataframe tbody tr th {\n",
       "        vertical-align: top;\n",
       "    }\n",
       "\n",
       "    .dataframe thead th {\n",
       "        text-align: right;\n",
       "    }\n",
       "</style>\n",
       "<table border=\"1\" class=\"dataframe\">\n",
       "  <thead>\n",
       "    <tr style=\"text-align: right;\">\n",
       "      <th></th>\n",
       "      <th>state</th>\n",
       "      <th>sat_18_total</th>\n",
       "    </tr>\n",
       "  </thead>\n",
       "  <tbody>\n",
       "    <tr>\n",
       "      <th>8</th>\n",
       "      <td>District of Columbia</td>\n",
       "      <td>977</td>\n",
       "    </tr>\n",
       "    <tr>\n",
       "      <th>7</th>\n",
       "      <td>Delaware</td>\n",
       "      <td>998</td>\n",
       "    </tr>\n",
       "    <tr>\n",
       "      <th>48</th>\n",
       "      <td>West Virginia</td>\n",
       "      <td>999</td>\n",
       "    </tr>\n",
       "    <tr>\n",
       "      <th>12</th>\n",
       "      <td>Idaho</td>\n",
       "      <td>1001</td>\n",
       "    </tr>\n",
       "    <tr>\n",
       "      <th>44</th>\n",
       "      <td>Utah</td>\n",
       "      <td>1010</td>\n",
       "    </tr>\n",
       "  </tbody>\n",
       "</table>\n",
       "</div>"
      ],
      "text/plain": [
       "                   state  sat_18_total\n",
       "8   District of Columbia           977\n",
       "7               Delaware           998\n",
       "48         West Virginia           999\n",
       "12                 Idaho          1001\n",
       "44                  Utah          1010"
      ]
     },
     "execution_count": 68,
     "metadata": {},
     "output_type": "execute_result"
    }
   ],
   "source": [
    "# lowest mean total score for SAT 2018\n",
    "final[['state','sat_18_total']].sort_values(by='sat_18_total', ascending = True).head()"
   ]
  },
  {
   "cell_type": "markdown",
   "metadata": {},
   "source": [
    "#### states with lowest mean total score for SAT 2018: \n",
    "1. District of Columbia, \n",
    "2. Delaware, \n",
    "3. West Virginia,\n",
    "4. Idaho,\n",
    "5. Utah"
   ]
  },
  {
   "cell_type": "code",
   "execution_count": 69,
   "metadata": {},
   "outputs": [
    {
     "data": {
      "text/html": [
       "<div>\n",
       "<style scoped>\n",
       "    .dataframe tbody tr th:only-of-type {\n",
       "        vertical-align: middle;\n",
       "    }\n",
       "\n",
       "    .dataframe tbody tr th {\n",
       "        vertical-align: top;\n",
       "    }\n",
       "\n",
       "    .dataframe thead th {\n",
       "        text-align: right;\n",
       "    }\n",
       "</style>\n",
       "<table border=\"1\" class=\"dataframe\">\n",
       "  <thead>\n",
       "    <tr style=\"text-align: right;\">\n",
       "      <th></th>\n",
       "      <th>state</th>\n",
       "      <th>sat_18_total</th>\n",
       "    </tr>\n",
       "  </thead>\n",
       "  <tbody>\n",
       "    <tr>\n",
       "      <th>23</th>\n",
       "      <td>Minnesota</td>\n",
       "      <td>1298</td>\n",
       "    </tr>\n",
       "    <tr>\n",
       "      <th>49</th>\n",
       "      <td>Wisconsin</td>\n",
       "      <td>1294</td>\n",
       "    </tr>\n",
       "    <tr>\n",
       "      <th>34</th>\n",
       "      <td>North Dakota</td>\n",
       "      <td>1283</td>\n",
       "    </tr>\n",
       "    <tr>\n",
       "      <th>15</th>\n",
       "      <td>Iowa</td>\n",
       "      <td>1265</td>\n",
       "    </tr>\n",
       "    <tr>\n",
       "      <th>16</th>\n",
       "      <td>Kansas</td>\n",
       "      <td>1265</td>\n",
       "    </tr>\n",
       "  </tbody>\n",
       "</table>\n",
       "</div>"
      ],
      "text/plain": [
       "           state  sat_18_total\n",
       "23     Minnesota          1298\n",
       "49     Wisconsin          1294\n",
       "34  North Dakota          1283\n",
       "15          Iowa          1265\n",
       "16        Kansas          1265"
      ]
     },
     "execution_count": 69,
     "metadata": {},
     "output_type": "execute_result"
    }
   ],
   "source": [
    "# highest mean total score for SAT 2018\n",
    "final[['state','sat_18_total']].sort_values(by='sat_18_total', ascending = False).head()"
   ]
  },
  {
   "cell_type": "markdown",
   "metadata": {},
   "source": [
    "#### states with highest mean total score for SAT 2018: \n",
    "1. Minnesota, \n",
    "2. Wisconsin, \n",
    "3. North Dakota,\n",
    "4. Iowa,\n",
    "5. Kansas"
   ]
  },
  {
   "cell_type": "code",
   "execution_count": 70,
   "metadata": {},
   "outputs": [
    {
     "data": {
      "text/html": [
       "<div>\n",
       "<style scoped>\n",
       "    .dataframe tbody tr th:only-of-type {\n",
       "        vertical-align: middle;\n",
       "    }\n",
       "\n",
       "    .dataframe tbody tr th {\n",
       "        vertical-align: top;\n",
       "    }\n",
       "\n",
       "    .dataframe thead th {\n",
       "        text-align: right;\n",
       "    }\n",
       "</style>\n",
       "<table border=\"1\" class=\"dataframe\">\n",
       "  <thead>\n",
       "    <tr style=\"text-align: right;\">\n",
       "      <th></th>\n",
       "      <th>state</th>\n",
       "      <th>act_17_compo</th>\n",
       "    </tr>\n",
       "  </thead>\n",
       "  <tbody>\n",
       "    <tr>\n",
       "      <th>28</th>\n",
       "      <td>Nevada</td>\n",
       "      <td>17.8</td>\n",
       "    </tr>\n",
       "    <tr>\n",
       "      <th>24</th>\n",
       "      <td>Mississippi</td>\n",
       "      <td>18.6</td>\n",
       "    </tr>\n",
       "    <tr>\n",
       "      <th>40</th>\n",
       "      <td>South Carolina</td>\n",
       "      <td>18.7</td>\n",
       "    </tr>\n",
       "    <tr>\n",
       "      <th>11</th>\n",
       "      <td>Hawaii</td>\n",
       "      <td>19.0</td>\n",
       "    </tr>\n",
       "    <tr>\n",
       "      <th>33</th>\n",
       "      <td>North Carolina</td>\n",
       "      <td>19.1</td>\n",
       "    </tr>\n",
       "  </tbody>\n",
       "</table>\n",
       "</div>"
      ],
      "text/plain": [
       "             state  act_17_compo\n",
       "28          Nevada          17.8\n",
       "24     Mississippi          18.6\n",
       "40  South Carolina          18.7\n",
       "11          Hawaii          19.0\n",
       "33  North Carolina          19.1"
      ]
     },
     "execution_count": 70,
     "metadata": {},
     "output_type": "execute_result"
    }
   ],
   "source": [
    "# lowest mean composite score for ACT 2017\n",
    "final[['state','act_17_compo']].sort_values(by='act_17_compo', ascending = True).head()"
   ]
  },
  {
   "cell_type": "markdown",
   "metadata": {},
   "source": [
    "#### states with lowest mean composite score for ACT 2017: \n",
    "1. Nevada, \n",
    "2. Mississippi, \n",
    "3. South Carolina,\n",
    "4. Hawaii,\n",
    "5. North Carolina"
   ]
  },
  {
   "cell_type": "code",
   "execution_count": 71,
   "metadata": {},
   "outputs": [
    {
     "data": {
      "text/html": [
       "<div>\n",
       "<style scoped>\n",
       "    .dataframe tbody tr th:only-of-type {\n",
       "        vertical-align: middle;\n",
       "    }\n",
       "\n",
       "    .dataframe tbody tr th {\n",
       "        vertical-align: top;\n",
       "    }\n",
       "\n",
       "    .dataframe thead th {\n",
       "        text-align: right;\n",
       "    }\n",
       "</style>\n",
       "<table border=\"1\" class=\"dataframe\">\n",
       "  <thead>\n",
       "    <tr style=\"text-align: right;\">\n",
       "      <th></th>\n",
       "      <th>state</th>\n",
       "      <th>act_17_compo</th>\n",
       "    </tr>\n",
       "  </thead>\n",
       "  <tbody>\n",
       "    <tr>\n",
       "      <th>29</th>\n",
       "      <td>New Hampshire</td>\n",
       "      <td>25.5</td>\n",
       "    </tr>\n",
       "    <tr>\n",
       "      <th>21</th>\n",
       "      <td>Massachusetts</td>\n",
       "      <td>25.4</td>\n",
       "    </tr>\n",
       "    <tr>\n",
       "      <th>6</th>\n",
       "      <td>Connecticut</td>\n",
       "      <td>25.2</td>\n",
       "    </tr>\n",
       "    <tr>\n",
       "      <th>19</th>\n",
       "      <td>Maine</td>\n",
       "      <td>24.3</td>\n",
       "    </tr>\n",
       "    <tr>\n",
       "      <th>8</th>\n",
       "      <td>District of Columbia</td>\n",
       "      <td>24.2</td>\n",
       "    </tr>\n",
       "  </tbody>\n",
       "</table>\n",
       "</div>"
      ],
      "text/plain": [
       "                   state  act_17_compo\n",
       "29         New Hampshire          25.5\n",
       "21         Massachusetts          25.4\n",
       "6            Connecticut          25.2\n",
       "19                 Maine          24.3\n",
       "8   District of Columbia          24.2"
      ]
     },
     "execution_count": 71,
     "metadata": {},
     "output_type": "execute_result"
    }
   ],
   "source": [
    "# highest mean composite score for ACT 2017\n",
    "final[['state','act_17_compo']].sort_values(by='act_17_compo', ascending = False).head()"
   ]
  },
  {
   "cell_type": "markdown",
   "metadata": {},
   "source": [
    "#### states with highest mean composite score for ACT 2017: \n",
    "1. Nevada, \n",
    "2. Mississippi, \n",
    "3. South Carolina,\n",
    "4. Maine,\n",
    "5. District of Columbia"
   ]
  },
  {
   "cell_type": "code",
   "execution_count": 72,
   "metadata": {},
   "outputs": [
    {
     "data": {
      "text/html": [
       "<div>\n",
       "<style scoped>\n",
       "    .dataframe tbody tr th:only-of-type {\n",
       "        vertical-align: middle;\n",
       "    }\n",
       "\n",
       "    .dataframe tbody tr th {\n",
       "        vertical-align: top;\n",
       "    }\n",
       "\n",
       "    .dataframe thead th {\n",
       "        text-align: right;\n",
       "    }\n",
       "</style>\n",
       "<table border=\"1\" class=\"dataframe\">\n",
       "  <thead>\n",
       "    <tr style=\"text-align: right;\">\n",
       "      <th></th>\n",
       "      <th>state</th>\n",
       "      <th>act_18_compo</th>\n",
       "    </tr>\n",
       "  </thead>\n",
       "  <tbody>\n",
       "    <tr>\n",
       "      <th>28</th>\n",
       "      <td>Nevada</td>\n",
       "      <td>17.7</td>\n",
       "    </tr>\n",
       "    <tr>\n",
       "      <th>40</th>\n",
       "      <td>South Carolina</td>\n",
       "      <td>18.3</td>\n",
       "    </tr>\n",
       "    <tr>\n",
       "      <th>24</th>\n",
       "      <td>Mississippi</td>\n",
       "      <td>18.6</td>\n",
       "    </tr>\n",
       "    <tr>\n",
       "      <th>11</th>\n",
       "      <td>Hawaii</td>\n",
       "      <td>18.9</td>\n",
       "    </tr>\n",
       "    <tr>\n",
       "      <th>0</th>\n",
       "      <td>Alabama</td>\n",
       "      <td>19.1</td>\n",
       "    </tr>\n",
       "  </tbody>\n",
       "</table>\n",
       "</div>"
      ],
      "text/plain": [
       "             state  act_18_compo\n",
       "28          Nevada          17.7\n",
       "40  South Carolina          18.3\n",
       "24     Mississippi          18.6\n",
       "11          Hawaii          18.9\n",
       "0          Alabama          19.1"
      ]
     },
     "execution_count": 72,
     "metadata": {},
     "output_type": "execute_result"
    }
   ],
   "source": [
    "# lowest mean composite score for ACT 2018\n",
    "final[['state','act_18_compo']].sort_values(by='act_18_compo', ascending = True).head()"
   ]
  },
  {
   "cell_type": "markdown",
   "metadata": {},
   "source": [
    "#### states with lowest mean composite score for ACT 2018: \n",
    "1. Nevada, \n",
    "2. South Carolina,\n",
    "3. Mississippi,\n",
    "4. Hawaii,\n",
    "5. Alabama"
   ]
  },
  {
   "cell_type": "code",
   "execution_count": 73,
   "metadata": {},
   "outputs": [
    {
     "data": {
      "text/html": [
       "<div>\n",
       "<style scoped>\n",
       "    .dataframe tbody tr th:only-of-type {\n",
       "        vertical-align: middle;\n",
       "    }\n",
       "\n",
       "    .dataframe tbody tr th {\n",
       "        vertical-align: top;\n",
       "    }\n",
       "\n",
       "    .dataframe thead th {\n",
       "        text-align: right;\n",
       "    }\n",
       "</style>\n",
       "<table border=\"1\" class=\"dataframe\">\n",
       "  <thead>\n",
       "    <tr style=\"text-align: right;\">\n",
       "      <th></th>\n",
       "      <th>state</th>\n",
       "      <th>act_18_compo</th>\n",
       "    </tr>\n",
       "  </thead>\n",
       "  <tbody>\n",
       "    <tr>\n",
       "      <th>6</th>\n",
       "      <td>Connecticut</td>\n",
       "      <td>25.6</td>\n",
       "    </tr>\n",
       "    <tr>\n",
       "      <th>21</th>\n",
       "      <td>Massachusetts</td>\n",
       "      <td>25.5</td>\n",
       "    </tr>\n",
       "    <tr>\n",
       "      <th>29</th>\n",
       "      <td>New Hampshire</td>\n",
       "      <td>25.1</td>\n",
       "    </tr>\n",
       "    <tr>\n",
       "      <th>32</th>\n",
       "      <td>New York</td>\n",
       "      <td>24.5</td>\n",
       "    </tr>\n",
       "    <tr>\n",
       "      <th>22</th>\n",
       "      <td>Michigan</td>\n",
       "      <td>24.4</td>\n",
       "    </tr>\n",
       "  </tbody>\n",
       "</table>\n",
       "</div>"
      ],
      "text/plain": [
       "            state  act_18_compo\n",
       "6     Connecticut          25.6\n",
       "21  Massachusetts          25.5\n",
       "29  New Hampshire          25.1\n",
       "32       New York          24.5\n",
       "22       Michigan          24.4"
      ]
     },
     "execution_count": 73,
     "metadata": {},
     "output_type": "execute_result"
    }
   ],
   "source": [
    "# highest mean composite score for ACT 2018\n",
    "final[['state','act_18_compo']].sort_values(by='act_18_compo', ascending = False).head()"
   ]
  },
  {
   "cell_type": "markdown",
   "metadata": {},
   "source": [
    "#### states with highest mean composite score for ACT 2018: \n",
    "1. Connecticut, \n",
    "2. Massachusetts,\n",
    "3. New Hampshire\n",
    "4. New York\n",
    "5. Michigan"
   ]
  },
  {
   "cell_type": "markdown",
   "metadata": {},
   "source": [
    "### 3.4. States with 100% participation and rate change year-to-year"
   ]
  },
  {
   "cell_type": "code",
   "execution_count": 74,
   "metadata": {
    "scrolled": true
   },
   "outputs": [
    {
     "data": {
      "text/html": [
       "<div>\n",
       "<style scoped>\n",
       "    .dataframe tbody tr th:only-of-type {\n",
       "        vertical-align: middle;\n",
       "    }\n",
       "\n",
       "    .dataframe tbody tr th {\n",
       "        vertical-align: top;\n",
       "    }\n",
       "\n",
       "    .dataframe thead th {\n",
       "        text-align: right;\n",
       "    }\n",
       "</style>\n",
       "<table border=\"1\" class=\"dataframe\">\n",
       "  <thead>\n",
       "    <tr style=\"text-align: right;\">\n",
       "      <th></th>\n",
       "      <th>state</th>\n",
       "      <th>sat_17_par</th>\n",
       "      <th>sat_18_par</th>\n",
       "    </tr>\n",
       "  </thead>\n",
       "  <tbody>\n",
       "    <tr>\n",
       "      <th>5</th>\n",
       "      <td>Colorado</td>\n",
       "      <td>11.0</td>\n",
       "      <td>100.0</td>\n",
       "    </tr>\n",
       "    <tr>\n",
       "      <th>8</th>\n",
       "      <td>District of Columbia</td>\n",
       "      <td>100.0</td>\n",
       "      <td>92.0</td>\n",
       "    </tr>\n",
       "    <tr>\n",
       "      <th>12</th>\n",
       "      <td>Idaho</td>\n",
       "      <td>93.0</td>\n",
       "      <td>100.0</td>\n",
       "    </tr>\n",
       "  </tbody>\n",
       "</table>\n",
       "</div>"
      ],
      "text/plain": [
       "                   state  sat_17_par  sat_18_par\n",
       "5               Colorado        11.0       100.0\n",
       "8   District of Columbia       100.0        92.0\n",
       "12                 Idaho        93.0       100.0"
      ]
     },
     "execution_count": 74,
     "metadata": {},
     "output_type": "execute_result"
    }
   ],
   "source": [
    "# Do any states with 100% participation on a given test and have a rate change year-to-year?\n",
    "\n",
    "# filter any state with 100% participation in SAT in 1 year but not the other year\n",
    "\n",
    "sat_100p = final[((final['sat_17_par'] == 100.0) & (final['sat_18_par'] != 100.0)) | \\\n",
    "                  (final['sat_17_par'] != 100.0) & (final['sat_18_par'] == 100.0)]\n",
    "sat_100p[['state','sat_17_par','sat_18_par']]"
   ]
  },
  {
   "cell_type": "markdown",
   "metadata": {},
   "source": [
    "#### states with 100% participation in SAT and rate change year-to-year\n",
    "1. Colorado\n",
    "2. District of Columbia\n",
    "3. Idaho"
   ]
  },
  {
   "cell_type": "code",
   "execution_count": 75,
   "metadata": {},
   "outputs": [
    {
     "data": {
      "text/html": [
       "<div>\n",
       "<style scoped>\n",
       "    .dataframe tbody tr th:only-of-type {\n",
       "        vertical-align: middle;\n",
       "    }\n",
       "\n",
       "    .dataframe tbody tr th {\n",
       "        vertical-align: top;\n",
       "    }\n",
       "\n",
       "    .dataframe thead th {\n",
       "        text-align: right;\n",
       "    }\n",
       "</style>\n",
       "<table border=\"1\" class=\"dataframe\">\n",
       "  <thead>\n",
       "    <tr style=\"text-align: right;\">\n",
       "      <th></th>\n",
       "      <th>state</th>\n",
       "      <th>act_17_par</th>\n",
       "      <th>act_18_par</th>\n",
       "    </tr>\n",
       "  </thead>\n",
       "  <tbody>\n",
       "    <tr>\n",
       "      <th>5</th>\n",
       "      <td>Colorado</td>\n",
       "      <td>100.0</td>\n",
       "      <td>30.0</td>\n",
       "    </tr>\n",
       "    <tr>\n",
       "      <th>23</th>\n",
       "      <td>Minnesota</td>\n",
       "      <td>100.0</td>\n",
       "      <td>99.0</td>\n",
       "    </tr>\n",
       "    <tr>\n",
       "      <th>27</th>\n",
       "      <td>Nebraska</td>\n",
       "      <td>84.0</td>\n",
       "      <td>100.0</td>\n",
       "    </tr>\n",
       "    <tr>\n",
       "      <th>35</th>\n",
       "      <td>Ohio</td>\n",
       "      <td>75.0</td>\n",
       "      <td>100.0</td>\n",
       "    </tr>\n",
       "  </tbody>\n",
       "</table>\n",
       "</div>"
      ],
      "text/plain": [
       "        state  act_17_par  act_18_par\n",
       "5    Colorado       100.0        30.0\n",
       "23  Minnesota       100.0        99.0\n",
       "27   Nebraska        84.0       100.0\n",
       "35       Ohio        75.0       100.0"
      ]
     },
     "execution_count": 75,
     "metadata": {},
     "output_type": "execute_result"
    }
   ],
   "source": [
    "# filter any state with 100% participation in ACT in 1 year but not the other year\n",
    "\n",
    "act_100p = final[((final['act_17_par'] == 100.0) & (final['act_18_par'] != 100.0)) | \\\n",
    "                  (final['act_17_par'] != 100.0) & (final['act_18_par'] == 100.0)]\n",
    "act_100p[['state','act_17_par','act_18_par']]"
   ]
  },
  {
   "cell_type": "markdown",
   "metadata": {},
   "source": [
    "#### states with 100% participation in ACT and rate change year-to-year\n",
    "1. Colorado\n",
    "2. Minnesota\n",
    "3. Nebraska\n",
    "4. Ohio"
   ]
  },
  {
   "cell_type": "markdown",
   "metadata": {},
   "source": [
    "### 3.5. States with More Than 50% Participation on Both Tests Either Year"
   ]
  },
  {
   "cell_type": "code",
   "execution_count": 76,
   "metadata": {},
   "outputs": [],
   "source": [
    "# Do any states show have >50% participation on both tests either year?"
   ]
  },
  {
   "cell_type": "code",
   "execution_count": 77,
   "metadata": {},
   "outputs": [
    {
     "data": {
      "text/html": [
       "<div>\n",
       "<style scoped>\n",
       "    .dataframe tbody tr th:only-of-type {\n",
       "        vertical-align: middle;\n",
       "    }\n",
       "\n",
       "    .dataframe tbody tr th {\n",
       "        vertical-align: top;\n",
       "    }\n",
       "\n",
       "    .dataframe thead th {\n",
       "        text-align: right;\n",
       "    }\n",
       "</style>\n",
       "<table border=\"1\" class=\"dataframe\">\n",
       "  <thead>\n",
       "    <tr style=\"text-align: right;\">\n",
       "      <th></th>\n",
       "      <th>state</th>\n",
       "      <th>sat_17_par</th>\n",
       "      <th>act_17_par</th>\n",
       "      <th>sat_18_par</th>\n",
       "      <th>act_18_par</th>\n",
       "    </tr>\n",
       "  </thead>\n",
       "  <tbody>\n",
       "    <tr>\n",
       "      <th>9</th>\n",
       "      <td>Florida</td>\n",
       "      <td>83.0</td>\n",
       "      <td>73.0</td>\n",
       "      <td>56.0</td>\n",
       "      <td>66.0</td>\n",
       "    </tr>\n",
       "    <tr>\n",
       "      <th>10</th>\n",
       "      <td>Georgia</td>\n",
       "      <td>61.0</td>\n",
       "      <td>55.0</td>\n",
       "      <td>70.0</td>\n",
       "      <td>53.0</td>\n",
       "    </tr>\n",
       "    <tr>\n",
       "      <th>11</th>\n",
       "      <td>Hawaii</td>\n",
       "      <td>55.0</td>\n",
       "      <td>90.0</td>\n",
       "      <td>56.0</td>\n",
       "      <td>89.0</td>\n",
       "    </tr>\n",
       "    <tr>\n",
       "      <th>33</th>\n",
       "      <td>North Carolina</td>\n",
       "      <td>49.0</td>\n",
       "      <td>100.0</td>\n",
       "      <td>52.0</td>\n",
       "      <td>100.0</td>\n",
       "    </tr>\n",
       "    <tr>\n",
       "      <th>40</th>\n",
       "      <td>South Carolina</td>\n",
       "      <td>50.0</td>\n",
       "      <td>100.0</td>\n",
       "      <td>55.0</td>\n",
       "      <td>100.0</td>\n",
       "    </tr>\n",
       "  </tbody>\n",
       "</table>\n",
       "</div>"
      ],
      "text/plain": [
       "             state  sat_17_par  act_17_par  sat_18_par  act_18_par\n",
       "9          Florida        83.0        73.0        56.0        66.0\n",
       "10         Georgia        61.0        55.0        70.0        53.0\n",
       "11          Hawaii        55.0        90.0        56.0        89.0\n",
       "33  North Carolina        49.0       100.0        52.0       100.0\n",
       "40  South Carolina        50.0       100.0        55.0       100.0"
      ]
     },
     "execution_count": 77,
     "metadata": {},
     "output_type": "execute_result"
    }
   ],
   "source": [
    "sat_act_50p = final[((final['sat_17_par'] >= 50.0) & (final['act_17_par'] >= 50.0)) | \\\n",
    "                 (final['sat_18_par'] >= 50.0) & (final['act_18_par'] >= 50.0)]\n",
    "sat_act_50p[['state','sat_17_par','act_17_par','sat_18_par','act_18_par']]"
   ]
  },
  {
   "cell_type": "markdown",
   "metadata": {},
   "source": [
    "#### states with >50% participation on both tests in 2017:\n",
    "1. Florida\n",
    "2. Georgia\n",
    "3. Hawaii\n",
    "4. North Carolina\n",
    "5. South Carolina\n"
   ]
  },
  {
   "cell_type": "markdown",
   "metadata": {},
   "source": [
    "#### 3.6. Additional Observations on Participation Rates"
   ]
  },
  {
   "cell_type": "code",
   "execution_count": 78,
   "metadata": {},
   "outputs": [
    {
     "data": {
      "text/html": [
       "<div>\n",
       "<style scoped>\n",
       "    .dataframe tbody tr th:only-of-type {\n",
       "        vertical-align: middle;\n",
       "    }\n",
       "\n",
       "    .dataframe tbody tr th {\n",
       "        vertical-align: top;\n",
       "    }\n",
       "\n",
       "    .dataframe thead th {\n",
       "        text-align: right;\n",
       "    }\n",
       "</style>\n",
       "<table border=\"1\" class=\"dataframe\">\n",
       "  <thead>\n",
       "    <tr style=\"text-align: right;\">\n",
       "      <th></th>\n",
       "      <th>state</th>\n",
       "      <th>sat_17_par</th>\n",
       "      <th>sat_18_par</th>\n",
       "      <th>act_17_par</th>\n",
       "      <th>act_18_par</th>\n",
       "    </tr>\n",
       "  </thead>\n",
       "  <tbody>\n",
       "    <tr>\n",
       "      <th>8</th>\n",
       "      <td>District of Columbia</td>\n",
       "      <td>100.0</td>\n",
       "      <td>92.0</td>\n",
       "      <td>32.0</td>\n",
       "      <td>32.0</td>\n",
       "    </tr>\n",
       "    <tr>\n",
       "      <th>6</th>\n",
       "      <td>Connecticut</td>\n",
       "      <td>100.0</td>\n",
       "      <td>100.0</td>\n",
       "      <td>31.0</td>\n",
       "      <td>26.0</td>\n",
       "    </tr>\n",
       "    <tr>\n",
       "      <th>22</th>\n",
       "      <td>Michigan</td>\n",
       "      <td>100.0</td>\n",
       "      <td>100.0</td>\n",
       "      <td>29.0</td>\n",
       "      <td>22.0</td>\n",
       "    </tr>\n",
       "    <tr>\n",
       "      <th>7</th>\n",
       "      <td>Delaware</td>\n",
       "      <td>100.0</td>\n",
       "      <td>100.0</td>\n",
       "      <td>18.0</td>\n",
       "      <td>17.0</td>\n",
       "    </tr>\n",
       "    <tr>\n",
       "      <th>29</th>\n",
       "      <td>New Hampshire</td>\n",
       "      <td>96.0</td>\n",
       "      <td>96.0</td>\n",
       "      <td>18.0</td>\n",
       "      <td>16.0</td>\n",
       "    </tr>\n",
       "    <tr>\n",
       "      <th>19</th>\n",
       "      <td>Maine</td>\n",
       "      <td>95.0</td>\n",
       "      <td>99.0</td>\n",
       "      <td>8.0</td>\n",
       "      <td>7.0</td>\n",
       "    </tr>\n",
       "    <tr>\n",
       "      <th>12</th>\n",
       "      <td>Idaho</td>\n",
       "      <td>93.0</td>\n",
       "      <td>100.0</td>\n",
       "      <td>38.0</td>\n",
       "      <td>36.0</td>\n",
       "    </tr>\n",
       "    <tr>\n",
       "      <th>9</th>\n",
       "      <td>Florida</td>\n",
       "      <td>83.0</td>\n",
       "      <td>56.0</td>\n",
       "      <td>73.0</td>\n",
       "      <td>66.0</td>\n",
       "    </tr>\n",
       "    <tr>\n",
       "      <th>21</th>\n",
       "      <td>Massachusetts</td>\n",
       "      <td>76.0</td>\n",
       "      <td>80.0</td>\n",
       "      <td>29.0</td>\n",
       "      <td>25.0</td>\n",
       "    </tr>\n",
       "    <tr>\n",
       "      <th>39</th>\n",
       "      <td>Rhode Island</td>\n",
       "      <td>71.0</td>\n",
       "      <td>97.0</td>\n",
       "      <td>21.0</td>\n",
       "      <td>15.0</td>\n",
       "    </tr>\n",
       "    <tr>\n",
       "      <th>30</th>\n",
       "      <td>New Jersey</td>\n",
       "      <td>70.0</td>\n",
       "      <td>82.0</td>\n",
       "      <td>34.0</td>\n",
       "      <td>31.0</td>\n",
       "    </tr>\n",
       "    <tr>\n",
       "      <th>20</th>\n",
       "      <td>Maryland</td>\n",
       "      <td>69.0</td>\n",
       "      <td>76.0</td>\n",
       "      <td>28.0</td>\n",
       "      <td>31.0</td>\n",
       "    </tr>\n",
       "    <tr>\n",
       "      <th>32</th>\n",
       "      <td>New York</td>\n",
       "      <td>67.0</td>\n",
       "      <td>79.0</td>\n",
       "      <td>31.0</td>\n",
       "      <td>27.0</td>\n",
       "    </tr>\n",
       "    <tr>\n",
       "      <th>46</th>\n",
       "      <td>Virginia</td>\n",
       "      <td>65.0</td>\n",
       "      <td>68.0</td>\n",
       "      <td>29.0</td>\n",
       "      <td>24.0</td>\n",
       "    </tr>\n",
       "    <tr>\n",
       "      <th>38</th>\n",
       "      <td>Pennsylvania</td>\n",
       "      <td>65.0</td>\n",
       "      <td>70.0</td>\n",
       "      <td>23.0</td>\n",
       "      <td>20.0</td>\n",
       "    </tr>\n",
       "    <tr>\n",
       "      <th>47</th>\n",
       "      <td>Washington</td>\n",
       "      <td>64.0</td>\n",
       "      <td>69.0</td>\n",
       "      <td>29.0</td>\n",
       "      <td>24.0</td>\n",
       "    </tr>\n",
       "    <tr>\n",
       "      <th>14</th>\n",
       "      <td>Indiana</td>\n",
       "      <td>63.0</td>\n",
       "      <td>63.0</td>\n",
       "      <td>35.0</td>\n",
       "      <td>32.0</td>\n",
       "    </tr>\n",
       "    <tr>\n",
       "      <th>43</th>\n",
       "      <td>Texas</td>\n",
       "      <td>62.0</td>\n",
       "      <td>66.0</td>\n",
       "      <td>45.0</td>\n",
       "      <td>41.0</td>\n",
       "    </tr>\n",
       "    <tr>\n",
       "      <th>10</th>\n",
       "      <td>Georgia</td>\n",
       "      <td>61.0</td>\n",
       "      <td>70.0</td>\n",
       "      <td>55.0</td>\n",
       "      <td>53.0</td>\n",
       "    </tr>\n",
       "    <tr>\n",
       "      <th>45</th>\n",
       "      <td>Vermont</td>\n",
       "      <td>60.0</td>\n",
       "      <td>64.0</td>\n",
       "      <td>29.0</td>\n",
       "      <td>24.0</td>\n",
       "    </tr>\n",
       "    <tr>\n",
       "      <th>11</th>\n",
       "      <td>Hawaii</td>\n",
       "      <td>55.0</td>\n",
       "      <td>56.0</td>\n",
       "      <td>90.0</td>\n",
       "      <td>89.0</td>\n",
       "    </tr>\n",
       "    <tr>\n",
       "      <th>4</th>\n",
       "      <td>California</td>\n",
       "      <td>53.0</td>\n",
       "      <td>60.0</td>\n",
       "      <td>31.0</td>\n",
       "      <td>27.0</td>\n",
       "    </tr>\n",
       "    <tr>\n",
       "      <th>40</th>\n",
       "      <td>South Carolina</td>\n",
       "      <td>50.0</td>\n",
       "      <td>55.0</td>\n",
       "      <td>100.0</td>\n",
       "      <td>100.0</td>\n",
       "    </tr>\n",
       "    <tr>\n",
       "      <th>33</th>\n",
       "      <td>North Carolina</td>\n",
       "      <td>49.0</td>\n",
       "      <td>52.0</td>\n",
       "      <td>100.0</td>\n",
       "      <td>100.0</td>\n",
       "    </tr>\n",
       "    <tr>\n",
       "      <th>37</th>\n",
       "      <td>Oregon</td>\n",
       "      <td>43.0</td>\n",
       "      <td>48.0</td>\n",
       "      <td>40.0</td>\n",
       "      <td>42.0</td>\n",
       "    </tr>\n",
       "    <tr>\n",
       "      <th>1</th>\n",
       "      <td>Alaska</td>\n",
       "      <td>38.0</td>\n",
       "      <td>43.0</td>\n",
       "      <td>65.0</td>\n",
       "      <td>33.0</td>\n",
       "    </tr>\n",
       "    <tr>\n",
       "      <th>2</th>\n",
       "      <td>Arizona</td>\n",
       "      <td>30.0</td>\n",
       "      <td>29.0</td>\n",
       "      <td>62.0</td>\n",
       "      <td>66.0</td>\n",
       "    </tr>\n",
       "    <tr>\n",
       "      <th>28</th>\n",
       "      <td>Nevada</td>\n",
       "      <td>26.0</td>\n",
       "      <td>23.0</td>\n",
       "      <td>100.0</td>\n",
       "      <td>100.0</td>\n",
       "    </tr>\n",
       "    <tr>\n",
       "      <th>48</th>\n",
       "      <td>West Virginia</td>\n",
       "      <td>14.0</td>\n",
       "      <td>28.0</td>\n",
       "      <td>69.0</td>\n",
       "      <td>65.0</td>\n",
       "    </tr>\n",
       "    <tr>\n",
       "      <th>35</th>\n",
       "      <td>Ohio</td>\n",
       "      <td>12.0</td>\n",
       "      <td>18.0</td>\n",
       "      <td>75.0</td>\n",
       "      <td>100.0</td>\n",
       "    </tr>\n",
       "    <tr>\n",
       "      <th>5</th>\n",
       "      <td>Colorado</td>\n",
       "      <td>11.0</td>\n",
       "      <td>100.0</td>\n",
       "      <td>100.0</td>\n",
       "      <td>30.0</td>\n",
       "    </tr>\n",
       "    <tr>\n",
       "      <th>31</th>\n",
       "      <td>New Mexico</td>\n",
       "      <td>11.0</td>\n",
       "      <td>16.0</td>\n",
       "      <td>66.0</td>\n",
       "      <td>67.0</td>\n",
       "    </tr>\n",
       "    <tr>\n",
       "      <th>26</th>\n",
       "      <td>Montana</td>\n",
       "      <td>10.0</td>\n",
       "      <td>10.0</td>\n",
       "      <td>100.0</td>\n",
       "      <td>100.0</td>\n",
       "    </tr>\n",
       "    <tr>\n",
       "      <th>13</th>\n",
       "      <td>Illinois</td>\n",
       "      <td>9.0</td>\n",
       "      <td>99.0</td>\n",
       "      <td>93.0</td>\n",
       "      <td>43.0</td>\n",
       "    </tr>\n",
       "    <tr>\n",
       "      <th>36</th>\n",
       "      <td>Oklahoma</td>\n",
       "      <td>7.0</td>\n",
       "      <td>8.0</td>\n",
       "      <td>100.0</td>\n",
       "      <td>100.0</td>\n",
       "    </tr>\n",
       "    <tr>\n",
       "      <th>0</th>\n",
       "      <td>Alabama</td>\n",
       "      <td>5.0</td>\n",
       "      <td>6.0</td>\n",
       "      <td>100.0</td>\n",
       "      <td>100.0</td>\n",
       "    </tr>\n",
       "    <tr>\n",
       "      <th>42</th>\n",
       "      <td>Tennessee</td>\n",
       "      <td>5.0</td>\n",
       "      <td>6.0</td>\n",
       "      <td>100.0</td>\n",
       "      <td>100.0</td>\n",
       "    </tr>\n",
       "    <tr>\n",
       "      <th>17</th>\n",
       "      <td>Kentucky</td>\n",
       "      <td>4.0</td>\n",
       "      <td>4.0</td>\n",
       "      <td>100.0</td>\n",
       "      <td>100.0</td>\n",
       "    </tr>\n",
       "    <tr>\n",
       "      <th>18</th>\n",
       "      <td>Louisiana</td>\n",
       "      <td>4.0</td>\n",
       "      <td>4.0</td>\n",
       "      <td>100.0</td>\n",
       "      <td>100.0</td>\n",
       "    </tr>\n",
       "    <tr>\n",
       "      <th>16</th>\n",
       "      <td>Kansas</td>\n",
       "      <td>4.0</td>\n",
       "      <td>4.0</td>\n",
       "      <td>73.0</td>\n",
       "      <td>71.0</td>\n",
       "    </tr>\n",
       "    <tr>\n",
       "      <th>3</th>\n",
       "      <td>Arkansas</td>\n",
       "      <td>3.0</td>\n",
       "      <td>5.0</td>\n",
       "      <td>100.0</td>\n",
       "      <td>100.0</td>\n",
       "    </tr>\n",
       "    <tr>\n",
       "      <th>23</th>\n",
       "      <td>Minnesota</td>\n",
       "      <td>3.0</td>\n",
       "      <td>4.0</td>\n",
       "      <td>100.0</td>\n",
       "      <td>99.0</td>\n",
       "    </tr>\n",
       "    <tr>\n",
       "      <th>25</th>\n",
       "      <td>Missouri</td>\n",
       "      <td>3.0</td>\n",
       "      <td>4.0</td>\n",
       "      <td>100.0</td>\n",
       "      <td>100.0</td>\n",
       "    </tr>\n",
       "    <tr>\n",
       "      <th>44</th>\n",
       "      <td>Utah</td>\n",
       "      <td>3.0</td>\n",
       "      <td>4.0</td>\n",
       "      <td>100.0</td>\n",
       "      <td>100.0</td>\n",
       "    </tr>\n",
       "    <tr>\n",
       "      <th>49</th>\n",
       "      <td>Wisconsin</td>\n",
       "      <td>3.0</td>\n",
       "      <td>3.0</td>\n",
       "      <td>100.0</td>\n",
       "      <td>100.0</td>\n",
       "    </tr>\n",
       "    <tr>\n",
       "      <th>50</th>\n",
       "      <td>Wyoming</td>\n",
       "      <td>3.0</td>\n",
       "      <td>3.0</td>\n",
       "      <td>100.0</td>\n",
       "      <td>100.0</td>\n",
       "    </tr>\n",
       "    <tr>\n",
       "      <th>27</th>\n",
       "      <td>Nebraska</td>\n",
       "      <td>3.0</td>\n",
       "      <td>3.0</td>\n",
       "      <td>84.0</td>\n",
       "      <td>100.0</td>\n",
       "    </tr>\n",
       "    <tr>\n",
       "      <th>41</th>\n",
       "      <td>South Dakota</td>\n",
       "      <td>3.0</td>\n",
       "      <td>3.0</td>\n",
       "      <td>80.0</td>\n",
       "      <td>77.0</td>\n",
       "    </tr>\n",
       "    <tr>\n",
       "      <th>24</th>\n",
       "      <td>Mississippi</td>\n",
       "      <td>2.0</td>\n",
       "      <td>3.0</td>\n",
       "      <td>100.0</td>\n",
       "      <td>100.0</td>\n",
       "    </tr>\n",
       "    <tr>\n",
       "      <th>34</th>\n",
       "      <td>North Dakota</td>\n",
       "      <td>2.0</td>\n",
       "      <td>2.0</td>\n",
       "      <td>98.0</td>\n",
       "      <td>98.0</td>\n",
       "    </tr>\n",
       "    <tr>\n",
       "      <th>15</th>\n",
       "      <td>Iowa</td>\n",
       "      <td>2.0</td>\n",
       "      <td>3.0</td>\n",
       "      <td>67.0</td>\n",
       "      <td>68.0</td>\n",
       "    </tr>\n",
       "  </tbody>\n",
       "</table>\n",
       "</div>"
      ],
      "text/plain": [
       "                   state  sat_17_par  sat_18_par  act_17_par  act_18_par\n",
       "8   District of Columbia       100.0        92.0        32.0        32.0\n",
       "6            Connecticut       100.0       100.0        31.0        26.0\n",
       "22              Michigan       100.0       100.0        29.0        22.0\n",
       "7               Delaware       100.0       100.0        18.0        17.0\n",
       "29         New Hampshire        96.0        96.0        18.0        16.0\n",
       "19                 Maine        95.0        99.0         8.0         7.0\n",
       "12                 Idaho        93.0       100.0        38.0        36.0\n",
       "9                Florida        83.0        56.0        73.0        66.0\n",
       "21         Massachusetts        76.0        80.0        29.0        25.0\n",
       "39          Rhode Island        71.0        97.0        21.0        15.0\n",
       "30            New Jersey        70.0        82.0        34.0        31.0\n",
       "20              Maryland        69.0        76.0        28.0        31.0\n",
       "32              New York        67.0        79.0        31.0        27.0\n",
       "46              Virginia        65.0        68.0        29.0        24.0\n",
       "38          Pennsylvania        65.0        70.0        23.0        20.0\n",
       "47            Washington        64.0        69.0        29.0        24.0\n",
       "14               Indiana        63.0        63.0        35.0        32.0\n",
       "43                 Texas        62.0        66.0        45.0        41.0\n",
       "10               Georgia        61.0        70.0        55.0        53.0\n",
       "45               Vermont        60.0        64.0        29.0        24.0\n",
       "11                Hawaii        55.0        56.0        90.0        89.0\n",
       "4             California        53.0        60.0        31.0        27.0\n",
       "40        South Carolina        50.0        55.0       100.0       100.0\n",
       "33        North Carolina        49.0        52.0       100.0       100.0\n",
       "37                Oregon        43.0        48.0        40.0        42.0\n",
       "1                 Alaska        38.0        43.0        65.0        33.0\n",
       "2                Arizona        30.0        29.0        62.0        66.0\n",
       "28                Nevada        26.0        23.0       100.0       100.0\n",
       "48         West Virginia        14.0        28.0        69.0        65.0\n",
       "35                  Ohio        12.0        18.0        75.0       100.0\n",
       "5               Colorado        11.0       100.0       100.0        30.0\n",
       "31            New Mexico        11.0        16.0        66.0        67.0\n",
       "26               Montana        10.0        10.0       100.0       100.0\n",
       "13              Illinois         9.0        99.0        93.0        43.0\n",
       "36              Oklahoma         7.0         8.0       100.0       100.0\n",
       "0                Alabama         5.0         6.0       100.0       100.0\n",
       "42             Tennessee         5.0         6.0       100.0       100.0\n",
       "17              Kentucky         4.0         4.0       100.0       100.0\n",
       "18             Louisiana         4.0         4.0       100.0       100.0\n",
       "16                Kansas         4.0         4.0        73.0        71.0\n",
       "3               Arkansas         3.0         5.0       100.0       100.0\n",
       "23             Minnesota         3.0         4.0       100.0        99.0\n",
       "25              Missouri         3.0         4.0       100.0       100.0\n",
       "44                  Utah         3.0         4.0       100.0       100.0\n",
       "49             Wisconsin         3.0         3.0       100.0       100.0\n",
       "50               Wyoming         3.0         3.0       100.0       100.0\n",
       "27              Nebraska         3.0         3.0        84.0       100.0\n",
       "41          South Dakota         3.0         3.0        80.0        77.0\n",
       "24           Mississippi         2.0         3.0       100.0       100.0\n",
       "34          North Dakota         2.0         2.0        98.0        98.0\n",
       "15                  Iowa         2.0         3.0        67.0        68.0"
      ]
     },
     "execution_count": 78,
     "metadata": {},
     "output_type": "execute_result"
    }
   ],
   "source": [
    "# compare all 4 participation rates at a glance and sort by all 4 participation rates\n",
    "\n",
    "comb_par_rates = final[['state','sat_17_par','sat_18_par','act_17_par','act_18_par']]\\\n",
    "                .sort_values(by = ['sat_17_par','act_17_par'], ascending = False)\n",
    "comb_par_rates"
   ]
  },
  {
   "cell_type": "markdown",
   "metadata": {},
   "source": [
    "#### Additional findings at a glance:\n",
    "1. Most states show preference towards one particular test and the participation rates changed by small amount (less than 10%) year on year.\n",
    "2. For states which favour SAT, participation in ACT was still in double digit range except Maine with very high SAT and very low ACT participation.\n",
    "3. On the contrary, almost all states which favour ACT had very low SAT participation in the single digit range.\n",
    "4. A few states exhibit large swings from one test to another from 2017 to 2018. "
   ]
  },
  {
   "cell_type": "code",
   "execution_count": 79,
   "metadata": {},
   "outputs": [
    {
     "data": {
      "text/html": [
       "<div>\n",
       "<style scoped>\n",
       "    .dataframe tbody tr th:only-of-type {\n",
       "        vertical-align: middle;\n",
       "    }\n",
       "\n",
       "    .dataframe tbody tr th {\n",
       "        vertical-align: top;\n",
       "    }\n",
       "\n",
       "    .dataframe thead th {\n",
       "        text-align: right;\n",
       "    }\n",
       "</style>\n",
       "<table border=\"1\" class=\"dataframe\">\n",
       "  <thead>\n",
       "    <tr style=\"text-align: right;\">\n",
       "      <th></th>\n",
       "      <th>state</th>\n",
       "      <th>sat_change_par</th>\n",
       "      <th>act_change_par</th>\n",
       "    </tr>\n",
       "  </thead>\n",
       "  <tbody>\n",
       "    <tr>\n",
       "      <th>5</th>\n",
       "      <td>Colorado</td>\n",
       "      <td>89.0</td>\n",
       "      <td>-70.0</td>\n",
       "    </tr>\n",
       "    <tr>\n",
       "      <th>13</th>\n",
       "      <td>Illinois</td>\n",
       "      <td>90.0</td>\n",
       "      <td>-50.0</td>\n",
       "    </tr>\n",
       "    <tr>\n",
       "      <th>27</th>\n",
       "      <td>Nebraska</td>\n",
       "      <td>0.0</td>\n",
       "      <td>16.0</td>\n",
       "    </tr>\n",
       "    <tr>\n",
       "      <th>30</th>\n",
       "      <td>New Jersey</td>\n",
       "      <td>12.0</td>\n",
       "      <td>-3.0</td>\n",
       "    </tr>\n",
       "    <tr>\n",
       "      <th>32</th>\n",
       "      <td>New York</td>\n",
       "      <td>12.0</td>\n",
       "      <td>-4.0</td>\n",
       "    </tr>\n",
       "    <tr>\n",
       "      <th>35</th>\n",
       "      <td>Ohio</td>\n",
       "      <td>6.0</td>\n",
       "      <td>25.0</td>\n",
       "    </tr>\n",
       "    <tr>\n",
       "      <th>39</th>\n",
       "      <td>Rhode Island</td>\n",
       "      <td>26.0</td>\n",
       "      <td>-6.0</td>\n",
       "    </tr>\n",
       "    <tr>\n",
       "      <th>48</th>\n",
       "      <td>West Virginia</td>\n",
       "      <td>14.0</td>\n",
       "      <td>-4.0</td>\n",
       "    </tr>\n",
       "  </tbody>\n",
       "</table>\n",
       "</div>"
      ],
      "text/plain": [
       "            state  sat_change_par  act_change_par\n",
       "5        Colorado            89.0           -70.0\n",
       "13       Illinois            90.0           -50.0\n",
       "27       Nebraska             0.0            16.0\n",
       "30     New Jersey            12.0            -3.0\n",
       "32       New York            12.0            -4.0\n",
       "35           Ohio             6.0            25.0\n",
       "39   Rhode Island            26.0            -6.0\n",
       "48  West Virginia            14.0            -4.0"
      ]
     },
     "execution_count": 79,
     "metadata": {},
     "output_type": "execute_result"
    }
   ],
   "source": [
    "# filter states showing large change in participation rate from 2017 to 2018 for each test\n",
    "\n",
    "# new columns for change in participation rate from 2017 to 2018\n",
    "final['sat_change_par'] = final['sat_18_par']-final['sat_17_par']\n",
    "final['act_change_par'] = final['act_18_par']-final['act_17_par']\n",
    "\n",
    "change_par = final[['state','sat_change_par','act_change_par']]\n",
    "\n",
    "# filter states with change in participation rate exceeding 10.0%\n",
    "large_change_par = change_par[(change_par['sat_change_par']>=10.0) | (change_par['act_change_par']>=10.0)]\n",
    "large_change_par"
   ]
  },
  {
   "cell_type": "markdown",
   "metadata": {},
   "source": [
    "#### observations: \n",
    "1. Colorado and Illinois are of particular interest as they appear to have significant shift from ACT to SAT. \n"
   ]
  },
  {
   "cell_type": "code",
   "execution_count": 80,
   "metadata": {
    "scrolled": true
   },
   "outputs": [
    {
     "data": {
      "text/html": [
       "<div>\n",
       "<style scoped>\n",
       "    .dataframe tbody tr th:only-of-type {\n",
       "        vertical-align: middle;\n",
       "    }\n",
       "\n",
       "    .dataframe tbody tr th {\n",
       "        vertical-align: top;\n",
       "    }\n",
       "\n",
       "    .dataframe thead th {\n",
       "        text-align: right;\n",
       "    }\n",
       "</style>\n",
       "<table border=\"1\" class=\"dataframe\">\n",
       "  <thead>\n",
       "    <tr style=\"text-align: right;\">\n",
       "      <th></th>\n",
       "      <th>state</th>\n",
       "      <th>sat_change_par</th>\n",
       "      <th>act_change_par</th>\n",
       "    </tr>\n",
       "  </thead>\n",
       "  <tbody>\n",
       "    <tr>\n",
       "      <th>9</th>\n",
       "      <td>Florida</td>\n",
       "      <td>-27.0</td>\n",
       "      <td>-7.0</td>\n",
       "    </tr>\n",
       "  </tbody>\n",
       "</table>\n",
       "</div>"
      ],
      "text/plain": [
       "     state  sat_change_par  act_change_par\n",
       "9  Florida           -27.0            -7.0"
      ]
     },
     "execution_count": 80,
     "metadata": {},
     "output_type": "execute_result"
    }
   ],
   "source": [
    "# filter states showing decrease in participation in both tests\n",
    "all_neg_change_par = change_par[(change_par['sat_change_par']<0.0) & (change_par['act_change_par']<0.0)]\n",
    "all_neg_change_par"
   ]
  },
  {
   "cell_type": "markdown",
   "metadata": {},
   "source": [
    "#### observation:\n",
    "1. Only Florida showed significant drop in participation in both tests."
   ]
  },
  {
   "cell_type": "code",
   "execution_count": 81,
   "metadata": {},
   "outputs": [
    {
     "data": {
      "text/html": [
       "<div>\n",
       "<style scoped>\n",
       "    .dataframe tbody tr th:only-of-type {\n",
       "        vertical-align: middle;\n",
       "    }\n",
       "\n",
       "    .dataframe tbody tr th {\n",
       "        vertical-align: top;\n",
       "    }\n",
       "\n",
       "    .dataframe thead th {\n",
       "        text-align: right;\n",
       "    }\n",
       "</style>\n",
       "<table border=\"1\" class=\"dataframe\">\n",
       "  <thead>\n",
       "    <tr style=\"text-align: right;\">\n",
       "      <th></th>\n",
       "      <th>state</th>\n",
       "      <th>sat_change_par</th>\n",
       "      <th>act_change_par</th>\n",
       "    </tr>\n",
       "  </thead>\n",
       "  <tbody>\n",
       "    <tr>\n",
       "      <th>15</th>\n",
       "      <td>Iowa</td>\n",
       "      <td>1.0</td>\n",
       "      <td>1.0</td>\n",
       "    </tr>\n",
       "    <tr>\n",
       "      <th>20</th>\n",
       "      <td>Maryland</td>\n",
       "      <td>7.0</td>\n",
       "      <td>3.0</td>\n",
       "    </tr>\n",
       "    <tr>\n",
       "      <th>31</th>\n",
       "      <td>New Mexico</td>\n",
       "      <td>5.0</td>\n",
       "      <td>1.0</td>\n",
       "    </tr>\n",
       "    <tr>\n",
       "      <th>35</th>\n",
       "      <td>Ohio</td>\n",
       "      <td>6.0</td>\n",
       "      <td>25.0</td>\n",
       "    </tr>\n",
       "    <tr>\n",
       "      <th>37</th>\n",
       "      <td>Oregon</td>\n",
       "      <td>5.0</td>\n",
       "      <td>2.0</td>\n",
       "    </tr>\n",
       "  </tbody>\n",
       "</table>\n",
       "</div>"
      ],
      "text/plain": [
       "         state  sat_change_par  act_change_par\n",
       "15        Iowa             1.0             1.0\n",
       "20    Maryland             7.0             3.0\n",
       "31  New Mexico             5.0             1.0\n",
       "35        Ohio             6.0            25.0\n",
       "37      Oregon             5.0             2.0"
      ]
     },
     "execution_count": 81,
     "metadata": {},
     "output_type": "execute_result"
    }
   ],
   "source": [
    "# filter states showing increase in participation in both tests\n",
    "all_pos_change_par = change_par[(change_par['sat_change_par']>0.0) & (change_par['act_change_par']>0.0)]\n",
    "all_pos_change_par "
   ]
  },
  {
   "cell_type": "markdown",
   "metadata": {},
   "source": [
    "#### observation:\n",
    "1. Ohio showed the largest increase in participation in both tests."
   ]
  },
  {
   "cell_type": "markdown",
   "metadata": {},
   "source": [
    "## 4. Visualize the data\n",
    "\n",
    "There's not a magic bullet recommendation for the right number of plots to understand a given dataset, but visualizing your data is *always* a good idea. Not only does it allow you to quickly convey your findings (even if you have a non-technical audience), it will often reveal trends in your data that escaped you when you were looking only at numbers.\n",
    "\n",
    "Some recommendations on plotting:\n",
    "- Plots have titles\n",
    "- Plots have axis labels\n",
    "- Plots have appropriate tick labels\n",
    "- All text is legible in a plot\n",
    "- Plots demonstrate meaningful and valid relationships\n",
    "- Plots are interpreted to aid understanding\n",
    "\n",
    "There is such a thing as too many plots, and there are a *lot* of bad plots. You might make some! (But hopefully not with the guided prompts below)."
   ]
  },
  {
   "cell_type": "markdown",
   "metadata": {},
   "source": [
    "#### Use Seaborn's heatmap with pandas `.corr()` to visualize correlations between all numeric features\n",
    "\n",
    "Heatmaps are generally not appropriate for presentations, and should often be excluded from reports as they can be visually overwhelming. **However**, they can be extremely useful in identify relationships of potential interest (as well as identifying potential collinearity before modeling).\n",
    "\n",
    "*example*:\n",
    "```python\n",
    "sns.heatmap(df.corr())\n",
    "```\n",
    "\n",
    "Please take time to format your output, adding a title. Look through some of the additional arguments and options. (Axis labels aren't really necessary, as long as the title is informative)."
   ]
  },
  {
   "cell_type": "code",
   "execution_count": 82,
   "metadata": {},
   "outputs": [],
   "source": [
    "import seaborn as sns"
   ]
  },
  {
   "cell_type": "markdown",
   "metadata": {},
   "source": [
    "### 4.1. Heatmap of Correlations"
   ]
  },
  {
   "cell_type": "code",
   "execution_count": 83,
   "metadata": {},
   "outputs": [
    {
     "data": {
      "image/png": "[encoded data removed]",
      "text/plain": [
       "<Figure size 1008x1008 with 2 Axes>"
      ]
     },
     "metadata": {
      "needs_background": "light"
     },
     "output_type": "display_data"
    }
   ],
   "source": [
    "fig = plt.figure(figsize=(14,14))\n",
    "\n",
    "# drop columns for change in participation rate but not inplace.\n",
    "columns_drop = ['sat_change_par','act_change_par']\n",
    "\n",
    "corr=final.drop(columns_drop,axis=1).corr()\n",
    "\n",
    "#mask to display only lower triangle\n",
    "mask = np.zeros_like(corr) \n",
    "mask[np.triu_indices_from(mask)] = True\n",
    "\n",
    "ax = sns.heatmap(corr, \n",
    "                 cmap='coolwarm',\n",
    "                 center=0, \n",
    "                 robust=True, \n",
    "                 annot=True, \n",
    "                 fmt=\".2f\", \n",
    "                 square=True, \n",
    "                 mask=mask\n",
    "                )\n",
    "\n",
    "ax.set_title('Heatmap for Correlations between SAT and ACT scores',\n",
    "             fontdict= { 'fontsize': 21, \n",
    "                        'fontweight':'bold'\n",
    "                       }, \n",
    "             y=1.02\n",
    "            );"
   ]
  },
  {
   "cell_type": "markdown",
   "metadata": {},
   "source": [
    "#### Observations\n",
    "1. participation rates and total/composite scores\n",
    "    - All of the 4 participation rates are negatively-correlated (< -0.8) with their respective total/composite scores.\n",
    "    - This suggests that high participation rates lead to low total/composite scores, and vice versa. \n",
    "    - Higher participation rate result in a wider range of scores, lowering the total/composite scores. \n",
    "    - Lower participation rate means the test takers are stronger student who achieved higher total/composite  scores.\n",
    "2. component scores and total/composite scores\n",
    "    - This is easily seen in the square clusters of the darkest red, with strong positive correlation (> 0.98). \n",
    "    - Scores of each component and their aggregates move in tandem, showing the high scorers in any component also score well in the other components in the same test sitting."
   ]
  },
  {
   "cell_type": "markdown",
   "metadata": {},
   "source": [
    "### 4.2. Histograms"
   ]
  },
  {
   "cell_type": "markdown",
   "metadata": {},
   "source": [
    "#### Define a custom function to subplot histograms\n",
    "\n",
    "We have data for two tests for two years. We only have composite (and not subtest scores) for the 2018 ACT. We should write a function that will take the names of 2+ columns and subplot histograms. While you can use pandas plotting or Seaborn here, matplotlib gives you greater control over all aspects of your plots.\n",
    "\n",
    "[Helpful Link for Plotting Multiple Figures](https://matplotlib.org/users/pyplot_tutorial.html#working-with-multiple-figures-and-axes)\n",
    "\n",
    "Here's some starter code:"
   ]
  },
  {
   "cell_type": "code",
   "execution_count": 84,
   "metadata": {},
   "outputs": [],
   "source": [
    "def subplot_histograms(dataframe, list_of_columns, list_of_titles, list_of_xlabels, figsize, bins, list_of_colors):\n",
    "    nrows = int(np.ceil(len(list_of_columns)/2)) \n",
    "    fig, ax = plt.subplots(nrows=nrows, ncols=2, figsize=figsize) \n",
    "    # Enter figsize as tuple (m,n)\n",
    "    ax = ax.ravel() \n",
    "    for i, column in enumerate(list_of_columns): \n",
    "        # ax[i] assigned list_of_xxx[i] as attribute\n",
    "        ax[i].hist(dataframe[column], bins=bins, color=list_of_colors[i]) \n",
    "        ax[i].set_title(list_of_titles[i], fontdict= {'fontsize': 12, \n",
    "                                                      'fontweight':'bold'\n",
    "                                                     })\n",
    "        ax[i].set_xlabel(list_of_xlabels[i])"
   ]
  },
  {
   "cell_type": "markdown",
   "metadata": {},
   "source": [
    "#### Plot and interpret histograms \n",
    "For each of the following:\n",
    "- Participation rates for SAT & ACT\n",
    "- Math scores for SAT & ACT\n",
    "- Reading/verbal scores for SAT & ACT"
   ]
  },
  {
   "cell_type": "markdown",
   "metadata": {},
   "source": [
    "#### Participation Rates for SAT & ACT"
   ]
  },
  {
   "cell_type": "code",
   "execution_count": 85,
   "metadata": {
    "scrolled": true
   },
   "outputs": [],
   "source": [
    "# Code\n",
    "list_of_columns = ['sat_17_par','sat_18_par',\\\n",
    "                   'act_17_par','act_18_par']\n",
    "list_of_titles = ['SAT 2017', 'SAT 2018',\\\n",
    "                  'ACT 2017', 'ACT 2018']\n",
    "list_of_xlabels = ['participation rate', 'participation rate', \\\n",
    "                   'participation rate','participation rate']\n",
    "figsize = (18,12)\n",
    "bins = 10\n",
    "list_of_colors = ['tab:blue', 'tab:blue',\\\n",
    "                  'red', 'red' ] "
   ]
  },
  {
   "cell_type": "code",
   "execution_count": 86,
   "metadata": {},
   "outputs": [
    {
     "data": {
      "image/png": "[encoded data removed]",
      "text/plain": [
       "<Figure size 1296x864 with 4 Axes>"
      ]
     },
     "metadata": {
      "needs_background": "light"
     },
     "output_type": "display_data"
    }
   ],
   "source": [
    "subplot_histograms(final, list_of_columns, list_of_titles, list_of_xlabels, figsize, bins, list_of_colors)"
   ]
  },
  {
   "cell_type": "markdown",
   "metadata": {},
   "source": [
    "#### Interpretations\n",
    "1. As observed earlier in sorting of all 4 participation rates, there are large clusters of states which favour ACT to SAT. This shows up in the histograms of ACT with high counts (about 18 as shown in histogram) for bin of 90% to 100%. These states have low participation rates for SAT and this is evinced by the high counts in the bin of less than 10%.\n",
    "2. For both histograms of ACT, another cluster forms between 20% to 40%. Going back to dataframe comb_par_rates, these states correspond to the cluster between 60% to 80% in the respective SAT histograms."
   ]
  },
  {
   "cell_type": "markdown",
   "metadata": {},
   "source": [
    "#### Math Scores for SAT & ACT"
   ]
  },
  {
   "cell_type": "code",
   "execution_count": 87,
   "metadata": {},
   "outputs": [],
   "source": [
    "# parameters for histograms\n",
    "list_of_columns = ['sat_17_math','sat_18_math',\\\n",
    "                   'act_17_math','act_18_math']\n",
    "list_of_titles = ['SAT 2017', 'SAT 2018', \\\n",
    "                  'ACT 2017', 'ACT 2018']\n",
    "list_of_xlabels = ['mean math score', 'mean math score', \\\n",
    "                   'mean math score','mean math score']\n",
    "figsize = (18,12)\n",
    "bins = 20\n",
    "list_of_colors = ['tab:blue', 'tab:blue',\\\n",
    "                  'red', 'red' ] "
   ]
  },
  {
   "cell_type": "code",
   "execution_count": 88,
   "metadata": {},
   "outputs": [
    {
     "data": {
      "image/png": "[encoded data removed]",
      "text/plain": [
       "<Figure size 1296x864 with 4 Axes>"
      ]
     },
     "metadata": {
      "needs_background": "light"
     },
     "output_type": "display_data"
    }
   ],
   "source": [
    "subplot_histograms(final, list_of_columns, list_of_titles, list_of_xlabels, figsize, bins, list_of_colors)"
   ]
  },
  {
   "cell_type": "markdown",
   "metadata": {},
   "source": [
    "#### Interpretations\n",
    "1. Both SAT distributions appear to be skewed towards the left. \n",
    "2. Bot ACT histograms do not show any clear pattern in distribution and seem to have two or more modes. "
   ]
  },
  {
   "cell_type": "markdown",
   "metadata": {},
   "source": [
    "#### Reading/verbal scores for SAT & ACT"
   ]
  },
  {
   "cell_type": "code",
   "execution_count": 89,
   "metadata": {},
   "outputs": [],
   "source": [
    "# parameters for histograms\n",
    "list_of_columns = ['sat_17_readwrite','sat_18_readwrite',\\\n",
    "                   'act_17_read','act_18_read']\n",
    "list_of_titles = ['SAT 2017', 'SAT 2018', \\\n",
    "                  'ACT 2017', 'ACT 2018']\n",
    "list_of_xlabels = ['mean reading and writing score', 'mean reading and writing score', \\\n",
    "                   'mean reading score', 'mean reading score']\n",
    "figsize = (18,12)\n",
    "bins = 20\n",
    "list_of_colors = ['tab:blue', 'tab:blue',\\\n",
    "                  'red', 'red']"
   ]
  },
  {
   "cell_type": "code",
   "execution_count": 90,
   "metadata": {},
   "outputs": [
    {
     "data": {
      "image/png": "[encoded data removed]",
      "text/plain": [
       "<Figure size 1296x864 with 4 Axes>"
      ]
     },
     "metadata": {
      "needs_background": "light"
     },
     "output_type": "display_data"
    }
   ],
   "source": [
    "subplot_histograms(final, list_of_columns, list_of_titles, list_of_xlabels, figsize, bins, list_of_colors)"
   ]
  },
  {
   "cell_type": "markdown",
   "metadata": {},
   "source": [
    "#### Interpretations\n",
    "1. Both histograms for SAT 2017 and 2018 show 2 modes at roughly equal scores of 540 and 630.\n",
    "2. Both Histograms for ACT 2017 and 2018 also show 2 modes at 21 and 25. \n",
    "3. The distributions are neither symmetrical nor appear to follow any standard distribution. "
   ]
  },
  {
   "cell_type": "markdown",
   "metadata": {},
   "source": [
    "### 4.3. Scatter Plots"
   ]
  },
  {
   "cell_type": "markdown",
   "metadata": {},
   "source": [
    "#### Plot and interpret scatter plots\n",
    "\n",
    "For each of the following:\n",
    "- SAT vs. ACT math scores for 2017\n",
    "- SAT vs. ACT verbal/reading scores for 2017\n",
    "- SAT vs. ACT total/composite scores for 2017\n",
    "- Total scores for SAT 2017 vs. 2018\n",
    "- Composite scores for ACT 2017 vs. 2018\n",
    "\n",
    "Plot the two variables against each other using matplotlib or Seaborn\n",
    "\n",
    "Your plots should show:\n",
    "- Two clearly labeled axes\n",
    "- A proper title\n",
    "- Using colors and symbols that are clear and unmistakable\n",
    "\n",
    "**Feel free to write a custom function, and subplot if you'd like.** Functions save both time and space.\n"
   ]
  },
  {
   "cell_type": "code",
   "execution_count": 91,
   "metadata": {},
   "outputs": [],
   "source": [
    "# custom function for multiple scatters\n",
    "def subplot_scatterplots(dataframe, list_of_x, list_of_y, list_of_titles, list_of_xlabels, list_of_ylabels, \\\n",
    "                         figsize, list_of_colors):\n",
    "    ncols = int(np.ceil(len(list_of_x)/2))\n",
    "    fig, ax = plt.subplots(nrows=2, ncols=ncols, figsize=figsize) \n",
    "    # Enter figsize as tuple (m,n)\n",
    "    ax = ax.ravel() \n",
    "    for i, column in enumerate(list_of_x): \n",
    "        # ax[i] assigned list_of_xxx[i] as attribute\n",
    "        ax[i].scatter(x=dataframe[list_of_x[i]],y=dataframe[list_of_y[i]], color=list_of_colors[i]) \n",
    "        ax[i].set_title(list_of_titles[i], fontdict= {'fontsize': 12, \n",
    "                                                      'fontweight':'bold'\n",
    "                                                     })\n",
    "        ax[i].set_xlabel(list_of_xlabels[i])\n",
    "        ax[i].set_ylabel(list_of_ylabels[i])\n",
    "        # add linear fit\n",
    "        m, b = np.polyfit(dataframe[list_of_x[i]], dataframe[list_of_y[i]], 1)\n",
    "        ax[i].plot(dataframe[list_of_x[i]], m*dataframe[list_of_x[i]] + b)"
   ]
  },
  {
   "cell_type": "markdown",
   "metadata": {},
   "source": [
    "#### SAT vs. ACT math scores for 2017"
   ]
  },
  {
   "cell_type": "code",
   "execution_count": 92,
   "metadata": {},
   "outputs": [],
   "source": [
    "# parameters for scatter plots\n",
    "\n",
    "list_of_x = ['sat_17_math','sat_17_readwrite','sat_17_total','sat_17_total', 'act_17_compo']\n",
    "list_of_y = ['act_17_math','act_17_read','act_17_compo', 'sat_18_total','act_18_compo']\n",
    "list_of_titles = ['Math Scores 2017', 'Reading Scores 2017', 'Total/Composite Scores 2017', \\\n",
    "                  'SAT Total 2017 vs 2018','ACT Compo 2017 vs 2018']\n",
    "list_of_xlabels = ['SAT', 'SAT', 'SAT Total', '2017', '2017' ]\n",
    "list_of_ylabels = ['ACT', 'ACT', 'ACT Composite', '2018', '2018']\n",
    "figsize = (20,12)\n",
    "list_of_colors = ['darkviolet', 'darkviolet','darkviolet', 'tab:blue', 'red']"
   ]
  },
  {
   "cell_type": "code",
   "execution_count": 93,
   "metadata": {},
   "outputs": [
    {
     "data": {
      "image/png": "[encoded data removed]",
      "text/plain": [
       "<Figure size 1440x864 with 6 Axes>"
      ]
     },
     "metadata": {
      "needs_background": "light"
     },
     "output_type": "display_data"
    }
   ],
   "source": [
    "subplot_scatterplots(final, list_of_x, list_of_y, list_of_titles, list_of_xlabels, list_of_ylabels,\\\n",
    "                     figsize, list_of_colors)"
   ]
  },
  {
   "cell_type": "markdown",
   "metadata": {},
   "source": [
    "#### Interpretations\n",
    "1. The purple scatter plots match the each data to its counterpart from the other test. There is no strong correlation. Referring back to the heatmap plotted earlier, the respective correlation coefficients range between -0.45 and -0.42 for these 3 plots. \n",
    "\n",
    "[Link to heatmap](#Heatmap)\n",
    "\n",
    "A possible explanation is that the participant pool for each test in each state differ significantly due to the different participation rates. Hence the high mean score for one test may not translate to high mean score for the other test.\n",
    "\n",
    "2. On the hand, the red scatter plots for scores of 2 years show strong positive correlation. This shows that states turned in similar results for the two years. From the heatmap, the correlation coefficients are 0.87 and 0.92 respectively.\n",
    "\n",
    "This is expected as the support from high schools or education provider should be at the similar levels for each state. The level of promotion by the education authorities to take a particular test is likely to be the same as well, with the exception of Colorados and Illinois. \n",
    "\n",
    "These 2 states are among the outliers which lie far below or above the lines. This is because the performance decreased in SAT but increased in ACT, attributed to the change of participation rates. \n",
    "\n",
    "These 2 states will be addressed in Outside Research."
   ]
  },
  {
   "cell_type": "markdown",
   "metadata": {},
   "source": [
    "### 4.4. Box Plots"
   ]
  },
  {
   "cell_type": "markdown",
   "metadata": {},
   "source": [
    "#### Plot and interpret box plots\n",
    "\n",
    "For each numeric variable in the dataframe create a boxplot using Seaborn. Boxplots demonstrate central tendency and spread in variables. In a certain sense, these are somewhat redundant with histograms, but you may be better able to identify clear outliers or differences in IQR, etc.\n",
    "\n",
    "Multiple values can be plotted to a single boxplot as long as they are of the same relative scale (meaning they have similar min/max values).\n",
    "\n",
    "Each boxplot should:\n",
    "- Only include variables of a similar scale\n",
    "- Have clear labels for each variable\n",
    "- Have appropriate titles and labels"
   ]
  },
  {
   "cell_type": "code",
   "execution_count": 94,
   "metadata": {},
   "outputs": [],
   "source": [
    "# Code\n",
    "# extract only participation rates, 4 columns\n",
    "par_rates = final[['sat_17_par','sat_18_par','act_17_par','act_18_par']]\n",
    "par_rates = par_rates.rename(columns = {'sat_17_par':'SAT 2017',\n",
    "                                        'sat_18_par':'SAT 2018',\n",
    "                                        'act_17_par':'ACT 2017',\n",
    "                                        'act_18_par':'ACT 2018'\n",
    "                                       })"
   ]
  },
  {
   "cell_type": "code",
   "execution_count": 95,
   "metadata": {},
   "outputs": [
    {
     "data": {
      "image/png": "[encoded data removed]",
      "text/plain": [
       "<Figure size 1008x432 with 1 Axes>"
      ]
     },
     "metadata": {
      "needs_background": "light"
     },
     "output_type": "display_data"
    }
   ],
   "source": [
    "plt.figure(figsize=(14,6))\n",
    "plt.title('Distribution of ACT and SAT Participation Rates by State, 2017 and 2018')\n",
    "hist_colors = ['tab:blue', 'tab:blue','red', 'red']\n",
    "sns.set_palette(hist_colors)\n",
    "bplot = sns.boxplot(data=par_rates, orient = 'h');\n",
    "bplot.set_xlabel('Participation Rate (%)', fontsize = 12);"
   ]
  },
  {
   "cell_type": "markdown",
   "metadata": {},
   "source": [
    "#### Interpretations\n",
    "1. Participation rates for SAT rose in general from 2017 to 2018. Median increased from about 38% to 50%.\n",
    "2. Participation rates for ACT dropped slightly from 2017 to 2018 but the distribution is the largely the same on the whole.\n",
    "3. The upper quartiles of both ACT rates correspond to both maximum values due to the large number of observations at 100%.\n",
    "4. Comparing the 2 tests, it is clear that the participation for ACT is on the whole higher than that of SAT. \n"
   ]
  },
  {
   "cell_type": "markdown",
   "metadata": {},
   "source": [
    "#### Feel free to do additional plots below\n",
    "*(do research and choose your own chart types & variables)*\n",
    "\n",
    "Are there any additional trends or relationships you haven't explored? Was there something interesting you saw that you'd like to dive further into? It's likely that there are a few more plots you might want to generate to support your narrative and recommendations that you are building toward. **As always, make sure you're interpreting your plots as you go**."
   ]
  },
  {
   "cell_type": "markdown",
   "metadata": {},
   "source": [
    "### 4.5. Additional: Strip Plots"
   ]
  },
  {
   "cell_type": "code",
   "execution_count": 96,
   "metadata": {
    "scrolled": true
   },
   "outputs": [
    {
     "data": {
      "image/png": "[encoded data removed]",
      "text/plain": [
       "<Figure size 1008x432 with 1 Axes>"
      ]
     },
     "metadata": {
      "needs_background": "light"
     },
     "output_type": "display_data"
    }
   ],
   "source": [
    "# using a strip plot to show relative positions on the participation rate axis\n",
    "plt.figure(figsize=(14,6))\n",
    "plt.title('Distribution of ACT and SAT Participation Rates by State, 2017 and 2018')\n",
    "#plt.xlim(0,100)\n",
    "list_of_colors = ['tab:blue', 'tab:blue','red', 'red']\n",
    "sns.set_palette(list_of_colors)\n",
    "stripplot = sns.stripplot(data=par_rates, orient = 'h', jitter=True);\n",
    "stripplot.set_xlabel('Participation Rate (%)', fontsize = 12);"
   ]
  },
  {
   "cell_type": "markdown",
   "metadata": {},
   "source": [
    "#### Interpretation\n",
    "1. The strip plots of both ACT participation show a significant group of states with 100% participation in ACT. This will be explored with a choropleth map. "
   ]
  },
  {
   "cell_type": "markdown",
   "metadata": {},
   "source": [
    "## 5. Descriptive and Inferential Statistics"
   ]
  },
  {
   "cell_type": "markdown",
   "metadata": {},
   "source": [
    "#### 5.1. Summarizing Distributions\n",
    "\n",
    "Above, we used pandas `describe` to provide quick summary statistics of our numeric columns. We also demonstrated many visual relationships.\n",
    "\n",
    "As data scientists, having a complete understanding of data is imperative prior to modeling.\n",
    "\n",
    "While we will continue to build our analytic tools, we know that measures of *central tendency*, *spread*, and *shape/skewness* provide a quick summary of distributions.\n",
    "\n",
    "For each variable in your data, summarize the underlying distributions (in words & statistics)\n",
    " - Be thorough in your verbal description of these distributions.\n",
    " - Be sure to back up these summaries with statistics."
   ]
  },
  {
   "cell_type": "code",
   "execution_count": 97,
   "metadata": {},
   "outputs": [
    {
     "data": {
      "text/html": [
       "<div>\n",
       "<style scoped>\n",
       "    .dataframe tbody tr th:only-of-type {\n",
       "        vertical-align: middle;\n",
       "    }\n",
       "\n",
       "    .dataframe tbody tr th {\n",
       "        vertical-align: top;\n",
       "    }\n",
       "\n",
       "    .dataframe thead th {\n",
       "        text-align: right;\n",
       "    }\n",
       "</style>\n",
       "<table border=\"1\" class=\"dataframe\">\n",
       "  <thead>\n",
       "    <tr style=\"text-align: right;\">\n",
       "      <th></th>\n",
       "      <th>count</th>\n",
       "      <th>mean</th>\n",
       "      <th>std</th>\n",
       "      <th>min</th>\n",
       "      <th>25%</th>\n",
       "      <th>50%</th>\n",
       "      <th>75%</th>\n",
       "      <th>max</th>\n",
       "    </tr>\n",
       "  </thead>\n",
       "  <tbody>\n",
       "    <tr>\n",
       "      <th>sat_17_par</th>\n",
       "      <td>51.0</td>\n",
       "      <td>39.803922</td>\n",
       "      <td>35.276632</td>\n",
       "      <td>2.0</td>\n",
       "      <td>4.00</td>\n",
       "      <td>38.0</td>\n",
       "      <td>66.00</td>\n",
       "      <td>100.0</td>\n",
       "    </tr>\n",
       "    <tr>\n",
       "      <th>sat_17_readwrite</th>\n",
       "      <td>51.0</td>\n",
       "      <td>569.117647</td>\n",
       "      <td>45.666901</td>\n",
       "      <td>482.0</td>\n",
       "      <td>533.50</td>\n",
       "      <td>559.0</td>\n",
       "      <td>613.00</td>\n",
       "      <td>644.0</td>\n",
       "    </tr>\n",
       "    <tr>\n",
       "      <th>sat_17_math</th>\n",
       "      <td>51.0</td>\n",
       "      <td>556.980392</td>\n",
       "      <td>47.128119</td>\n",
       "      <td>468.0</td>\n",
       "      <td>523.50</td>\n",
       "      <td>548.0</td>\n",
       "      <td>599.50</td>\n",
       "      <td>651.0</td>\n",
       "    </tr>\n",
       "    <tr>\n",
       "      <th>sat_17_total</th>\n",
       "      <td>51.0</td>\n",
       "      <td>1126.098039</td>\n",
       "      <td>92.494812</td>\n",
       "      <td>950.0</td>\n",
       "      <td>1055.50</td>\n",
       "      <td>1107.0</td>\n",
       "      <td>1212.00</td>\n",
       "      <td>1295.0</td>\n",
       "    </tr>\n",
       "    <tr>\n",
       "      <th>act_17_par</th>\n",
       "      <td>51.0</td>\n",
       "      <td>65.254902</td>\n",
       "      <td>32.140842</td>\n",
       "      <td>8.0</td>\n",
       "      <td>31.00</td>\n",
       "      <td>69.0</td>\n",
       "      <td>100.00</td>\n",
       "      <td>100.0</td>\n",
       "    </tr>\n",
       "    <tr>\n",
       "      <th>act_17_eng</th>\n",
       "      <td>51.0</td>\n",
       "      <td>20.931373</td>\n",
       "      <td>2.353677</td>\n",
       "      <td>16.3</td>\n",
       "      <td>19.00</td>\n",
       "      <td>20.7</td>\n",
       "      <td>23.30</td>\n",
       "      <td>25.5</td>\n",
       "    </tr>\n",
       "    <tr>\n",
       "      <th>act_17_math</th>\n",
       "      <td>51.0</td>\n",
       "      <td>21.182353</td>\n",
       "      <td>1.981989</td>\n",
       "      <td>18.0</td>\n",
       "      <td>19.40</td>\n",
       "      <td>20.9</td>\n",
       "      <td>23.10</td>\n",
       "      <td>25.3</td>\n",
       "    </tr>\n",
       "    <tr>\n",
       "      <th>act_17_read</th>\n",
       "      <td>51.0</td>\n",
       "      <td>22.013725</td>\n",
       "      <td>2.067271</td>\n",
       "      <td>18.1</td>\n",
       "      <td>20.45</td>\n",
       "      <td>21.8</td>\n",
       "      <td>24.15</td>\n",
       "      <td>26.0</td>\n",
       "    </tr>\n",
       "    <tr>\n",
       "      <th>act_17_sci</th>\n",
       "      <td>51.0</td>\n",
       "      <td>21.462745</td>\n",
       "      <td>1.753392</td>\n",
       "      <td>18.2</td>\n",
       "      <td>19.95</td>\n",
       "      <td>21.3</td>\n",
       "      <td>23.20</td>\n",
       "      <td>24.9</td>\n",
       "    </tr>\n",
       "    <tr>\n",
       "      <th>act_17_compo</th>\n",
       "      <td>51.0</td>\n",
       "      <td>21.519608</td>\n",
       "      <td>2.020695</td>\n",
       "      <td>17.8</td>\n",
       "      <td>19.80</td>\n",
       "      <td>21.4</td>\n",
       "      <td>23.60</td>\n",
       "      <td>25.5</td>\n",
       "    </tr>\n",
       "    <tr>\n",
       "      <th>sat_18_par</th>\n",
       "      <td>51.0</td>\n",
       "      <td>45.745098</td>\n",
       "      <td>37.314256</td>\n",
       "      <td>2.0</td>\n",
       "      <td>4.50</td>\n",
       "      <td>52.0</td>\n",
       "      <td>77.50</td>\n",
       "      <td>100.0</td>\n",
       "    </tr>\n",
       "    <tr>\n",
       "      <th>sat_18_readwrite</th>\n",
       "      <td>51.0</td>\n",
       "      <td>563.686275</td>\n",
       "      <td>47.502627</td>\n",
       "      <td>480.0</td>\n",
       "      <td>534.50</td>\n",
       "      <td>552.0</td>\n",
       "      <td>610.50</td>\n",
       "      <td>643.0</td>\n",
       "    </tr>\n",
       "    <tr>\n",
       "      <th>sat_18_math</th>\n",
       "      <td>51.0</td>\n",
       "      <td>556.235294</td>\n",
       "      <td>47.772623</td>\n",
       "      <td>480.0</td>\n",
       "      <td>522.50</td>\n",
       "      <td>544.0</td>\n",
       "      <td>593.50</td>\n",
       "      <td>655.0</td>\n",
       "    </tr>\n",
       "    <tr>\n",
       "      <th>sat_18_total</th>\n",
       "      <td>51.0</td>\n",
       "      <td>1120.019608</td>\n",
       "      <td>94.155083</td>\n",
       "      <td>977.0</td>\n",
       "      <td>1057.50</td>\n",
       "      <td>1098.0</td>\n",
       "      <td>1204.00</td>\n",
       "      <td>1298.0</td>\n",
       "    </tr>\n",
       "    <tr>\n",
       "      <th>act_18_par</th>\n",
       "      <td>51.0</td>\n",
       "      <td>61.647059</td>\n",
       "      <td>34.080976</td>\n",
       "      <td>7.0</td>\n",
       "      <td>28.50</td>\n",
       "      <td>66.0</td>\n",
       "      <td>100.00</td>\n",
       "      <td>100.0</td>\n",
       "    </tr>\n",
       "    <tr>\n",
       "      <th>act_18_eng</th>\n",
       "      <td>51.0</td>\n",
       "      <td>20.988235</td>\n",
       "      <td>2.446356</td>\n",
       "      <td>16.6</td>\n",
       "      <td>19.10</td>\n",
       "      <td>20.2</td>\n",
       "      <td>23.70</td>\n",
       "      <td>26.0</td>\n",
       "    </tr>\n",
       "    <tr>\n",
       "      <th>act_18_math</th>\n",
       "      <td>51.0</td>\n",
       "      <td>21.125490</td>\n",
       "      <td>2.035765</td>\n",
       "      <td>17.8</td>\n",
       "      <td>19.40</td>\n",
       "      <td>20.7</td>\n",
       "      <td>23.15</td>\n",
       "      <td>25.2</td>\n",
       "    </tr>\n",
       "    <tr>\n",
       "      <th>act_18_read</th>\n",
       "      <td>51.0</td>\n",
       "      <td>22.015686</td>\n",
       "      <td>2.167245</td>\n",
       "      <td>18.0</td>\n",
       "      <td>20.45</td>\n",
       "      <td>21.6</td>\n",
       "      <td>24.10</td>\n",
       "      <td>26.1</td>\n",
       "    </tr>\n",
       "    <tr>\n",
       "      <th>act_18_sci</th>\n",
       "      <td>51.0</td>\n",
       "      <td>21.345098</td>\n",
       "      <td>1.870114</td>\n",
       "      <td>17.9</td>\n",
       "      <td>19.85</td>\n",
       "      <td>21.1</td>\n",
       "      <td>23.05</td>\n",
       "      <td>24.9</td>\n",
       "    </tr>\n",
       "    <tr>\n",
       "      <th>act_18_compo</th>\n",
       "      <td>51.0</td>\n",
       "      <td>21.486275</td>\n",
       "      <td>2.106278</td>\n",
       "      <td>17.7</td>\n",
       "      <td>19.95</td>\n",
       "      <td>21.3</td>\n",
       "      <td>23.55</td>\n",
       "      <td>25.6</td>\n",
       "    </tr>\n",
       "    <tr>\n",
       "      <th>sat_change_par</th>\n",
       "      <td>51.0</td>\n",
       "      <td>5.941176</td>\n",
       "      <td>18.271740</td>\n",
       "      <td>-27.0</td>\n",
       "      <td>0.00</td>\n",
       "      <td>1.0</td>\n",
       "      <td>5.00</td>\n",
       "      <td>90.0</td>\n",
       "    </tr>\n",
       "    <tr>\n",
       "      <th>act_change_par</th>\n",
       "      <td>51.0</td>\n",
       "      <td>-3.607843</td>\n",
       "      <td>13.447793</td>\n",
       "      <td>-70.0</td>\n",
       "      <td>-4.00</td>\n",
       "      <td>-1.0</td>\n",
       "      <td>0.00</td>\n",
       "      <td>25.0</td>\n",
       "    </tr>\n",
       "  </tbody>\n",
       "</table>\n",
       "</div>"
      ],
      "text/plain": [
       "                  count         mean        std    min      25%     50%  \\\n",
       "sat_17_par         51.0    39.803922  35.276632    2.0     4.00    38.0   \n",
       "sat_17_readwrite   51.0   569.117647  45.666901  482.0   533.50   559.0   \n",
       "sat_17_math        51.0   556.980392  47.128119  468.0   523.50   548.0   \n",
       "sat_17_total       51.0  1126.098039  92.494812  950.0  1055.50  1107.0   \n",
       "act_17_par         51.0    65.254902  32.140842    8.0    31.00    69.0   \n",
       "act_17_eng         51.0    20.931373   2.353677   16.3    19.00    20.7   \n",
       "act_17_math        51.0    21.182353   1.981989   18.0    19.40    20.9   \n",
       "act_17_read        51.0    22.013725   2.067271   18.1    20.45    21.8   \n",
       "act_17_sci         51.0    21.462745   1.753392   18.2    19.95    21.3   \n",
       "act_17_compo       51.0    21.519608   2.020695   17.8    19.80    21.4   \n",
       "sat_18_par         51.0    45.745098  37.314256    2.0     4.50    52.0   \n",
       "sat_18_readwrite   51.0   563.686275  47.502627  480.0   534.50   552.0   \n",
       "sat_18_math        51.0   556.235294  47.772623  480.0   522.50   544.0   \n",
       "sat_18_total       51.0  1120.019608  94.155083  977.0  1057.50  1098.0   \n",
       "act_18_par         51.0    61.647059  34.080976    7.0    28.50    66.0   \n",
       "act_18_eng         51.0    20.988235   2.446356   16.6    19.10    20.2   \n",
       "act_18_math        51.0    21.125490   2.035765   17.8    19.40    20.7   \n",
       "act_18_read        51.0    22.015686   2.167245   18.0    20.45    21.6   \n",
       "act_18_sci         51.0    21.345098   1.870114   17.9    19.85    21.1   \n",
       "act_18_compo       51.0    21.486275   2.106278   17.7    19.95    21.3   \n",
       "sat_change_par     51.0     5.941176  18.271740  -27.0     0.00     1.0   \n",
       "act_change_par     51.0    -3.607843  13.447793  -70.0    -4.00    -1.0   \n",
       "\n",
       "                      75%     max  \n",
       "sat_17_par          66.00   100.0  \n",
       "sat_17_readwrite   613.00   644.0  \n",
       "sat_17_math        599.50   651.0  \n",
       "sat_17_total      1212.00  1295.0  \n",
       "act_17_par         100.00   100.0  \n",
       "act_17_eng          23.30    25.5  \n",
       "act_17_math         23.10    25.3  \n",
       "act_17_read         24.15    26.0  \n",
       "act_17_sci          23.20    24.9  \n",
       "act_17_compo        23.60    25.5  \n",
       "sat_18_par          77.50   100.0  \n",
       "sat_18_readwrite   610.50   643.0  \n",
       "sat_18_math        593.50   655.0  \n",
       "sat_18_total      1204.00  1298.0  \n",
       "act_18_par         100.00   100.0  \n",
       "act_18_eng          23.70    26.0  \n",
       "act_18_math         23.15    25.2  \n",
       "act_18_read         24.10    26.1  \n",
       "act_18_sci          23.05    24.9  \n",
       "act_18_compo        23.55    25.6  \n",
       "sat_change_par       5.00    90.0  \n",
       "act_change_par       0.00    25.0  "
      ]
     },
     "execution_count": 97,
     "metadata": {},
     "output_type": "execute_result"
    }
   ],
   "source": [
    "# assign summary statistics to new dataframe\n",
    "stats_summary = final.describe().T\n",
    "final.describe().T"
   ]
  },
  {
   "cell_type": "code",
   "execution_count": 98,
   "metadata": {},
   "outputs": [
    {
     "data": {
      "text/plain": [
       "act_change_par      0.141556\n",
       "sat_change_par      0.156169\n",
       "act_17_eng          0.255834\n",
       "sat_17_math         0.257531\n",
       "act_18_eng          0.260251\n",
       "act_17_read         0.261680\n",
       "act_17_sci          0.261700\n",
       "act_17_compo        0.262428\n",
       "act_18_compo        0.266617\n",
       "act_18_sci          0.267159\n",
       "act_18_read         0.267561\n",
       "sat_17_total        0.268101\n",
       "act_17_math         0.271505\n",
       "sat_18_math         0.272986\n",
       "act_18_math         0.275103\n",
       "sat_17_readwrite    0.281894\n",
       "sat_18_readwrite    0.291427\n",
       "sat_18_total        0.293318\n",
       "act_17_par          0.349357\n",
       "sat_17_par          0.359966\n",
       "act_18_par          0.366462\n",
       "sat_18_par          0.380758\n",
       "Name: ratio, dtype: float64"
      ]
     },
     "execution_count": 98,
     "metadata": {},
     "output_type": "execute_result"
    }
   ],
   "source": [
    "# calculate ratio of std : range and create new column 'ratio'\n",
    "stats_summary['ratio']=stats_summary['std']/(stats_summary['max']-stats_summary['min'])\n",
    "stats_summary['ratio'].sort_values()"
   ]
  },
  {
   "cell_type": "code",
   "execution_count": 99,
   "metadata": {
    "scrolled": true
   },
   "outputs": [
    {
     "data": {
      "text/plain": [
       "sat_18_total       -22.019608\n",
       "sat_17_total       -19.098039\n",
       "sat_18_math        -12.235294\n",
       "sat_18_readwrite   -11.686275\n",
       "sat_17_readwrite   -10.117647\n",
       "sat_17_math         -8.980392\n",
       "sat_change_par      -4.941176\n",
       "sat_17_par          -1.803922\n",
       "act_18_eng          -0.788235\n",
       "act_18_math         -0.425490\n",
       "act_18_read         -0.415686\n",
       "act_17_math         -0.282353\n",
       "act_18_sci          -0.245098\n",
       "act_17_eng          -0.231373\n",
       "act_17_read         -0.213725\n",
       "act_18_compo        -0.186275\n",
       "act_17_sci          -0.162745\n",
       "act_17_compo        -0.119608\n",
       "act_change_par       2.607843\n",
       "act_17_par           3.745098\n",
       "act_18_par           4.352941\n",
       "sat_18_par           6.254902\n",
       "Name: difference, dtype: float64"
      ]
     },
     "execution_count": 99,
     "metadata": {},
     "output_type": "execute_result"
    }
   ],
   "source": [
    "# calculate a simple measure of skewness by finding the difference between median and mean \n",
    "stats_summary['difference']=stats_summary['50%']-stats_summary['mean']\n",
    "stats_summary['difference'].sort_values()"
   ]
  },
  {
   "cell_type": "markdown",
   "metadata": {},
   "source": [
    "#### Interpretation:\n",
    "\n",
    "comparing spread of data\n",
    "\n",
    "1. It is difficult to infer any shape solely relying on the summary statistics. I calculated the ratio of standard deviation to range (max-min) as the values for each test are of different scales of magnitude. While it may not be a standard method for comparison, the results do show that all participation rates have higher standard deviation relative to the range compared all other mean test scores. \n",
    "2. This can be visualized in the strip plot above. Clusters of participation rates are found at the extreme ends of each plot, resulting in higher standard deviations. <br>\n",
    "[link to strip plot](#4.5.-Additional:-Strip-Plots)\n",
    "\n",
    "relative distance of median from mean\n",
    "1. I calculate the difference between median and mean. Negative values indicate that the median is located to the left of mean, hence the distribution is skewed to the left. Positive values indicate that the median is located to the right of mean, hence the distribution is skewed to the right. The calculated differences for SAT test are of larger due to the larger magnitude of all SAT scores.\n",
    "2. None of the distributions appears to be symmetrical. This can also be inferred from earlier box plots for participation rates. <br>\n",
    "[link to box plot](#4.4.-Box-Plots)\n",
    "\n"
   ]
  },
  {
   "cell_type": "markdown",
   "metadata": {},
   "source": [
    "The median and mean of ACT 2017 Composite Scores are the closest to each other among all variable so I plot a histogram to visualize the distribution. It appears asymmetrical as well and has multiple modes. Hence median and mean alone are not good indicators of symmetry."
   ]
  },
  {
   "cell_type": "code",
   "execution_count": 100,
   "metadata": {},
   "outputs": [
    {
     "data": {
      "image/png": "[encoded data removed]",
      "text/plain": [
       "<Figure size 432x288 with 1 Axes>"
      ]
     },
     "metadata": {
      "needs_background": "light"
     },
     "output_type": "display_data"
    }
   ],
   "source": [
    "plt.hist(final['act_17_compo'], bins=10)\n",
    "plt.title('Histogram of ACT 2017 Composite Scores')\n",
    "plt.xlabel('Composite Scores');"
   ]
  },
  {
   "cell_type": "markdown",
   "metadata": {},
   "source": [
    "#### Exploring Skew and Kurtosis"
   ]
  },
  {
   "cell_type": "code",
   "execution_count": 101,
   "metadata": {},
   "outputs": [
    {
     "data": {
      "text/plain": [
       "sat_17_par          0.346450\n",
       "sat_17_readwrite    0.272693\n",
       "sat_17_math         0.357932\n",
       "sat_17_total        0.310903\n",
       "act_17_par         -0.197989\n",
       "act_17_eng          0.352660\n",
       "act_17_math         0.332683\n",
       "act_17_read         0.269366\n",
       "act_17_sci          0.222050\n",
       "act_17_compo        0.319810\n",
       "sat_18_par          0.136228\n",
       "sat_18_readwrite    0.282300\n",
       "sat_18_math         0.530407\n",
       "sat_18_total        0.466432\n",
       "act_18_par         -0.021916\n",
       "act_18_eng          0.371507\n",
       "act_18_math         0.269548\n",
       "act_18_read         0.201361\n",
       "act_18_sci          0.172383\n",
       "act_18_compo        0.281962\n",
       "sat_change_par      3.864080\n",
       "act_change_par     -3.274447\n",
       "dtype: float64"
      ]
     },
     "execution_count": 101,
     "metadata": {},
     "output_type": "execute_result"
    }
   ],
   "source": [
    "final.skew(axis = 0, numeric_only=True)"
   ]
  },
  {
   "cell_type": "code",
   "execution_count": 102,
   "metadata": {},
   "outputs": [
    {
     "data": {
      "text/plain": [
       "sat_17_par          -1.380695\n",
       "sat_17_readwrite    -1.220371\n",
       "sat_17_math         -0.940400\n",
       "sat_17_total        -1.105461\n",
       "act_17_par          -1.631970\n",
       "act_17_eng          -0.879307\n",
       "act_17_math         -0.979210\n",
       "act_17_read         -0.982094\n",
       "act_17_sci          -0.983132\n",
       "act_17_compo        -0.983524\n",
       "sat_18_par          -1.569003\n",
       "sat_18_readwrite    -1.055118\n",
       "sat_18_math         -0.756126\n",
       "sat_18_total        -1.022725\n",
       "act_18_par          -1.738681\n",
       "act_18_eng          -1.071710\n",
       "act_18_math         -1.109059\n",
       "act_18_read         -1.116031\n",
       "act_18_sci          -1.109301\n",
       "act_18_compo        -1.080666\n",
       "sat_change_par      16.828289\n",
       "act_change_par      14.422067\n",
       "dtype: float64"
      ]
     },
     "execution_count": 102,
     "metadata": {},
     "output_type": "execute_result"
    }
   ],
   "source": [
    "final.kurtosis(axis=0, numeric_only=True)"
   ]
  },
  {
   "cell_type": "markdown",
   "metadata": {},
   "source": [
    "#### We generally assume that data we sample from a population will be normally distributed. Do we observe this trend?"
   ]
  },
  {
   "cell_type": "markdown",
   "metadata": {},
   "source": [
    "Answer: All distributions are not normally distributed as they are either skewed or bimodal. \n",
    "This is because all variables are mean scores aggregated at state level and the distributions of individual values are lost. \n",
    "\n",
    "Referring to skew and kurtosis table above, none of the variables matches that of a normal distribution where skew = 0 and kurtosis = 3.\n",
    "\n",
    "'act_18_par' has skew close to 0 but kurtosis of -1.73, hence it is close to normal distribution either. \n"
   ]
  },
  {
   "cell_type": "markdown",
   "metadata": {},
   "source": [
    "Does This Assumption Hold for:\n",
    "    - Math\n",
    "    - Reading\n",
    "    - Rates\n",
    "Explain your answers for each distribution and how you think this will affect estimates made from these data."
   ]
  },
  {
   "cell_type": "markdown",
   "metadata": {},
   "source": [
    "Answer: Similarly, the distributions for the respective sub section mean scores are not normally distributed. The plots show at least 2 modes. The estimates from these data are not the most appropriate unless nation wide individual data is available."
   ]
  },
  {
   "cell_type": "markdown",
   "metadata": {},
   "source": [
    "#### Estimate Limits of Data\n",
    "\n",
    "Suppose we only seek to understand the relationship between SAT and ACT participation rates in 2017. \n",
    "\n",
    "##### Does it make sense to conduct statistical inference given these data specifically? \n",
    "\n",
    "Why or why not?\n",
    "\n",
    "*(think about granularity, aggregation, the relationships between populations size & rates...consider the actually populations these data describe in answering this question)*"
   ]
  },
  {
   "cell_type": "markdown",
   "metadata": {},
   "source": [
    "Answer: \n",
    "\n",
    "granularity\n",
    "1. The raw dataset does not have provide any further information of students, such as student population size, ethnicity, social-economical background.\n",
    "2. A report by Brookings ([link](https://www.brookings.edu/research/race-gaps-in-sat-scores-highlight-inequality-and-hinder-upward-mobility/)) showed that differences in performance among racial groups and income of family. Without these addition information, any inference may not be accurate. \n",
    "3. While performance is partly determined by innate aptitude, availability of support for test preparation and state mandate play a significant role. These 2 factors vary widely among states. \n",
    "\n",
    "\n",
    "population size and rates <br>\n",
    "4. It is logical to conduct statistic inference on participation rates between states to determine underlying relations. The participation rates, expressed as percentages, are representative of the entire student population in each state. \n",
    "\n",
    "aggregation <br>\n",
    "5. On the other hand, the scores are not representative of the entire high student population due to the variation in participation and population size. Student population size is lost in aggregation at state level. \n",
    "6. Because of aggregation, each observation is not identically distributed. Hence normal distribution cannot be assumed in this data set without further work. \n",
    "\n",
    "source: https://www.brookings.edu/research/race-gaps-in-sat-scores-highlight-inequality-and-hinder-upward-mobility/"
   ]
  },
  {
   "cell_type": "markdown",
   "metadata": {},
   "source": [
    "##### Is it appropriate to compare *these* specific SAT and ACT math scores? \n",
    "\n",
    "Why or why not?"
   ]
  },
  {
   "cell_type": "markdown",
   "metadata": {},
   "source": [
    "Answer: \n",
    "1. As mentioned in the earlier section, more states show preference towards one particular test and it is expected that students would not attempt both test due to time or financial constraint. The data is therefore not collected from same pool of students. \n",
    "2. The difficulties and formats of each test are bound to be different. Hence comparing the same subject across both tests is not sensible. "
   ]
  },
  {
   "cell_type": "markdown",
   "metadata": {},
   "source": [
    "#### 5.2. Statistical Evaluation of Distributions \n",
    "\n",
    "**If you feel it's appropriate**, using methods we discussed in class, run hypothesis tests to compare variables of interest in our dataset. "
   ]
  },
  {
   "cell_type": "code",
   "execution_count": 103,
   "metadata": {},
   "outputs": [],
   "source": [
    "from scipy import stats"
   ]
  },
  {
   "cell_type": "markdown",
   "metadata": {},
   "source": [
    "#### Hypothesis Testing 1: \n",
    "$H_{0}$ = ACT 2018 Participation is normally distributed. <br>\n",
    "$H_{A}$ = ACT 2018 Participation is not normally distributed. "
   ]
  },
  {
   "cell_type": "code",
   "execution_count": 104,
   "metadata": {},
   "outputs": [
    {
     "name": "stdout",
     "output_type": "stream",
     "text": [
      "ks_stat = 0.2318708772931808, p_value = 0.006802437292613206\n"
     ]
    }
   ],
   "source": [
    "from scipy.stats import kstest, norm\n",
    "data = final['act_18_par']\n",
    "ks_statistic, p_value = kstest(data, 'norm', args=(np.mean(data),np.std(data)))\n",
    "print('ks_stat = {}, p_value = {}'.format(ks_statistic, p_value))"
   ]
  },
  {
   "cell_type": "markdown",
   "metadata": {},
   "source": [
    "Once again, I pick ACT 2018 Participation to perform a hypothesis test using Kolmogorov Smirnov Test to check for closeness to normal distribution as the skew is closest to 0.\n",
    "\n",
    "The p-value yielded is 0.0068 which is lower than a typical critical value of 0.05. Hence there is sufficient evidence to reject the null hypothesis that ACT 2018 Participation score follows a normal distribution. \n",
    "\n",
    "It is also safe to infer that all other data will result in the same conclusion due to their asymmetric shapes and clustering at the extremes."
   ]
  },
  {
   "cell_type": "markdown",
   "metadata": {},
   "source": [
    "#### Bootstrap sampling to estimate national mean and 95% confidence interval for SAT 2017 and 2018 Mean Total "
   ]
  },
  {
   "cell_type": "markdown",
   "metadata": {},
   "source": [
    "Because distribution of any data is unknown and not normal, I will attempt to estimate the national mean of SAT 2017 and 2018 total score and its associated confidence interval using bootstrap sampling. \n",
    "\n",
    "Justification: These values were not available in data set and cannot be computed without number of participants per state."
   ]
  },
  {
   "cell_type": "code",
   "execution_count": 105,
   "metadata": {},
   "outputs": [],
   "source": [
    "# custom function to perform bootstrap sampling, estimate mean and then construct confidence interval.\n",
    "def estimate_and_CI95(data, n, s):\n",
    "    bootstrap_samples = [np.mean(np.random.choice(data,n)) for i in range(s)]\n",
    "    pt_est_mean = round(np.mean(bootstrap_samples),2)\n",
    "    conf_int = np.percentile(bootstrap_samples, [2.5,97.5])\n",
    "    print('point estimate of mean = {}, confidence interval = {}'.format(pt_est_mean,str(conf_int)))\n",
    "    return bootstrap_samples, pt_est_mean, conf_int\n",
    "    "
   ]
  },
  {
   "cell_type": "code",
   "execution_count": 106,
   "metadata": {},
   "outputs": [
    {
     "name": "stdout",
     "output_type": "stream",
     "text": [
      "point estimate of mean = 1126.09, confidence interval = [1100.7395 1152.281 ]\n"
     ]
    }
   ],
   "source": [
    "#create 10000 bootstrap samples of size 50, equal to original number of observations in data set.\n",
    "bs_samples_17, pt_est_mean, conf_int = estimate_and_CI95(final['sat_17_total'], 50, 10000)"
   ]
  },
  {
   "cell_type": "code",
   "execution_count": 107,
   "metadata": {},
   "outputs": [
    {
     "name": "stdout",
     "output_type": "stream",
     "text": [
      "point estimate of mean = 1119.93, confidence interval = [1094.2995 1146.1   ]\n"
     ]
    }
   ],
   "source": [
    "#repeat for 2018\n",
    "bs_samples_18, pt_est_mean, conf_int= estimate_and_CI95(final['sat_18_total'], 50, 10000);"
   ]
  },
  {
   "cell_type": "markdown",
   "metadata": {},
   "source": [
    "#### Hypothesis Testing 2: \n",
    "$H_{0}$ = sampling mean of SAT 2017 Total is normally distributed. <br>\n",
    "$H_{A}$ = sampling mean of SAT 2017 Total is not normally distributed."
   ]
  },
  {
   "cell_type": "code",
   "execution_count": 108,
   "metadata": {},
   "outputs": [
    {
     "name": "stdout",
     "output_type": "stream",
     "text": [
      "ks_stat = 0.007053281919384313, p_value = 0.6995751286773384\n"
     ]
    }
   ],
   "source": [
    "ks_statistic, p_value = kstest(bs_samples_17, 'norm', args=(np.mean(bs_samples_17),np.std(bs_samples_17)))\n",
    "print('ks_stat = {}, p_value = {}'.format(ks_statistic, p_value))"
   ]
  },
  {
   "cell_type": "markdown",
   "metadata": {},
   "source": [
    "Since p-value is higher than 0.05, there is insufficient evidence to reject null hypothesis that the sampling mean of SAT 2017 Total is normally distributed. "
   ]
  },
  {
   "cell_type": "markdown",
   "metadata": {},
   "source": [
    "#### Hypothesis Testing 3: \n",
    "$H_{0}$ = sampling mean of SAT 2018 Total is normally distributed. <br>\n",
    "$H_{A}$ = sampling mean of SAT 2018 Total is not normally distributed."
   ]
  },
  {
   "cell_type": "code",
   "execution_count": 109,
   "metadata": {},
   "outputs": [
    {
     "name": "stdout",
     "output_type": "stream",
     "text": [
      "ks_stat = 0.007486928489939926, p_value = 0.6265741151982465\n"
     ]
    }
   ],
   "source": [
    "ks_statistic, p_value = kstest(bs_samples_18, 'norm', args=(np.mean(bs_samples_18),np.std(bs_samples_18)))\n",
    "print('ks_stat = {}, p_value = {}'.format(ks_statistic, p_value))"
   ]
  },
  {
   "cell_type": "markdown",
   "metadata": {},
   "source": [
    "Since p-value is higher than 0.05, there is insufficient evidence to reject null hypothesis that the sampling mean of SAT 2018 Total is normally distributed. "
   ]
  },
  {
   "cell_type": "markdown",
   "metadata": {},
   "source": [
    "#### Hypothesis Testing 4: two sample z-test since population standard deviations of each set of bootstrap samples are known\n",
    "$H_{0}$ : $μ_{18} - μ_{17} = 0$\n",
    "\n",
    "$H_{A}$ : $μ_{18} - μ_{17} < 0$"
   ]
  },
  {
   "cell_type": "code",
   "execution_count": 110,
   "metadata": {},
   "outputs": [
    {
     "name": "stdout",
     "output_type": "stream",
     "text": [
      "z_stat = -33.146033800192484, p_value = 3.229926343248091e-241\n"
     ]
    }
   ],
   "source": [
    "from statsmodels.stats import weightstats as stests\n",
    "z_stat, p_value = stests.ztest(x1=bs_samples_18, \n",
    "                               x2=bs_samples_17, \n",
    "                               value=0,\n",
    "                               # left tail test\n",
    "                               alternative='smaller'\n",
    "                              )\n",
    "print('z_stat = {}, p_value = {}'.format(z_stat, p_value))"
   ]
  },
  {
   "cell_type": "markdown",
   "metadata": {},
   "source": [
    "Since p-value is small than 0.05, there is insufficient evidence to reject null hypothesis. The mean for 2018 has not decreased from mean for 2017. "
   ]
  },
  {
   "cell_type": "markdown",
   "metadata": {},
   "source": [
    "## 6. Outside Research"
   ]
  },
  {
   "cell_type": "markdown",
   "metadata": {},
   "source": [
    "Based upon your observations, choose **three** states that demonstrate interesting trends in their SAT and/or ACT participation rates. Spend some time doing outside research on state policies that might influence these rates, and summarize your findings below. **Feel free to go back and create new plots that highlight these states of interest**. If you bring in any outside tables or charts, make sure you are explicit about having borrowed them. If you quote any text, make sure that it renders as being quoted. (Make sure that you cite your sources -- check with you local instructor for citation preferences)."
   ]
  },
  {
   "cell_type": "markdown",
   "metadata": {},
   "source": [
    "### 6.1. Exploring Relations with Average Personal Income per Capita by State\n",
    "\n",
    "This section includes additional data. The aim is to observe if the distribution of scores and participation rates depend on average personal income by state. Please see README.md on additional information on supplementary.ipynb."
   ]
  },
  {
   "cell_type": "code",
   "execution_count": 111,
   "metadata": {},
   "outputs": [],
   "source": [
    "# import 'income_schools.csv' which exported by 'supplementary.ipynb'\n",
    "income_schools = pd.read_csv('../data/income_schools.csv')\n",
    "final = final.merge(income_schools, on='state')"
   ]
  },
  {
   "cell_type": "markdown",
   "metadata": {},
   "source": [
    "#### Map income to categories \"low, \"medium\" and \"high\""
   ]
  },
  {
   "cell_type": "code",
   "execution_count": 112,
   "metadata": {},
   "outputs": [],
   "source": [
    "# 'low' = below 25th percentile, 'medium' = 25th to 75th percentile, 'high' = above 75th percentile\n",
    "group_names = ['low','medium','high']\n",
    "final['income_group_17'] = pd.qcut(final['avg_income_17'], \n",
    "                                    q = [0, .25, .75, 1.],\n",
    "                                    labels = group_names\n",
    "                                  )\n",
    "                                    "
   ]
  },
  {
   "cell_type": "code",
   "execution_count": 113,
   "metadata": {},
   "outputs": [],
   "source": [
    "final['income_group_18'] = pd.qcut(final['avg_income_18'], \n",
    "                                    q = [0, .25, .75, 1.],\n",
    "                                    labels = group_names\n",
    "                                  )"
   ]
  },
  {
   "cell_type": "markdown",
   "metadata": {},
   "source": [
    "#### scatter plots for total/mean score against participation rate, categorized by income group"
   ]
  },
  {
   "cell_type": "code",
   "execution_count": 114,
   "metadata": {},
   "outputs": [],
   "source": [
    "# custom function for multiple scatters using sns and weight\n",
    "def sns_subplot_scatterplots(dataframe, list_of_x, list_of_y, list_of_titles, \\\n",
    "                             list_of_xlabels, list_of_ylabels,list_of_inc_grp, figsize):\n",
    "    ncols = int(np.ceil(len(list_of_x)/2))\n",
    "    fig, ax = plt.subplots(nrows=2, ncols=ncols, figsize=figsize) \n",
    "    color_dict = dict({'low':'orange',\n",
    "                  'medium':'dodgerblue',\n",
    "                  'high': 'brown'\n",
    "                  })\n",
    "    # Enter figsize as tuple (m,n)\n",
    "    ax = ax.ravel() \n",
    "    for i, column in enumerate(list_of_x): \n",
    "        # ax[i] assigned list_of_xxx[i] as attribute\n",
    "        sns.scatterplot(data=dataframe, \n",
    "                        ax=ax[i], \n",
    "                        x=list_of_x[i], \n",
    "                        y=list_of_y[i],\n",
    "                        hue = list_of_inc_grp[i], \n",
    "                        palette = color_dict\n",
    "                       )\n",
    "        ax[i].set_title(list_of_titles[i], fontdict= {'fontsize': 12, 'fontweight':'bold'})\n",
    "        ax[i].set_xlabel(list_of_xlabels[i])\n",
    "        ax[i].set_ylabel(list_of_ylabels[i])\n",
    "        # add linear fit\n",
    "        m, b = np.polyfit(dataframe[list_of_x[i]], dataframe[list_of_y[i]], 1)\n",
    "        ax[i].plot(dataframe[list_of_x[i]], m*dataframe[list_of_x[i]] + b)"
   ]
  },
  {
   "cell_type": "code",
   "execution_count": 115,
   "metadata": {},
   "outputs": [],
   "source": [
    "# parameters for sns.scatter plots\n",
    "\n",
    "list_of_x = ['sat_17_par','sat_18_par',\\\n",
    "             'act_17_par','act_18_par']\n",
    "\n",
    "list_of_y = ['sat_17_total','sat_18_total',\\\n",
    "             'act_17_compo', 'act_18_compo']\n",
    "\n",
    "list_of_titles = ['SAT 2017 Mean Total vs Participation', 'SAT 2018 Mean Total vs Participation',\\\n",
    "                  'ACT 2017 Mean Composite vs Participation', 'ACT 2018 Mean Composite vs Participation',]\n",
    "\n",
    "list_of_xlabels = ['Participation', 'Participation', \\\n",
    "                   'Participation', 'Participation' ]\n",
    "\n",
    "list_of_ylabels = ['Mean Total', 'Mean Total', \\\n",
    "                   'Mean Composite', 'Mean Composite']\n",
    "\n",
    "list_of_inc_grp = ['income_group_17', 'income_group_18', \\\n",
    "                   'income_group_17', 'income_group_18']\n",
    "\n",
    "figsize = (20,12)"
   ]
  },
  {
   "cell_type": "code",
   "execution_count": 116,
   "metadata": {},
   "outputs": [
    {
     "data": {
      "image/png": "[encoded data removed]",
      "text/plain": [
       "<Figure size 1440x864 with 4 Axes>"
      ]
     },
     "metadata": {
      "needs_background": "light"
     },
     "output_type": "display_data"
    }
   ],
   "source": [
    "sns_subplot_scatterplots(final, list_of_x, list_of_y, list_of_titles, list_of_xlabels, list_of_ylabels,list_of_inc_grp, figsize)"
   ]
  },
  {
   "cell_type": "code",
   "execution_count": 117,
   "metadata": {},
   "outputs": [
    {
     "data": {
      "text/html": [
       "<div>\n",
       "<style scoped>\n",
       "    .dataframe tbody tr th:only-of-type {\n",
       "        vertical-align: middle;\n",
       "    }\n",
       "\n",
       "    .dataframe tbody tr th {\n",
       "        vertical-align: top;\n",
       "    }\n",
       "\n",
       "    .dataframe thead th {\n",
       "        text-align: right;\n",
       "    }\n",
       "</style>\n",
       "<table border=\"1\" class=\"dataframe\">\n",
       "  <thead>\n",
       "    <tr style=\"text-align: right;\">\n",
       "      <th></th>\n",
       "      <th>sat_17_total</th>\n",
       "      <th>sat_18_total</th>\n",
       "      <th>act_17_compo</th>\n",
       "      <th>act_18_compo</th>\n",
       "    </tr>\n",
       "  </thead>\n",
       "  <tbody>\n",
       "    <tr>\n",
       "      <th>sat_17_par</th>\n",
       "      <td>-0.867540</td>\n",
       "      <td>-0.684556</td>\n",
       "      <td>0.694748</td>\n",
       "      <td>0.639323</td>\n",
       "    </tr>\n",
       "    <tr>\n",
       "      <th>sat_18_par</th>\n",
       "      <td>-0.806796</td>\n",
       "      <td>-0.785926</td>\n",
       "      <td>0.683164</td>\n",
       "      <td>0.756881</td>\n",
       "    </tr>\n",
       "    <tr>\n",
       "      <th>act_17_par</th>\n",
       "      <td>0.701477</td>\n",
       "      <td>0.545179</td>\n",
       "      <td>-0.858134</td>\n",
       "      <td>-0.775514</td>\n",
       "    </tr>\n",
       "    <tr>\n",
       "      <th>act_18_par</th>\n",
       "      <td>0.687107</td>\n",
       "      <td>0.622634</td>\n",
       "      <td>-0.808497</td>\n",
       "      <td>-0.858031</td>\n",
       "    </tr>\n",
       "  </tbody>\n",
       "</table>\n",
       "</div>"
      ],
      "text/plain": [
       "            sat_17_total  sat_18_total  act_17_compo  act_18_compo\n",
       "sat_17_par     -0.867540     -0.684556      0.694748      0.639323\n",
       "sat_18_par     -0.806796     -0.785926      0.683164      0.756881\n",
       "act_17_par      0.701477      0.545179     -0.858134     -0.775514\n",
       "act_18_par      0.687107      0.622634     -0.808497     -0.858031"
      ]
     },
     "execution_count": 117,
     "metadata": {},
     "output_type": "execute_result"
    }
   ],
   "source": [
    "# compute correlation coefficients between participation rates and their respective total/compo\n",
    "corr=final[['sat_17_par','sat_18_par','act_17_par','act_18_par',\\\n",
    "       'sat_17_total','sat_18_total','act_17_compo', 'act_18_compo']].corr()\n",
    "\n",
    "# extract part of correlation matrix for easier reading\n",
    "corr.iloc[:4, 4:]"
   ]
  },
  {
   "cell_type": "markdown",
   "metadata": {},
   "source": [
    "#### Interpretations\n",
    "\n",
    "Average Personal Income per Capita vs Participation\n",
    "1. SAT (top row) : Most brown points which refer to high income group have participation rates higher than 60%. On the other end of the spectrum, states with participation rates lower than 25% are almost entirely states in medium and low income group.\n",
    "2. ACT (bottom row): Almost all states belonging to high income group have participation rates lower than 35%. At the upper end of rates, most states of higher than 80% rate fall in the medium and low income groups. \n",
    "3. I infer that the richer states, with some exceptions, favour SAT over ACT. \n",
    "4. Conversely, 17 states with 100% ACT participation are of the medium and low income group. This implies that the ACT management has actively engaged state authorities to implement compulsory state-wide testing for the masses, or that these said states prefer ACT to SAT as the standardized test.\n",
    "\n",
    "Participation vs Scores\n",
    "1. All 4 plots where strong positive correlations between mean total/composite scores and their respective  participation rates. Higher participation rates lead to low scores, and vice versa. The diagonals of the above correlation matrix range between -0.87 to -0.79 which suggests unlying causation. \n",
    "2. This is best attributed to selection bias where students with higher aptitude and motivation tend to be the ones stepping forward to prepare and sit for examination if standardized testing is not mandatory in their own states. Participation by these student group then translates to higher performance in general.  \n",
    "3. ACT is compulsory in 17 states for all high school students as observed from data set. It can be observed from the above plots that the scores of these states fall above the median approximately. \n",
    "4. The map below ([link](https://magoosh.com/hs/sat/states-that-require-the-act-or-sat/)) shows the states where testing is compulsory in 2018, some even as requirement for graduation.  This map may not correspond to the dataset but it gives an overall view of the position of compulsory testing across the nation. \n",
    "\n",
    "source: https://magoosh.com/hs/sat/states-that-require-the-act-or-sat/"
   ]
  },
  {
   "cell_type": "markdown",
   "metadata": {},
   "source": [
    "![compulsory](./images/compulsory_sat_act.png)\n",
    "\n"
   ]
  },
  {
   "cell_type": "markdown",
   "metadata": {},
   "source": [
    "### 6.2. Additional: Choropleth Maps with Tableau"
   ]
  },
  {
   "cell_type": "markdown",
   "metadata": {},
   "source": [
    "map 1: Inclination towards SAT or ACT (red for ACT, blue for SAT) <br>\n",
    "([link to Tableau](https://public.tableau.com/profile/teo.zhan.rui#!/vizhome/GA-DSIProject1Chloropeth/InclinationtowardsSATorACTredforACTblueforSAT))"
   ]
  },
  {
   "cell_type": "markdown",
   "metadata": {},
   "source": [
    "![map_sat_act](./images/map_sat_act.png)\n",
    "\n"
   ]
  },
  {
   "cell_type": "markdown",
   "metadata": {},
   "source": [
    "map 2: Income Group by State 2018 <br>\n",
    "([link to Tableau](https://public.tableau.com/profile/teo.zhan.rui#!/vizhome/GA-DSIProject1Chloropeth/IncomeGroupbyState2018?publish=yes))"
   ]
  },
  {
   "cell_type": "markdown",
   "metadata": {},
   "source": [
    "![map_income_group](./images/map_income_group.png)\n",
    "![legend_income_group](./images/legend_income_group.png)\n"
   ]
  },
  {
   "cell_type": "markdown",
   "metadata": {},
   "source": [
    "#### Interpretations:  \n",
    "1. Wealthier states on the east coast appear to favour SAT over ACT. On the pacific side, California and Washington exhibit the same trait. \n",
    "2. As mentioned earlier in 6.1, ACT seems to be prefered by mainly states in the lower and medium income group.\n",
    "3. Interestingly, the states along the borders favour SAT over ACT while the states further inland favour ACT.\n"
   ]
  },
  {
   "cell_type": "markdown",
   "metadata": {},
   "source": [
    "### 6.3. Case Studies for 3 States"
   ]
  },
  {
   "cell_type": "markdown",
   "metadata": {},
   "source": [
    "#### Colorado and Illinois"
   ]
  },
  {
   "cell_type": "code",
   "execution_count": 118,
   "metadata": {},
   "outputs": [
    {
     "data": {
      "text/html": [
       "<div>\n",
       "<style scoped>\n",
       "    .dataframe tbody tr th:only-of-type {\n",
       "        vertical-align: middle;\n",
       "    }\n",
       "\n",
       "    .dataframe tbody tr th {\n",
       "        vertical-align: top;\n",
       "    }\n",
       "\n",
       "    .dataframe thead th {\n",
       "        text-align: right;\n",
       "    }\n",
       "</style>\n",
       "<table border=\"1\" class=\"dataframe\">\n",
       "  <thead>\n",
       "    <tr style=\"text-align: right;\">\n",
       "      <th></th>\n",
       "      <th>state</th>\n",
       "      <th>sat_change_par</th>\n",
       "      <th>act_change_par</th>\n",
       "    </tr>\n",
       "  </thead>\n",
       "  <tbody>\n",
       "    <tr>\n",
       "      <th>5</th>\n",
       "      <td>Colorado</td>\n",
       "      <td>89.0</td>\n",
       "      <td>-70.0</td>\n",
       "    </tr>\n",
       "    <tr>\n",
       "      <th>13</th>\n",
       "      <td>Illinois</td>\n",
       "      <td>90.0</td>\n",
       "      <td>-50.0</td>\n",
       "    </tr>\n",
       "  </tbody>\n",
       "</table>\n",
       "</div>"
      ],
      "text/plain": [
       "       state  sat_change_par  act_change_par\n",
       "5   Colorado            89.0           -70.0\n",
       "13  Illinois            90.0           -50.0"
      ]
     },
     "execution_count": 118,
     "metadata": {},
     "output_type": "execute_result"
    }
   ],
   "source": [
    "final.loc[(final['state']=='Colorado')|(final['state']=='Illinois'), ['state','sat_change_par','act_change_par']]"
   ]
  },
  {
   "cell_type": "markdown",
   "metadata": {},
   "source": [
    "As a recap, both states shifted significantly from ACT to SAT. \n",
    "\n",
    "In 2015, a selection committee voted to adopt SAT for standardized testing. According to the report, \n",
    "\n",
    "\"redesigned SAT measures the skills and knowledge that evidence shows is critical for college and career readiness, including critical thinking and analytical reasoning.\"\n",
    "\n",
    "Source: https://www.coloradokids.org/wp-content/uploads/2016/01/ACTvsSAT_FINAL.pdf\n",
    "\n",
    "Similarly in 2016, the Illinois State Board of Education (ISBE) awarded the contract to SAT while dropping ACT after 15 years of test. According to the article, ISBE \n",
    "\n",
    "\"weighed the attributes of both exams and decided the SAT was better aligned with standards for what students should know in Illinois\". \n",
    "\n",
    "Source: https://www.chicagotribune.com/news/ct-illinois-chooses-sat-met-20160211-story.html\n",
    "\n",
    "Both states saw merits in the structure and objectives of SAT and arrived at the same decision. \n",
    "\n",
    " "
   ]
  },
  {
   "cell_type": "markdown",
   "metadata": {},
   "source": [
    "#### California"
   ]
  },
  {
   "cell_type": "code",
   "execution_count": 119,
   "metadata": {},
   "outputs": [
    {
     "data": {
      "text/html": [
       "<div>\n",
       "<style scoped>\n",
       "    .dataframe tbody tr th:only-of-type {\n",
       "        vertical-align: middle;\n",
       "    }\n",
       "\n",
       "    .dataframe tbody tr th {\n",
       "        vertical-align: top;\n",
       "    }\n",
       "\n",
       "    .dataframe thead th {\n",
       "        text-align: right;\n",
       "    }\n",
       "</style>\n",
       "<table border=\"1\" class=\"dataframe\">\n",
       "  <thead>\n",
       "    <tr style=\"text-align: right;\">\n",
       "      <th></th>\n",
       "      <th>state</th>\n",
       "      <th>sat_17_par</th>\n",
       "      <th>sat_18_par</th>\n",
       "      <th>act_17_par</th>\n",
       "      <th>act_18_par</th>\n",
       "      <th>num_sch</th>\n",
       "    </tr>\n",
       "  </thead>\n",
       "  <tbody>\n",
       "    <tr>\n",
       "      <th>4</th>\n",
       "      <td>California</td>\n",
       "      <td>53.0</td>\n",
       "      <td>60.0</td>\n",
       "      <td>31.0</td>\n",
       "      <td>27.0</td>\n",
       "      <td>259</td>\n",
       "    </tr>\n",
       "    <tr>\n",
       "      <th>32</th>\n",
       "      <td>New York</td>\n",
       "      <td>67.0</td>\n",
       "      <td>79.0</td>\n",
       "      <td>31.0</td>\n",
       "      <td>27.0</td>\n",
       "      <td>231</td>\n",
       "    </tr>\n",
       "    <tr>\n",
       "      <th>38</th>\n",
       "      <td>Pennsylvania</td>\n",
       "      <td>65.0</td>\n",
       "      <td>70.0</td>\n",
       "      <td>23.0</td>\n",
       "      <td>20.0</td>\n",
       "      <td>156</td>\n",
       "    </tr>\n",
       "    <tr>\n",
       "      <th>43</th>\n",
       "      <td>Texas</td>\n",
       "      <td>62.0</td>\n",
       "      <td>66.0</td>\n",
       "      <td>45.0</td>\n",
       "      <td>41.0</td>\n",
       "      <td>143</td>\n",
       "    </tr>\n",
       "    <tr>\n",
       "      <th>9</th>\n",
       "      <td>Florida</td>\n",
       "      <td>83.0</td>\n",
       "      <td>56.0</td>\n",
       "      <td>73.0</td>\n",
       "      <td>66.0</td>\n",
       "      <td>130</td>\n",
       "    </tr>\n",
       "  </tbody>\n",
       "</table>\n",
       "</div>"
      ],
      "text/plain": [
       "           state  sat_17_par  sat_18_par  act_17_par  act_18_par  num_sch\n",
       "4     California        53.0        60.0        31.0        27.0      259\n",
       "32      New York        67.0        79.0        31.0        27.0      231\n",
       "38  Pennsylvania        65.0        70.0        23.0        20.0      156\n",
       "43         Texas        62.0        66.0        45.0        41.0      143\n",
       "9        Florida        83.0        56.0        73.0        66.0      130"
      ]
     },
     "execution_count": 119,
     "metadata": {},
     "output_type": "execute_result"
    }
   ],
   "source": [
    "final[['state','sat_17_par','sat_18_par','act_17_par','act_18_par','num_sch']].\\\n",
    "        sort_values(by='num_sch', ascending=False).head()"
   ]
  },
  {
   "cell_type": "markdown",
   "metadata": {},
   "source": [
    "California has always been the state of high economic output and innovation. The state tops the number of 4 year universities in the USA at 259 in 2018. However the participation rates in both tests are low. Given the number and diversity of tertiary institutions, the admissions may also be more inclusive by excluding SAT or ACT. \n",
    "\n",
    "Somewhat glaring is that there is a law suit filed 2019 against University of California for requiring SAT or ACT. Quoting the article, \n",
    "\n",
    "\"One 2015 analysis found that the lowest average SAT scores were among students from families who made less than \\\\$20,000 a year, while the highest were among students from families who made more than \\\\$200,000.\"\n",
    "\n",
    "Source: https://www.latimes.com/california/story/2019-10-31/act-scores\n",
    "\n",
    "While the law suit is filed after the period of study, undercurrents of  bias against testing may already exist in the education system and society in California,\n",
    "\n"
   ]
  },
  {
   "cell_type": "markdown",
   "metadata": {},
   "source": [
    "## 7. Conclusions and Recommendations"
   ]
  },
  {
   "cell_type": "markdown",
   "metadata": {},
   "source": [
    "Based on your exploration of the data, what are you key takeaways and recommendations? Choose one state with a lower participation rate and provide a suggestion for how the College Board might increase participation amongst graduating seniors in this state. Are there additional data you desire that would better inform your investigations?"
   ]
  },
  {
   "cell_type": "markdown",
   "metadata": {},
   "source": [
    "#### Conclusions"
   ]
  },
  {
   "cell_type": "markdown",
   "metadata": {},
   "source": [
    "1. The total or composite score has strong negative correlation to the participation rates. This suggests some form of selection bias in which states with lower participation results in higher performance. \n",
    "\n",
    "2. Majority of wealthier states, with some exceptions, favour SAT over ACT. Most states that mandate compulsory testing using ACT fall in the 'medium' and 'low' income group by states.\n",
    "\n",
    "3. Using bootstrap sampling and subsequently z-test for hypothesis testing, there is more change in performance in SAT from 2017 to 2018 across the nation.\n",
    "\n",
    "4. Colorado and Illinois were revealed to have implemented switch from ACT to SAT and state intervention was the key."
   ]
  },
  {
   "cell_type": "markdown",
   "metadata": {},
   "source": [
    "#### Recommendations:"
   ]
  },
  {
   "cell_type": "markdown",
   "metadata": {},
   "source": [
    "1. Target Florida as participation rate for both test showed two figure drops. The state does not appear to have preference for either test and there is no compulsory testing in place. Hence might be easier to convince the education board of the merits of SAT. Given that Florida falls in the 'medium' income group, the financial barrier for parents and students to prepare for SAT might be lower. \n",
    "\n",
    "2. Common and proven strategies to improve participating in SAT: <br>\n",
    "    a. mandatory sitting of SAT as requirement for graduation <br>\n",
    "    b. full fee waiver covered by state for test registration <br>\n",
    "    c. test preparation to be part of school curriculum <br>\n",
    "    d. collaboration with private education providers such as Khan Academy to provide online resources for students.\n",
    "    \n",
    "    \n",
    "Source: https://www.hanoverresearch.com/media/Best-Practices-to-Increase-SAT-Participation-1.pdf"
   ]
  },
  {
   "cell_type": "markdown",
   "metadata": {},
   "source": [
    "#### Suggestions for Future Studies with Additional Data:"
   ]
  },
  {
   "cell_type": "markdown",
   "metadata": {},
   "source": [
    "1. income background of candidates\n",
    "2. type of schools of candidates, state funded or private\n",
    "3. racial background of candidates"
   ]
  },
  {
   "cell_type": "code",
   "execution_count": null,
   "metadata": {},
   "outputs": [],
   "source": []
  }
 ],
 "metadata": {
  "anaconda-cloud": {},
  "kernelspec": {
   "display_name": "Python 3",
   "language": "python",
   "name": "python3"
  },
  "language_info": {
   "codemirror_mode": {
    "name": "ipython",
    "version": 3
   },
   "file_extension": ".py",
   "mimetype": "text/x-python",
   "name": "python",
   "nbconvert_exporter": "python",
   "pygments_lexer": "ipython3",
   "version": "3.8.5"
  }
 },
 "nbformat": 4,
 "nbformat_minor": 2
}
