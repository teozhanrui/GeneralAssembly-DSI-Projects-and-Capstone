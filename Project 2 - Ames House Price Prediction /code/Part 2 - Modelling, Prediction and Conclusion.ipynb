{
 "cells": [
  {
   "cell_type": "code",
   "execution_count": 1,
   "metadata": {},
   "outputs": [],
   "source": [
    "import pandas as pd\n",
    "import numpy as np\n",
    "import matplotlib.pyplot as plt\n",
    "import seaborn as sns\n",
    "\n",
    "from sklearn.model_selection import (train_test_split, cross_val_score)\n",
    "from sklearn.linear_model import Ridge, Lasso, ElasticNet, LinearRegression, RidgeCV, LassoCV, ElasticNetCV\n",
    "from sklearn.preprocessing import (StandardScaler, PolynomialFeatures)\n",
    "from sklearn import metrics"
   ]
  },
  {
   "cell_type": "code",
   "execution_count": 2,
   "metadata": {},
   "outputs": [],
   "source": [
    "pd.set_option('display.max_rows', 500)"
   ]
  },
  {
   "cell_type": "code",
   "execution_count": 3,
   "metadata": {},
   "outputs": [],
   "source": [
    "ames = pd.read_csv('../datasets/ames_cleaned.csv')"
   ]
  },
  {
   "cell_type": "code",
   "execution_count": 4,
   "metadata": {},
   "outputs": [
    {
     "data": {
      "text/plain": [
       "(2046, 141)"
      ]
     },
     "execution_count": 4,
     "metadata": {},
     "output_type": "execute_result"
    }
   ],
   "source": [
    "ames.shape"
   ]
  },
  {
   "cell_type": "markdown",
   "metadata": {},
   "source": [
    "# Standard Scaling and Train Test Split"
   ]
  },
  {
   "cell_type": "code",
   "execution_count": 5,
   "metadata": {},
   "outputs": [],
   "source": [
    "# drop 'id'\n",
    "ames.drop(columns='id', inplace=True)"
   ]
  },
  {
   "cell_type": "code",
   "execution_count": 6,
   "metadata": {},
   "outputs": [],
   "source": [
    "# continuous variables to be scaled.\n",
    "poly_fts=['lot_frontage',\n",
    " 'lot_area',\n",
    " 'total_bsmt_sf',\n",
    " 'gr_liv_area',\n",
    " 'garage_area',\n",
    " 'age',\n",
    " 'ext_blt_area',\n",
    " 'total_bath',\n",
    " 'lot_frontage^2',\n",
    " 'lot_frontage lot_area',\n",
    " 'lot_frontage total_bsmt_sf',\n",
    " 'lot_frontage gr_liv_area',\n",
    " 'lot_frontage garage_area',\n",
    " 'lot_frontage age',\n",
    " 'lot_frontage ext_blt_area',\n",
    " 'lot_frontage total_bath',\n",
    " 'lot_area^2',\n",
    " 'lot_area total_bsmt_sf',\n",
    " 'lot_area gr_liv_area',\n",
    " 'lot_area garage_area',\n",
    " 'lot_area age',\n",
    " 'lot_area ext_blt_area',\n",
    " 'lot_area total_bath',\n",
    " 'total_bsmt_sf^2',\n",
    " 'total_bsmt_sf gr_liv_area',\n",
    " 'total_bsmt_sf garage_area',\n",
    " 'total_bsmt_sf age',\n",
    " 'total_bsmt_sf ext_blt_area',\n",
    " 'total_bsmt_sf total_bath',\n",
    " 'gr_liv_area^2',\n",
    " 'gr_liv_area garage_area',\n",
    " 'gr_liv_area age',\n",
    " 'gr_liv_area ext_blt_area',\n",
    " 'gr_liv_area total_bath',\n",
    " 'garage_area^2',\n",
    " 'garage_area age',\n",
    " 'garage_area ext_blt_area',\n",
    " 'garage_area total_bath',\n",
    " 'age^2',\n",
    " 'age ext_blt_area',\n",
    " 'age total_bath',\n",
    " 'ext_blt_area^2',\n",
    " 'ext_blt_area total_bath',\n",
    " 'total_bath^2']"
   ]
  },
  {
   "cell_type": "code",
   "execution_count": 7,
   "metadata": {},
   "outputs": [],
   "source": [
    "ss=StandardScaler()\n",
    "# scale only continous variables\n",
    "scaled = ss.fit_transform(ames[poly_fts])"
   ]
  },
  {
   "cell_type": "code",
   "execution_count": 8,
   "metadata": {},
   "outputs": [],
   "source": [
    "# assign back to dataframe \n",
    "ames.loc[:,poly_fts] = scaled"
   ]
  },
  {
   "cell_type": "code",
   "execution_count": 9,
   "metadata": {},
   "outputs": [],
   "source": [
    "X = ames.drop(columns=['saleprice'])\n",
    "y = ames['saleprice']"
   ]
  },
  {
   "cell_type": "code",
   "execution_count": 10,
   "metadata": {},
   "outputs": [
    {
     "data": {
      "text/plain": [
       "(2046, 139)"
      ]
     },
     "execution_count": 10,
     "metadata": {},
     "output_type": "execute_result"
    }
   ],
   "source": [
    "X.shape"
   ]
  },
  {
   "cell_type": "code",
   "execution_count": 11,
   "metadata": {},
   "outputs": [
    {
     "data": {
      "text/plain": [
       "(2046,)"
      ]
     },
     "execution_count": 11,
     "metadata": {},
     "output_type": "execute_result"
    }
   ],
   "source": [
    "y.shape"
   ]
  },
  {
   "cell_type": "code",
   "execution_count": 12,
   "metadata": {},
   "outputs": [],
   "source": [
    "X_train, X_test, y_train, y_test = train_test_split(X,\n",
    "                                                    y,\n",
    "                                                    random_state = 68)"
   ]
  },
  {
   "cell_type": "markdown",
   "metadata": {},
   "source": [
    "# Baseline \n",
    "\n",
    "The baseline mean squared error is calculated by setting all predict target values (yhat) as mean of all sale prices in test set."
   ]
  },
  {
   "cell_type": "code",
   "execution_count": 13,
   "metadata": {},
   "outputs": [],
   "source": [
    "# custom function to calculate MSE\n",
    "# metrics.mean_squared_error does not support broadcasting for vector - scalar (mean of y_train)\n",
    "def mse(y, yhat):\n",
    "    mse = sum((y-yhat)**2)/len(y)\n",
    "    return mse"
   ]
  },
  {
   "cell_type": "code",
   "execution_count": 14,
   "metadata": {},
   "outputs": [
    {
     "name": "stdout",
     "output_type": "stream",
     "text": [
      "The baseline root mean square error for train set is 79557.\n"
     ]
    }
   ],
   "source": [
    "rmse_base_train = np.sqrt(mse(y_train, y_train.mean()))\n",
    "print('The baseline root mean square error for train set is {:.0f}.'.format(rmse_base_train))"
   ]
  },
  {
   "cell_type": "code",
   "execution_count": 15,
   "metadata": {},
   "outputs": [
    {
     "name": "stdout",
     "output_type": "stream",
     "text": [
      "The baseline root mean square error for test set is 78334.\n"
     ]
    }
   ],
   "source": [
    "rmse_base_test = np.sqrt(mse(y_test, y_test.mean()))\n",
    "print('The baseline root mean square error for test set is {:.0f}.'.format(rmse_base_test))"
   ]
  },
  {
   "cell_type": "markdown",
   "metadata": {},
   "source": [
    "# Linear Regression"
   ]
  },
  {
   "cell_type": "code",
   "execution_count": 16,
   "metadata": {
    "scrolled": true
   },
   "outputs": [
    {
     "data": {
      "text/plain": [
       "LinearRegression()"
      ]
     },
     "execution_count": 16,
     "metadata": {},
     "output_type": "execute_result"
    }
   ],
   "source": [
    "lr = LinearRegression()\n",
    "lr.fit(X_train, y_train)"
   ]
  },
  {
   "cell_type": "code",
   "execution_count": 17,
   "metadata": {},
   "outputs": [],
   "source": [
    "lr_coefs = pd.Series(lr.coef_, index = X_train.columns)"
   ]
  },
  {
   "cell_type": "markdown",
   "metadata": {},
   "source": [
    "Top 10 positive coefficients:"
   ]
  },
  {
   "cell_type": "code",
   "execution_count": 18,
   "metadata": {},
   "outputs": [
    {
     "data": {
      "text/plain": [
       "condition_1_PosA            35656.049103\n",
       "neighborhood_StoneBr        28896.639440\n",
       "house_style_2.5Fin          26653.058819\n",
       "condition_1_PosN            22112.659737\n",
       "lot_area                    20803.683484\n",
       "foundation_Wood             18150.365841\n",
       "gr_liv_area ext_blt_area    17234.891412\n",
       "neighborhood_Greens         14055.942830\n",
       "utilities                   13308.213434\n",
       "condition_1_Norm            12993.992608\n",
       "dtype: float64"
      ]
     },
     "execution_count": 18,
     "metadata": {},
     "output_type": "execute_result"
    }
   ],
   "source": [
    "lr_coefs.sort_values(ascending=False).head(10)"
   ]
  },
  {
   "cell_type": "markdown",
   "metadata": {},
   "source": [
    "Top 10 negative coefficients:"
   ]
  },
  {
   "cell_type": "code",
   "execution_count": 19,
   "metadata": {},
   "outputs": [
    {
     "data": {
      "text/plain": [
       "lot_frontage           -13364.349566\n",
       "ms_zoning_RM           -13980.057458\n",
       "neighborhood_Gilbert   -14184.300758\n",
       "lot_area total_bath    -15665.253336\n",
       "neighborhood_NWAmes    -15763.976407\n",
       "neighborhood_CollgCr   -16107.572782\n",
       "neighborhood_SawyerW   -17656.510335\n",
       "lot_config_FR3         -20042.274255\n",
       "ms_zoning_non R        -20339.611654\n",
       "bldg_type_Twnhs        -21858.942518\n",
       "dtype: float64"
      ]
     },
     "execution_count": 19,
     "metadata": {},
     "output_type": "execute_result"
    }
   ],
   "source": [
    "lr_coefs.sort_values(ascending=False).tail(10)"
   ]
  },
  {
   "cell_type": "code",
   "execution_count": 20,
   "metadata": {},
   "outputs": [],
   "source": [
    "# custom function to calculate root mean squared error\n",
    "def rmse(model, X, y):\n",
    "    result = -cross_val_score(model, \n",
    "                             X, \n",
    "                             y, \n",
    "                             cv=10, scoring = 'neg_mean_squared_error').mean()\n",
    "    return np.sqrt(result)"
   ]
  },
  {
   "cell_type": "code",
   "execution_count": 21,
   "metadata": {},
   "outputs": [],
   "source": [
    "# custom function to calculate R2 score\n",
    "def r2_score(model, X, y):\n",
    "    result = model.score(X, y)\n",
    "    return result"
   ]
  },
  {
   "cell_type": "markdown",
   "metadata": {},
   "source": [
    "**Train**"
   ]
  },
  {
   "cell_type": "code",
   "execution_count": 22,
   "metadata": {},
   "outputs": [
    {
     "name": "stdout",
     "output_type": "stream",
     "text": [
      "The R2 score using linear regression on train set is 0.942.\n"
     ]
    }
   ],
   "source": [
    "r2_lr_train = r2_score(lr, X_train, y_train)\n",
    "print('The R2 score using linear regression on train set is {:.3f}.'.format(r2_lr_train))"
   ]
  },
  {
   "cell_type": "code",
   "execution_count": 23,
   "metadata": {},
   "outputs": [
    {
     "name": "stdout",
     "output_type": "stream",
     "text": [
      "The root mean square error using linear regression on train set is 22564.\n"
     ]
    }
   ],
   "source": [
    "rmse_lr_train = rmse(lr, X_train, y_train)\n",
    "print('The root mean square error using linear regression on train set is {:.0f}.'.format(rmse_lr_train))"
   ]
  },
  {
   "cell_type": "markdown",
   "metadata": {},
   "source": [
    "**Test**"
   ]
  },
  {
   "cell_type": "code",
   "execution_count": 24,
   "metadata": {},
   "outputs": [
    {
     "name": "stdout",
     "output_type": "stream",
     "text": [
      "The R2 score using linear regression on test set is 0.903.\n"
     ]
    }
   ],
   "source": [
    "r2_lr_test = r2_score(lr, X_test, y_test)\n",
    "print('The R2 score using linear regression on test set is {:.3f}.'.format(r2_lr_test))"
   ]
  },
  {
   "cell_type": "code",
   "execution_count": 25,
   "metadata": {},
   "outputs": [
    {
     "name": "stdout",
     "output_type": "stream",
     "text": [
      "The root mean square error using linear regression on test set is 31297777930570.\n"
     ]
    }
   ],
   "source": [
    "rmse_lr_test = rmse(lr, X_test, y_test)\n",
    "print('The root mean square error using linear regression on test set is {:.0f}.'.format(rmse_lr_test))"
   ]
  },
  {
   "cell_type": "markdown",
   "metadata": {},
   "source": [
    "# Ridge Regression"
   ]
  },
  {
   "cell_type": "markdown",
   "metadata": {},
   "source": [
    "## Ridge Regression CV"
   ]
  },
  {
   "cell_type": "code",
   "execution_count": 26,
   "metadata": {},
   "outputs": [],
   "source": [
    "r_alphas = np.logspace(0,5,200)\n",
    "ridge_cv = RidgeCV(alphas=r_alphas,\n",
    "                  store_cv_values=True)\n",
    "ridge_cv.fit(X_train, y_train);"
   ]
  },
  {
   "cell_type": "code",
   "execution_count": 27,
   "metadata": {},
   "outputs": [
    {
     "name": "stdout",
     "output_type": "stream",
     "text": [
      "16.070528182616393\n"
     ]
    }
   ],
   "source": [
    "# optimal alpha\n",
    "r_best_alpha = ridge_cv.alpha_\n",
    "print(r_best_alpha)"
   ]
  },
  {
   "cell_type": "markdown",
   "metadata": {},
   "source": [
    "## Optimal Alpha"
   ]
  },
  {
   "cell_type": "code",
   "execution_count": 28,
   "metadata": {},
   "outputs": [
    {
     "data": {
      "text/plain": [
       "Ridge(alpha=16.070528182616393)"
      ]
     },
     "execution_count": 28,
     "metadata": {},
     "output_type": "execute_result"
    }
   ],
   "source": [
    "ridge = Ridge(alpha=r_best_alpha)\n",
    "ridge.fit(X_train, y_train)"
   ]
  },
  {
   "cell_type": "code",
   "execution_count": 29,
   "metadata": {},
   "outputs": [],
   "source": [
    "ridge_coefs = pd.Series(ridge.coef_, index = X_train.columns)"
   ]
  },
  {
   "cell_type": "markdown",
   "metadata": {},
   "source": [
    "Top 10 positive coefficients:"
   ]
  },
  {
   "cell_type": "code",
   "execution_count": 30,
   "metadata": {},
   "outputs": [
    {
     "data": {
      "text/plain": [
       "neighborhood_StoneBr         19312.807804\n",
       "neighborhood_Crawfor         13039.534480\n",
       "overall_qual                 12842.601451\n",
       "gr_liv_area ext_blt_area     10726.197967\n",
       "condition_1_PosA             10144.144332\n",
       "gr_liv_area garage_area       9116.004400\n",
       "lot_area                      8904.832437\n",
       "total_bsmt_sf gr_liv_area     8698.425845\n",
       "mas_vnr_type_Others           8008.830752\n",
       "kitchen_qual                  7577.409367\n",
       "dtype: float64"
      ]
     },
     "execution_count": 30,
     "metadata": {},
     "output_type": "execute_result"
    }
   ],
   "source": [
    "ridge_coefs[ridge_coefs!=0].sort_values(ascending=False).head(10)"
   ]
  },
  {
   "cell_type": "markdown",
   "metadata": {},
   "source": [
    "Top 10 negative coefficients:"
   ]
  },
  {
   "cell_type": "code",
   "execution_count": 31,
   "metadata": {},
   "outputs": [
    {
     "data": {
      "text/plain": [
       "garage_area            -5294.597806\n",
       "lot_config_FR3         -5403.778464\n",
       "ext_blt_area           -6251.181191\n",
       "neighborhood_NWAmes    -6899.982127\n",
       "lot_frontage           -7352.236264\n",
       "total_bsmt_sf age      -7596.964392\n",
       "neighborhood_CollgCr   -8299.559178\n",
       "bldg_type_Twnhs        -9152.714661\n",
       "neighborhood_SawyerW   -9356.640295\n",
       "lot_area^2             -9398.102545\n",
       "dtype: float64"
      ]
     },
     "execution_count": 31,
     "metadata": {},
     "output_type": "execute_result"
    }
   ],
   "source": [
    "ridge_coefs[ridge_coefs!=0].sort_values(ascending=False).tail(10)"
   ]
  },
  {
   "cell_type": "code",
   "execution_count": 32,
   "metadata": {},
   "outputs": [
    {
     "name": "stdout",
     "output_type": "stream",
     "text": [
      "The sum of magnitudes of all coefficents decreased by 49.8% as a result of L2 penalization.\n"
     ]
    }
   ],
   "source": [
    "# sum up absolute values of all coefficients of linear and ridge reg respectively and \n",
    "# calculate the percentage drop\n",
    "per_change = (sum(abs(lr_coefs)) - sum(abs(ridge_coefs)))/ sum(abs(lr_coefs)) *100\n",
    "print('The sum of magnitudes of all coefficents decreased by {:.1f}% as a result of L2 penalization.'.format(per_change))"
   ]
  },
  {
   "cell_type": "code",
   "execution_count": 33,
   "metadata": {},
   "outputs": [
    {
     "name": "stdout",
     "output_type": "stream",
     "text": [
      "Number of coefficients removed by ridge regression is 1 out of original count of 139.\n"
     ]
    }
   ],
   "source": [
    "print('Number of coefficients removed by ridge regression is {} out of original count of {}.'.\\\n",
    "      format(ridge_coefs[ridge_coefs==0].count(), len(X.columns)))"
   ]
  },
  {
   "cell_type": "markdown",
   "metadata": {},
   "source": [
    "**Train**"
   ]
  },
  {
   "cell_type": "code",
   "execution_count": 34,
   "metadata": {},
   "outputs": [
    {
     "name": "stdout",
     "output_type": "stream",
     "text": [
      "The R2 score using ridge regression on train set is 0.939.\n"
     ]
    }
   ],
   "source": [
    "r2_ridge_train = r2_score(ridge, X_train, y_train)\n",
    "print('The R2 score using ridge regression on train set is {:.3f}.'.format(r2_ridge_train))"
   ]
  },
  {
   "cell_type": "code",
   "execution_count": 35,
   "metadata": {},
   "outputs": [
    {
     "name": "stdout",
     "output_type": "stream",
     "text": [
      "The root mean square error using ridge regression on train set is 21758.\n"
     ]
    }
   ],
   "source": [
    "rmse_ridge_train = rmse(ridge, X_train, y_train)\n",
    "print('The root mean square error using ridge regression on train set is {:.0f}.'.format(rmse_ridge_train))"
   ]
  },
  {
   "cell_type": "markdown",
   "metadata": {},
   "source": [
    "**Test**"
   ]
  },
  {
   "cell_type": "code",
   "execution_count": 36,
   "metadata": {},
   "outputs": [
    {
     "name": "stdout",
     "output_type": "stream",
     "text": [
      "The R2 score using ridge regression on test set is 0.906.\n"
     ]
    }
   ],
   "source": [
    "r2_ridge_test = r2_score(ridge, X_test, y_test)\n",
    "print('The R2 score using ridge regression on test set is {:.3f}.'.format(r2_ridge_test))"
   ]
  },
  {
   "cell_type": "code",
   "execution_count": 37,
   "metadata": {},
   "outputs": [
    {
     "name": "stdout",
     "output_type": "stream",
     "text": [
      "The root mean square error using ridge regression on test set is 24414.\n"
     ]
    }
   ],
   "source": [
    "rmse_ridge_test = rmse(ridge, X_test, y_test)\n",
    "print('The root mean square error using ridge regression on test set is {:.0f}.'.format(rmse_ridge_test))"
   ]
  },
  {
   "cell_type": "markdown",
   "metadata": {},
   "source": [
    "# Lasso Regression"
   ]
  },
  {
   "cell_type": "markdown",
   "metadata": {},
   "source": [
    "## Lasso Regression CV"
   ]
  },
  {
   "cell_type": "code",
   "execution_count": 38,
   "metadata": {},
   "outputs": [
    {
     "data": {
      "text/plain": [
       "LassoCV(cv=10, n_alphas=1000)"
      ]
     },
     "execution_count": 38,
     "metadata": {},
     "output_type": "execute_result"
    }
   ],
   "source": [
    "lasso_cv = LassoCV(n_alphas=1000, cv= 10)\n",
    "lasso_cv.fit(X_train, y_train)"
   ]
  },
  {
   "cell_type": "code",
   "execution_count": 39,
   "metadata": {},
   "outputs": [
    {
     "name": "stdout",
     "output_type": "stream",
     "text": [
      "84.80240267931266\n"
     ]
    }
   ],
   "source": [
    "# optimal alpha\n",
    "l_best_alpha = lasso_cv.alpha_\n",
    "print(l_best_alpha)"
   ]
  },
  {
   "cell_type": "markdown",
   "metadata": {},
   "source": [
    "## Optimal Alpha"
   ]
  },
  {
   "cell_type": "code",
   "execution_count": 40,
   "metadata": {},
   "outputs": [
    {
     "data": {
      "text/plain": [
       "Lasso(alpha=84.80240267931266, max_iter=2000)"
      ]
     },
     "execution_count": 40,
     "metadata": {},
     "output_type": "execute_result"
    }
   ],
   "source": [
    "lasso = Lasso(alpha=l_best_alpha, max_iter=2000)\n",
    "lasso.fit(X_train, y_train)"
   ]
  },
  {
   "cell_type": "code",
   "execution_count": 41,
   "metadata": {},
   "outputs": [],
   "source": [
    "lasso_coefs = pd.Series(lasso.coef_, index = X_train.columns)"
   ]
  },
  {
   "cell_type": "markdown",
   "metadata": {},
   "source": [
    "Top 10 positive coefficients:"
   ]
  },
  {
   "cell_type": "code",
   "execution_count": 42,
   "metadata": {},
   "outputs": [
    {
     "data": {
      "text/plain": [
       "neighborhood_StoneBr         30521.463122\n",
       "neighborhood_Crawfor         18640.856272\n",
       "condition_1_PosA             13743.836095\n",
       "overall_qual                 13276.313800\n",
       "gr_liv_area garage_area      12354.529139\n",
       "gr_liv_area ext_blt_area     11463.971851\n",
       "neighborhood_NridgHt         10761.569104\n",
       "total_bsmt_sf gr_liv_area    10541.615713\n",
       "lot_area                      9294.954199\n",
       "mas_vnr_type_Others           8217.892063\n",
       "dtype: float64"
      ]
     },
     "execution_count": 42,
     "metadata": {},
     "output_type": "execute_result"
    }
   ],
   "source": [
    "lasso_coefs[lasso_coefs!=0].sort_values(ascending=False).head(10)"
   ]
  },
  {
   "cell_type": "markdown",
   "metadata": {},
   "source": [
    "Top 10 negative coefficients:"
   ]
  },
  {
   "cell_type": "code",
   "execution_count": 43,
   "metadata": {
    "scrolled": false
   },
   "outputs": [
    {
     "data": {
      "text/plain": [
       "neighborhood_CollgCr   -4996.373264\n",
       "neighborhood_NWAmes    -5249.938564\n",
       "garage_area age        -5402.709398\n",
       "ext_blt_area           -6430.966767\n",
       "neighborhood_SawyerW   -6432.256934\n",
       "bldg_type_Twnhs        -6612.831483\n",
       "kitchen_abvgr          -6674.062072\n",
       "lot_frontage           -6984.794648\n",
       "total_bsmt_sf age      -8571.197396\n",
       "lot_area^2             -9178.203582\n",
       "dtype: float64"
      ]
     },
     "execution_count": 43,
     "metadata": {},
     "output_type": "execute_result"
    }
   ],
   "source": [
    "lasso_coefs[lasso_coefs!=0].sort_values(ascending=False).tail(10)"
   ]
  },
  {
   "cell_type": "code",
   "execution_count": 44,
   "metadata": {},
   "outputs": [
    {
     "name": "stdout",
     "output_type": "stream",
     "text": [
      "The sum of magnitudes of all coefficents decreased by 63.1% as a result of L1 penalization.\n"
     ]
    }
   ],
   "source": [
    "# sum up absolute values of all coefficients of linear and ridge reg respectively and \n",
    "# calculate the percentage drop\n",
    "per_change = (sum(abs(lr_coefs)) - sum(abs(lasso_coefs)))/ sum(abs(lr_coefs)) *100\n",
    "print('The sum of magnitudes of all coefficents decreased by {:.1f}% as a result of L1 penalization.'.format(per_change))"
   ]
  },
  {
   "cell_type": "code",
   "execution_count": 45,
   "metadata": {},
   "outputs": [
    {
     "name": "stdout",
     "output_type": "stream",
     "text": [
      "Number of coefficients eliminated by lasso regression is 57 out of original count of 139.\n"
     ]
    }
   ],
   "source": [
    "print('Number of coefficients eliminated by lasso regression is {} out of original count of {}.'.\\\n",
    "      format(lasso_coefs[lasso_coefs==0].count(), len(X.columns)))"
   ]
  },
  {
   "cell_type": "markdown",
   "metadata": {},
   "source": [
    "**Train**"
   ]
  },
  {
   "cell_type": "code",
   "execution_count": 46,
   "metadata": {},
   "outputs": [
    {
     "name": "stdout",
     "output_type": "stream",
     "text": [
      "The R2 score using ridge regression on train set is 0.937.\n"
     ]
    }
   ],
   "source": [
    "r2_lasso_train = r2_score(lasso, X_train, y_train)\n",
    "print('The R2 score using ridge regression on train set is {:.3f}.'.format(r2_lasso_train))"
   ]
  },
  {
   "cell_type": "code",
   "execution_count": 47,
   "metadata": {},
   "outputs": [
    {
     "name": "stdout",
     "output_type": "stream",
     "text": [
      "The root mean square error using lasso regression on train set is 21821.\n"
     ]
    }
   ],
   "source": [
    "rmse_lasso_train = rmse(lasso, X_train, y_train)\n",
    "print('The root mean square error using lasso regression on train set is {:.0f}.'.format(rmse_lasso_train))"
   ]
  },
  {
   "cell_type": "markdown",
   "metadata": {},
   "source": [
    "**Test**"
   ]
  },
  {
   "cell_type": "code",
   "execution_count": 48,
   "metadata": {},
   "outputs": [
    {
     "name": "stdout",
     "output_type": "stream",
     "text": [
      "The R2 score using lasso regression on test set is 0.906.\n"
     ]
    }
   ],
   "source": [
    "r2_lasso_test = r2_score(lasso, X_test, y_test)\n",
    "print('The R2 score using lasso regression on test set is {:.3f}.'.format(r2_lasso_test))"
   ]
  },
  {
   "cell_type": "code",
   "execution_count": 49,
   "metadata": {},
   "outputs": [
    {
     "name": "stdout",
     "output_type": "stream",
     "text": [
      "The root mean square error using lasso regression on test set is 25932.\n"
     ]
    }
   ],
   "source": [
    "rmse_lasso_test = rmse(lasso, X_test, y_test)\n",
    "print('The root mean square error using lasso regression on test set is {:.0f}.'.format(rmse_lasso_test))"
   ]
  },
  {
   "cell_type": "markdown",
   "metadata": {},
   "source": [
    "# Elastic Net Regression"
   ]
  },
  {
   "cell_type": "markdown",
   "metadata": {},
   "source": [
    "## Elastic Net CV"
   ]
  },
  {
   "cell_type": "code",
   "execution_count": 50,
   "metadata": {},
   "outputs": [
    {
     "data": {
      "text/plain": [
       "ElasticNetCV(cv=10, l1_ratio=[0.1, 0.5, 0.7, 0.9, 0.95, 0.99, 1], n_alphas=1000)"
      ]
     },
     "execution_count": 50,
     "metadata": {},
     "output_type": "execute_result"
    }
   ],
   "source": [
    "#enet_alphas = np.arange(0.5,1,0.005)\n",
    "enet_ratios = [.1,.5,.7,.9,.95,.99,1]\n",
    "enet_cv = ElasticNetCV(n_alphas=1000, l1_ratio = enet_ratios, cv=10)\n",
    "enet_cv.fit(X_train, y_train)"
   ]
  },
  {
   "cell_type": "code",
   "execution_count": 51,
   "metadata": {},
   "outputs": [
    {
     "name": "stdout",
     "output_type": "stream",
     "text": [
      "84.80240267931266\n"
     ]
    }
   ],
   "source": [
    "e_best_alpha = enet_cv.alpha_\n",
    "print(e_best_alpha)"
   ]
  },
  {
   "cell_type": "code",
   "execution_count": 52,
   "metadata": {},
   "outputs": [
    {
     "name": "stdout",
     "output_type": "stream",
     "text": [
      "1.0\n"
     ]
    }
   ],
   "source": [
    "e_best_ratio = enet_cv.l1_ratio_\n",
    "print(e_best_ratio)"
   ]
  },
  {
   "cell_type": "markdown",
   "metadata": {},
   "source": [
    "## Optimal Alpha and L1-Ratio"
   ]
  },
  {
   "cell_type": "code",
   "execution_count": 53,
   "metadata": {},
   "outputs": [
    {
     "data": {
      "text/plain": [
       "ElasticNet(alpha=84.80240267931266, l1_ratio=1.0, max_iter=2000)"
      ]
     },
     "execution_count": 53,
     "metadata": {},
     "output_type": "execute_result"
    }
   ],
   "source": [
    "enet = ElasticNet(alpha = e_best_alpha, l1_ratio=e_best_ratio, max_iter=2000)\n",
    "enet.fit(X_train, y_train)"
   ]
  },
  {
   "cell_type": "markdown",
   "metadata": {},
   "source": [
    "**Train**"
   ]
  },
  {
   "cell_type": "code",
   "execution_count": 54,
   "metadata": {},
   "outputs": [
    {
     "name": "stdout",
     "output_type": "stream",
     "text": [
      "The R2 score using elastic net regression on train set is 0.937.\n"
     ]
    }
   ],
   "source": [
    "r2_enet_train = r2_score(enet, X_train, y_train)\n",
    "print('The R2 score using elastic net regression on train set is {:.3f}.'.format(r2_enet_train))"
   ]
  },
  {
   "cell_type": "code",
   "execution_count": 55,
   "metadata": {},
   "outputs": [
    {
     "name": "stdout",
     "output_type": "stream",
     "text": [
      "The root mean square error using elastic net regression on train set is 21821.\n"
     ]
    }
   ],
   "source": [
    "rmse_enet_train = rmse(enet, X_train, y_train)\n",
    "print('The root mean square error using elastic net regression on train set is {:.0f}.'.format(rmse_enet_train))"
   ]
  },
  {
   "cell_type": "markdown",
   "metadata": {},
   "source": [
    "**Test**"
   ]
  },
  {
   "cell_type": "code",
   "execution_count": 56,
   "metadata": {},
   "outputs": [
    {
     "name": "stdout",
     "output_type": "stream",
     "text": [
      "The R2 score using elastic net regression on test set is 0.906.\n"
     ]
    }
   ],
   "source": [
    "r2_enet_test = r2_score(enet, X_test, y_test)\n",
    "print('The R2 score using elastic net regression on test set is {:.3f}.'.format(r2_enet_test))"
   ]
  },
  {
   "cell_type": "code",
   "execution_count": 57,
   "metadata": {},
   "outputs": [
    {
     "name": "stdout",
     "output_type": "stream",
     "text": [
      "The root mean square error using elastic net regression on test set is 25932.\n"
     ]
    }
   ],
   "source": [
    "rmse_enet_test = rmse(enet, X_test, y_test)\n",
    "print('The root mean square error using elastic net regression on test set is {:.0f}.'.format(rmse_enet_test))"
   ]
  },
  {
   "cell_type": "markdown",
   "metadata": {},
   "source": [
    "# Evaluation and Hyperparameters Selection"
   ]
  },
  {
   "cell_type": "markdown",
   "metadata": {},
   "source": [
    "## Metrics"
   ]
  },
  {
   "cell_type": "markdown",
   "metadata": {},
   "source": [
    "**(a) Baseline** \n",
    "\n",
    "*Train* <br>\n",
    "RMSE = 79557\n",
    "\n",
    "*Test* <br>\n",
    "RMSE = 78334"
   ]
  },
  {
   "cell_type": "markdown",
   "metadata": {},
   "source": [
    "**(b) Linear Regression**\n",
    "\n",
    "*Train* <br>\n",
    "$R^{2}$ score = 0.942 <br>\n",
    "RMSE = 22564\n",
    "\n",
    "*Test* <br>\n",
    "$R^{2}$ score = 0.903 <br>\n",
    "RMSE = 31297777930570\n",
    "\n",
    "\n",
    "Without regularization, the model exhibits severe overfitting and poor generalization to validation set (X_test and y_test). "
   ]
  },
  {
   "cell_type": "markdown",
   "metadata": {},
   "source": [
    "**(c) Ridge Regression, alpha=16.1**\n",
    "\n",
    "*Train* <br>\n",
    "$R^{2}$ score = 0.939 <br>\n",
    "RMSE = 21758\n",
    "\n",
    "*Test* <br>\n",
    "$R^{2}$ score = 0.906 <br>\n",
    "RMSE = 24414"
   ]
  },
  {
   "cell_type": "markdown",
   "metadata": {},
   "source": [
    "**(d) Lasso Regression, alpha=84.8**\n",
    "\n",
    "*Train* <br>\n",
    "$R^{2}$ score = 0.937 <br>\n",
    "RMSE = 21821\n",
    "\n",
    "*Test* <br>\n",
    "$R^{2}$ score = 0.906 <br>\n",
    "RMSE = 25932"
   ]
  },
  {
   "cell_type": "markdown",
   "metadata": {},
   "source": [
    "**(e) Elastic Net Regression, alpha=84.8, L ratio = 1.0**\n",
    "\n",
    "L1 ratio of 1 shows that elastic net regression picked only lasso regression, hence the metrics are the same as in lasso regression in (d)."
   ]
  },
  {
   "cell_type": "markdown",
   "metadata": {},
   "source": [
    "## Model Selection and Visualizations "
   ]
  },
  {
   "cell_type": "markdown",
   "metadata": {},
   "source": [
    "**Ridge regression** is selected as it produced the lowest RSME on test (from train test split) data. This model will be used for prediction on Kaggle submission data. "
   ]
  },
  {
   "cell_type": "code",
   "execution_count": 58,
   "metadata": {
    "scrolled": true
   },
   "outputs": [
    {
     "data": {
      "image/png": "[encoded data removed]",
      "text/plain": [
       "<Figure size 1008x720 with 1 Axes>"
      ]
     },
     "metadata": {
      "needs_background": "light"
     },
     "output_type": "display_data"
    }
   ],
   "source": [
    "y_train_ridge = ridge.predict(X_train)\n",
    "y_test_ridge = ridge.predict(X_test)\n",
    "\n",
    "# Plot residuals\n",
    "fig = plt.figure(figsize=(14,10))\n",
    "plt.scatter(y_train_ridge, y_train_ridge - y_train, c = \"tab:blue\", marker = \"s\", label = \"train\")\n",
    "plt.scatter(y_test_ridge, y_test_ridge - y_test, c = \"tab:orange\", marker = \"s\", label = \"test\")\n",
    "plt.title(\"Scatter Plot of Residuals against Predicted Sale Price\", fontsize=16)\n",
    "plt.xlabel(\"predicted\", fontsize=14)\n",
    "plt.ylabel(\"residuals\", fontsize=14)\n",
    "plt.xticks(fontsize=14)\n",
    "plt.yticks(fontsize=14)\n",
    "plt.legend(loc = \"upper right\", prop={'size': 14})\n",
    "plt.hlines(y = 0, xmin = 0, xmax = 580000, color = \"purple\")\n",
    "plt.plot((0, 580000),(35000,130000), color='red')\n",
    "plt.plot((0, 580000),(-35000,-130000), color='red');"
   ]
  },
  {
   "cell_type": "markdown",
   "metadata": {},
   "source": [
    "Observations: The residuals appear to diverge in the upper range of predict sale prices which suggest **heteroskedasticity**. \n",
    "\n",
    "As discussed in section 4.3.1 in Part 1, taking logarithm of sale price to reduce skew of the distribution of sale price might reduce heteroskedasticity."
   ]
  },
  {
   "cell_type": "code",
   "execution_count": 59,
   "metadata": {},
   "outputs": [
    {
     "data": {
      "image/png": "[encoded data removed]",
      "text/plain": [
       "<Figure size 1008x720 with 1 Axes>"
      ]
     },
     "metadata": {
      "needs_background": "light"
     },
     "output_type": "display_data"
    }
   ],
   "source": [
    "fig = plt.figure(figsize=(14,10))\n",
    "plt.scatter(y_train, y_train_ridge, c = \"tab:blue\", marker = \"s\", label = \"train\")\n",
    "plt.scatter(y_test, y_test_ridge, c = \"tab:orange\", marker = \"s\", label = \"test\")\n",
    "plt.title(\"Scatter Plot of Actual Sale Price against Predicted Sale Price\", fontsize=14)\n",
    "plt.xlabel(\"actual\", fontsize=14)\n",
    "plt.ylabel(\"predicted\", fontsize=14)\n",
    "plt.xticks(fontsize=14);\n",
    "plt.yticks(fontsize=14);\n",
    "plt.legend(loc = 'lower right')\n",
    "plt.plot([0, 600000], [0, 600000], c = \"red\")\n",
    "plt.show()"
   ]
  },
  {
   "cell_type": "markdown",
   "metadata": {},
   "source": [
    "Observations: Properties of prices up to USD 350,000 are well predicted with small deviations from actual sale price. Beyond USD 350,0000, the prediction deviates further. "
   ]
  },
  {
   "cell_type": "code",
   "execution_count": 60,
   "metadata": {
    "scrolled": false
   },
   "outputs": [
    {
     "data": {
      "image/png": "[encoded data removed]",
      "text/plain": [
       "<Figure size 1152x864 with 1 Axes>"
      ]
     },
     "metadata": {
      "needs_background": "light"
     },
     "output_type": "display_data"
    }
   ],
   "source": [
    "fig = plt.figure(figsize=(16,12))\n",
    "# filter top 15 positive and 15 negative coefficients\n",
    "ridge_coefs_fil = pd.concat([ridge_coefs.sort_values().head(15),\n",
    "                             ridge_coefs.sort_values().tail(15)])\n",
    "ridge_coefs_fil.plot(kind = \"barh\")\n",
    "plt.xticks(fontsize=14);\n",
    "plt.yticks(fontsize=14);\n",
    "plt.title(\"Top Coefficients from Ridge Regression\", fontsize=14);\n",
    "\n"
   ]
  },
  {
   "cell_type": "markdown",
   "metadata": {},
   "source": [
    "Observations: Crawford did not show up as more expensive neighborhood but its coefficient suggests that it has strong positive impact on prices. As shown in section 5.2.3 in Part 1, Stone Brooks and Northridge Heights have the highest price ranges which corroborate the strong positive coefficients from the model."
   ]
  },
  {
   "cell_type": "markdown",
   "metadata": {},
   "source": [
    "## Further Refinement using Full Training Set"
   ]
  },
  {
   "cell_type": "markdown",
   "metadata": {},
   "source": [
    "The ridge regression model will now be fitted with the entire training set. This time the target variable is transformed by log normalization. "
   ]
  },
  {
   "cell_type": "code",
   "execution_count": 61,
   "metadata": {},
   "outputs": [],
   "source": [
    "r_alphas = np.logspace(0,5,200)\n",
    "log_y=np.log(y)\n",
    "ridge_cv2 = RidgeCV(alphas=r_alphas,\n",
    "                  store_cv_values=True)\n",
    "ridge_cv2.fit(X, log_y);"
   ]
  },
  {
   "cell_type": "code",
   "execution_count": 62,
   "metadata": {},
   "outputs": [
    {
     "name": "stdout",
     "output_type": "stream",
     "text": [
      "12.750512407130135\n"
     ]
    }
   ],
   "source": [
    "# optimal alpha\n",
    "r_best_alpha2 = ridge_cv2.alpha_\n",
    "print(r_best_alpha2)"
   ]
  },
  {
   "cell_type": "code",
   "execution_count": 63,
   "metadata": {},
   "outputs": [
    {
     "data": {
      "text/plain": [
       "Ridge(alpha=12.750512407130135)"
      ]
     },
     "execution_count": 63,
     "metadata": {},
     "output_type": "execute_result"
    }
   ],
   "source": [
    "ridge2 = Ridge(alpha=r_best_alpha2)\n",
    "ridge2.fit(X, log_y)"
   ]
  },
  {
   "cell_type": "markdown",
   "metadata": {},
   "source": [
    "**Metrics**"
   ]
  },
  {
   "cell_type": "code",
   "execution_count": 64,
   "metadata": {},
   "outputs": [],
   "source": [
    "log_y_pred = ridge2.predict(X)"
   ]
  },
  {
   "cell_type": "code",
   "execution_count": 65,
   "metadata": {},
   "outputs": [],
   "source": [
    "# reverse transform by taking exponential\n",
    "y_pred = np.exp(log_y_pred)"
   ]
  },
  {
   "cell_type": "code",
   "execution_count": 66,
   "metadata": {},
   "outputs": [],
   "source": [
    "def mse(y, yhat):\n",
    "    mse = sum((y-yhat)**2)/len(y)\n",
    "    return mse"
   ]
  },
  {
   "cell_type": "code",
   "execution_count": 67,
   "metadata": {},
   "outputs": [
    {
     "name": "stdout",
     "output_type": "stream",
     "text": [
      "The R2 score using ridge regression on entire set is 0.928.\n"
     ]
    }
   ],
   "source": [
    "r2_ridge2 = r2_score(ridge2, X, log_y)\n",
    "print('The R2 score using ridge regression on entire set is {:.3f}.'.format(r2_ridge2))"
   ]
  },
  {
   "cell_type": "code",
   "execution_count": 68,
   "metadata": {
    "scrolled": true
   },
   "outputs": [
    {
     "name": "stdout",
     "output_type": "stream",
     "text": [
      "The root mean square error using ridge regression on train set is 18700.\n"
     ]
    }
   ],
   "source": [
    "rmse_ridge2 = np.sqrt(mse(y, y_pred))\n",
    "print('The root mean square error using ridge regression on train set is {:.0f}.'.format(rmse_ridge2))"
   ]
  },
  {
   "cell_type": "markdown",
   "metadata": {},
   "source": [
    "RSME has improved further from **24414** to **18700**."
   ]
  },
  {
   "cell_type": "markdown",
   "metadata": {},
   "source": [
    "# Kaggle Submission"
   ]
  },
  {
   "cell_type": "markdown",
   "metadata": {},
   "source": [
    "Apply the same preprocessing steps from Part 1 to test data."
   ]
  },
  {
   "cell_type": "code",
   "execution_count": 69,
   "metadata": {
    "scrolled": true
   },
   "outputs": [
    {
     "data": {
      "text/plain": [
       "(879, 80)"
      ]
     },
     "execution_count": 69,
     "metadata": {},
     "output_type": "execute_result"
    }
   ],
   "source": [
    "test = pd.read_csv('../datasets/test.csv')\n",
    "test.shape"
   ]
  },
  {
   "cell_type": "markdown",
   "metadata": {},
   "source": [
    "**Imputation**"
   ]
  },
  {
   "cell_type": "code",
   "execution_count": 70,
   "metadata": {},
   "outputs": [],
   "source": [
    "# custom function to rename columns to lower case and replace whitespaces with underscore.\n",
    "def rename_cols(df):\n",
    "    old_cols = df.columns\n",
    "    new_cols = [x.lower().replace(' ','_') for x in old_cols]\n",
    "    #create dictionary with old column label as key and new label as value\n",
    "    col_dict = {old:new for old, new in zip(old_cols,new_cols)}\n",
    "    df.rename(columns=col_dict, inplace=True)\n",
    "    return df"
   ]
  },
  {
   "cell_type": "code",
   "execution_count": 71,
   "metadata": {},
   "outputs": [],
   "source": [
    "test = rename_cols(test)\n",
    "test.drop(columns='pid',inplace=True)\n",
    "test['lot_frontage'].fillna(0, inplace=True)\n",
    "test.drop(columns='alley', inplace=True)\n",
    "test['mas_vnr_type'].fillna(test['mas_vnr_type'].mode()[0], inplace=True)\n",
    "test['mas_vnr_area'].fillna(test['mas_vnr_area'].median(), inplace=True)"
   ]
  },
  {
   "cell_type": "code",
   "execution_count": 72,
   "metadata": {},
   "outputs": [],
   "source": [
    "bsmt = [col for col in test.columns if 'bsmt' in col]\n",
    "for col in bsmt:\n",
    "    if test[col].dtype == 'object':\n",
    "        test[col].fillna('NA', inplace=True)\n",
    "    elif test[col].dtype == 'float64':\n",
    "        test[col].fillna(0, inplace=True)"
   ]
  },
  {
   "cell_type": "code",
   "execution_count": 73,
   "metadata": {},
   "outputs": [],
   "source": [
    "garage = [col for col in test.columns if 'garage' in col]\n",
    "for col in garage:\n",
    "    if test[col].dtype == 'object':\n",
    "        test[col].fillna('NA', inplace=True)\n",
    "    elif test[col].dtype == 'float64':\n",
    "        test[col].fillna(0, inplace=True)\n",
    "test.drop(columns='garage_yr_blt', inplace=True)"
   ]
  },
  {
   "cell_type": "code",
   "execution_count": 74,
   "metadata": {},
   "outputs": [],
   "source": [
    "test.drop(columns=['pool_qc','pool_area','misc_feature'], inplace=True)\n",
    "test['fence'].fillna('NA', inplace=True)\n",
    "test['fireplace_qu'].fillna('NA', inplace=True)\n",
    "test['electrical'].fillna(test['electrical'].mode()[0], inplace=True)"
   ]
  },
  {
   "cell_type": "code",
   "execution_count": 75,
   "metadata": {},
   "outputs": [
    {
     "data": {
      "text/plain": [
       "0"
      ]
     },
     "execution_count": 75,
     "metadata": {},
     "output_type": "execute_result"
    }
   ],
   "source": [
    "test.isnull().sum().sum()"
   ]
  },
  {
   "cell_type": "markdown",
   "metadata": {},
   "source": [
    "**Feature Engineering**"
   ]
  },
  {
   "cell_type": "code",
   "execution_count": 76,
   "metadata": {},
   "outputs": [],
   "source": [
    "test['age'] = test['yr_sold']-test['year_built']\n",
    "test.drop(columns=['year_built','year_remod/add','yr_sold'], inplace=True)"
   ]
  },
  {
   "cell_type": "code",
   "execution_count": 77,
   "metadata": {},
   "outputs": [],
   "source": [
    "area_cols = [x for x in test.columns if 'area' in x or 'sf' in x or 'porch' in x]\n",
    "test['ext_blt_area'] = test['mas_vnr_area']+test['wood_deck_sf']+test['open_porch_sf']+\\\n",
    "                       test['enclosed_porch']+test['3ssn_porch']+test['screen_porch']\n",
    "test.drop(columns=['mas_vnr_area','wood_deck_sf','open_porch_sf','enclosed_porch',\\\n",
    "                   '3ssn_porch','screen_porch','garage_cars'], inplace=True)\n",
    "test.drop(columns=['bsmtfin_sf_1','bsmtfin_sf_2','bsmt_unf_sf',\\\n",
    "                   '1st_flr_sf','2nd_flr_sf','low_qual_fin_sf'], inplace=True)"
   ]
  },
  {
   "cell_type": "code",
   "execution_count": 78,
   "metadata": {},
   "outputs": [],
   "source": [
    "room_cols = [x for x in test.columns if 'room' in x or 'abvgr' in x or 'bath' in x]\n",
    "test['total_bath']= test['bsmt_full_bath']+0.5*test['bsmt_half_bath']+test['full_bath']+0.5*test['half_bath']\n",
    "test.drop(columns=['bsmt_full_bath','bsmt_half_bath','full_bath','half_bath','totrms_abvgrd'],inplace=True)"
   ]
  },
  {
   "cell_type": "code",
   "execution_count": 79,
   "metadata": {},
   "outputs": [],
   "source": [
    "test.replace({'exter_qual':{'Po':1,'Fa':2,'TA':3,'Gd':4,'Ex':5},\n",
    "              'exter_cond':{'Po':1,'Fa':2,'TA':3,'Gd':4,'Ex':5},\n",
    "               'bsmt_qual':{'NA':0,'Po':1,'Fa':2,'TA':3,'Gd':4,'Ex':5},\n",
    "               'bsmt_cond':{'NA':0,'Po':1,'Fa':2,'TA':3,'Gd':4,'Ex':5},\n",
    "              'heating_qc':{'Po':1,'Fa':2,'TA':3,'Gd':4,'Ex':5},\n",
    "            'kitchen_qual':{'Po':1,'Fa':2,'TA':3,'Gd':4,'Ex':5},\n",
    "            'fireplace_qu':{'NA':0,'Po':1,'Fa':2,'TA':3,'Gd':4,'Ex':5},\n",
    "           'garage_finish':{'NA':0,'Unf':1,'RFn':2,'Fin':3},\n",
    "             'garage_qual':{'NA':0,'Po':1,'Fa':2,'TA':3,'Gd':4,'Ex':5},\n",
    "             'garage_cond':{'NA':0,'Po':1,'Fa':2,'TA':3,'Gd':4,'Ex':5}\n",
    "             }, \n",
    "            inplace=True\n",
    "            )"
   ]
  },
  {
   "cell_type": "code",
   "execution_count": 80,
   "metadata": {},
   "outputs": [],
   "source": [
    "test['overall_qual']=(test['overall_qual']+test['overall_cond'])/2\n",
    "test['exter_qual']=(test['exter_qual']+test['exter_cond'])/2\n",
    "test['bsmt_qual']=(test['bsmt_qual']+test['bsmt_cond'])/2\n",
    "test['garage_qual']=(test['garage_qual']+test['garage_cond']+test['garage_finish'])/3"
   ]
  },
  {
   "cell_type": "code",
   "execution_count": 81,
   "metadata": {},
   "outputs": [],
   "source": [
    "test.drop(columns=['overall_cond','exter_cond','bsmt_cond',\\\n",
    "                   'garage_finish','garage_cond','condition_2','bsmtfin_type_2'], inplace=True)"
   ]
  },
  {
   "cell_type": "code",
   "execution_count": 82,
   "metadata": {},
   "outputs": [],
   "source": [
    "test.replace({'lot_shape':{'IR3':1,'IR2':2,'IR1':3,'Reg':4},\n",
    "              'utilities':{'ELO':1,'NoSeWa':2,'NoSewr':3,'AllPub':4},\n",
    "             'land_slope':{'Sev':1,'Mod':2,'Gtl':3},\n",
    "          'bsmt_exposure':{'NA':0,'No':0,'Mn':1,'Av':2,'Gd':3},\n",
    "          'bsmt_exposure':{'NA':0,'No':0,'Mn':1,'Av':2,'Gd':3},\n",
    "         'bsmtfin_type_1':{'NA':0,'Unf':1,'LwQ':2,'Rec':3,'BLQ':4,'ALQ':5,'GLQ':6},\n",
    "             'electrical':{'Mix':1,'FuseP':2,'FuseF':3,'FuseA':4,'SBrkr':5},\n",
    "             'functional':{'Sal':0,'Sev':0,'Maj2':1,'Maj1':1,'Mod':2,'Min2':3,'Min1':3,'Typ':4},\n",
    "            'paved_drive':{'N':1,'P':2,'Y':3},\n",
    "                  'fence':{'NA':0,'MnWw':1,'GdWo':2,'MnPrv':3,'GdPrv':4}\n",
    "             }, \n",
    "            inplace=True\n",
    "            )"
   ]
  },
  {
   "cell_type": "code",
   "execution_count": 83,
   "metadata": {},
   "outputs": [],
   "source": [
    "test.drop(columns=['ms_subclass','exterior_2nd','roof_matl','heating','sale_type','exterior_1st'], inplace=True)"
   ]
  },
  {
   "cell_type": "code",
   "execution_count": 84,
   "metadata": {},
   "outputs": [],
   "source": [
    "test.replace({'ms_zoning':{'C (all)':'non R','A (agr)':'non R','I (all)':'non R'},\n",
    "             'mas_vnr_type':{'CBlock':'Others','BrkCmn':'Others','Stone':'Others'}\n",
    "             }, \n",
    "            inplace=True\n",
    "            )"
   ]
  },
  {
   "cell_type": "code",
   "execution_count": 85,
   "metadata": {},
   "outputs": [],
   "source": [
    "dum_cols = ['ms_zoning','street','land_contour','lot_config','neighborhood','condition_1','bldg_type',\\\n",
    "            'house_style','roof_style','mas_vnr_type','foundation','central_air','garage_type']"
   ]
  },
  {
   "cell_type": "code",
   "execution_count": 86,
   "metadata": {},
   "outputs": [],
   "source": [
    "test = pd.get_dummies(test, columns=dum_cols,drop_first=True)"
   ]
  },
  {
   "cell_type": "code",
   "execution_count": 87,
   "metadata": {},
   "outputs": [],
   "source": [
    "test.drop(columns='misc_val',inplace=True)"
   ]
  },
  {
   "cell_type": "code",
   "execution_count": 88,
   "metadata": {},
   "outputs": [
    {
     "data": {
      "text/plain": [
       "(879, 104)"
      ]
     },
     "execution_count": 88,
     "metadata": {},
     "output_type": "execute_result"
    }
   ],
   "source": [
    "test.shape"
   ]
  },
  {
   "cell_type": "markdown",
   "metadata": {},
   "source": [
    "**Interaction Terms**"
   ]
  },
  {
   "cell_type": "code",
   "execution_count": 89,
   "metadata": {},
   "outputs": [],
   "source": [
    "cont_cols = ['lot_frontage','lot_area','total_bsmt_sf','gr_liv_area',\\\n",
    "             'garage_area','age','ext_blt_area','total_bath']"
   ]
  },
  {
   "cell_type": "code",
   "execution_count": 90,
   "metadata": {},
   "outputs": [],
   "source": [
    "poly = PolynomialFeatures(degree = 2, include_bias=False)\n",
    "X_poly=poly.fit_transform(test[cont_cols])\n",
    "poly_fts = poly.get_feature_names(cont_cols)\n",
    "test.drop(columns=cont_cols, inplace=True)"
   ]
  },
  {
   "cell_type": "code",
   "execution_count": 91,
   "metadata": {},
   "outputs": [],
   "source": [
    "test.loc[:,poly_fts] = X_poly"
   ]
  },
  {
   "cell_type": "markdown",
   "metadata": {},
   "source": [
    "**Standard Scaling**"
   ]
  },
  {
   "cell_type": "code",
   "execution_count": 92,
   "metadata": {},
   "outputs": [],
   "source": [
    "# scaler already fitted using train set\n",
    "scaled = ss.transform(test[poly_fts])"
   ]
  },
  {
   "cell_type": "code",
   "execution_count": 93,
   "metadata": {},
   "outputs": [],
   "source": [
    "test.loc[:,poly_fts] = scaled"
   ]
  },
  {
   "cell_type": "markdown",
   "metadata": {},
   "source": [
    "**Final Predictor Variables**"
   ]
  },
  {
   "cell_type": "code",
   "execution_count": 94,
   "metadata": {},
   "outputs": [
    {
     "data": {
      "text/plain": [
       "139"
      ]
     },
     "execution_count": 94,
     "metadata": {},
     "output_type": "execute_result"
    }
   ],
   "source": [
    "# final check that all columns are aligned. \n",
    "ames_cols = ames.drop(columns = 'saleprice').columns\n",
    "len(ames_cols)"
   ]
  },
  {
   "cell_type": "code",
   "execution_count": 95,
   "metadata": {},
   "outputs": [
    {
     "data": {
      "text/plain": [
       "139"
      ]
     },
     "execution_count": 95,
     "metadata": {},
     "output_type": "execute_result"
    }
   ],
   "source": [
    "test_cols = test.drop(columns='id').columns\n",
    "len(test_cols)"
   ]
  },
  {
   "cell_type": "code",
   "execution_count": 96,
   "metadata": {},
   "outputs": [
    {
     "data": {
      "text/plain": [
       "139"
      ]
     },
     "execution_count": 96,
     "metadata": {},
     "output_type": "execute_result"
    }
   ],
   "source": [
    "(ames_cols == test_cols).sum()"
   ]
  },
  {
   "cell_type": "markdown",
   "metadata": {},
   "source": [
    "All 139 variables are correctly aligned in both processed datasets."
   ]
  },
  {
   "cell_type": "code",
   "execution_count": 97,
   "metadata": {},
   "outputs": [],
   "source": [
    "X_kag = test.drop(columns='id')"
   ]
  },
  {
   "cell_type": "code",
   "execution_count": 98,
   "metadata": {},
   "outputs": [],
   "source": [
    "y_kag_pred = ridge2.predict(X_kag)"
   ]
  },
  {
   "cell_type": "code",
   "execution_count": 99,
   "metadata": {},
   "outputs": [],
   "source": [
    "# reverse transform by taking exponential\n",
    "y_kag_pred = np.exp((y_kag_pred))"
   ]
  },
  {
   "cell_type": "code",
   "execution_count": 100,
   "metadata": {
    "scrolled": true
   },
   "outputs": [],
   "source": [
    "# concatenate predicted values to dataframe\n",
    "test.loc[:,'saleprice'] = y_kag_pred"
   ]
  },
  {
   "cell_type": "code",
   "execution_count": 101,
   "metadata": {},
   "outputs": [],
   "source": [
    "# subset 'id' and 'saleprice' for submission\n",
    "subm_cols = ['id', 'saleprice']\n",
    "final = test[subm_cols]\n",
    "final = final.sort_values(by='id')"
   ]
  },
  {
   "cell_type": "code",
   "execution_count": 102,
   "metadata": {},
   "outputs": [],
   "source": [
    "final.to_csv('../datasets/submission_logprice.csv', index=False)"
   ]
  },
  {
   "cell_type": "markdown",
   "metadata": {},
   "source": [
    "![kaggle score](./images/kaggle_submission_score.png)"
   ]
  },
  {
   "cell_type": "markdown",
   "metadata": {},
   "source": [
    "**final kaggle score achieved: 20791**"
   ]
  },
  {
   "cell_type": "markdown",
   "metadata": {},
   "source": [
    "# Conclusion "
   ]
  },
  {
   "cell_type": "markdown",
   "metadata": {},
   "source": [
    "**prediction accuracy** <br>\n",
    "\n",
    "The model predicts well for properties up to price of USD 350,000. \n",
    "\n",
    "Beyond USD 350,000, predictions begin to diverge from the actual sale price and under-estimation occurs more frequently than over-estimation. Also the number of data available of prices beyong USD 350,000 is sparse, which can be a possible reason why the more expensive properties are not well predicted. For properties of prices higher than USD 500,000, the buyers may be less sensitive to price and more willingly to pay for luxury and well-furnished houses.\n",
    "\n",
    "**feature selection and engineering** <br>\n",
    "\n",
    "With 78 variables available, it is necessary to comb through and consider them in the context of property valuation instead of putting every one of them through the regression model. While the positive effects of features like area and quality are expected, the model revealed that some features do not impact prices such month of sale. This is contrary to the general perception of seasonal peaks and lull in the property markets. \n",
    "\n",
    "**application to future predictions**\n",
    "\n",
    "It should be noted that the time frame of this data set corresponds to a period of both the housing market and financial market declines due to sub-prime mortgage crisis. In the chart below, the house price index showed mild decline to the nation as a whole. Foreclosures were rampant and there could be many distressed sale which skewed the price distribution. Thterefore it is not recommended for this model to be used in the years of market recovery post financial crisis. \n",
    "\n",
    "![house_price_index](./images/house_price_index.png)\n",
    "\n",
    "\n",
    "source: https://fred.stlouisfed.org/series/USSTHPI#0\n",
    "\n",
    "\n",
    "\n"
   ]
  },
  {
   "cell_type": "markdown",
   "metadata": {},
   "source": [
    "**recommendations**\n",
    "\n",
    "1) Top neighborhoods that will hold price well are Stone Brook and Northridge Heights. While the model did not reveal this, charts show that properties in the Department of Transport and Rail Road are the less desirable. \n",
    "\n",
    "2) Lot and gross living area are best indicators of price, as it always has been. Owners can improve house price by building new floors, or expand the ground floor area. This largely depends on the lot configuration and house structure. Realtors can hunt for properties with good potential for expansion and include this as a strong selling point to prospective buyers. \n",
    "\n",
    "3) Among the various quality rankings, kitchen quality stood out so it is clear that realtors should suggest for  prospective sellers to do facelift works to kitchen to improve valuation before putting up on the market. \n",
    "\n",
    "4) Garage area impacts price negatively. This suggests that a garage should be of right size and excessive garage area reduces area for other productive use. \n",
    "\n",
    "5) Townhouses are not desirable due to the close proximity to neighbors and small floor area per floor. Properties with large lot frontages are negatively impacted price as there can be more road noise. However that depends on the local traffic volume. Realtors may find them harder to market and should focus less on these.\n",
    "\n",
    "6) Properties with large lot frontages are negatively impacted price as there can be more road noise. However that depends on the local traffic volume. "
   ]
  },
  {
   "cell_type": "markdown",
   "metadata": {},
   "source": [
    "**suggestions for further analysis**\n",
    "\n",
    "1) Apply in depth statistical tests to examine violations of assumptions for linear regression such as homoscedasticity. Log normalization of prices has done well to transform data but statistic tests are required for further studies.\n",
    "\n",
    "2) Filter features that were reduced greatly by ridge regression and also eliminated by lasso regression to improve model. \n",
    "\n",
    "3) Remove more features with poor correlation to sale price. \n",
    "\n",
    "4) Remove interaction terms with low coefficients as they may have added noise and yet are not meaningful for interpretation.\n",
    "\n",
    "5) For higher priced properties, they can be bundled with similarly priced properties from other states of comparable markets for separate modeling to achieve better predictions. "
   ]
  },
  {
   "cell_type": "code",
   "execution_count": null,
   "metadata": {},
   "outputs": [],
   "source": []
  }
 ],
 "metadata": {
  "kernelspec": {
   "display_name": "Python 3",
   "language": "python",
   "name": "python3"
  },
  "language_info": {
   "codemirror_mode": {
    "name": "ipython",
    "version": 3
   },
   "file_extension": ".py",
   "mimetype": "text/x-python",
   "name": "python",
   "nbconvert_exporter": "python",
   "pygments_lexer": "ipython3",
   "version": "3.8.5"
  },
  "toc": {
   "base_numbering": 1,
   "nav_menu": {},
   "number_sections": true,
   "sideBar": true,
   "skip_h1_title": false,
   "title_cell": "Table of Contents",
   "title_sidebar": "Contents",
   "toc_cell": false,
   "toc_position": {},
   "toc_section_display": true,
   "toc_window_display": true
  }
 },
 "nbformat": 4,
 "nbformat_minor": 4
}
