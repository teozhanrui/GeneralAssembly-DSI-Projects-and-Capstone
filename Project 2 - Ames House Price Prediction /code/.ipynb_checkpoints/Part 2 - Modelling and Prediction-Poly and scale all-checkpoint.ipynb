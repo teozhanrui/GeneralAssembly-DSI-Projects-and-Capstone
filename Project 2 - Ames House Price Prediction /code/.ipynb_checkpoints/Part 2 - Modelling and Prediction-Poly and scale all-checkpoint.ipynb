{
 "cells": [
  {
   "cell_type": "code",
   "execution_count": 1,
   "metadata": {},
   "outputs": [],
   "source": [
    "import pandas as pd\n",
    "import numpy as np\n",
    "import matplotlib.pyplot as plt\n",
    "import seaborn as sns\n",
    "\n",
    "from sklearn.model_selection import (train_test_split, cross_val_score)\n",
    "from sklearn.linear_model import Ridge, Lasso, ElasticNet, LinearRegression, RidgeCV, LassoCV, ElasticNetCV\n",
    "from sklearn.preprocessing import (StandardScaler, PolynomialFeatures)\n",
    "from sklearn import metrics"
   ]
  },
  {
   "cell_type": "code",
   "execution_count": 2,
   "metadata": {},
   "outputs": [],
   "source": [
    "ames = pd.read_csv('../datasets/ames_cleaned.csv')"
   ]
  },
  {
   "cell_type": "code",
   "execution_count": 3,
   "metadata": {},
   "outputs": [
    {
     "data": {
      "text/plain": [
       "(2046, 141)"
      ]
     },
     "execution_count": 3,
     "metadata": {},
     "output_type": "execute_result"
    }
   ],
   "source": [
    "ames.shape"
   ]
  },
  {
   "cell_type": "code",
   "execution_count": 4,
   "metadata": {},
   "outputs": [
    {
     "data": {
      "text/html": [
       "<div>\n",
       "<style scoped>\n",
       "    .dataframe tbody tr th:only-of-type {\n",
       "        vertical-align: middle;\n",
       "    }\n",
       "\n",
       "    .dataframe tbody tr th {\n",
       "        vertical-align: top;\n",
       "    }\n",
       "\n",
       "    .dataframe thead th {\n",
       "        text-align: right;\n",
       "    }\n",
       "</style>\n",
       "<table border=\"1\" class=\"dataframe\">\n",
       "  <thead>\n",
       "    <tr style=\"text-align: right;\">\n",
       "      <th></th>\n",
       "      <th>id</th>\n",
       "      <th>lot_shape</th>\n",
       "      <th>utilities</th>\n",
       "      <th>land_slope</th>\n",
       "      <th>overall_qual</th>\n",
       "      <th>exter_qual</th>\n",
       "      <th>bsmt_qual</th>\n",
       "      <th>bsmt_exposure</th>\n",
       "      <th>bsmtfin_type_1</th>\n",
       "      <th>heating_qc</th>\n",
       "      <th>...</th>\n",
       "      <th>garage_area^2</th>\n",
       "      <th>garage_area age</th>\n",
       "      <th>garage_area ext_blt_area</th>\n",
       "      <th>garage_area total_bath</th>\n",
       "      <th>age^2</th>\n",
       "      <th>age ext_blt_area</th>\n",
       "      <th>age total_bath</th>\n",
       "      <th>ext_blt_area^2</th>\n",
       "      <th>ext_blt_area total_bath</th>\n",
       "      <th>total_bath^2</th>\n",
       "    </tr>\n",
       "  </thead>\n",
       "  <tbody>\n",
       "    <tr>\n",
       "      <th>2041</th>\n",
       "      <td>1587</td>\n",
       "      <td>3</td>\n",
       "      <td>4</td>\n",
       "      <td>3</td>\n",
       "      <td>6.5</td>\n",
       "      <td>3.5</td>\n",
       "      <td>3.5</td>\n",
       "      <td>2</td>\n",
       "      <td>6</td>\n",
       "      <td>5</td>\n",
       "      <td>...</td>\n",
       "      <td>270400.0</td>\n",
       "      <td>520.0</td>\n",
       "      <td>143520.0</td>\n",
       "      <td>1560.0</td>\n",
       "      <td>1.0</td>\n",
       "      <td>276.0</td>\n",
       "      <td>3.0</td>\n",
       "      <td>76176.0</td>\n",
       "      <td>828.0</td>\n",
       "      <td>9.00</td>\n",
       "    </tr>\n",
       "    <tr>\n",
       "      <th>2042</th>\n",
       "      <td>785</td>\n",
       "      <td>3</td>\n",
       "      <td>4</td>\n",
       "      <td>3</td>\n",
       "      <td>4.5</td>\n",
       "      <td>3.0</td>\n",
       "      <td>3.0</td>\n",
       "      <td>0</td>\n",
       "      <td>4</td>\n",
       "      <td>5</td>\n",
       "      <td>...</td>\n",
       "      <td>290521.0</td>\n",
       "      <td>37191.0</td>\n",
       "      <td>85162.0</td>\n",
       "      <td>539.0</td>\n",
       "      <td>4761.0</td>\n",
       "      <td>10902.0</td>\n",
       "      <td>69.0</td>\n",
       "      <td>24964.0</td>\n",
       "      <td>158.0</td>\n",
       "      <td>1.00</td>\n",
       "    </tr>\n",
       "    <tr>\n",
       "      <th>2043</th>\n",
       "      <td>916</td>\n",
       "      <td>4</td>\n",
       "      <td>4</td>\n",
       "      <td>3</td>\n",
       "      <td>6.0</td>\n",
       "      <td>3.0</td>\n",
       "      <td>3.0</td>\n",
       "      <td>0</td>\n",
       "      <td>1</td>\n",
       "      <td>4</td>\n",
       "      <td>...</td>\n",
       "      <td>116964.0</td>\n",
       "      <td>27702.0</td>\n",
       "      <td>0.0</td>\n",
       "      <td>513.0</td>\n",
       "      <td>6561.0</td>\n",
       "      <td>0.0</td>\n",
       "      <td>121.5</td>\n",
       "      <td>0.0</td>\n",
       "      <td>0.0</td>\n",
       "      <td>2.25</td>\n",
       "    </tr>\n",
       "    <tr>\n",
       "      <th>2044</th>\n",
       "      <td>639</td>\n",
       "      <td>4</td>\n",
       "      <td>4</td>\n",
       "      <td>3</td>\n",
       "      <td>4.5</td>\n",
       "      <td>3.0</td>\n",
       "      <td>3.0</td>\n",
       "      <td>0</td>\n",
       "      <td>3</td>\n",
       "      <td>3</td>\n",
       "      <td>...</td>\n",
       "      <td>86436.0</td>\n",
       "      <td>15582.0</td>\n",
       "      <td>96726.0</td>\n",
       "      <td>588.0</td>\n",
       "      <td>2809.0</td>\n",
       "      <td>17437.0</td>\n",
       "      <td>106.0</td>\n",
       "      <td>108241.0</td>\n",
       "      <td>658.0</td>\n",
       "      <td>4.00</td>\n",
       "    </tr>\n",
       "    <tr>\n",
       "      <th>2045</th>\n",
       "      <td>10</td>\n",
       "      <td>4</td>\n",
       "      <td>4</td>\n",
       "      <td>3</td>\n",
       "      <td>6.0</td>\n",
       "      <td>3.0</td>\n",
       "      <td>3.0</td>\n",
       "      <td>0</td>\n",
       "      <td>1</td>\n",
       "      <td>4</td>\n",
       "      <td>...</td>\n",
       "      <td>195364.0</td>\n",
       "      <td>4862.0</td>\n",
       "      <td>88400.0</td>\n",
       "      <td>1105.0</td>\n",
       "      <td>121.0</td>\n",
       "      <td>2200.0</td>\n",
       "      <td>27.5</td>\n",
       "      <td>40000.0</td>\n",
       "      <td>500.0</td>\n",
       "      <td>6.25</td>\n",
       "    </tr>\n",
       "  </tbody>\n",
       "</table>\n",
       "<p>5 rows × 141 columns</p>\n",
       "</div>"
      ],
      "text/plain": [
       "        id  lot_shape  utilities  land_slope  overall_qual  exter_qual  \\\n",
       "2041  1587          3          4           3           6.5         3.5   \n",
       "2042   785          3          4           3           4.5         3.0   \n",
       "2043   916          4          4           3           6.0         3.0   \n",
       "2044   639          4          4           3           4.5         3.0   \n",
       "2045    10          4          4           3           6.0         3.0   \n",
       "\n",
       "      bsmt_qual  bsmt_exposure  bsmtfin_type_1  heating_qc  ...  \\\n",
       "2041        3.5              2               6           5  ...   \n",
       "2042        3.0              0               4           5  ...   \n",
       "2043        3.0              0               1           4  ...   \n",
       "2044        3.0              0               3           3  ...   \n",
       "2045        3.0              0               1           4  ...   \n",
       "\n",
       "      garage_area^2  garage_area age  garage_area ext_blt_area  \\\n",
       "2041       270400.0            520.0                  143520.0   \n",
       "2042       290521.0          37191.0                   85162.0   \n",
       "2043       116964.0          27702.0                       0.0   \n",
       "2044        86436.0          15582.0                   96726.0   \n",
       "2045       195364.0           4862.0                   88400.0   \n",
       "\n",
       "      garage_area total_bath   age^2  age ext_blt_area  age total_bath  \\\n",
       "2041                  1560.0     1.0             276.0             3.0   \n",
       "2042                   539.0  4761.0           10902.0            69.0   \n",
       "2043                   513.0  6561.0               0.0           121.5   \n",
       "2044                   588.0  2809.0           17437.0           106.0   \n",
       "2045                  1105.0   121.0            2200.0            27.5   \n",
       "\n",
       "      ext_blt_area^2  ext_blt_area total_bath  total_bath^2  \n",
       "2041         76176.0                    828.0          9.00  \n",
       "2042         24964.0                    158.0          1.00  \n",
       "2043             0.0                      0.0          2.25  \n",
       "2044        108241.0                    658.0          4.00  \n",
       "2045         40000.0                    500.0          6.25  \n",
       "\n",
       "[5 rows x 141 columns]"
      ]
     },
     "execution_count": 4,
     "metadata": {},
     "output_type": "execute_result"
    }
   ],
   "source": [
    "ames.tail()"
   ]
  },
  {
   "cell_type": "markdown",
   "metadata": {},
   "source": [
    "# Standard Scaling and Train Test Split"
   ]
  },
  {
   "cell_type": "code",
   "execution_count": 5,
   "metadata": {},
   "outputs": [],
   "source": [
    "# drop 'id'\n",
    "ames.drop(columns='id', inplace=True)"
   ]
  },
  {
   "cell_type": "code",
   "execution_count": null,
   "metadata": {},
   "outputs": [],
   "source": [
    "# continuous variables to be scaled.\n",
    "'''poly_fts=['lot_frontage',\n",
    " 'lot_area',\n",
    " 'total_bsmt_sf',\n",
    " 'gr_liv_area',\n",
    " 'garage_area',\n",
    " 'age',\n",
    " 'ext_blt_area',\n",
    " 'total_bath',\n",
    " 'lot_frontage^2',\n",
    " 'lot_frontage lot_area',\n",
    " 'lot_frontage total_bsmt_sf',\n",
    " 'lot_frontage gr_liv_area',\n",
    " 'lot_frontage garage_area',\n",
    " 'lot_frontage age',\n",
    " 'lot_frontage ext_blt_area',\n",
    " 'lot_frontage total_bath',\n",
    " 'lot_area^2',\n",
    " 'lot_area total_bsmt_sf',\n",
    " 'lot_area gr_liv_area',\n",
    " 'lot_area garage_area',\n",
    " 'lot_area age',\n",
    " 'lot_area ext_blt_area',\n",
    " 'lot_area total_bath',\n",
    " 'total_bsmt_sf^2',\n",
    " 'total_bsmt_sf gr_liv_area',\n",
    " 'total_bsmt_sf garage_area',\n",
    " 'total_bsmt_sf age',\n",
    " 'total_bsmt_sf ext_blt_area',\n",
    " 'total_bsmt_sf total_bath',\n",
    " 'gr_liv_area^2',\n",
    " 'gr_liv_area garage_area',\n",
    " 'gr_liv_area age',\n",
    " 'gr_liv_area ext_blt_area',\n",
    " 'gr_liv_area total_bath',\n",
    " 'garage_area^2',\n",
    " 'garage_area age',\n",
    " 'garage_area ext_blt_area',\n",
    " 'garage_area total_bath',\n",
    " 'age^2',\n",
    " 'age ext_blt_area',\n",
    " 'age total_bath',\n",
    " 'ext_blt_area^2',\n",
    " 'ext_blt_area total_bath',\n",
    " 'total_bath^2']"
   ]
  },
  {
   "cell_type": "code",
   "execution_count": null,
   "metadata": {},
   "outputs": [],
   "source": [
    "# assign back to dataframe \n",
    "#ames.loc[:,poly_fts] = scaled"
   ]
  },
  {
   "cell_type": "code",
   "execution_count": 6,
   "metadata": {},
   "outputs": [],
   "source": [
    "X = ames.drop(columns=['saleprice'])\n",
    "y = ames['saleprice']"
   ]
  },
  {
   "cell_type": "code",
   "execution_count": 7,
   "metadata": {},
   "outputs": [
    {
     "data": {
      "text/plain": [
       "(2046, 139)"
      ]
     },
     "execution_count": 7,
     "metadata": {},
     "output_type": "execute_result"
    }
   ],
   "source": [
    "X.shape"
   ]
  },
  {
   "cell_type": "code",
   "execution_count": 8,
   "metadata": {},
   "outputs": [
    {
     "data": {
      "text/plain": [
       "(2046,)"
      ]
     },
     "execution_count": 8,
     "metadata": {},
     "output_type": "execute_result"
    }
   ],
   "source": [
    "y.shape"
   ]
  },
  {
   "cell_type": "code",
   "execution_count": 9,
   "metadata": {},
   "outputs": [],
   "source": [
    "X_train, X_test, y_train, y_test = train_test_split(X,\n",
    "                                                    y,\n",
    "                                                    random_state = 68)"
   ]
  },
  {
   "cell_type": "code",
   "execution_count": 10,
   "metadata": {},
   "outputs": [],
   "source": [
    "ss =StandardScaler()\n",
    "X_train = ss.fit_transform(X_train)\n",
    "X_test = ss.transform(X_test)"
   ]
  },
  {
   "cell_type": "code",
   "execution_count": null,
   "metadata": {},
   "outputs": [],
   "source": []
  },
  {
   "cell_type": "markdown",
   "metadata": {},
   "source": [
    "# Baseline Mean Squared Error\n",
    "\n",
    "The baseline mean squared error is calculated by setting all predict target values (yhat) as mean of all sale prices in test set."
   ]
  },
  {
   "cell_type": "code",
   "execution_count": 11,
   "metadata": {},
   "outputs": [],
   "source": [
    "# custom function to calculate MSE\n",
    "# metrics.mean_squared_error does not support broadcasting for vector - scalar (mean of y_train)\n",
    "def mse(y, yhat):\n",
    "    mse = sum((y-yhat)**2)/len(y)\n",
    "    return mse"
   ]
  },
  {
   "cell_type": "code",
   "execution_count": 12,
   "metadata": {},
   "outputs": [
    {
     "name": "stdout",
     "output_type": "stream",
     "text": [
      "The baseline root mean square error for train set is 79557.\n"
     ]
    }
   ],
   "source": [
    "rmse_base_train = np.sqrt(mse(y_train, y_train.mean()))\n",
    "print('The baseline root mean square error for train set is {:.0f}.'.format(rmse_base_train))"
   ]
  },
  {
   "cell_type": "code",
   "execution_count": 13,
   "metadata": {},
   "outputs": [
    {
     "name": "stdout",
     "output_type": "stream",
     "text": [
      "The baseline root mean square error for train set is 78334.\n"
     ]
    }
   ],
   "source": [
    "rmse_base_test = np.sqrt(mse(y_test, y_test.mean()))\n",
    "print('The baseline root mean square error for train set is {:.0f}.'.format(rmse_base_test))"
   ]
  },
  {
   "cell_type": "markdown",
   "metadata": {},
   "source": [
    "# Linear Regression"
   ]
  },
  {
   "cell_type": "code",
   "execution_count": 14,
   "metadata": {
    "scrolled": true
   },
   "outputs": [
    {
     "data": {
      "text/plain": [
       "LinearRegression()"
      ]
     },
     "execution_count": 14,
     "metadata": {},
     "output_type": "execute_result"
    }
   ],
   "source": [
    "lr = LinearRegression()\n",
    "lr.fit(X_train, y_train)"
   ]
  },
  {
   "cell_type": "code",
   "execution_count": 15,
   "metadata": {},
   "outputs": [],
   "source": [
    "# custom function to calculate root mean squared error\n",
    "def rmse(model, X, y):\n",
    "    result = -cross_val_score(model, \n",
    "                             X, \n",
    "                             y, \n",
    "                             cv=5, scoring = 'neg_mean_squared_error').mean()\n",
    "    return np.sqrt(result)"
   ]
  },
  {
   "cell_type": "code",
   "execution_count": 16,
   "metadata": {},
   "outputs": [],
   "source": [
    "# custom function to calculate R2 score\n",
    "def r2_score(model, X, y):\n",
    "    result = model.score(X, y)\n",
    "    return result"
   ]
  },
  {
   "cell_type": "markdown",
   "metadata": {},
   "source": [
    "**Train**"
   ]
  },
  {
   "cell_type": "code",
   "execution_count": 17,
   "metadata": {},
   "outputs": [
    {
     "name": "stdout",
     "output_type": "stream",
     "text": [
      "The R2 score using linear regression on train set is 0.942.\n"
     ]
    }
   ],
   "source": [
    "r2_lr_train = r2_score(lr, X_train, y_train)\n",
    "print('The R2 score using linear regression on train set is {:.3f}.'.format(r2_lr_train))"
   ]
  },
  {
   "cell_type": "code",
   "execution_count": 18,
   "metadata": {},
   "outputs": [
    {
     "name": "stdout",
     "output_type": "stream",
     "text": [
      "The root mean square error using linear regression on train set is 18985451997313820.\n"
     ]
    }
   ],
   "source": [
    "rmse_lr_train = rmse(lr, X_train, y_train)\n",
    "print('The root mean square error using linear regression on train set is {:.0f}.'.format(rmse_lr_train))"
   ]
  },
  {
   "cell_type": "markdown",
   "metadata": {},
   "source": [
    "**Test**"
   ]
  },
  {
   "cell_type": "code",
   "execution_count": 19,
   "metadata": {},
   "outputs": [
    {
     "name": "stdout",
     "output_type": "stream",
     "text": [
      "The R2 score using linear regression on test set is -977009030102862921728.000.\n"
     ]
    }
   ],
   "source": [
    "r2_lr_test = r2_score(lr, X_test, y_test)\n",
    "print('The R2 score using linear regression on test set is {:.3f}.'.format(r2_lr_test))"
   ]
  },
  {
   "cell_type": "code",
   "execution_count": 20,
   "metadata": {},
   "outputs": [
    {
     "name": "stdout",
     "output_type": "stream",
     "text": [
      "The root mean square error using linear regression on train set is 5403665849856550.\n"
     ]
    }
   ],
   "source": [
    "rmse_lr_test = rmse(lr, X_test, y_test)\n",
    "print('The root mean square error using linear regression on train set is {:.0f}.'.format(rmse_lr_test))"
   ]
  },
  {
   "cell_type": "markdown",
   "metadata": {},
   "source": [
    "# Ridge Regression"
   ]
  },
  {
   "cell_type": "markdown",
   "metadata": {},
   "source": [
    "## Ridge Regression CV"
   ]
  },
  {
   "cell_type": "code",
   "execution_count": 21,
   "metadata": {},
   "outputs": [],
   "source": [
    "r_alphas = np.logspace(0,5,200)\n",
    "ridge_cv = RidgeCV(alphas=r_alphas,\n",
    "                  store_cv_values=True)\n",
    "ridge_cv.fit(X_train, y_train);"
   ]
  },
  {
   "cell_type": "code",
   "execution_count": 22,
   "metadata": {},
   "outputs": [
    {
     "name": "stdout",
     "output_type": "stream",
     "text": [
      "54.158713780794734\n"
     ]
    }
   ],
   "source": [
    "# optimal alpha\n",
    "r_best_alpha = ridge_cv.alpha_\n",
    "print(r_best_alpha)"
   ]
  },
  {
   "cell_type": "markdown",
   "metadata": {},
   "source": [
    "## Optimal Alpha"
   ]
  },
  {
   "cell_type": "code",
   "execution_count": 23,
   "metadata": {},
   "outputs": [
    {
     "data": {
      "text/plain": [
       "Ridge(alpha=54.158713780794734)"
      ]
     },
     "execution_count": 23,
     "metadata": {},
     "output_type": "execute_result"
    }
   ],
   "source": [
    "ridge = Ridge(alpha=r_best_alpha)\n",
    "ridge.fit(X_train, y_train)"
   ]
  },
  {
   "cell_type": "markdown",
   "metadata": {},
   "source": [
    "**Train**"
   ]
  },
  {
   "cell_type": "code",
   "execution_count": 24,
   "metadata": {},
   "outputs": [
    {
     "name": "stdout",
     "output_type": "stream",
     "text": [
      "The R2 score using ridge regression on train set is 0.940.\n"
     ]
    }
   ],
   "source": [
    "r2_ridge_train = r2_score(ridge, X_train, y_train)\n",
    "print('The R2 score using ridge regression on train set is {:.3f}.'.format(r2_ridge_train))"
   ]
  },
  {
   "cell_type": "code",
   "execution_count": 25,
   "metadata": {},
   "outputs": [
    {
     "name": "stdout",
     "output_type": "stream",
     "text": [
      "The root mean square error using ridge regression on train set is 21864.\n"
     ]
    }
   ],
   "source": [
    "rmse_ridge_train = rmse(ridge, X_train, y_train)\n",
    "print('The root mean square error using ridge regression on train set is {:.0f}.'.format(rmse_ridge_train))"
   ]
  },
  {
   "cell_type": "markdown",
   "metadata": {},
   "source": [
    "**Test**"
   ]
  },
  {
   "cell_type": "code",
   "execution_count": 26,
   "metadata": {},
   "outputs": [
    {
     "name": "stdout",
     "output_type": "stream",
     "text": [
      "The R2 score using ridge regression on test set is 0.908.\n"
     ]
    }
   ],
   "source": [
    "r2_ridge_test = r2_score(ridge, X_test, y_test)\n",
    "print('The R2 score using ridge regression on test set is {:.3f}.'.format(r2_ridge_test))"
   ]
  },
  {
   "cell_type": "code",
   "execution_count": 27,
   "metadata": {},
   "outputs": [
    {
     "name": "stdout",
     "output_type": "stream",
     "text": [
      "The root mean square error using ridge regression on test set is 25994.\n"
     ]
    }
   ],
   "source": [
    "rmse_ridge_test = rmse(ridge, X_test, y_test)\n",
    "print('The root mean square error using ridge regression on test set is {:.0f}.'.format(rmse_ridge_test))"
   ]
  },
  {
   "cell_type": "markdown",
   "metadata": {},
   "source": [
    "# Lasso Regression"
   ]
  },
  {
   "cell_type": "markdown",
   "metadata": {},
   "source": [
    "## Lasso Regression CV"
   ]
  },
  {
   "cell_type": "code",
   "execution_count": 28,
   "metadata": {},
   "outputs": [
    {
     "data": {
      "text/plain": [
       "LassoCV(cv=5, n_alphas=1000)"
      ]
     },
     "execution_count": 28,
     "metadata": {},
     "output_type": "execute_result"
    }
   ],
   "source": [
    "lasso_cv = LassoCV(n_alphas=1000, cv= 5)\n",
    "lasso_cv.fit(X_train, y_train)"
   ]
  },
  {
   "cell_type": "code",
   "execution_count": 29,
   "metadata": {},
   "outputs": [
    {
     "name": "stdout",
     "output_type": "stream",
     "text": [
      "126.3353282596484\n"
     ]
    }
   ],
   "source": [
    "# optimal alpha\n",
    "l_best_alpha = lasso_cv.alpha_\n",
    "print(l_best_alpha)"
   ]
  },
  {
   "cell_type": "markdown",
   "metadata": {},
   "source": [
    "## Optimal Alpha"
   ]
  },
  {
   "cell_type": "code",
   "execution_count": 30,
   "metadata": {},
   "outputs": [],
   "source": [
    "lasso = Lasso(alpha=l_best_alpha, max_iter=2000)"
   ]
  },
  {
   "cell_type": "code",
   "execution_count": 31,
   "metadata": {},
   "outputs": [
    {
     "data": {
      "text/plain": [
       "Lasso(alpha=126.3353282596484, max_iter=2000)"
      ]
     },
     "execution_count": 31,
     "metadata": {},
     "output_type": "execute_result"
    }
   ],
   "source": [
    "lasso.fit(X_train, y_train)"
   ]
  },
  {
   "cell_type": "code",
   "execution_count": 32,
   "metadata": {},
   "outputs": [
    {
     "ename": "AttributeError",
     "evalue": "'numpy.ndarray' object has no attribute 'columns'",
     "output_type": "error",
     "traceback": [
      "\u001b[0;31m---------------------------------------------------------------------------\u001b[0m",
      "\u001b[0;31mAttributeError\u001b[0m                            Traceback (most recent call last)",
      "\u001b[0;32m<ipython-input-32-eea5c95b992b>\u001b[0m in \u001b[0;36m<module>\u001b[0;34m\u001b[0m\n\u001b[0;32m----> 1\u001b[0;31m \u001b[0mcoefs\u001b[0m \u001b[0;34m=\u001b[0m \u001b[0mpd\u001b[0m\u001b[0;34m.\u001b[0m\u001b[0mSeries\u001b[0m\u001b[0;34m(\u001b[0m\u001b[0mlasso\u001b[0m\u001b[0;34m.\u001b[0m\u001b[0mcoef_\u001b[0m\u001b[0;34m,\u001b[0m \u001b[0mindex\u001b[0m \u001b[0;34m=\u001b[0m \u001b[0mX_train\u001b[0m\u001b[0;34m.\u001b[0m\u001b[0mcolumns\u001b[0m\u001b[0;34m)\u001b[0m\u001b[0;34m\u001b[0m\u001b[0;34m\u001b[0m\u001b[0m\n\u001b[0m",
      "\u001b[0;31mAttributeError\u001b[0m: 'numpy.ndarray' object has no attribute 'columns'"
     ]
    }
   ],
   "source": [
    "coefs = pd.Series(lasso.coef_, index = X_train.columns)"
   ]
  },
  {
   "cell_type": "code",
   "execution_count": 33,
   "metadata": {},
   "outputs": [],
   "source": [
    "pd.set_option('display.max_rows',200)"
   ]
  },
  {
   "cell_type": "code",
   "execution_count": 34,
   "metadata": {},
   "outputs": [
    {
     "ename": "NameError",
     "evalue": "name 'coefs' is not defined",
     "output_type": "error",
     "traceback": [
      "\u001b[0;31m---------------------------------------------------------------------------\u001b[0m",
      "\u001b[0;31mNameError\u001b[0m                                 Traceback (most recent call last)",
      "\u001b[0;32m<ipython-input-34-8bd4ac57b5b7>\u001b[0m in \u001b[0;36m<module>\u001b[0;34m\u001b[0m\n\u001b[0;32m----> 1\u001b[0;31m \u001b[0mcoefs\u001b[0m\u001b[0;34m.\u001b[0m\u001b[0msort_values\u001b[0m\u001b[0;34m(\u001b[0m\u001b[0;34m)\u001b[0m\u001b[0;34m\u001b[0m\u001b[0;34m\u001b[0m\u001b[0m\n\u001b[0m",
      "\u001b[0;31mNameError\u001b[0m: name 'coefs' is not defined"
     ]
    }
   ],
   "source": [
    "coefs.sort_values()"
   ]
  },
  {
   "cell_type": "markdown",
   "metadata": {},
   "source": [
    "**Train**"
   ]
  },
  {
   "cell_type": "code",
   "execution_count": 35,
   "metadata": {},
   "outputs": [
    {
     "name": "stdout",
     "output_type": "stream",
     "text": [
      "The R2 score using ridge regression on train set is 0.940.\n"
     ]
    }
   ],
   "source": [
    "r2_lasso_train = r2_score(lasso, X_train, y_train)\n",
    "print('The R2 score using ridge regression on train set is {:.3f}.'.format(r2_lasso_train))"
   ]
  },
  {
   "cell_type": "code",
   "execution_count": 36,
   "metadata": {},
   "outputs": [
    {
     "name": "stdout",
     "output_type": "stream",
     "text": [
      "The root mean square error using lasso regression on train set is 21901.\n"
     ]
    }
   ],
   "source": [
    "rmse_lasso_train = rmse(lasso, X_train, y_train)\n",
    "print('The root mean square error using lasso regression on train set is {:.0f}.'.format(rmse_lasso_train))"
   ]
  },
  {
   "cell_type": "markdown",
   "metadata": {},
   "source": [
    "**Test**"
   ]
  },
  {
   "cell_type": "code",
   "execution_count": 37,
   "metadata": {},
   "outputs": [
    {
     "name": "stdout",
     "output_type": "stream",
     "text": [
      "The R2 score using lasso regression on test set is 0.908.\n"
     ]
    }
   ],
   "source": [
    "r2_lasso_test = r2_score(lasso, X_test, y_test)\n",
    "print('The R2 score using lasso regression on test set is {:.3f}.'.format(r2_lasso_test))"
   ]
  },
  {
   "cell_type": "code",
   "execution_count": 38,
   "metadata": {},
   "outputs": [
    {
     "name": "stdout",
     "output_type": "stream",
     "text": [
      "The root mean square error using lasso regression on test set is 26456.\n"
     ]
    }
   ],
   "source": [
    "rmse_lasso_test = rmse(lasso, X_test, y_test)\n",
    "print('The root mean square error using lasso regression on test set is {:.0f}.'.format(rmse_lasso_test))"
   ]
  },
  {
   "cell_type": "markdown",
   "metadata": {},
   "source": [
    "# Elastic Net Regression"
   ]
  },
  {
   "cell_type": "markdown",
   "metadata": {},
   "source": [
    "## Elastic Net CV"
   ]
  },
  {
   "cell_type": "code",
   "execution_count": 39,
   "metadata": {},
   "outputs": [],
   "source": [
    "#enet_alphas = np.arange(0.5,1,0.005)\n",
    "enet_ratios = [.1,.5,.7,.9,.95,.99,1]"
   ]
  },
  {
   "cell_type": "code",
   "execution_count": 40,
   "metadata": {},
   "outputs": [
    {
     "data": {
      "text/plain": [
       "ElasticNetCV(cv=5, l1_ratio=[0.1, 0.5, 0.7, 0.9, 0.95, 0.99, 1], n_alphas=1000)"
      ]
     },
     "execution_count": 40,
     "metadata": {},
     "output_type": "execute_result"
    }
   ],
   "source": [
    "enet_cv = ElasticNetCV(n_alphas=1000, l1_ratio = enet_ratios, cv=5)\n",
    "enet_cv.fit(X_train, y_train)"
   ]
  },
  {
   "cell_type": "code",
   "execution_count": 41,
   "metadata": {},
   "outputs": [
    {
     "name": "stdout",
     "output_type": "stream",
     "text": [
      "126.3353282596484\n"
     ]
    }
   ],
   "source": [
    "e_best_alpha = enet_cv.alpha_\n",
    "print(e_best_alpha)"
   ]
  },
  {
   "cell_type": "code",
   "execution_count": 42,
   "metadata": {},
   "outputs": [
    {
     "name": "stdout",
     "output_type": "stream",
     "text": [
      "1.0\n"
     ]
    }
   ],
   "source": [
    "e_best_ratio = enet_cv.l1_ratio_\n",
    "print(e_best_ratio)"
   ]
  },
  {
   "cell_type": "markdown",
   "metadata": {},
   "source": [
    "## Optimal Alpha and L1-Ratio"
   ]
  },
  {
   "cell_type": "code",
   "execution_count": 43,
   "metadata": {},
   "outputs": [
    {
     "data": {
      "text/plain": [
       "ElasticNet(alpha=126.3353282596484, l1_ratio=1.0, max_iter=2000)"
      ]
     },
     "execution_count": 43,
     "metadata": {},
     "output_type": "execute_result"
    }
   ],
   "source": [
    "enet = ElasticNet(alpha = e_best_alpha, l1_ratio=e_best_ratio, max_iter=2000)\n",
    "enet.fit(X_train, y_train)"
   ]
  },
  {
   "cell_type": "markdown",
   "metadata": {},
   "source": [
    "**Train**"
   ]
  },
  {
   "cell_type": "code",
   "execution_count": 44,
   "metadata": {},
   "outputs": [
    {
     "name": "stdout",
     "output_type": "stream",
     "text": [
      "The R2 score using elastic net regression on train set is 0.940.\n"
     ]
    }
   ],
   "source": [
    "r2_enet_train = r2_score(enet, X_train, y_train)\n",
    "print('The R2 score using elastic net regression on train set is {:.3f}.'.format(r2_enet_train))"
   ]
  },
  {
   "cell_type": "code",
   "execution_count": 45,
   "metadata": {},
   "outputs": [
    {
     "name": "stdout",
     "output_type": "stream",
     "text": [
      "The root mean square error using elastic net regression on train set is 21901.\n"
     ]
    }
   ],
   "source": [
    "rmse_enet_train = rmse(enet, X_train, y_train)\n",
    "print('The root mean square error using elastic net regression on train set is {:.0f}.'.format(rmse_enet_train))"
   ]
  },
  {
   "cell_type": "markdown",
   "metadata": {},
   "source": [
    "**Test**"
   ]
  },
  {
   "cell_type": "code",
   "execution_count": 46,
   "metadata": {},
   "outputs": [
    {
     "name": "stdout",
     "output_type": "stream",
     "text": [
      "The R2 score using elastic net regression on test set is 0.908.\n"
     ]
    }
   ],
   "source": [
    "r2_enet_test = r2_score(enet, X_test, y_test)\n",
    "print('The R2 score using elastic net regression on test set is {:.3f}.'.format(r2_enet_test))"
   ]
  },
  {
   "cell_type": "code",
   "execution_count": 47,
   "metadata": {},
   "outputs": [
    {
     "name": "stdout",
     "output_type": "stream",
     "text": [
      "The root mean square error using elastic net regression on test set is 26456.\n"
     ]
    }
   ],
   "source": [
    "rmse_enet_test = rmse(enet, X_test, y_test)\n",
    "print('The root mean square error using elastic net regression on test set is {:.0f}.'.format(rmse_enet_test))"
   ]
  },
  {
   "cell_type": "markdown",
   "metadata": {},
   "source": [
    "# Evaluation and Hyperparameters Selection"
   ]
  },
  {
   "cell_type": "markdown",
   "metadata": {},
   "source": [
    "# Kaggle Submission"
   ]
  },
  {
   "cell_type": "markdown",
   "metadata": {},
   "source": [
    "Apply the same preprocessing steps from Part 1 to test data."
   ]
  },
  {
   "cell_type": "code",
   "execution_count": 48,
   "metadata": {
    "scrolled": true
   },
   "outputs": [
    {
     "data": {
      "text/plain": [
       "(879, 80)"
      ]
     },
     "execution_count": 48,
     "metadata": {},
     "output_type": "execute_result"
    }
   ],
   "source": [
    "test = pd.read_csv('../datasets/test.csv')\n",
    "test.shape"
   ]
  },
  {
   "cell_type": "markdown",
   "metadata": {},
   "source": [
    "**Imputation**"
   ]
  },
  {
   "cell_type": "code",
   "execution_count": 49,
   "metadata": {},
   "outputs": [],
   "source": [
    "# custom function to rename columns to lower case and replace whitespaces with underscore.\n",
    "def rename_cols(df):\n",
    "    old_cols = df.columns\n",
    "    new_cols = [x.lower().replace(' ','_') for x in old_cols]\n",
    "    #create dictionary with old column label as key and new label as value\n",
    "    col_dict = {old:new for old, new in zip(old_cols,new_cols)}\n",
    "    df.rename(columns=col_dict, inplace=True)\n",
    "    return df"
   ]
  },
  {
   "cell_type": "code",
   "execution_count": 50,
   "metadata": {},
   "outputs": [],
   "source": [
    "test = rename_cols(test)\n",
    "test.drop(columns='pid',inplace=True)\n",
    "test['lot_frontage'].fillna(0, inplace=True)\n",
    "test.drop(columns='alley', inplace=True)\n",
    "test['mas_vnr_type'].fillna(test['mas_vnr_type'].mode()[0], inplace=True)\n",
    "test['mas_vnr_area'].fillna(test['mas_vnr_area'].median(), inplace=True)"
   ]
  },
  {
   "cell_type": "code",
   "execution_count": 51,
   "metadata": {},
   "outputs": [],
   "source": [
    "bsmt = [col for col in test.columns if 'bsmt' in col]\n",
    "for col in bsmt:\n",
    "    if test[col].dtype == 'object':\n",
    "        test[col].fillna('NA', inplace=True)\n",
    "    elif test[col].dtype == 'float64':\n",
    "        test[col].fillna(0, inplace=True)"
   ]
  },
  {
   "cell_type": "code",
   "execution_count": 52,
   "metadata": {},
   "outputs": [],
   "source": [
    "garage = [col for col in test.columns if 'garage' in col]\n",
    "for col in garage:\n",
    "    if test[col].dtype == 'object':\n",
    "        test[col].fillna('NA', inplace=True)\n",
    "    elif test[col].dtype == 'float64':\n",
    "        test[col].fillna(0, inplace=True)\n",
    "test.drop(columns='garage_yr_blt', inplace=True)"
   ]
  },
  {
   "cell_type": "code",
   "execution_count": 53,
   "metadata": {},
   "outputs": [],
   "source": [
    "test.drop(columns=['pool_qc','pool_area','misc_feature'], inplace=True)\n",
    "test['fence'].fillna('NA', inplace=True)\n",
    "test['fireplace_qu'].fillna('NA', inplace=True)\n",
    "test['electrical'].fillna(test['electrical'].mode()[0], inplace=True)"
   ]
  },
  {
   "cell_type": "code",
   "execution_count": 54,
   "metadata": {},
   "outputs": [
    {
     "data": {
      "text/plain": [
       "0"
      ]
     },
     "execution_count": 54,
     "metadata": {},
     "output_type": "execute_result"
    }
   ],
   "source": [
    "test.isnull().sum().sum()"
   ]
  },
  {
   "cell_type": "markdown",
   "metadata": {},
   "source": [
    "**Feature Engineering**"
   ]
  },
  {
   "cell_type": "code",
   "execution_count": 55,
   "metadata": {},
   "outputs": [],
   "source": [
    "test['age'] = test['yr_sold']-test['year_built']\n",
    "test.drop(columns=['year_built','year_remod/add','yr_sold'], inplace=True)"
   ]
  },
  {
   "cell_type": "code",
   "execution_count": 56,
   "metadata": {},
   "outputs": [],
   "source": [
    "area_cols = [x for x in test.columns if 'area' in x or 'sf' in x or 'porch' in x]\n",
    "test['ext_blt_area'] = test['mas_vnr_area']+test['wood_deck_sf']+test['open_porch_sf']+\\\n",
    "                       test['enclosed_porch']+test['3ssn_porch']+test['screen_porch']\n",
    "test.drop(columns=['mas_vnr_area','wood_deck_sf','open_porch_sf','enclosed_porch',\\\n",
    "                   '3ssn_porch','screen_porch','garage_cars'], inplace=True)\n",
    "test.drop(columns=['bsmtfin_sf_1','bsmtfin_sf_2','bsmt_unf_sf',\\\n",
    "                   '1st_flr_sf','2nd_flr_sf','low_qual_fin_sf'], inplace=True)"
   ]
  },
  {
   "cell_type": "code",
   "execution_count": 57,
   "metadata": {},
   "outputs": [],
   "source": [
    "room_cols = [x for x in test.columns if 'room' in x or 'abvgr' in x or 'bath' in x]\n",
    "test['total_bath']= test['bsmt_full_bath']+0.5*test['bsmt_half_bath']+test['full_bath']+0.5*test['half_bath']\n",
    "test.drop(columns=['bsmt_full_bath','bsmt_half_bath','full_bath','half_bath','totrms_abvgrd'],inplace=True)"
   ]
  },
  {
   "cell_type": "code",
   "execution_count": 58,
   "metadata": {},
   "outputs": [],
   "source": [
    "test.replace({'exter_qual':{'Po':1,'Fa':2,'TA':3,'Gd':4,'Ex':5},\n",
    "              'exter_cond':{'Po':1,'Fa':2,'TA':3,'Gd':4,'Ex':5},\n",
    "               'bsmt_qual':{'NA':0,'Po':1,'Fa':2,'TA':3,'Gd':4,'Ex':5},\n",
    "               'bsmt_cond':{'NA':0,'Po':1,'Fa':2,'TA':3,'Gd':4,'Ex':5},\n",
    "              'heating_qc':{'Po':1,'Fa':2,'TA':3,'Gd':4,'Ex':5},\n",
    "            'kitchen_qual':{'Po':1,'Fa':2,'TA':3,'Gd':4,'Ex':5},\n",
    "            'fireplace_qu':{'NA':0,'Po':1,'Fa':2,'TA':3,'Gd':4,'Ex':5},\n",
    "           'garage_finish':{'NA':0,'Unf':1,'RFn':2,'Fin':3},\n",
    "             'garage_qual':{'NA':0,'Po':1,'Fa':2,'TA':3,'Gd':4,'Ex':5},\n",
    "             'garage_cond':{'NA':0,'Po':1,'Fa':2,'TA':3,'Gd':4,'Ex':5}\n",
    "             }, \n",
    "            inplace=True\n",
    "            )"
   ]
  },
  {
   "cell_type": "code",
   "execution_count": 59,
   "metadata": {},
   "outputs": [],
   "source": [
    "test['overall_qual']=(test['overall_qual']+test['overall_cond'])/2\n",
    "test['exter_qual']=(test['exter_qual']+test['exter_cond'])/2\n",
    "test['bsmt_qual']=(test['bsmt_qual']+test['bsmt_cond'])/2\n",
    "test['garage_qual']=(test['garage_qual']+test['garage_cond']+test['garage_finish'])/3"
   ]
  },
  {
   "cell_type": "code",
   "execution_count": 60,
   "metadata": {},
   "outputs": [],
   "source": [
    "test.drop(columns=['overall_cond','exter_cond','bsmt_cond',\\\n",
    "                   'garage_finish','garage_cond','condition_2','bsmtfin_type_2'], inplace=True)"
   ]
  },
  {
   "cell_type": "code",
   "execution_count": 61,
   "metadata": {},
   "outputs": [],
   "source": [
    "test.replace({'lot_shape':{'IR3':1,'IR2':2,'IR1':3,'Reg':4},\n",
    "              'utilities':{'ELO':1,'NoSeWa':2,'NoSewr':3,'AllPub':4},\n",
    "             'land_slope':{'Sev':1,'Mod':2,'Gtl':3},\n",
    "          'bsmt_exposure':{'NA':0,'No':0,'Mn':1,'Av':2,'Gd':3},\n",
    "          'bsmt_exposure':{'NA':0,'No':0,'Mn':1,'Av':2,'Gd':3},\n",
    "         'bsmtfin_type_1':{'NA':0,'Unf':1,'LwQ':2,'Rec':3,'BLQ':4,'ALQ':5,'GLQ':6},\n",
    "             'electrical':{'Mix':1,'FuseP':2,'FuseF':3,'FuseA':4,'SBrkr':5},\n",
    "             'functional':{'Sal':0,'Sev':0,'Maj2':1,'Maj1':1,'Mod':2,'Min2':3,'Min1':3,'Typ':4},\n",
    "            'paved_drive':{'N':1,'P':2,'Y':3},\n",
    "                  'fence':{'NA':0,'MnWw':1,'GdWo':2,'MnPrv':3,'GdPrv':4}\n",
    "             }, \n",
    "            inplace=True\n",
    "            )"
   ]
  },
  {
   "cell_type": "code",
   "execution_count": 62,
   "metadata": {},
   "outputs": [],
   "source": [
    "test.drop(columns=['ms_subclass','exterior_2nd','roof_matl','heating','sale_type','exterior_1st'], inplace=True)"
   ]
  },
  {
   "cell_type": "code",
   "execution_count": 63,
   "metadata": {},
   "outputs": [],
   "source": [
    "test.replace({'ms_zoning':{'C (all)':'non R','A (agr)':'non R','I (all)':'non R'},\n",
    "             'mas_vnr_type':{'CBlock':'Others','BrkCmn':'Others','Stone':'Others'}\n",
    "             }, \n",
    "            inplace=True\n",
    "            )"
   ]
  },
  {
   "cell_type": "code",
   "execution_count": 64,
   "metadata": {},
   "outputs": [],
   "source": [
    "dum_cols = ['ms_zoning','street','land_contour','lot_config','neighborhood','condition_1','bldg_type',\\\n",
    "            'house_style','roof_style','mas_vnr_type','foundation','central_air','garage_type']"
   ]
  },
  {
   "cell_type": "code",
   "execution_count": 65,
   "metadata": {},
   "outputs": [],
   "source": [
    "test = pd.get_dummies(test, columns=dum_cols,drop_first=True)"
   ]
  },
  {
   "cell_type": "code",
   "execution_count": 66,
   "metadata": {},
   "outputs": [],
   "source": [
    "test.drop(columns='misc_val',inplace=True)"
   ]
  },
  {
   "cell_type": "code",
   "execution_count": 68,
   "metadata": {},
   "outputs": [
    {
     "data": {
      "text/plain": [
       "(879, 104)"
      ]
     },
     "execution_count": 68,
     "metadata": {},
     "output_type": "execute_result"
    }
   ],
   "source": [
    "test.shape"
   ]
  },
  {
   "cell_type": "markdown",
   "metadata": {},
   "source": [
    "**Interaction Terms**"
   ]
  },
  {
   "cell_type": "code",
   "execution_count": 69,
   "metadata": {},
   "outputs": [],
   "source": [
    "cont_cols = ['lot_frontage','lot_area','total_bsmt_sf','gr_liv_area',\\\n",
    "             'garage_area','age','ext_blt_area','total_bath']"
   ]
  },
  {
   "cell_type": "code",
   "execution_count": 70,
   "metadata": {},
   "outputs": [],
   "source": [
    "poly = PolynomialFeatures(degree = 2, include_bias=False)\n",
    "X_poly=poly.fit_transform(test[cont_cols])\n",
    "poly_fts = poly.get_feature_names(cont_cols)\n",
    "test.drop(columns=cont_cols, inplace=True)"
   ]
  },
  {
   "cell_type": "code",
   "execution_count": 71,
   "metadata": {},
   "outputs": [],
   "source": [
    "test.loc[:,poly_fts] = X_poly"
   ]
  },
  {
   "cell_type": "code",
   "execution_count": null,
   "metadata": {},
   "outputs": [],
   "source": []
  },
  {
   "cell_type": "markdown",
   "metadata": {},
   "source": [
    "**Standard Scaling**"
   ]
  },
  {
   "cell_type": "code",
   "execution_count": 74,
   "metadata": {},
   "outputs": [],
   "source": [
    "# scaler already fitted using train set\n",
    "X_kag = ss.transform(test.drop(columns='id'))"
   ]
  },
  {
   "cell_type": "code",
   "execution_count": null,
   "metadata": {},
   "outputs": [],
   "source": [
    "#test.loc[:,poly_fts] = scaled"
   ]
  },
  {
   "cell_type": "code",
   "execution_count": null,
   "metadata": {},
   "outputs": [],
   "source": []
  },
  {
   "cell_type": "markdown",
   "metadata": {},
   "source": [
    "**Final Predictor Variables**"
   ]
  },
  {
   "cell_type": "code",
   "execution_count": 75,
   "metadata": {},
   "outputs": [],
   "source": [
    "y_kag_pred = enet.predict(X_kag)"
   ]
  },
  {
   "cell_type": "code",
   "execution_count": 76,
   "metadata": {
    "scrolled": true
   },
   "outputs": [],
   "source": [
    "# concatenate predicted values to dataframe\n",
    "test.loc[:,'saleprice'] = y_kag_pred"
   ]
  },
  {
   "cell_type": "code",
   "execution_count": 77,
   "metadata": {},
   "outputs": [],
   "source": [
    "# subset 'id' and 'saleprice' for submission\n",
    "subm_cols = ['id', 'saleprice']\n",
    "final = test[subm_cols]\n",
    "final = final.sort_values(by='id')"
   ]
  },
  {
   "cell_type": "code",
   "execution_count": 78,
   "metadata": {},
   "outputs": [],
   "source": [
    "final.to_csv('../datasets/submission2.csv', index=False)"
   ]
  },
  {
   "cell_type": "code",
   "execution_count": null,
   "metadata": {},
   "outputs": [],
   "source": []
  }
 ],
 "metadata": {
  "kernelspec": {
   "display_name": "Python 3",
   "language": "python",
   "name": "python3"
  },
  "language_info": {
   "codemirror_mode": {
    "name": "ipython",
    "version": 3
   },
   "file_extension": ".py",
   "mimetype": "text/x-python",
   "name": "python",
   "nbconvert_exporter": "python",
   "pygments_lexer": "ipython3",
   "version": "3.8.5"
  },
  "toc": {
   "base_numbering": 1,
   "nav_menu": {},
   "number_sections": true,
   "sideBar": true,
   "skip_h1_title": false,
   "title_cell": "Table of Contents",
   "title_sidebar": "Contents",
   "toc_cell": false,
   "toc_position": {},
   "toc_section_display": true,
   "toc_window_display": true
  }
 },
 "nbformat": 4,
 "nbformat_minor": 4
}
