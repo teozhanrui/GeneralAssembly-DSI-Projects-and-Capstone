{
 "cells": [
  {
   "cell_type": "markdown",
   "metadata": {},
   "source": [
    "## This notebook comprises the pipeline used to scrape posts from Reddit. The custom function takes topic as an argument and can be easily applied or modified for other Reddit topics. "
   ]
  },
  {
   "cell_type": "code",
   "execution_count": 1,
   "metadata": {},
   "outputs": [],
   "source": [
    "import requests\n",
    "import pandas as pd\n",
    "import time\n",
    "import random\n",
    "import string\n",
    "import numpy as np"
   ]
  },
  {
   "cell_type": "code",
   "execution_count": 2,
   "metadata": {},
   "outputs": [],
   "source": [
    "# custom function to generate random string of random length \n",
    "def get_random_string(min_len, max_len):\n",
    "    # With combination of lower and upper case\n",
    "    length = random.randint(min_len, max_len)\n",
    "    # generate random alphabets, upper and lower cases included\n",
    "    result_str = ''.join(random.choice(string.ascii_letters) for i in range(length))\n",
    "    return result_str"
   ]
  },
  {
   "cell_type": "code",
   "execution_count": 3,
   "metadata": {
    "scrolled": true
   },
   "outputs": [
    {
     "data": {
      "text/plain": [
       "'izIWCUp'"
      ]
     },
     "execution_count": 3,
     "metadata": {},
     "output_type": "execute_result"
    }
   ],
   "source": [
    "# test custom function\n",
    "get_random_string(5,10)"
   ]
  },
  {
   "cell_type": "code",
   "execution_count": 4,
   "metadata": {
    "scrolled": true
   },
   "outputs": [],
   "source": [
    "# custom based edited from Reddit API tutorial to put into pipeline scraping, de-duplicating and \n",
    "# subsequently write to csv\n",
    "def scrape(topic):\n",
    "    \n",
    "    options = ['hot', 'controversial', 'new', 'top']\n",
    "    posts = []\n",
    "    \n",
    "    for option in options:\n",
    "\n",
    "        url = 'https://www.reddit.com/r/' + topic + '/' + option + '.json'\n",
    "        filename = 'scrape_'+topic+'.csv'\n",
    "        #filename = topic+'_'+option+'.csv'\n",
    "\n",
    "        after = None\n",
    "\n",
    "        for a in range(40):\n",
    "\n",
    "            # vary user-agent name to prevent jamming by Reddit\n",
    "            agent = get_random_string(5,10)\n",
    "\n",
    "            if after == None:\n",
    "                current_url = url\n",
    "            else:\n",
    "                current_url = url + '?after=' + after\n",
    "            print(current_url)\n",
    "            res = requests.get(current_url, headers={'User-agent': agent})\n",
    "\n",
    "            if res.status_code != 200:\n",
    "                print('Status error', res.status_code)\n",
    "                break\n",
    "\n",
    "            current_dict = res.json()\n",
    "            current_posts = [p['data'] for p in current_dict['data']['children']]\n",
    "            posts.extend(current_posts)\n",
    "            after = current_dict['data']['after']\n",
    "\n",
    "            # generate a random sleep duration to look more 'natural'\n",
    "            sleep_duration = random.randint(2,10)\n",
    "            print(a)\n",
    "            time.sleep(sleep_duration)\n",
    "                \n",
    "    # convert posts to dataframe            \n",
    "    df = pd.DataFrame(posts) \n",
    "    #drop duplicates and remove empty posts\n",
    "    df.drop_duplicates(subset=['selftext'], inplace = True)\n",
    "    df.to_csv('./datasets/'+filename, index = False)\n",
    "\n",
    "    print('completed')"
   ]
  },
  {
   "cell_type": "code",
   "execution_count": 5,
   "metadata": {},
   "outputs": [],
   "source": [
    "reddits = ['DisneyPlus','Netflix']"
   ]
  },
  {
   "cell_type": "code",
   "execution_count": null,
   "metadata": {},
   "outputs": [
    {
     "name": "stdout",
     "output_type": "stream",
     "text": [
      "https://www.reddit.com/r/DisneyPlus/hot.json\n",
      "0\n",
      "https://www.reddit.com/r/DisneyPlus/hot.json?after=t3_m8d63f\n",
      "1\n",
      "https://www.reddit.com/r/DisneyPlus/hot.json?after=t3_m86xbb\n",
      "2\n",
      "https://www.reddit.com/r/DisneyPlus/hot.json?after=t3_m6f7rm\n",
      "3\n",
      "https://www.reddit.com/r/DisneyPlus/hot.json?after=t3_m532ym\n",
      "4\n",
      "https://www.reddit.com/r/DisneyPlus/hot.json?after=t3_m3v2d9\n",
      "5\n",
      "https://www.reddit.com/r/DisneyPlus/hot.json?after=t3_m1oo4o\n",
      "6\n",
      "https://www.reddit.com/r/DisneyPlus/hot.json?after=t3_m1ppum\n",
      "7\n",
      "https://www.reddit.com/r/DisneyPlus/hot.json?after=t3_m0rc36\n",
      "8\n",
      "https://www.reddit.com/r/DisneyPlus/hot.json?after=t3_lzjl9r\n",
      "9\n",
      "https://www.reddit.com/r/DisneyPlus/hot.json?after=t3_lykxg7\n",
      "10\n",
      "https://www.reddit.com/r/DisneyPlus/hot.json?after=t3_ly6d93\n",
      "11\n",
      "https://www.reddit.com/r/DisneyPlus/hot.json?after=t3_lxr5h2\n",
      "12\n",
      "https://www.reddit.com/r/DisneyPlus/hot.json?after=t3_lvzg67\n",
      "13\n",
      "https://www.reddit.com/r/DisneyPlus/hot.json?after=t3_lvw694\n",
      "14\n",
      "https://www.reddit.com/r/DisneyPlus/hot.json?after=t3_lusax4\n",
      "15\n",
      "https://www.reddit.com/r/DisneyPlus/hot.json?after=t3_lswfgj\n",
      "16\n",
      "https://www.reddit.com/r/DisneyPlus/hot.json?after=t3_lt714b\n",
      "17\n",
      "https://www.reddit.com/r/DisneyPlus/hot.json?after=t3_lsn3cp\n",
      "18\n",
      "https://www.reddit.com/r/DisneyPlus/hot.json?after=t3_ls0vuw\n",
      "19\n",
      "https://www.reddit.com/r/DisneyPlus/hot.json?after=t3_lqk17r\n",
      "20\n",
      "https://www.reddit.com/r/DisneyPlus/hot.json?after=t3_lqi442\n",
      "21\n",
      "https://www.reddit.com/r/DisneyPlus/hot.json?after=t3_lp2veq\n",
      "22\n",
      "https://www.reddit.com/r/DisneyPlus/hot.json?after=t3_lp0uo4\n",
      "23\n",
      "https://www.reddit.com/r/DisneyPlus/hot.json?after=t3_lo9ly3\n",
      "24\n",
      "https://www.reddit.com/r/DisneyPlus/hot.json?after=t3_lmaogd\n",
      "25\n",
      "https://www.reddit.com/r/DisneyPlus/hot.json?after=t3_lltsn5\n",
      "26\n",
      "https://www.reddit.com/r/DisneyPlus/hot.json\n",
      "27\n",
      "https://www.reddit.com/r/DisneyPlus/hot.json?after=t3_m8d63f\n",
      "28\n",
      "https://www.reddit.com/r/DisneyPlus/hot.json?after=t3_m86xbb\n",
      "29\n",
      "https://www.reddit.com/r/DisneyPlus/hot.json?after=t3_m6f7rm\n",
      "30\n",
      "https://www.reddit.com/r/DisneyPlus/hot.json?after=t3_m532ym\n",
      "31\n",
      "https://www.reddit.com/r/DisneyPlus/hot.json?after=t3_m3v2d9\n",
      "32\n",
      "https://www.reddit.com/r/DisneyPlus/hot.json?after=t3_m1oo4o\n",
      "33\n",
      "https://www.reddit.com/r/DisneyPlus/hot.json?after=t3_m1ppum\n",
      "34\n",
      "https://www.reddit.com/r/DisneyPlus/hot.json?after=t3_m0rc36\n",
      "35\n",
      "https://www.reddit.com/r/DisneyPlus/hot.json?after=t3_lzjl9r\n",
      "36\n",
      "https://www.reddit.com/r/DisneyPlus/hot.json?after=t3_lykxg7\n",
      "37\n",
      "https://www.reddit.com/r/DisneyPlus/hot.json?after=t3_ly6d93\n",
      "38\n",
      "https://www.reddit.com/r/DisneyPlus/hot.json?after=t3_lxr5h2\n",
      "39\n",
      "https://www.reddit.com/r/DisneyPlus/controversial.json\n",
      "0\n",
      "https://www.reddit.com/r/DisneyPlus/controversial.json\n",
      "1\n",
      "https://www.reddit.com/r/DisneyPlus/controversial.json\n",
      "2\n",
      "https://www.reddit.com/r/DisneyPlus/controversial.json\n",
      "3\n",
      "https://www.reddit.com/r/DisneyPlus/controversial.json\n",
      "4\n",
      "https://www.reddit.com/r/DisneyPlus/controversial.json\n",
      "5\n",
      "https://www.reddit.com/r/DisneyPlus/controversial.json\n",
      "6\n",
      "https://www.reddit.com/r/DisneyPlus/controversial.json\n",
      "7\n",
      "https://www.reddit.com/r/DisneyPlus/controversial.json\n",
      "8\n",
      "https://www.reddit.com/r/DisneyPlus/controversial.json\n",
      "9\n",
      "https://www.reddit.com/r/DisneyPlus/controversial.json\n",
      "10\n",
      "https://www.reddit.com/r/DisneyPlus/controversial.json\n",
      "11\n",
      "https://www.reddit.com/r/DisneyPlus/controversial.json\n",
      "12\n",
      "https://www.reddit.com/r/DisneyPlus/controversial.json\n",
      "13\n",
      "https://www.reddit.com/r/DisneyPlus/controversial.json\n",
      "14\n",
      "https://www.reddit.com/r/DisneyPlus/controversial.json\n",
      "15\n",
      "https://www.reddit.com/r/DisneyPlus/controversial.json\n",
      "16\n",
      "https://www.reddit.com/r/DisneyPlus/controversial.json\n",
      "17\n",
      "https://www.reddit.com/r/DisneyPlus/controversial.json\n",
      "18\n",
      "https://www.reddit.com/r/DisneyPlus/controversial.json\n",
      "19\n",
      "https://www.reddit.com/r/DisneyPlus/controversial.json\n",
      "20\n"
     ]
    }
   ],
   "source": [
    "for subred in reddits:\n",
    "    scrape(subred)"
   ]
  },
  {
   "cell_type": "code",
   "execution_count": null,
   "metadata": {},
   "outputs": [],
   "source": []
  }
 ],
 "metadata": {
  "kernelspec": {
   "display_name": "Python 3",
   "language": "python",
   "name": "python3"
  },
  "language_info": {
   "codemirror_mode": {
    "name": "ipython",
    "version": 3
   },
   "file_extension": ".py",
   "mimetype": "text/x-python",
   "name": "python",
   "nbconvert_exporter": "python",
   "pygments_lexer": "ipython3",
   "version": "3.8.5"
  },
  "toc": {
   "base_numbering": 1,
   "nav_menu": {},
   "number_sections": true,
   "sideBar": true,
   "skip_h1_title": false,
   "title_cell": "Table of Contents",
   "title_sidebar": "Contents",
   "toc_cell": false,
   "toc_position": {},
   "toc_section_display": true,
   "toc_window_display": false
  }
 },
 "nbformat": 4,
 "nbformat_minor": 2
}
